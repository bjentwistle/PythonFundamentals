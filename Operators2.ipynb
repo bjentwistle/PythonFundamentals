{
  "nbformat": 4,
  "nbformat_minor": 0,
  "metadata": {
    "colab": {
      "name": "Operators2.ipynb",
      "provenance": [],
      "collapsed_sections": [],
      "include_colab_link": true
    },
    "kernelspec": {
      "name": "python3",
      "display_name": "Python 3"
    }
  },
  "cells": [
    {
      "cell_type": "markdown",
      "metadata": {
        "id": "view-in-github",
        "colab_type": "text"
      },
      "source": [
        "<a href=\"https://colab.research.google.com/github/bjentwistle/PythonFundamentals/blob/main/Operators2.ipynb\" target=\"_parent\"><img src=\"https://colab.research.google.com/assets/colab-badge.svg\" alt=\"Open In Colab\"/></a>"
      ]
    },
    {
      "cell_type": "markdown",
      "metadata": {
        "id": "pSfWXOw033X_"
      },
      "source": [
        "# Operators - comparison and reusing variables\n",
        "\n",
        "---"
      ]
    },
    {
      "cell_type": "markdown",
      "metadata": {
        "id": "VMH4Ej5F4TxE"
      },
      "source": [
        "You have used the assignment operator (=) extensively so far.  Each time we create a variable and use the assignment operator we store data in that variable.   In general, so far, we have created new variables each time we create new data, even if it uses data from a variable we have used before and won’t need to use again after this assignment.\n",
        "\n",
        "There is a set of operators available for reusing variables to update the values in them but using the value that is already stored as part of the calculation to get the new value.\n",
        "\n",
        "An example of this is when we are adding new values onto a running total.\n",
        "\n",
        "Suppose the total we have got to is 14 and this is stored in a variable called total.\n",
        "\n",
        "*total = 14*\n",
        "\n",
        "When we have a new number to add to the total we don’t need to create a new total variable (assuming that we don’t need to remember interim totals).  We do this as follows:\n",
        "\n",
        "*next_number = 9*\n",
        "*total += next_number*\n",
        "\n",
        "Python will add **next_number** to total and store the result back in **total**.\n",
        "\n",
        "We can do this with addition, subtraction, multiplication and division, floor division, exponentiation and even modulus\n",
        "In Python, we can use the following arithmetic operators:\n",
        "\n",
        "![Assignment operators](https://drive.google.com/uc?id=1Qq-UeMc2xbxKhNP87zY1loLSARaLsVse)\n"
      ]
    },
    {
      "cell_type": "markdown",
      "metadata": {
        "id": "FxXokYPYmdg9"
      },
      "source": [
        "Have a go at these exercises to help with using assignment operators"
      ]
    },
    {
      "cell_type": "markdown",
      "metadata": {
        "id": "btQ5UDOIngPW"
      },
      "source": [
        "---\n",
        "### Exercise 1 = running total  \n",
        "\n",
        "Write a function called **calculate_running_total()** which will:  \n",
        "\n",
        "*   assign the value 0 to a variable called **total**  \n",
        "*   ask the user to enter a **number**  \n",
        "*   add the number to the `total`, storing the result in `total`  \n",
        "*   ask the user to enter a second **number**  \n",
        "*   add this number to the `total`  \n",
        "*   ask the user to enter a third `number`  \n",
        "*   add this `number` to the `total`   \n",
        "*   print the `total`  \n",
        "\n",
        "*Hint:  you should only use TWO variables, **number** and **total** for this exercise*\n",
        "\n",
        "Test input:  \n",
        "3  \n",
        "5  \n",
        "8  \n",
        "\n",
        "Expected output:  \n",
        "16"
      ]
    },
    {
      "cell_type": "code",
      "metadata": {
        "id": "4ezcag1N3jpJ"
      },
      "source": [
        ""
      ],
      "execution_count": null,
      "outputs": []
    },
    {
      "cell_type": "markdown",
      "metadata": {
        "id": "Jpi_mP6Pon7-"
      },
      "source": [
        "---\n",
        "### Exercise 2 - continuous decrease\n",
        "\n",
        "Write a function called **decrease_time_left()** which will:  \n",
        "\n",
        "*   assign the value 60 to a variable called **seconds_left**  \n",
        "*   ask the user to enter a **time** in seconds  \n",
        "*   subtract the `time` from the `seconds_left`, storing the result in `seconds_left`  \n",
        "*   ask the user to enter a second `time` in seconds  \n",
        "*   subtract this time from the `seconds_left`    \n",
        "*   print `seconds_left`, \"seconds left\"  \n",
        "\n",
        "*Hint:  you should only use TWO variables, **time** and **seconds_left** for this exercise*\n",
        "\n",
        "Test input:  \n",
        "40  \n",
        "20    \n",
        "\n",
        "Expected output:  \n",
        "0 seconds left"
      ]
    },
    {
      "cell_type": "code",
      "metadata": {
        "id": "ccQqTjZ1pYof"
      },
      "source": [
        ""
      ],
      "execution_count": null,
      "outputs": []
    },
    {
      "cell_type": "markdown",
      "metadata": {
        "id": "8NqlcVKapYwt"
      },
      "source": [
        "---\n",
        "### Exercise 3 - decrease by factor\n",
        "\n",
        "Write a function called **decrease_by_factor()** which will:\n",
        "\n",
        "*  ask the user for a **factor** to decrease by (a whole number between 2 and 8)  \n",
        "*  ask the user to enter a whole **number**\n",
        "*  divide the `number` by the `factor`, using floor division, storing the result in `number`  \n",
        "*  print the `number` \n",
        "*  divide the `number` by the `factor` again, storing the result again in `number`\n",
        "*  print the `number`\n",
        "\n",
        "*Hint: On this occasion, you don't need to assign the result of the character input to a variable, because you aren't going to use it, it just lets the user indicate when they are ready to divide again* \n",
        "\n",
        "Test input:  \n",
        "4  \n",
        "80  \n",
        "\n",
        "Expected output:  \n",
        "5"
      ]
    },
    {
      "cell_type": "code",
      "metadata": {
        "id": "gpHcnYilspDd"
      },
      "source": [
        ""
      ],
      "execution_count": null,
      "outputs": []
    },
    {
      "cell_type": "markdown",
      "metadata": {
        "id": "Vmcjr-Tvt2ar"
      },
      "source": [
        "---\n",
        "### Exercise 4 - powers of 4\n",
        "\n",
        "Write a function called **generate_powers()** which will:\n",
        "\n",
        "*  assign the value 1 to a variable called **number**   \n",
        "*  assign the value 4 to a variable called **multiplier**  \n",
        "*  multiply `number` by `multiplier` and store the result in `number`\n",
        "*  print `number`  \n",
        "*  multiply `number` by `multiplier` and store the result in `number`  \n",
        "*  print `number`\n",
        "*  add instructions to multiply `number` by `multiplier`, store the result in `number` and print `number` 8 more times (*use copy and paste*)\n",
        "\n",
        "*Hint: later on you will learn how to use loops to reduce the amount of code* \n",
        "\n",
        "Expected output:  \n",
        "4  \n",
        "16  \n",
        "64  \n",
        "256  \n",
        "1024  \n",
        "4096  \n",
        "16384  \n",
        "65536  \n",
        "262144  \n",
        "1048576  \n",
        "\n"
      ]
    },
    {
      "cell_type": "code",
      "metadata": {
        "id": "cNFxYB6jVN-n"
      },
      "source": [
        ""
      ],
      "execution_count": null,
      "outputs": []
    },
    {
      "cell_type": "markdown",
      "metadata": {
        "id": "rOu_PdThVOOT"
      },
      "source": [
        "# Comparison operators\n",
        "\n",
        "These are extensively used for decision making and repetition and allow us to compare variables with each other and gain a *True* or *False* result.\n",
        "\n",
        "The following Python comparison operators are available:\n",
        "![ComparisonOperators](https://drive.google.com/uc?id=1-g11Ad0t1h4hYq6Eh29A6BM751Yyuq8R)\n",
        "\n",
        "Have a go at these exercises for practice.\n",
        "\n"
      ]
    },
    {
      "cell_type": "markdown",
      "metadata": {
        "id": "lKPIAYRAXTYd"
      },
      "source": [
        "---\n",
        "### Exercise 5 - is it afternoon?\n",
        "\n",
        "Write a function called **is_afternoon()** which will:  \n",
        "\n",
        "*  ask the user to enter a **time** in 24 hour clock format as a whole number (e.g. 1756)  \n",
        "*  get the **hour** using floor division  \n",
        "*  assign the result of comparing the hour to 12 (is it after 12?) to a boolean variable called **afternoon**  \n",
        "*  print the message \"It is afternoon\", followed by True or False depending on the result stored in `afternoon`  \n",
        "\n",
        "*Hint:  for this exercise 12 is in the afternoon even when the time is 1200*\n",
        "\n",
        "Test input:  \n",
        "1756  \n",
        "\n",
        "Expected output:  \n",
        "It is afternoon True"
      ]
    },
    {
      "cell_type": "code",
      "metadata": {
        "id": "IdJoVYZbYSMk"
      },
      "source": [
        ""
      ],
      "execution_count": null,
      "outputs": []
    },
    {
      "cell_type": "markdown",
      "metadata": {
        "id": "5b-WBPkvY0QP"
      },
      "source": [
        "---\n",
        "### Exercise 6 - guess the number in two attempts\n",
        "\n",
        "The code cell below contains the definition of a function called guess_number(number) which has a variable called number (in the brackets).  The function call (last line) sends a generated random number to the function, which becomes the value of the variable number.\n",
        "\n",
        "Complete the function **guess_number(number)** so that it will:  \n",
        "\n",
        "*  ask the user to enter a **guess** between 1 and 10  \n",
        "*  assign True or False to the boolean variable **correct**, depending on whether `guess` is the same as `number`  \n",
        "*  print the message \"Guess 1 correct? \" followed by the value of the variable `correct`  \n",
        "*  ask the user to guess again, assign the new guess to the `guess` variable\n",
        "*  assign True or False to the boolean variable `correct`, in the same way as before   \n",
        "*  print the message  \"Guess 2 correct? \" followed by the value of the variable `correct`\n",
        "\n",
        "*Later you will learn to choose from different instructions depending on whether the result was True or False*\n",
        "\n",
        "Example random number:   \n",
        "6  \n",
        "\n",
        "Test input:  \n",
        "1  \n",
        "5  \n",
        "\n",
        "Expected output:  \n",
        "Guess 1 correct? False  \n",
        "Guess 2 correct? False\n"
      ]
    },
    {
      "cell_type": "code",
      "metadata": {
        "id": "S3ps2BsHZYMn"
      },
      "source": [
        "from random import randint\n",
        "\n",
        "def guess_number(number):\n",
        "\n",
        "\n",
        "\n",
        "\n",
        "guess_number(randint(0,10))"
      ],
      "execution_count": null,
      "outputs": []
    },
    {
      "cell_type": "markdown",
      "metadata": {
        "id": "4-cbhb_abEE9"
      },
      "source": [
        "---\n",
        "### Exercise 7 - not the same\n",
        "\n",
        "Write a function called **show_case_sensitivity()** which will:  \n",
        "\n",
        "*  ask the user to enter a **name** in all lower case letters (e.g. karen)  \n",
        "*  ask the user to enter a **capitalised_name** with a leading capital letter    \n",
        "*  assign the result of comparing the two names to see if they are the same to a boolean variable called **same_names**  \n",
        "*  print the message \"These are the same name\", followed by True or False depending on the result  stored in `same_names` \n",
        "\n",
        "Test input:  \n",
        "karen\n",
        "Karen  \n",
        "\n",
        "Expected output:  \n",
        "These are the same name False"
      ]
    },
    {
      "cell_type": "code",
      "metadata": {
        "id": "jDrmvFjnQTSs"
      },
      "source": [
        ""
      ],
      "execution_count": null,
      "outputs": []
    },
    {
      "cell_type": "markdown",
      "metadata": {
        "id": "sxBK7XDGQT8p"
      },
      "source": [
        "---\n",
        "### Exercise 8 - check an answer to a maths problem  \n",
        "\n",
        "Write a function called **calculate_answer()** which will:  \n",
        "\n",
        "*  assign the value 5.6 to a float variable called **x**  \n",
        "*  assign the value 6.2 to a float variable called **y**    \n",
        "*  use arithmetic operators to calculate the **answer** to:  x squared plus y to the power of 3  \n",
        "*  round the answer to 3 decimal places and store the result back in `answer`\n",
        "*  ask the user to input the **user_answer**  \n",
        "*  assign the result of checking that the `user_answer` is **not** the same as the real answer to a variable called **incorrect_answer**      \n",
        "*  print the message \"Not the right answer? \", followed by True if the answer was incorrect or False if it was correct (stored in `incorrect_answer`)\n",
        "\n",
        "Test input:  \n",
        "200\n",
        "\n",
        "Expected output:  \n",
        "Not the right answer? True\n",
        "\n",
        "Test input:  \n",
        "269.688  \n",
        "\n",
        "Expected output:  \n",
        "Not the right answer? False  \n"
      ]
    },
    {
      "cell_type": "code",
      "metadata": {
        "id": "txty2Qc6wRQv"
      },
      "source": [
        ""
      ],
      "execution_count": null,
      "outputs": []
    },
    {
      "cell_type": "markdown",
      "metadata": {
        "id": "4K27Wxr0yBEu"
      },
      "source": [
        "---\n",
        "## Logical operators\n",
        "\n",
        "It is often necessary to make more than one comparison.  For instance, we might need to know if a number is between two limits or if one of two inputs has been incorrectly made and so the user needs to input again. \n",
        "\n",
        "Python provides a set of *logical operators* that will be used extensively later on but for now we will introduce the ***and*** operator and the ***or*** operator\n",
        "\n",
        "The result of a logical operation, like a comparison, will be either True or False.\n",
        "\n",
        "The instruction below will assign a boolean value (True or False) to the variable **valid** depending on whether a **number** is between 1 and 10.  It needs to include 1, 10 and all the numbers in between.\n",
        "\n",
        "`valid = number >= 1 and number <=10`\n",
        "\n",
        "The instruction below will assign a boolean value (True or False) to the variable **outlier** depending on whether a **number** is outside the range 100 to 200.  This number will be an outlier if it is less than 100 or greater than 200.\n",
        "\n",
        "`outlier = number < 100 or number > 200`\n",
        "\n",
        "*Note:  the and/or is surrounded by two comparisons and can't be part of the comparison.  outlier = number < 100 or > 200 is NOT understood by Python, there is only ONE complex comparison here when there must be TWO*  "
      ]
    },
    {
      "cell_type": "markdown",
      "metadata": {
        "id": "BJp2mUtj1Ahg"
      },
      "source": [
        "---\n",
        "### Exercies 9 - two comparisons\n",
        "Write a function called **check_in_range()** which will:\n",
        "\n",
        "*  ask the user to input a whole **number** between 1 and 12  \n",
        "*  assign the result of checking that the number is between 1 and 12 to a variable called **in_range**  \n",
        "*  print the message \"Valid number: \" followed by True if the answer was True or False if not  \n",
        "\n",
        "Test input:  \n",
        "6  \n",
        "\n",
        "Expected output:  \n",
        "Valid number? True  \n",
        "\n",
        "Test input:  \n",
        "23  \n",
        "\n",
        "Expected output:  \n",
        "Valid number? False  "
      ]
    },
    {
      "cell_type": "code",
      "metadata": {
        "id": "AV-ZS1kqyBeN"
      },
      "source": [
        ""
      ],
      "execution_count": null,
      "outputs": []
    },
    {
      "cell_type": "markdown",
      "metadata": {
        "id": "7I_nPtfP13hN"
      },
      "source": [
        "---\n",
        "### Exercise 10 - finding the outlier\n",
        "\n",
        "Write a function called **identify_outlier()** which will:\n",
        "\n",
        "*  ask the user to input a whole **number**    \n",
        "*  assign the result of checking that the number is outside the range 20 to 50 to a boolean variable called **outlier**  \n",
        "*  print the message \"Outlier? \" followed by True if the answer was True or False if not  \n",
        "\n",
        "Test input:  \n",
        "32  \n",
        "\n",
        "Expected output:  \n",
        "Outlier? False  \n",
        "\n",
        "Test input:  \n",
        "16  \n",
        "\n",
        "Expected output:  \n",
        "Outlier? True  "
      ]
    },
    {
      "cell_type": "code",
      "source": [
        ""
      ],
      "metadata": {
        "id": "9IF4RE0PxOzZ"
      },
      "execution_count": null,
      "outputs": []
    }
  ]
}