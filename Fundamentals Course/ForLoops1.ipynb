{
  "nbformat": 4,
  "nbformat_minor": 0,
  "metadata": {
    "colab": {
      "name": "ForLoops1.ipynb",
      "provenance": [],
      "collapsed_sections": [],
      "include_colab_link": true
    },
    "kernelspec": {
      "name": "python3",
      "display_name": "Python 3"
    }
  },
  "cells": [
    {
      "cell_type": "markdown",
      "metadata": {
        "id": "view-in-github",
        "colab_type": "text"
      },
      "source": [
        "<a href=\"https://colab.research.google.com/github/bjentwistle/PythonFundamentals/blob/main/ForLoops1.ipynb\" target=\"_parent\"><img src=\"https://colab.research.google.com/assets/colab-badge.svg\" alt=\"Open In Colab\"/></a>"
      ]
    },
    {
      "cell_type": "markdown",
      "metadata": {
        "id": "pnmU3c3w5tsh"
      },
      "source": [
        "# For Loops \n",
        "\n",
        "---\n"
      ]
    },
    {
      "cell_type": "markdown",
      "metadata": {
        "id": "y9vt3oJb5x8i"
      },
      "source": [
        "When you know how many times a loop should run you can use a *for* loop.  \n",
        "\n",
        "Here is an example:  \n",
        "\n",
        "Suppose we want to read 10 numbers from the keyboard, add them up and print the total. We can use a *for* loop as we know that we want to read from the keyboard exactly 10 times.\n",
        "\n",
        "The logic is:"
      ]
    },
    {
      "cell_type": "code",
      "metadata": {
        "id": "PZ2CsCQj55M7"
      },
      "source": [
        "# initialise a total so that it starts at 0\n",
        "# read 10 numbers from the keyboard and keep a running total\n",
        "# print the total\n",
        "\n",
        "def read_ten_nums():\n",
        "  total = 0\n",
        "  for i in range(10):\n",
        "    num = int(input(\"Enter a number\"))\n",
        "    total = total + num\n",
        "  print(total)\n",
        "\n",
        "read_ten_nums()"
      ],
      "execution_count": null,
      "outputs": []
    },
    {
      "cell_type": "markdown",
      "metadata": {
        "id": "snWJCKCv57kz"
      },
      "source": [
        "The *for* loop here repeats 10 times. Each time round the loop, a number is read and is added to the total. After this has happened 10 times, the total will be printed.\n",
        "\n",
        "Notice that all the code to be repeated in the loop is indented, but the instruction to print is not indented like the lines above. This is because print(total) is not included in the loop, it should only run once.\n",
        "\n",
        "You can use a *for* loop on Strings too:"
      ]
    },
    {
      "cell_type": "code",
      "metadata": {
        "id": "NTrE8ib05-W8"
      },
      "source": [
        "def print_characters():\n",
        "  word = \"learning\"\n",
        "  for letter in word:\n",
        "    print(letter)\n",
        "print_characters()"
      ],
      "execution_count": null,
      "outputs": []
    },
    {
      "cell_type": "markdown",
      "metadata": {
        "id": "Z8DJwTyR6x-m"
      },
      "source": [
        "### Using the range() function:\n",
        "\n",
        "If we would like a selection of numbers within a defined range we can use the **range()** function.\n",
        "\n",
        "It can be used in the following ways:\n",
        "\n",
        "* **range(n)** - this would give all numbers in the range 0 to n-1 \n",
        "\n",
        "* **range(num1, num2)** - this would give all numbers in range num1 to num2-1\n",
        "\n",
        "For example:\n",
        "\n",
        "If we wanted numbers within the range of 1 - 5 we would write this as range(1, 6) \n",
        "\n",
        "* the second argument must always be the number you would like the range to go up to + 1 (n+1)\n",
        "\n",
        "Here is an example that prints all the numbers up to 5, (starting at 0 as this is the default if there is no other information).  Run the code below:"
      ]
    },
    {
      "cell_type": "code",
      "metadata": {
        "id": "afGEUwDI8mQS"
      },
      "source": [
        "def show_range():\n",
        "  for i in range(6):\n",
        "    print(i)\n",
        "\n",
        "show_range()"
      ],
      "execution_count": null,
      "outputs": []
    },
    {
      "cell_type": "markdown",
      "metadata": {
        "id": "4n4fM_9X9Qr4"
      },
      "source": [
        "Here is an example that prints all numbers in range 1 - 5, run the code below:"
      ]
    },
    {
      "cell_type": "code",
      "metadata": {
        "id": "Q_6Ltbik8ASH"
      },
      "source": [
        "def show_range():\n",
        "  for i in range(1, 6):\n",
        "    print(i)\n",
        "\n",
        "show_range()"
      ],
      "execution_count": null,
      "outputs": []
    },
    {
      "cell_type": "markdown",
      "metadata": {
        "id": "0bRQj0q2l13D"
      },
      "source": [
        "## Using steps\n",
        "\n",
        "In general, if we use a range, we give a starting number and a stopping number (the first number that is out of the range in the direction we are counting).  The default is to count up in 1s.  \n",
        "\n",
        "When we want a loop to count in bigger steps, we can add a further parameter in the range brackets, which represents the size of the step.\n",
        "\n",
        "e.g. to print the even numbers up to 10 (starting with the first even number)\n",
        "\n",
        "```\n",
        "for i in range(2,11,2):\n",
        "   print(i)\n",
        "```\n",
        "\n",
        "e.g. to print all multiples of 5 from 5 to 50 (starting with the first multiple)\n",
        "\n",
        "\n",
        "```\n",
        "for i in range(5,51,5):\n",
        "   print(i)\n",
        "```\n",
        "\n",
        "We can use steps to **reverse** the direction of counting.  So to count backwards from 10 to 1, we can use a step of -1.  Again, use the starting number, the number AFTER the last number to be included, in the direction we are counting, and the size and direction of the step. \n",
        "\n",
        "```\n",
        "for i in range(10, 0, -1):\n",
        "   print(i)\n",
        "```"
      ]
    },
    {
      "cell_type": "markdown",
      "metadata": {
        "id": "qhDCyPzf6A2q"
      },
      "source": [
        "### Take home point\n",
        "\n",
        "* we use *for* loops to make a section of code repeat a set number of times\n"
      ]
    },
    {
      "cell_type": "markdown",
      "metadata": {
        "id": "uyYsZBFBjfBi"
      },
      "source": [
        "---\n",
        "### Exercise 1 - number list\n",
        "\n",
        "Write a function called **list_numbers()** which will:  \n",
        "\n",
        "*  print all the whole numbers up to 9  \n",
        "\n",
        "Expected output:  \n",
        "0  \n",
        "1  \n",
        "2  \n",
        "3  \n",
        "4  \n",
        "5  \n",
        "6  \n",
        "7  \n",
        "8  \n",
        "9  "
      ]
    },
    {
      "cell_type": "code",
      "metadata": {
        "id": "FrQQh3T4jfRz",
        "colab": {
          "base_uri": "https://localhost:8080/"
        },
        "outputId": "6b125473-641a-4833-a39b-e615142bfc03"
      },
      "source": [
        "def list_numbers():\n",
        "\n",
        "  for i in range (10):\n",
        "    print(i)\n",
        "    i = i + 1\n",
        "\n",
        "list_numbers()"
      ],
      "execution_count": 5,
      "outputs": [
        {
          "output_type": "stream",
          "name": "stdout",
          "text": [
            "0\n",
            "1\n",
            "2\n",
            "3\n",
            "4\n",
            "5\n",
            "6\n",
            "7\n",
            "8\n",
            "9\n"
          ]
        }
      ]
    },
    {
      "cell_type": "markdown",
      "metadata": {
        "id": "AgQUGV4pj37a"
      },
      "source": [
        "---\n",
        "### Exercise 2 - list number range  \n",
        "\n",
        "Write a function called **list_number_range()** which will:  \n",
        "\n",
        "* print the numbers between 5 and 15 (including both)  \n",
        "\n",
        "Expected output:  \n",
        "5  \n",
        "6  \n",
        "7  \n",
        "8  \n",
        "9  \n",
        "10  \n",
        "11  \n",
        "12  \n",
        "13  \n",
        "14  \n",
        "15  \n",
        "\n"
      ]
    },
    {
      "cell_type": "code",
      "metadata": {
        "id": "qJVqD75bj4FR",
        "colab": {
          "base_uri": "https://localhost:8080/"
        },
        "outputId": "fc3dddb3-b4b2-465f-8874-896655fb7ccf"
      },
      "source": [
        "def list_number_range():\n",
        "\n",
        "  for i in range (5,16):\n",
        "    print(i)\n",
        "    i = i + 1\n",
        "\n",
        "list_number_range()"
      ],
      "execution_count": 6,
      "outputs": [
        {
          "output_type": "stream",
          "name": "stdout",
          "text": [
            "5\n",
            "6\n",
            "7\n",
            "8\n",
            "9\n",
            "10\n",
            "11\n",
            "12\n",
            "13\n",
            "14\n",
            "15\n"
          ]
        }
      ]
    },
    {
      "cell_type": "markdown",
      "metadata": {
        "id": "fzfifXcKkr8C"
      },
      "source": [
        "---\n",
        "### Exercise 3 - list evens  \n",
        "\n",
        "Write a function called **list_evens()** which will:  \n",
        "\n",
        "*  print the even numbers from 2 to 20  \n",
        "\n",
        "Expected output:  \n",
        "2  \n",
        "4  \n",
        "6  \n",
        "8  \n",
        "10  \n",
        "12  \n",
        "14  \n",
        "16  \n",
        "18  \n",
        "20  "
      ]
    },
    {
      "cell_type": "code",
      "metadata": {
        "id": "dwO_nP5EksEo",
        "colab": {
          "base_uri": "https://localhost:8080/"
        },
        "outputId": "2877c9ee-9e39-49e6-e719-2f0634b66f28"
      },
      "source": [
        "def list_evens():\n",
        "\n",
        "  for i in range (0, 21, 2):\n",
        "    print(i)\n",
        "    i = i + 1\n",
        "\n",
        "list_evens()"
      ],
      "execution_count": 8,
      "outputs": [
        {
          "output_type": "stream",
          "name": "stdout",
          "text": [
            "0\n",
            "2\n",
            "4\n",
            "6\n",
            "8\n",
            "10\n",
            "12\n",
            "14\n",
            "16\n",
            "18\n",
            "20\n"
          ]
        }
      ]
    },
    {
      "cell_type": "markdown",
      "metadata": {
        "id": "kqQ7LYx_n_k7"
      },
      "source": [
        "---\n",
        "### Exercise 4 - list multiples  \n",
        "\n",
        "Write a function called **list_multiples()** which will:\n",
        "\n",
        "*  list the multiples of 3 from 3 to 36\n",
        "\n",
        "Expected output:  \n",
        "3  \n",
        "6  \n",
        "9  \n",
        "12  \n",
        "15  \n",
        "18  \n",
        "21  \n",
        "24  \n",
        "27  \n",
        "30  \n",
        "33  \n",
        "36  "
      ]
    },
    {
      "cell_type": "code",
      "metadata": {
        "id": "6ggfz-uin_vR",
        "colab": {
          "base_uri": "https://localhost:8080/"
        },
        "outputId": "281425b1-b250-474a-93ca-d4f6114526a5"
      },
      "source": [
        "def list_multiples():\n",
        "\n",
        "  for i in range (3, 37, 3):\n",
        "    print(i)\n",
        "    i = i + 1\n",
        "\n",
        "list_multiples()"
      ],
      "execution_count": 12,
      "outputs": [
        {
          "output_type": "stream",
          "name": "stdout",
          "text": [
            "3\n",
            "6\n",
            "9\n",
            "12\n",
            "15\n",
            "18\n",
            "21\n",
            "24\n",
            "27\n",
            "30\n",
            "33\n",
            "36\n"
          ]
        }
      ]
    },
    {
      "cell_type": "markdown",
      "metadata": {
        "id": "HMPqYGrUolM6"
      },
      "source": [
        "---\n",
        "### Exercise 5 - reverse list\n",
        "\n",
        "Write a function called list_reverse() which will: \n",
        "\n",
        "*  print the numbers 5 to 15 in reverse\n",
        "\n",
        "Expected output:  \n",
        "15  \n",
        "14  \n",
        "13  \n",
        "12  \n",
        "11  \n",
        "10  \n",
        "9  \n",
        "8  \n",
        "7  \n",
        "6  \n",
        "5  "
      ]
    },
    {
      "cell_type": "code",
      "metadata": {
        "id": "2X_XE6J9olYI",
        "colab": {
          "base_uri": "https://localhost:8080/"
        },
        "outputId": "ed8bd0a8-202c-4611-cae4-5243c9f21db9"
      },
      "source": [
        "def list_reverse():\n",
        "\n",
        "  for i in range (15, 4, -1):\n",
        "    print(i)\n",
        "    i = i + 1\n",
        "\n",
        "list_reverse()"
      ],
      "execution_count": 14,
      "outputs": [
        {
          "output_type": "stream",
          "name": "stdout",
          "text": [
            "15\n",
            "14\n",
            "13\n",
            "12\n",
            "11\n",
            "10\n",
            "9\n",
            "8\n",
            "7\n",
            "6\n",
            "5\n"
          ]
        }
      ]
    },
    {
      "cell_type": "markdown",
      "metadata": {
        "id": "kBuUcJE56beE"
      },
      "source": [
        "---\n",
        "### Exercise 6 - sum of range\n",
        "\n",
        "Write the function **calculate_sum_of()** which will:\n",
        "\n",
        "*  set a total to 0\n",
        "*  use the `range()` function for all the numbers between 1 - 15, adding each onto a **total** in the `for loop`     \n",
        "*  print the `total`   \n",
        "\n",
        "\n",
        "Expected output:  \n",
        "120\n"
      ]
    },
    {
      "cell_type": "code",
      "metadata": {
        "id": "0WQglA1N8c_o",
        "colab": {
          "base_uri": "https://localhost:8080/"
        },
        "outputId": "15bc4d5d-298c-4c69-809e-2927491bdf4e"
      },
      "source": [
        "def calculate_sum_of():\n",
        "  total = 0\n",
        "  for i in range(1,16):\n",
        "    total = total + i\n",
        "  print(total)\n",
        "\n",
        "calculate_sum_of()"
      ],
      "execution_count": 16,
      "outputs": [
        {
          "output_type": "stream",
          "name": "stdout",
          "text": [
            "120\n"
          ]
        }
      ]
    },
    {
      "cell_type": "markdown",
      "metadata": {
        "id": "L4vCtL_z74-9"
      },
      "source": [
        "### Exercise 7 - calculating the average of 5 numbers   \n",
        "\n",
        "Write a function called **average()** which will:  \n",
        "\n",
        "*  set a total to 0\n",
        "*  ask the user to enter a number 5 times, using a `for loop` with a range and adding the numbers to the `total` as the loop continues  \n",
        "*  calculate the **average** of the 5 numbers  \n",
        "*  print the `total` and `average`  \n",
        "\n",
        "Test input:  \n",
        "1  \n",
        "2   \n",
        "3  \n",
        "4  \n",
        "5  \n",
        "\n",
        "Expected output:   \n",
        "3  \n",
        "\n"
      ]
    },
    {
      "cell_type": "code",
      "metadata": {
        "id": "CtjaakGg985s",
        "colab": {
          "base_uri": "https://localhost:8080/"
        },
        "outputId": "e02543d4-3b2a-4b20-e917-691f698acc79"
      },
      "source": [
        "def average():\n",
        "  total = 0\n",
        "  for i in range(5):\n",
        "    number = int(input(\"enter a number:\"))\n",
        "    total = total + number\n",
        "\n",
        "  average = int(total/5)\n",
        "  print(average)\n",
        "\n",
        "average()\n"
      ],
      "execution_count": 19,
      "outputs": [
        {
          "output_type": "stream",
          "name": "stdout",
          "text": [
            "enter a number:1\n",
            "enter a number:2\n",
            "enter a number:3\n",
            "enter a number:4\n",
            "enter a number:5\n",
            "3\n"
          ]
        }
      ]
    },
    {
      "cell_type": "markdown",
      "metadata": {
        "id": "WS6NBYF_99hQ"
      },
      "source": [
        "### Exercise 8 - calculating times table\n",
        "\n",
        "Write a function called **display_times_table()** which will:  \n",
        "\n",
        "*  ask the user to input a **number**\n",
        "*  use a for loop and the `range()` function to calculate the first ten multiples of that number and print a times table entry as shown below \n",
        "\n",
        "Test Input:  \n",
        "4  \n",
        "\n",
        "Expected output:  \n",
        "1 x 4 = 4  \n",
        "2 x 4 = 8  \n",
        "3 x 4 = 12  \n",
        "4 x 4 = 16  \n",
        "5 x 4 = 20  \n",
        "6 x 4 = 24  \n",
        "7 x 4 = 28  \n",
        "8 x 4 = 32  \n",
        "9 x 4 = 36  \n",
        "10 x 4 = 40  "
      ]
    },
    {
      "cell_type": "code",
      "metadata": {
        "id": "UqV817Ct-5qv",
        "colab": {
          "base_uri": "https://localhost:8080/"
        },
        "outputId": "376495a0-6435-4bf4-c8d3-d0079a76eaf6"
      },
      "source": [
        "def display_times_table():\n",
        "  number = int(input(\"Emter a number: \"))\n",
        "  for i in range (1,11):\n",
        "    answer = i * number\n",
        "    print(i, \"x\", number, \"=\", answer )\n",
        "\n",
        "display_times_table()\n"
      ],
      "execution_count": 20,
      "outputs": [
        {
          "output_type": "stream",
          "name": "stdout",
          "text": [
            "Emter a number: 4\n",
            "1 x 4 = 4\n",
            "2 x 4 = 8\n",
            "3 x 4 = 12\n",
            "4 x 4 = 16\n",
            "5 x 4 = 20\n",
            "6 x 4 = 24\n",
            "7 x 4 = 28\n",
            "8 x 4 = 32\n",
            "9 x 4 = 36\n",
            "10 x 4 = 40\n"
          ]
        }
      ]
    },
    {
      "cell_type": "markdown",
      "metadata": {
        "id": "jOukVT7--6rI"
      },
      "source": [
        "### Exercise 9 - counting down numbers in reverse \n",
        "\n",
        "Write a function called **countdown()** which will:\n",
        "\n",
        "*  ask the user to input a **number**\n",
        "*  prints numbers in a countdown starting at `number`, decreasing by 1 each time round the loop and finishing at 1\n",
        "*  after the loop, print (\"GO\") \n",
        "\n",
        "Test Input:  \n",
        "9    \n",
        "\n",
        "Expected output:   \n",
        "9  \n",
        "8  \n",
        "7  \n",
        "6  \n",
        "5  \n",
        "4  \n",
        "3  \n",
        "2  \n",
        "1  \n",
        "GO  \n"
      ]
    },
    {
      "cell_type": "code",
      "metadata": {
        "id": "0yZ7PP7HAVdO",
        "colab": {
          "base_uri": "https://localhost:8080/"
        },
        "outputId": "1c5ac9f3-890e-4ba1-98f5-03bc606596a8"
      },
      "source": [
        "def countdown():\n",
        "  number = int(input(\"Enter a starting number: \"))\n",
        "  for i in range(number, 0,-1):\n",
        "    print(i)\n",
        "  print(\"GO!\")\n",
        "\n",
        "countdown()"
      ],
      "execution_count": 28,
      "outputs": [
        {
          "output_type": "stream",
          "name": "stdout",
          "text": [
            "Enter a starting number: 9\n",
            "9\n",
            "8\n",
            "7\n",
            "6\n",
            "5\n",
            "4\n",
            "3\n",
            "2\n",
            "1\n",
            "GO!\n"
          ]
        }
      ]
    },
    {
      "cell_type": "markdown",
      "metadata": {
        "id": "BwWzC2NXAV2P"
      },
      "source": [
        "### Exercise 10 - finding numbers multiples of 3 and multiples of 10 between 500 and 1500  \n",
        "\n",
        "Write a function called **find_multiples()** which will find numbers between 500 - 1500 which are multiples of 3 or multiples of 10:\n",
        "\n",
        "*  use a for loop and the `range()` function  \n",
        "*  use an *if* statment to determine if a number is a multiple of 3 (number % 3 is 0) or a multiple of 10 (calculated the same way).  If the number is a multiple of 3 or 10, print it.      \n",
        "\n",
        "Expected output:  \n",
        "510  \n",
        "540  \n",
        "570  \n",
        "600  \n",
        "630  \n",
        "660  \n",
        "690  \n",
        "720  \n",
        "750  \n",
        "780  \n",
        "810  \n",
        "840  \n",
        "870  \n",
        "900  \n",
        "930  \n",
        "960  \n",
        "990  \n",
        "1020  \n",
        "1050  \n",
        "1080  \n",
        "1110  \n",
        "1140  \n",
        "1170  \n",
        "1200  \n",
        "1230  \n",
        "1260  \n",
        "1290  \n",
        "1320  \n",
        "1350  \n",
        "1380  \n",
        "1410  \n",
        "1440  \n",
        "1470  "
      ]
    },
    {
      "cell_type": "code",
      "metadata": {
        "id": "pN0--oheCHPC",
        "colab": {
          "base_uri": "https://localhost:8080/"
        },
        "outputId": "1dcd6fe0-37c8-4bbc-a9c5-00d48155d1b9"
      },
      "source": [
        "def find_multiples():\n",
        "  for i in range(500,1500):\n",
        "    if i%30 == 0: #instructions above as for OR rather than AND operator but the expected output indicates AND (hence modulus of 30 ie 3 x 10)\n",
        "    # alternative code for OR operator would be if i%3==0 or i%10==0:\n",
        "      print(i)\n",
        "\n",
        "find_multiples()"
      ],
      "execution_count": 38,
      "outputs": [
        {
          "output_type": "stream",
          "name": "stdout",
          "text": [
            "510\n",
            "540\n",
            "570\n",
            "600\n",
            "630\n",
            "660\n",
            "690\n",
            "720\n",
            "750\n",
            "780\n",
            "810\n",
            "840\n",
            "870\n",
            "900\n",
            "930\n",
            "960\n",
            "990\n",
            "1020\n",
            "1050\n",
            "1080\n",
            "1110\n",
            "1140\n",
            "1170\n",
            "1200\n",
            "1230\n",
            "1260\n",
            "1290\n",
            "1320\n",
            "1350\n",
            "1380\n",
            "1410\n",
            "1440\n",
            "1470\n"
          ]
        }
      ]
    }
  ]
}