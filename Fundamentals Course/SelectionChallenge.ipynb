{
  "nbformat": 4,
  "nbformat_minor": 0,
  "metadata": {
    "colab": {
      "name": "SelectionChallenge.ipynb",
      "provenance": [],
      "collapsed_sections": [],
      "include_colab_link": true
    },
    "kernelspec": {
      "name": "python3",
      "display_name": "Python 3"
    }
  },
  "cells": [
    {
      "cell_type": "markdown",
      "metadata": {
        "id": "view-in-github",
        "colab_type": "text"
      },
      "source": [
        "<a href=\"https://colab.research.google.com/github/bjentwistle/PythonFundamentals/blob/main/SelectionChallenge.ipynb\" target=\"_parent\"><img src=\"https://colab.research.google.com/assets/colab-badge.svg\" alt=\"Open In Colab\"/></a>"
      ]
    },
    {
      "cell_type": "markdown",
      "metadata": {
        "id": "-QxAKPD8DZfj"
      },
      "source": [
        "# Three selection challenges\n",
        "\n",
        "---\n"
      ]
    },
    {
      "cell_type": "code",
      "source": [
        "df"
      ],
      "metadata": {
        "id": "Dzz_tSin40ov"
      },
      "execution_count": null,
      "outputs": []
    },
    {
      "cell_type": "markdown",
      "metadata": {
        "id": "2KYUALILDcM9"
      },
      "source": [
        "### Challenge 1 - password format  \n",
        "\n",
        "Write a function called **check_password_valid()** which will check the validity of a **password** input by a user.\n",
        "\n",
        "Rules for a valid password are:  \n",
        "\n",
        "*  At least 1 letter between [a-z] and 1 letter between [A-Z].\n",
        "*  At least 1 number between [0-9].\n",
        "*  At least 1 character from [$#@].\n",
        "*  Minimum length 6 characters.\n",
        "*  Maximum length 16 characters.  \n",
        "\n",
        "Let the user know if the `password` they have typed is valid and, if not, where was the first error.\n",
        "\n",
        "*Hint:  to test if a set of characters is present in a password String, you can use re.search('[character set]', `password`)*  \n",
        "\n",
        "Example:   \n",
        "*if re.search('[a-z]',`password`):*    \n",
        "this will be True if there is at least 1 character a-z in the password.\n",
        "\n",
        "**re** is a pre-written Python function for pattern searching in Strings.  It has been imported for you in the code cell below.  "
      ]
    },
    {
      "cell_type": "code",
      "metadata": {
        "id": "8wBK9IA4BO2e",
        "colab": {
          "base_uri": "https://localhost:8080/"
        },
        "outputId": "ab7416fa-cf8a-4558-b909-6e1fa9cf14c4"
      },
      "source": [
        "import re\n",
        "\n",
        "# add your check_PasswordValid() function and call below here\n",
        "def check_valid_password():\n",
        "  print(\"Password must contain 1 letter lower and upper case. 1 number (0-9) and 1 speical character($#@)\")\n",
        "  print(\"Password must contain min 6 characters and maximum 16!\")\n",
        "  password = str(input(\"Please enter a password: \"))\n",
        "  password_length = len(password)\n",
        " \n",
        "  if (password_length >6 and password_length <16)and (re.search('[A-Z]',password) != None) and (re.search('[a-z]',password) != None) and (re.search('[0-9]', password) != None) and (re.search('[#$@]', password) != None):\n",
        "    print(\"Password is valid!\")   \n",
        "  else:\n",
        "    print(\"Password is not valid!\")\n",
        "\n",
        "check_valid_password()"
      ],
      "execution_count": 75,
      "outputs": [
        {
          "output_type": "stream",
          "name": "stdout",
          "text": [
            "Password must contain 1 letter lower and upper case. 1 number (0-9) and 1 speical character($#@)\n",
            "Password must contain min 6 characters and maximum 16!\n",
            "Please enter a password: adfk234@A\n",
            "Password is valid!\n"
          ]
        }
      ]
    },
    {
      "cell_type": "markdown",
      "metadata": {
        "id": "f0R4GYTEFQS-"
      },
      "source": [
        "---\n",
        "### Challenge 2 - triangle shape  \n",
        "\n",
        "Write a function called **evaluate_triangle_shape()** which will check if a triangle is equilateral, isosceles or scalene, based on the three side lengths entered by a user (**x**, **y** and **z**.\n",
        "\n",
        "An equilateral triangle is a triangle in which all three sides are equal.\n",
        "A scalene triangle is a triangle that has three unequal sides.\n",
        "An isosceles triangle is a triangle with (at least) two equal sides.\n",
        "\n",
        "For example:  \n",
        "A triange with side lengths                                 \n",
        "x: 6                                                                    \n",
        "y: 8                                                                    \n",
        "z: 12                                                                   \n",
        "is a *Scalene triangle*\n",
        "\n",
        "A triangle with side lengths\n",
        "x:5  \n",
        "y:3   \n",
        "z:5  \n",
        "is an *Isosceles triangle*"
      ]
    },
    {
      "cell_type": "code",
      "metadata": {
        "id": "oBgl4ro1DVL0",
        "colab": {
          "base_uri": "https://localhost:8080/"
        },
        "outputId": "5547f8b5-1744-4cc9-ee56-264d815e8330"
      },
      "source": [
        "def evaluate_triangle_shape():\n",
        "  x = int(input(\"x: \"))\n",
        "  y = int(input(\"y: \"))\n",
        "  z = int(input(\"z: \"))\n",
        "\n",
        "  if x == y == z:\n",
        "    print(\"Equilateral triangle\")\n",
        "  elif x != y != z:\n",
        "    print(\"Scalene triangle\")\n",
        "\n",
        "  else:\n",
        "    print(\"Isosceles triange\")\n",
        "\n",
        "evaluate_triangle_shape()\n",
        "\n"
      ],
      "execution_count": 59,
      "outputs": [
        {
          "output_type": "stream",
          "name": "stdout",
          "text": [
            "x: 3\n",
            "y: 3\n",
            "z: 3\n",
            "Equilateral triangle\n"
          ]
        }
      ]
    },
    {
      "cell_type": "markdown",
      "metadata": {
        "id": "hr2EotkqG33l"
      },
      "source": [
        "---\n",
        "### Challenge 3 - which season\n",
        "\n",
        "Write a function called **determine_season()** which will ask the user to enter two integers representing a **month** and **day** and prints the season for that month and day.\n",
        "\n",
        "Note:  for this exercise the season dates are:\n",
        "*  Winter December 21 to March 20    \n",
        "*  Spring March 21 to June 20  \n",
        "*  Summer June 21 to September 20  \n",
        "*  Autumn September 21 to December 20\n",
        "\n",
        "Test input:  \n",
        "Input the month (e.g. January, February etc.): 7                     \n",
        "Input the day: 31                                                       \n",
        "\n",
        "Expected output:  \n",
        "Season is summer \n",
        "\n",
        "*Note: this will require multiple and or or operators and you should use brackets to help Python know which operations to do first*  \n",
        "\n",
        "*For an extra challenge you can check that the day is valid for the month*"
      ]
    },
    {
      "cell_type": "code",
      "metadata": {
        "id": "cvbfz8nzG4IL",
        "colab": {
          "base_uri": "https://localhost:8080/"
        },
        "outputId": "ddccb421-dafa-4bed-b867-d18b0a5cbaa0"
      },
      "source": [
        "def determine_season():\n",
        "  month = int(input(\"Input month as a number, eg 7 for July: \"))\n",
        "  day = int(input(\"Input day as a number, eg 31: \"))\n",
        "  if (month == 1) or (month ==2) or (month ==3 and day <=20) or (month == 12 and day >=21):\n",
        "    print(\"Season is Winter\")\n",
        "  elif (month == 4) or (month ==5) or (month ==6 and day <= 20) or (month == 3 and day >=21):\n",
        "    print(\"Season is Spring\")\n",
        "  elif (month == 7) or (month ==8) or (month ==9 and day <= 20) or (month ==6 and day >=21):\n",
        "    print(\"Season is Summer\")\n",
        "  else:\n",
        "    print(\"Season is Autumn\")\n",
        "    \n",
        "determine_season()"
      ],
      "execution_count": 70,
      "outputs": [
        {
          "output_type": "stream",
          "name": "stdout",
          "text": [
            "Input month as a number, eg 7 for July: 10\n",
            "Input day as a number, eg 31: 31\n",
            "Season is Autumn\n"
          ]
        }
      ]
    }
  ]
}