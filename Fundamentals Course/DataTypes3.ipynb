{
  "nbformat": 4,
  "nbformat_minor": 0,
  "metadata": {
    "colab": {
      "name": "DataTypes3.ipynb",
      "provenance": [],
      "collapsed_sections": [],
      "include_colab_link": true
    },
    "kernelspec": {
      "name": "python3",
      "display_name": "Python 3"
    }
  },
  "cells": [
    {
      "cell_type": "markdown",
      "metadata": {
        "id": "view-in-github",
        "colab_type": "text"
      },
      "source": [
        "<a href=\"https://colab.research.google.com/github/bjentwistle/PythonFundamentals/blob/main/DataTypes3.ipynb\" target=\"_parent\"><img src=\"https://colab.research.google.com/assets/colab-badge.svg\" alt=\"Open In Colab\"/></a>"
      ]
    },
    {
      "cell_type": "markdown",
      "metadata": {
        "id": "GdT0fwTCa4gI"
      },
      "source": [
        "# Working with Strings"
      ]
    },
    {
      "cell_type": "markdown",
      "metadata": {
        "id": "ozWLM6Pfa7d_"
      },
      "source": [
        "---\n",
        "### Exercise 1 input and strings\n",
        "**Recap**: to get input from the user and store it in a variable, use the instruction  \n",
        "\n",
        "*variableName = input(\"message asking user for required information\")*  \n",
        "\n",
        "*Remember: Unless you state otherwise, all input is String data*  \n",
        "\n",
        "Write a function called **print_initials()** which will:\n",
        "\n",
        "*  ask the user to input a **first_name**  \n",
        "*  ask the user to input a **middle_name**  \n",
        "*  ask the user to input a **surname**  \n",
        "*  print the name in the format: `surname`, `first_name` `middle_name`  \n",
        "\n",
        "Test Inputs:  \n",
        "Peter  \n",
        "Barry  \n",
        "Burrows  \n",
        "\n",
        "Expected output:  \n",
        "Burrows, Peter Barry\n"
      ]
    },
    {
      "cell_type": "code",
      "metadata": {
        "id": "lMJckNo-ab3z",
        "colab": {
          "base_uri": "https://localhost:8080/"
        },
        "outputId": "c042f59b-46c0-4b6c-f664-b318e9d4c300"
      },
      "source": [
        "def print_initials():\n",
        "  first_name = str(input(\"Please give your first name: \"))\n",
        "  middle_name = str(input(\"Please give your middle name: \"))\n",
        "  surname = str(input(\"Please give your surname name: \"))\n",
        "  print(surname, \",\", first_name, middle_name)\n",
        "\n",
        "print_initials()\n",
        "\n",
        "\n"
      ],
      "execution_count": 2,
      "outputs": [
        {
          "output_type": "stream",
          "name": "stdout",
          "text": [
            "Please give your first name: Peter\n",
            "Please give your middle name: Barry\n",
            "Please give your surname name: Burrows\n",
            "Burrows , Peter Barry\n"
          ]
        }
      ]
    },
    {
      "cell_type": "markdown",
      "metadata": {
        "id": "1Pvs8lp3bfYQ"
      },
      "source": [
        "# Substrings\n",
        "\n",
        "---\n",
        "\n",
        "A String is a set of characters. Each String has a length and each character in the string has a position or index. Indexing starts at 0 so the first character of a String is at position 0. As Strings have varying lengths, the last character of the String is at position -1. To find any character in the String, count from 0 or, if you want to count backwards from the end, count back from -1.  \n",
        "\n",
        "You can get a particular character, or a set of consecutive characters (substring) from a String using [] and the positions of the characters you want.  \n",
        "\n",
        "Example:  \n",
        "To get the first letter of a String (in this case the String is called **name**)\n",
        "**first_letter** = `name`[0]  \n",
        "**second_letter** = `name`[1]  \n",
        "**sixth_letter** = `name`[5]  \n",
        "\n",
        "To get the last letter of name:  \n",
        "**last_letter** = `name`[-1]  \n",
        "**second_last_letter** = `name`[-2]  \n",
        "**third_last_letter** = `name`[-3]  \n",
        "\n",
        "Have a go"
      ]
    },
    {
      "cell_type": "code",
      "metadata": {
        "id": "1EMg6ff7bw7o",
        "colab": {
          "base_uri": "https://localhost:8080/"
        },
        "outputId": "f31a6a5e-6a9a-4175-b601-32358401d257"
      },
      "source": [
        "def print_letters():\n",
        "   name = \"Robert\" \n",
        "   # add your code below here to get a particular letter and print it.\n",
        "   third_letter = name[2]\n",
        "   fourthlast_letter = name[-4]\n",
        "   print(third_letter, fourthlast_letter)\n",
        "\n",
        "  \n",
        "  \n",
        "print_letters()"
      ],
      "execution_count": 6,
      "outputs": [
        {
          "output_type": "stream",
          "name": "stdout",
          "text": [
            "b b\n"
          ]
        }
      ]
    },
    {
      "cell_type": "markdown",
      "metadata": {
        "id": "FfkpprKbb0Eu"
      },
      "source": [
        "To get a set of letters from a String, use the slice operator.  \n",
        "\n",
        "*substring = stringname[ index of first letter to be included_ : index + 1 of last letter ]* \n",
        "\n",
        "Example:  \n",
        "\n",
        "**first_three_letters** = `name`[0:3]  \n",
        "**second_to_fifth_letters** = `name`[1:5]  \n",
        "**last_three_letters** = `name`[-3:]  \n",
        "\n",
        "*Note: we can't add 1 to -1 as the result would be 0 and confused with the first letter, so we omit the second number to indicate that we want all characters to the end of the string*"
      ]
    },
    {
      "cell_type": "code",
      "metadata": {
        "id": "FGQj_JCVcPGj",
        "colab": {
          "base_uri": "https://localhost:8080/"
        },
        "outputId": "c2254318-59f7-4fc2-b07e-fe676530268c"
      },
      "source": [
        "def print_substrings():\n",
        "   name = \"Robert\" \n",
        "   # add your code below here to get a particular letter, or set of letters and print them.\n",
        "   first_three = name[0:3]\n",
        "   last_two = name[-2:]\n",
        "   print(first_three)\n",
        "   print(last_two)\n",
        "  \n",
        "print_substrings()"
      ],
      "execution_count": 12,
      "outputs": [
        {
          "output_type": "stream",
          "name": "stdout",
          "text": [
            "Rob\n",
            "rt\n"
          ]
        }
      ]
    },
    {
      "cell_type": "markdown",
      "metadata": {
        "id": "Cb2OHs_jcQFv"
      },
      "source": [
        "---\n",
        "### Exercise 2 - substrings\n",
        "\n",
        "Write a function called **print_substring()** which will:\n",
        " \n",
        "Ask the user to input a **name** of at least 5 letters  \n",
        "Print the **first** and the **fourth** letters in the `name`  \n",
        "\n",
        "Test Inputs:  \n",
        "Bartholomew  \n",
        "\n",
        "Expected output:  \n",
        "First letter is B, fourth letter is t\n"
      ]
    },
    {
      "cell_type": "code",
      "metadata": {
        "id": "IfABvmw2cgfH",
        "colab": {
          "base_uri": "https://localhost:8080/"
        },
        "outputId": "f13af2c5-574b-455c-9c3d-8413344470cb"
      },
      "source": [
        "def print_substring():\n",
        "  name2 = input(\"Please give a name with at least 5 letters in: \")\n",
        "  print(name2[0])\n",
        "  print(name2[3])\n",
        "\n",
        "print_substring()"
      ],
      "execution_count": 15,
      "outputs": [
        {
          "output_type": "stream",
          "name": "stdout",
          "text": [
            "Please give a name with at least 5 letters in: Bartholomew\n",
            "B\n",
            "t\n"
          ]
        }
      ]
    },
    {
      "cell_type": "markdown",
      "metadata": {
        "id": "6ryO1LJMchLQ"
      },
      "source": [
        "---\n",
        "### Exercise 3  - Formatting String output  \n",
        "\n",
        "Write a function called **print_formatted()** which will:  \n",
        "\n",
        "*  ask the user to input a **house_number**\n",
        "*  ask the user to input a **road_name**, then a **town**, then a **postcode**  \n",
        "*  print the address on three lines (`house_number` with a comma and `road_name`, `town`, `postcode`)  \n",
        "\n",
        "Test Input:  \n",
        "10  \n",
        "Old Road  \n",
        "Chatham  \n",
        "ME4 1AA  \n",
        "\n",
        "Expected output:   \n",
        "10, Old Road  \n",
        "Chatham  \n",
        "ME4 1AA  "
      ]
    },
    {
      "cell_type": "code",
      "metadata": {
        "id": "qNHq7Ub4c1xP",
        "colab": {
          "base_uri": "https://localhost:8080/"
        },
        "outputId": "1419c6e2-b204-43d5-ee32-8c878235dc46"
      },
      "source": [
        "def print_formatted():\n",
        "  house_number = input(\"House number: \")\n",
        "  road_name = input(\"Road name: \")\n",
        "  town = input(\"Town: \")\n",
        "  postcode = input(\"Postcode: \")\n",
        "  print(house_number, \",\", road_name)\n",
        "  print(road_name)\n",
        "  print(postcode)\n",
        "  \n",
        "print_formatted()\n",
        "\n"
      ],
      "execution_count": 20,
      "outputs": [
        {
          "output_type": "stream",
          "name": "stdout",
          "text": [
            "House number: 10\n",
            "Road name: Old Road\n",
            "Town: Chatham\n",
            "Postcode: ME4 1AA\n",
            "10 , Old Road\n",
            "Old Road\n",
            "ME4 1AA\n"
          ]
        }
      ]
    },
    {
      "cell_type": "markdown",
      "metadata": {
        "id": "E4BkKHlyc2BA"
      },
      "source": [
        "# String functions\n",
        "\n",
        "## String length\n",
        "\n",
        "You can get the length of a String using the len() function   \n",
        "e.g. **namelength** = len(`name`)  \n"
      ]
    },
    {
      "cell_type": "markdown",
      "metadata": {
        "id": "B0-NtV3uc8UC"
      },
      "source": [
        "---\n",
        "### Exercise 4 - String length  \n",
        "\n",
        "Write a function called **print_namelength()** which will:  \n",
        "\n",
        "*  ask the user to input a **name**  \n",
        "*  assign the length of the name to a variable called **name_length**  \n",
        "*  print the `name` followed by a comma, then `name_length`, then the word “characters”.\n",
        "\n",
        "Test Input:  \n",
        "William  \n",
        "\n",
        "Expected Output:  \n",
        "William, 7 characters"
      ]
    },
    {
      "cell_type": "code",
      "metadata": {
        "id": "ldWAjdrIdOzn",
        "colab": {
          "base_uri": "https://localhost:8080/"
        },
        "outputId": "02f5511e-fb98-4175-fd40-09626ffa58e6"
      },
      "source": [
        "def print_namelength():\n",
        "  name = input(\"Please give a name: \")\n",
        "  name_length = len(name)\n",
        "  print(name, \",\" , name_length)\n",
        "\n",
        "print_namelength()"
      ],
      "execution_count": 22,
      "outputs": [
        {
          "output_type": "stream",
          "name": "stdout",
          "text": [
            "Please give a name: William\n",
            "William , 7\n"
          ]
        }
      ]
    },
    {
      "cell_type": "markdown",
      "metadata": {
        "id": "2UTCEzYtdPTH"
      },
      "source": [
        "## String Case Conversion  \n",
        "\n",
        "When you start to compare and search for strings, you will need to be aware that data doesn’t always turn up in the state we would like it.  People often forget to use capital letters at the beginning of their names and will sometimes use all capitals.  It is useful, therefore, to be able to convert a String either to all capitals or all lowercase, depending on how you want to see it.  \n",
        "\n",
        "There are three functions for this, which are linked to the String (here the String variable is called **name**).  \n",
        "\n",
        "*   **upper_case_name** = `name.upper()`\n",
        "*   **lower_case_name** = `name.lower()`\n",
        "*   **capitalised_name** = `name.capitalize()`\n"
      ]
    },
    {
      "cell_type": "markdown",
      "metadata": {
        "id": "X-Fv314Hdicp"
      },
      "source": [
        "---\n",
        "### Exercise 5 - case conversion  \n",
        "\n",
        "Write a function called **convert_to_capitals()** which will:  \n",
        "\n",
        "*  ask the user to input a **name** in lowercase letters \n",
        "*  assign the capitalised String to the variable **capitalised_name** \n",
        "*  print the `name` in capitals  \n",
        "\n",
        "Test Input:  \n",
        "jaswinder  \n",
        "\n",
        "Expected output:  \n",
        "JASWINDER  \n"
      ]
    },
    {
      "cell_type": "code",
      "metadata": {
        "id": "aHDLaligd0Do",
        "colab": {
          "base_uri": "https://localhost:8080/"
        },
        "outputId": "7719f099-4471-4aa7-e389-7b1f4b479d38"
      },
      "source": [
        "def convert_to_capitals():\n",
        "  name = input(\"please input a name: \")\n",
        "  capitalised_name = name.upper()\n",
        "  print(capitalised_name)\n",
        "\n",
        "convert_to_capitals()\n",
        "\n"
      ],
      "execution_count": 29,
      "outputs": [
        {
          "output_type": "stream",
          "name": "stdout",
          "text": [
            "please input a name: jaswinder\n",
            "JASWINDER\n"
          ]
        }
      ]
    },
    {
      "cell_type": "markdown",
      "metadata": {
        "id": "DZeyD6p8dusQ"
      },
      "source": [
        "---\n",
        "###Exercise 6 - case conversion  \n",
        "\n",
        "Write a function called **capitalise_names()** which will:  \n",
        "\n",
        "*  ask the user to input a **name** and a **surname**  \n",
        "*  print both `name` and `surname` in lowercase with a capital letter at the start, even if they didn't have capitals when they were typed in  \n",
        "\n",
        "Test Input:  \n",
        "benJamIN  \n",
        "\n",
        "Expected output:  \n",
        "Benjamin\n"
      ]
    },
    {
      "cell_type": "code",
      "metadata": {
        "id": "bpCdYaPdap3V",
        "colab": {
          "base_uri": "https://localhost:8080/"
        },
        "outputId": "4691d2f8-d182-4ee8-834d-fa56e4b43d05"
      },
      "source": [
        "def capitalise_names():\n",
        "  name = input(\"Please give your first name: \")\n",
        "  surname = input (\"please give your surname: \")\n",
        "  caps_name = name.capitalize()\n",
        "  caps_surname = surname.capitalize()\n",
        "  print(caps_name, caps_surname)\n",
        "\n",
        "capitalise_names()\n"
      ],
      "execution_count": 31,
      "outputs": [
        {
          "output_type": "stream",
          "name": "stdout",
          "text": [
            "Please give your first name: beN\n",
            "please give your surname: smith\n",
            "Ben Smith\n"
          ]
        }
      ]
    },
    {
      "cell_type": "markdown",
      "metadata": {
        "id": "8Q9-32tFaqLN"
      },
      "source": [
        "---\n",
        "### Exercise 7 - Substrings\n",
        "\n",
        "Write a function called **print_postcode_letters()** which will:   \n",
        "\n",
        "*  ask the user to enter a **postcode**  \n",
        "*  assign the first two letters of the postcode to a variable called **postcode_area**  \n",
        "*  convert the `postcode_area` String to capital letters and assign this to a variable called **capitalised_area**  \n",
        "*  print the `capitalised_area`  \n",
        "\n",
        "Test Input:  \n",
        "Me4 6bb  \n",
        "\n",
        "Expected output:  \n",
        "ME\n"
      ]
    },
    {
      "cell_type": "code",
      "metadata": {
        "id": "dB3M2qagbUsE",
        "colab": {
          "base_uri": "https://localhost:8080/"
        },
        "outputId": "c50fe12c-7fa4-4766-f1ec-3da3d9ab9fc1"
      },
      "source": [
        "def print_postcode_letters():\n",
        "  postcode = input(\"please input your postcode:\")\n",
        "  postcode_area = postcode[0:2]\n",
        "  capitalised_area = postcode_area.upper()\n",
        "  print(capitalised_area)\n",
        "\n",
        "print_postcode_letters()\n"
      ],
      "execution_count": 32,
      "outputs": [
        {
          "output_type": "stream",
          "name": "stdout",
          "text": [
            "please input your postcode:Me4 6bb\n",
            "ME\n"
          ]
        }
      ]
    },
    {
      "cell_type": "markdown",
      "metadata": {
        "id": "2eezJB2UbU1M"
      },
      "source": [
        "---\n",
        "### Exercise 8 - Floor division and slicing\n",
        "\n",
        "Write a function called **print_half_word()** which will:\n",
        " \n",
        "*  ask the user to enter a **word**  \n",
        "*  assign the value of half the length of the `word` to a variable called **half_length**  \n",
        "*  assign the first half of the `word` to a new variable called **half_word**  \n",
        "*  print `half_word`  \n",
        "\n",
        "*Hint:  when dividing the length of the word by 2, use floor division (//) so that you get a whole number of letters).  To get the first half of the word, use word[0:halfLength]*  \n",
        "\n",
        "Test input:  \n",
        "Runtime  \n",
        "\n",
        "Expected output:  \n",
        "Run"
      ]
    },
    {
      "cell_type": "code",
      "metadata": {
        "id": "Xx3zHFgab2pt",
        "colab": {
          "base_uri": "https://localhost:8080/"
        },
        "outputId": "4984dca0-8c13-4798-9ac5-a857f065c868"
      },
      "source": [
        "def print_half_word():\n",
        "  word = input(\"please input a word: \")\n",
        "  half_length = len(word)//2\n",
        "  half_word = word[0:half_length]\n",
        "  print(half_word)\n",
        "\n",
        "print_half_word()\n",
        "\n"
      ],
      "execution_count": 36,
      "outputs": [
        {
          "output_type": "stream",
          "name": "stdout",
          "text": [
            "please input a word:runtime\n",
            "run\n"
          ]
        }
      ]
    },
    {
      "cell_type": "markdown",
      "metadata": {
        "id": "0MdQRAo4b20u"
      },
      "source": [
        "---\n",
        "### Exercise 9 - String repetition\n",
        "\n",
        "Write a function called **repeat_two_letters()** which will:\n",
        "\n",
        "*  ask the user to enter a **word**  \n",
        "*  assign the last two letters of the `word` to a variable called **last_two**  \n",
        "*  assign a string made of 5 copies of the `last_two` (*Hint: `last_two`* * 5 *will do it)* to a variable called **five_copies**  \n",
        "*  print `five_copies`\n",
        "\n",
        "Test Input:\n",
        "Data\n",
        "\n",
        "Expected output:\n",
        "tatatatata\n"
      ]
    },
    {
      "cell_type": "code",
      "metadata": {
        "id": "85-6jHD-cXRO",
        "colab": {
          "base_uri": "https://localhost:8080/"
        },
        "outputId": "56cc4aef-92cd-4a60-fe98-e8de706e7fba"
      },
      "source": [
        "def repeat_two_letters():\n",
        "  word = input(\"Please give a word: \")\n",
        "  last_two = word[-2:]\n",
        "  five_copies = last_two*5\n",
        "  print(five_copies)\n",
        "\n",
        "repeat_two_letters()\n"
      ],
      "execution_count": 38,
      "outputs": [
        {
          "output_type": "stream",
          "name": "stdout",
          "text": [
            "Please give a word: Data\n",
            "tatatatata\n"
          ]
        }
      ]
    },
    {
      "cell_type": "markdown",
      "metadata": {
        "id": "6P284VwXcXaU"
      },
      "source": [
        "---\n",
        "### Exercise 10 - converting String to lower case\n",
        "\n",
        "Write a function called **lowerCase_threeLetters()** which will:  \n",
        "\n",
        "*  assign the value “january” to a variable called **month**  \n",
        "*  assign the first three characters of `month` to a variable called **month_short**   \n",
        "*  capitalise `month_short` and store the result back in `month_short`\n",
        "*  assign the rest of the characters to a variable called **month_rest**  \n",
        "*  join `month_short` and `month_rest` together and store the result back into the variable `month`  \n",
        "*  print `month`  \n",
        "\n",
        "Expected output:  \n",
        "JANuary  "
      ]
    },
    {
      "cell_type": "code",
      "metadata": {
        "id": "GXqOeFwycuDD",
        "colab": {
          "base_uri": "https://localhost:8080/"
        },
        "outputId": "6f3ec809-0050-4062-f074-8acff90b6e38"
      },
      "source": [
        "def lowerCase_threeLetters():\n",
        "  month = \"january\"\n",
        "  month_short = month[0:3]\n",
        "  month_short = month_short.upper()\n",
        "  month_rest = month[3:]\n",
        "  month = (month_short + month_rest)\n",
        "  print(month)\n",
        "\n",
        "lowerCase_threeLetters()\n",
        "\n",
        "\n",
        "\n",
        "  "
      ],
      "execution_count": 3,
      "outputs": [
        {
          "output_type": "stream",
          "name": "stdout",
          "text": [
            "JANuary\n"
          ]
        }
      ]
    }
  ]
}