{
  "nbformat": 4,
  "nbformat_minor": 0,
  "metadata": {
    "colab": {
      "name": "Learn 1.ipynb",
      "provenance": [],
      "collapsed_sections": [],
      "include_colab_link": true
    },
    "kernelspec": {
      "name": "python3",
      "display_name": "Python 3"
    },
    "language_info": {
      "name": "python"
    }
  },
  "cells": [
    {
      "cell_type": "markdown",
      "metadata": {
        "id": "view-in-github",
        "colab_type": "text"
      },
      "source": [
        "<a href=\"https://colab.research.google.com/github/bjentwistle/PythonFundamentals/blob/main/Learn_1.ipynb\" target=\"_parent\"><img src=\"https://colab.research.google.com/assets/colab-badge.svg\" alt=\"Open In Colab\"/></a>"
      ]
    },
    {
      "cell_type": "markdown",
      "metadata": {
        "id": "AVCxMzqnFpGg"
      },
      "source": [
        "# Using Python code to change the data for plotting\n",
        "---\n",
        "\n",
        "Let's use a practice data set to learn\n",
        "\n",
        "Now you have visually checked your dataset, you should be familiar with it and have an idea of what you could do with the data.\n",
        "\n",
        "Let’s use Python Pandas to work with the data.\n",
        "\n",
        "## Step 1 - Link to the dataset \n",
        "This instruction to link to a dataset is slightly different depending on the type of file you are connecting to.  The datasets we are working with are **.csv** files (comma-separated values).\n",
        "\n",
        "In the code box below, you already have a variable set up called *url* with a link to the dataset (NO2 Practice Data).  This has a small set of data for you to practice with.\n",
        "\n",
        "Your code will need to:\n",
        "\n",
        "*  import the pandas library (`import pandas as pd`)\n",
        "*  store the link to the data file (`url = \"....\"`)\n",
        "*  create a dataframe (a data table) called df (`df = pd.read_csv(url)` )\n",
        "\n",
        "**Run the code cell below by clicking on the arrow in the top left of the cell.**\n",
        " \n"
      ]
    },
    {
      "cell_type": "code",
      "metadata": {
        "id": "-TvPXkxFFmNJ",
        "colab": {
          "base_uri": "https://localhost:8080/"
        },
        "outputId": "71d411e0-9182-4bc3-b377-4fc531313dac"
      },
      "source": [
        "import pandas as pd\n",
        "\n",
        "url = \"https://drive.google.com/uc?id=1_arR3BXakHSMSUkBfPkRleXBX1HZcJ5F\"\n",
        "df = pd.read_csv(url, skiprows=1)\n",
        "print(df)"
      ],
      "execution_count": 1,
      "outputs": [
        {
          "output_type": "stream",
          "name": "stdout",
          "text": [
            "          Date      Time    Day NO2 Level\n",
            "0   01/01/2020   8:00:00    Mon      28.5\n",
            "1   02/01/2020   8:00:00   Tues      17.5\n",
            "2   03/01/2020   8:00:00    Wed      23.5\n",
            "3   04/01/2020   8:00:00  Thurs     28.23\n",
            "4   05/01/2020   8:00:00    Fri     24.53\n",
            "..         ...       ...    ...       ...\n",
            "86  27/03/2020   8:00:00    Wed      28.3\n",
            "87  28/03/2020   8:00:00  Thurs     19.45\n",
            "88  29/03/2020   8:00:00    Fri     21.04\n",
            "89  30/03/2020  12:00:00    Sat      4.23\n",
            "90  31/03/2020  12:00:00    Sun      1.59\n",
            "\n",
            "[91 rows x 4 columns]\n"
          ]
        }
      ]
    },
    {
      "cell_type": "markdown",
      "metadata": {
        "id": "BVNHLl4QQohc"
      },
      "source": [
        "## Step 2 - Check the contents of your dataset\n",
        "\n",
        "Now you are linked to your dataset, there are a few different ways you could check your data:\n",
        " \n",
        "`display (df)` - displays the dataset (if dataset is large then only first and last 5 rows are shown).  \n",
        "\n",
        "Check that the data has been read correctly:  \n",
        "\n",
        "*  are there the same number of rows?  (0 to 90)  \n",
        "*  are the columns the same as in the orginal file? (Date, Time, Day, NO2 Level)  \n",
        "*  does it have any missing values?  \n",
        "\n",
        "Run the code cell below to look at the data.  "
      ]
    },
    {
      "cell_type": "code",
      "metadata": {
        "id": "DuZpNjsMWX04",
        "colab": {
          "base_uri": "https://localhost:8080/",
          "height": 424
        },
        "outputId": "38d0b818-32f9-4641-db00-eb689a71297f"
      },
      "source": [
        "display (df)"
      ],
      "execution_count": 2,
      "outputs": [
        {
          "output_type": "display_data",
          "data": {
            "text/html": [
              "\n",
              "  <div id=\"df-e95aa664-757a-450b-8f66-e3764bc1764b\">\n",
              "    <div class=\"colab-df-container\">\n",
              "      <div>\n",
              "<style scoped>\n",
              "    .dataframe tbody tr th:only-of-type {\n",
              "        vertical-align: middle;\n",
              "    }\n",
              "\n",
              "    .dataframe tbody tr th {\n",
              "        vertical-align: top;\n",
              "    }\n",
              "\n",
              "    .dataframe thead th {\n",
              "        text-align: right;\n",
              "    }\n",
              "</style>\n",
              "<table border=\"1\" class=\"dataframe\">\n",
              "  <thead>\n",
              "    <tr style=\"text-align: right;\">\n",
              "      <th></th>\n",
              "      <th>Date</th>\n",
              "      <th>Time</th>\n",
              "      <th>Day</th>\n",
              "      <th>NO2 Level</th>\n",
              "    </tr>\n",
              "  </thead>\n",
              "  <tbody>\n",
              "    <tr>\n",
              "      <th>0</th>\n",
              "      <td>01/01/2020</td>\n",
              "      <td>8:00:00</td>\n",
              "      <td>Mon</td>\n",
              "      <td>28.5</td>\n",
              "    </tr>\n",
              "    <tr>\n",
              "      <th>1</th>\n",
              "      <td>02/01/2020</td>\n",
              "      <td>8:00:00</td>\n",
              "      <td>Tues</td>\n",
              "      <td>17.5</td>\n",
              "    </tr>\n",
              "    <tr>\n",
              "      <th>2</th>\n",
              "      <td>03/01/2020</td>\n",
              "      <td>8:00:00</td>\n",
              "      <td>Wed</td>\n",
              "      <td>23.5</td>\n",
              "    </tr>\n",
              "    <tr>\n",
              "      <th>3</th>\n",
              "      <td>04/01/2020</td>\n",
              "      <td>8:00:00</td>\n",
              "      <td>Thurs</td>\n",
              "      <td>28.23</td>\n",
              "    </tr>\n",
              "    <tr>\n",
              "      <th>4</th>\n",
              "      <td>05/01/2020</td>\n",
              "      <td>8:00:00</td>\n",
              "      <td>Fri</td>\n",
              "      <td>24.53</td>\n",
              "    </tr>\n",
              "    <tr>\n",
              "      <th>...</th>\n",
              "      <td>...</td>\n",
              "      <td>...</td>\n",
              "      <td>...</td>\n",
              "      <td>...</td>\n",
              "    </tr>\n",
              "    <tr>\n",
              "      <th>86</th>\n",
              "      <td>27/03/2020</td>\n",
              "      <td>8:00:00</td>\n",
              "      <td>Wed</td>\n",
              "      <td>28.3</td>\n",
              "    </tr>\n",
              "    <tr>\n",
              "      <th>87</th>\n",
              "      <td>28/03/2020</td>\n",
              "      <td>8:00:00</td>\n",
              "      <td>Thurs</td>\n",
              "      <td>19.45</td>\n",
              "    </tr>\n",
              "    <tr>\n",
              "      <th>88</th>\n",
              "      <td>29/03/2020</td>\n",
              "      <td>8:00:00</td>\n",
              "      <td>Fri</td>\n",
              "      <td>21.04</td>\n",
              "    </tr>\n",
              "    <tr>\n",
              "      <th>89</th>\n",
              "      <td>30/03/2020</td>\n",
              "      <td>12:00:00</td>\n",
              "      <td>Sat</td>\n",
              "      <td>4.23</td>\n",
              "    </tr>\n",
              "    <tr>\n",
              "      <th>90</th>\n",
              "      <td>31/03/2020</td>\n",
              "      <td>12:00:00</td>\n",
              "      <td>Sun</td>\n",
              "      <td>1.59</td>\n",
              "    </tr>\n",
              "  </tbody>\n",
              "</table>\n",
              "<p>91 rows × 4 columns</p>\n",
              "</div>\n",
              "      <button class=\"colab-df-convert\" onclick=\"convertToInteractive('df-e95aa664-757a-450b-8f66-e3764bc1764b')\"\n",
              "              title=\"Convert this dataframe to an interactive table.\"\n",
              "              style=\"display:none;\">\n",
              "        \n",
              "  <svg xmlns=\"http://www.w3.org/2000/svg\" height=\"24px\"viewBox=\"0 0 24 24\"\n",
              "       width=\"24px\">\n",
              "    <path d=\"M0 0h24v24H0V0z\" fill=\"none\"/>\n",
              "    <path d=\"M18.56 5.44l.94 2.06.94-2.06 2.06-.94-2.06-.94-.94-2.06-.94 2.06-2.06.94zm-11 1L8.5 8.5l.94-2.06 2.06-.94-2.06-.94L8.5 2.5l-.94 2.06-2.06.94zm10 10l.94 2.06.94-2.06 2.06-.94-2.06-.94-.94-2.06-.94 2.06-2.06.94z\"/><path d=\"M17.41 7.96l-1.37-1.37c-.4-.4-.92-.59-1.43-.59-.52 0-1.04.2-1.43.59L10.3 9.45l-7.72 7.72c-.78.78-.78 2.05 0 2.83L4 21.41c.39.39.9.59 1.41.59.51 0 1.02-.2 1.41-.59l7.78-7.78 2.81-2.81c.8-.78.8-2.07 0-2.86zM5.41 20L4 18.59l7.72-7.72 1.47 1.35L5.41 20z\"/>\n",
              "  </svg>\n",
              "      </button>\n",
              "      \n",
              "  <style>\n",
              "    .colab-df-container {\n",
              "      display:flex;\n",
              "      flex-wrap:wrap;\n",
              "      gap: 12px;\n",
              "    }\n",
              "\n",
              "    .colab-df-convert {\n",
              "      background-color: #E8F0FE;\n",
              "      border: none;\n",
              "      border-radius: 50%;\n",
              "      cursor: pointer;\n",
              "      display: none;\n",
              "      fill: #1967D2;\n",
              "      height: 32px;\n",
              "      padding: 0 0 0 0;\n",
              "      width: 32px;\n",
              "    }\n",
              "\n",
              "    .colab-df-convert:hover {\n",
              "      background-color: #E2EBFA;\n",
              "      box-shadow: 0px 1px 2px rgba(60, 64, 67, 0.3), 0px 1px 3px 1px rgba(60, 64, 67, 0.15);\n",
              "      fill: #174EA6;\n",
              "    }\n",
              "\n",
              "    [theme=dark] .colab-df-convert {\n",
              "      background-color: #3B4455;\n",
              "      fill: #D2E3FC;\n",
              "    }\n",
              "\n",
              "    [theme=dark] .colab-df-convert:hover {\n",
              "      background-color: #434B5C;\n",
              "      box-shadow: 0px 1px 3px 1px rgba(0, 0, 0, 0.15);\n",
              "      filter: drop-shadow(0px 1px 2px rgba(0, 0, 0, 0.3));\n",
              "      fill: #FFFFFF;\n",
              "    }\n",
              "  </style>\n",
              "\n",
              "      <script>\n",
              "        const buttonEl =\n",
              "          document.querySelector('#df-e95aa664-757a-450b-8f66-e3764bc1764b button.colab-df-convert');\n",
              "        buttonEl.style.display =\n",
              "          google.colab.kernel.accessAllowed ? 'block' : 'none';\n",
              "\n",
              "        async function convertToInteractive(key) {\n",
              "          const element = document.querySelector('#df-e95aa664-757a-450b-8f66-e3764bc1764b');\n",
              "          const dataTable =\n",
              "            await google.colab.kernel.invokeFunction('convertToInteractive',\n",
              "                                                     [key], {});\n",
              "          if (!dataTable) return;\n",
              "\n",
              "          const docLinkHtml = 'Like what you see? Visit the ' +\n",
              "            '<a target=\"_blank\" href=https://colab.research.google.com/notebooks/data_table.ipynb>data table notebook</a>'\n",
              "            + ' to learn more about interactive tables.';\n",
              "          element.innerHTML = '';\n",
              "          dataTable['output_type'] = 'display_data';\n",
              "          await google.colab.output.renderOutput(dataTable, element);\n",
              "          const docLink = document.createElement('div');\n",
              "          docLink.innerHTML = docLinkHtml;\n",
              "          element.appendChild(docLink);\n",
              "        }\n",
              "      </script>\n",
              "    </div>\n",
              "  </div>\n",
              "  "
            ],
            "text/plain": [
              "          Date      Time    Day NO2 Level\n",
              "0   01/01/2020   8:00:00    Mon      28.5\n",
              "1   02/01/2020   8:00:00   Tues      17.5\n",
              "2   03/01/2020   8:00:00    Wed      23.5\n",
              "3   04/01/2020   8:00:00  Thurs     28.23\n",
              "4   05/01/2020   8:00:00    Fri     24.53\n",
              "..         ...       ...    ...       ...\n",
              "86  27/03/2020   8:00:00    Wed      28.3\n",
              "87  28/03/2020   8:00:00  Thurs     19.45\n",
              "88  29/03/2020   8:00:00    Fri     21.04\n",
              "89  30/03/2020  12:00:00    Sat      4.23\n",
              "90  31/03/2020  12:00:00    Sun      1.59\n",
              "\n",
              "[91 rows x 4 columns]"
            ]
          },
          "metadata": {}
        }
      ]
    },
    {
      "cell_type": "markdown",
      "metadata": {
        "id": "LEKQW5dzZ4ep"
      },
      "source": [
        "## Step 3 - Check the structure of the dataset\n",
        "\n",
        "`display (df.info())` - displays the structure of your dataset\n",
        " \n",
        "You should :  \n",
        "*  check what types of data are in the dataset (whole numbers - int, decimal numbers - float, strings, dates, etc).  **dtypes** is short for datatypes and `df.info()` will show you what type of data is in each column.\n",
        "\n",
        "A **.csv** file will automatically store everything as text (shown as an object dtype), is this right for data that is a date or a number?   \n",
        "\n",
        "Run the code cell below to see information about the dataset.  You will see that all three columns are 'object' and in this case, this means that they are strings (text)"
      ]
    },
    {
      "cell_type": "code",
      "metadata": {
        "id": "sC4RTaZZcTsT",
        "colab": {
          "base_uri": "https://localhost:8080/",
          "height": 237
        },
        "outputId": "97a195bc-5395-4161-be12-eef3bd649eaf"
      },
      "source": [
        "display (df.info())"
      ],
      "execution_count": 3,
      "outputs": [
        {
          "output_type": "stream",
          "name": "stdout",
          "text": [
            "<class 'pandas.core.frame.DataFrame'>\n",
            "RangeIndex: 91 entries, 0 to 90\n",
            "Data columns (total 4 columns):\n",
            " #   Column     Non-Null Count  Dtype \n",
            "---  ------     --------------  ----- \n",
            " 0   Date       91 non-null     object\n",
            " 1   Time       91 non-null     object\n",
            " 2   Day        91 non-null     object\n",
            " 3   NO2 Level  91 non-null     object\n",
            "dtypes: object(4)\n",
            "memory usage: 3.0+ KB\n"
          ]
        },
        {
          "output_type": "display_data",
          "data": {
            "text/plain": [
              "None"
            ]
          },
          "metadata": {}
        }
      ]
    },
    {
      "cell_type": "markdown",
      "metadata": {
        "id": "A20L1_0lWYK_"
      },
      "source": [
        "## Step 3 - Drop missing values\n",
        "\n",
        "Sometimes we might substitute missing values, but only if it is relevant to do so.  \n",
        "\n",
        "To drop values from the results use the following:  \n",
        "`df.drop(df[df['column heading'] == 'value to drop'].index, inplace = True)`\n",
        "\n",
        "This says:  \n",
        "\n",
        "`df.drop(...)` --> drop all rows that fit the criteria in the brackets  \n",
        "\n",
        "`df[df['column heading'] == 'value to indicate dropping'].index` --> look for all rows in the 'column heading' column that contain the null value and get the index  \n",
        "\n",
        "`inplace = True` --> leave the rest of the dataframe (df) as it was\n",
        "\n",
        "Run the cell below to drop all the rows where the data in the column heading '*NO2*' is '*nodata*'  (replace the red writing)\n"
      ]
    },
    {
      "cell_type": "code",
      "metadata": {
        "id": "SJ7GbFXYe-ta"
      },
      "source": [
        "df.drop(df[df['NO2 Level'] == 'nodata'].index, inplace = True)"
      ],
      "execution_count": 5,
      "outputs": []
    },
    {
      "cell_type": "markdown",
      "metadata": {
        "id": "fj6-ZX_Se-8f"
      },
      "source": [
        "## Step 4 - Change the date type:   \n",
        "\n",
        "There are two columns where the data is text but in order to be able to create useful charts, it will need to be numbers or date.\n",
        "\n",
        "The 'Date' column can be changed from text to a date using the instruction below:  \n",
        "\n",
        "`df['Date'] = pd.to_datetime(df['Date'])`  \n",
        "\n",
        "This converts the date from text (string) to a datetime record (which contains both date and time) and stores the new datetime back in the Data column.\n",
        "\n",
        "Run the code cell below to convert the date, and then to see the new dtype in using df.info()\n"
      ]
    },
    {
      "cell_type": "code",
      "metadata": {
        "id": "FhvEkJr2iHT2",
        "colab": {
          "base_uri": "https://localhost:8080/",
          "height": 237
        },
        "outputId": "2fe45b67-a52f-40df-e8a0-b3ca755d6fea"
      },
      "source": [
        "df['Date'] = pd.to_datetime(df['Date'])\n",
        "display(df.info())"
      ],
      "execution_count": 6,
      "outputs": [
        {
          "output_type": "stream",
          "name": "stdout",
          "text": [
            "<class 'pandas.core.frame.DataFrame'>\n",
            "Int64Index: 90 entries, 0 to 90\n",
            "Data columns (total 4 columns):\n",
            " #   Column     Non-Null Count  Dtype         \n",
            "---  ------     --------------  -----         \n",
            " 0   Date       90 non-null     datetime64[ns]\n",
            " 1   Time       90 non-null     object        \n",
            " 2   Day        90 non-null     object        \n",
            " 3   NO2 Level  90 non-null     object        \n",
            "dtypes: datetime64[ns](1), object(3)\n",
            "memory usage: 6.0+ KB\n"
          ]
        },
        {
          "output_type": "display_data",
          "data": {
            "text/plain": [
              "None"
            ]
          },
          "metadata": {}
        }
      ]
    },
    {
      "cell_type": "markdown",
      "metadata": {
        "id": "pNxLGjWziHc_"
      },
      "source": [
        "## Step 5 - NO2 Level values to decimal numbers (float)\n",
        "\n",
        "The 'NO2 Level' column can be changed from text to a date using the instruction below:   \n",
        "\n",
        "`df['NO2 Level'] = df['NO2 Level'].astype(float)` \n",
        "\n",
        "This converts the date from text (string) to a datetime record (which contains both date and time) and stores the new datetime back in the Data column.\n",
        "\n",
        "Edit and run the code cell below to convert the date.  \n",
        "Add the `df.info()` instruction to see the new dtype "
      ]
    },
    {
      "cell_type": "code",
      "metadata": {
        "id": "xgB7SbAyjQVd",
        "colab": {
          "base_uri": "https://localhost:8080/"
        },
        "outputId": "4e3fc244-91bb-4078-c704-b6f2155aec57"
      },
      "source": [
        "df['NO2 Level'] = df['NO2 Level'].astype(float)\n",
        "df.info()"
      ],
      "execution_count": 9,
      "outputs": [
        {
          "output_type": "stream",
          "name": "stdout",
          "text": [
            "<class 'pandas.core.frame.DataFrame'>\n",
            "Int64Index: 90 entries, 0 to 90\n",
            "Data columns (total 4 columns):\n",
            " #   Column     Non-Null Count  Dtype         \n",
            "---  ------     --------------  -----         \n",
            " 0   Date       90 non-null     datetime64[ns]\n",
            " 1   Time       90 non-null     object        \n",
            " 2   Day        90 non-null     object        \n",
            " 3   NO2 Level  90 non-null     float64       \n",
            "dtypes: datetime64[ns](1), float64(1), object(2)\n",
            "memory usage: 6.0+ KB\n"
          ]
        }
      ]
    },
    {
      "cell_type": "markdown",
      "metadata": {
        "id": "Hq2liidPj3k1"
      },
      "source": [
        "# Summary\n",
        "---\n",
        "\n",
        "Having worked through this and should be familiar with running code in a code cell.  You may also have learnt what happens when you have a mistake in your code (red lines and/or error messages).\n",
        "\n",
        "You will need most of the code above when you are making charts in the next worksheet.  Leave this worksheet open so that you can refer back, and copy instructions to other worksheets."
      ]
    }
  ]
}