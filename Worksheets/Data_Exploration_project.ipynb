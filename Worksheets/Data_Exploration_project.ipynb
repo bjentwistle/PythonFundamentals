{
  "nbformat": 4,
  "nbformat_minor": 0,
  "metadata": {
    "colab": {
      "name": "Data Exploration project.ipynb",
      "provenance": [],
      "include_colab_link": true
    },
    "kernelspec": {
      "name": "python3",
      "display_name": "Python 3"
    },
    "language_info": {
      "name": "python"
    }
  },
  "cells": [
    {
      "cell_type": "markdown",
      "metadata": {
        "id": "view-in-github",
        "colab_type": "text"
      },
      "source": [
        "<a href=\"https://colab.research.google.com/github/bjentwistle/PythonFundamentals/blob/main/Worksheets/Data_Exploration_project.ipynb\" target=\"_parent\"><img src=\"https://colab.research.google.com/assets/colab-badge.svg\" alt=\"Open In Colab\"/></a>"
      ]
    },
    {
      "cell_type": "markdown",
      "source": [
        "# Exploring data sets\n",
        "---\n",
        "\n",
        "This [link](https://docs.google.com/document/d/1cijDOCDixsYu-Rr9pC8STPPXado3xoFpgBAZgdDTLHs/edit?usp=sharing) will take you to a list of some of the datasets we use during the Programming for Data course.\n",
        "\n",
        "For this exercise, please choose a dataset to work with."
      ],
      "metadata": {
        "id": "bGQ4E0gGX-PI"
      }
    },
    {
      "cell_type": "markdown",
      "source": [
        "Use the code cell below to play with the data.  Look at what data is included, where there is any null data, if there are any columns that need renaming, removing, new values calculated from them.\n",
        "\n",
        "Form some ideas of what you might want to know from the data and use the techniques you have learned so far to show the answers to these.  You might do this by getting summary statistics, by sorting and showing parts of the dataset, by calculating new values, etc."
      ],
      "metadata": {
        "id": "YkkYGsVOcMpp"
      }
    },
    {
      "cell_type": "markdown",
      "source": [
        "### What to do\n",
        "---\n",
        "\n",
        "Decide what you want to know, explain this in the TEXT cell below, then write some code to get the answer.  When you have done this, add a new text cell below the code cell, explain what you have found.  Then do the same again, adding text cell, code cell, text cell, for something else you would like to know."
      ],
      "metadata": {
        "id": "5P8CecO6clH9"
      }
    },
    {
      "cell_type": "markdown",
      "source": [
        ""
      ],
      "metadata": {
        "id": "7G3pgO-Tc7EQ"
      }
    },
    {
      "cell_type": "code",
      "execution_count": 59,
      "metadata": {
        "id": "Omq5otEAX7z8",
        "colab": {
          "base_uri": "https://localhost:8080/"
        },
        "outputId": "dd2ca507-ecf0-47ae-ba85-e3f41a9196fa"
      },
      "outputs": [
        {
          "output_type": "stream",
          "name": "stdout",
          "text": [
            "     rain (mm)  sun (hours)  tmax (degC)  tmin (degC)\n",
            "mm                                                   \n",
            "1   131.528846    36.492308     6.436538     1.509615\n",
            "2    92.503846    62.303846     6.953846     1.565385\n",
            "3    99.605882    95.742308     9.251923     2.828846\n",
            "4    63.911538   135.371154    12.313462     4.586538\n",
            "5    68.223077   177.725000    15.636538     7.175000\n",
            "6    64.717308   167.950000    18.155769    10.019231\n",
            "7    71.836538   153.540385    19.288462    11.676923\n",
            "8    90.111538   145.721154    19.015385    11.538462\n",
            "9   111.005769   111.523077    16.265385     9.621154\n",
            "10  129.861538    82.451923    12.836538     6.980769\n",
            "11  127.061538    50.817308     8.936538     3.673077\n",
            "12  127.326923    32.163462     6.771154     1.825000\n"
          ]
        }
      ],
      "source": [
        "import pandas as pd\n",
        "import numpy as np\n",
        "\n",
        "dataset = \"https://raw.githubusercontent.com/futureCodersSE/working-with-data/main/Data%20sets/Paisley-Weather-Data.csv \"\n",
        "carbon_intensity = pd.read_csv(dataset)\n",
        "\n",
        "#remove two columns that are not needed. Not sure what af (days) is so I removed it.\n",
        "carbon_intensity = carbon_intensity.drop([\"status\", \"af (days)\"],axis=1)\n",
        "\n",
        "#alternate way of filtering out '*' data\n",
        "for x in carbon_intensity.index:\n",
        "  if carbon_intensity.loc[x, \"yyyy\"] > 2010:\n",
        "     carbon_intensity.drop(x, inplace = True)\n",
        "\n",
        "#convert temperature columns to float type\n",
        "carbon_intensity['tmax (degC)'] = pd.Float64Index(carbon_intensity['tmax (degC)'])\n",
        "carbon_intensity['tmin (degC)'] = pd.Float64Index(carbon_intensity['tmin (degC)'])\n",
        "carbon_intensity['rain (mm)'] = pd.Float64Index(carbon_intensity['rain (mm)'])\n",
        "carbon_intensity['sun (hours)'] = pd.Float64Index(carbon_intensity['sun (hours)'])\n",
        "\n",
        "#Group by month and show mean values stats \n",
        "carbon_intensity_pivot = pd.pivot_table(carbon_intensity, values = [\"tmax (degC)\",\"tmin (degC)\", \"rain (mm)\", \"sun (hours)\"], index = [\"mm\"], aggfunc = np.mean)\n",
        "print(carbon_intensity_pivot)\n"
      ]
    }
  ]
}