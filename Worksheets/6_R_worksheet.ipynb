{
  "nbformat": 4,
  "nbformat_minor": 5,
  "metadata": {
    "kernelspec": {
      "display_name": "R",
      "language": "R",
      "name": "ir"
    },
    "colab": {
      "name": "6. R worksheet.ipynb",
      "provenance": [],
      "collapsed_sections": [],
      "include_colab_link": true
    }
  },
  "cells": [
    {
      "cell_type": "markdown",
      "metadata": {
        "id": "view-in-github",
        "colab_type": "text"
      },
      "source": [
        "<a href=\"https://colab.research.google.com/github/bjentwistle/PythonFundamentals/blob/main/Worksheets/6_R_worksheet.ipynb\" target=\"_parent\"><img src=\"https://colab.research.google.com/assets/colab-badge.svg\" alt=\"Open In Colab\"/></a>"
      ]
    },
    {
      "cell_type": "markdown",
      "metadata": {
        "id": "13ce0267"
      },
      "source": [
        "# Using R for data analysis # \n",
        "\n",
        "R is a powerful statistical tool used frequently in science academia. Similar to Python, to use R effectively, we must use a variety of libraries.  \n",
        "\n",
        "**Run the cell block below to install and load the necessary packages**"
      ],
      "id": "13ce0267"
    },
    {
      "cell_type": "code",
      "metadata": {
        "id": "92ad1352",
        "colab": {
          "base_uri": "https://localhost:8080/"
        },
        "outputId": "0e3f165b-303b-4dce-cc80-821e1346d62e"
      },
      "source": [
        "# this code needs to be run once to install the packages on your system\n",
        "# install.packages(\"tidyverse\")\n",
        "# install.packages(\"ggplot2\")\n",
        "install.packages(\"fastDummies\")"
      ],
      "id": "92ad1352",
      "execution_count": 1,
      "outputs": [
        {
          "output_type": "stream",
          "name": "stderr",
          "text": [
            "Installing package into ‘/usr/local/lib/R/site-library’\n",
            "(as ‘lib’ is unspecified)\n",
            "\n"
          ]
        }
      ]
    },
    {
      "cell_type": "markdown",
      "metadata": {
        "id": "3wLXFZ00rPXM"
      },
      "source": [
        "**Run the cell block below here to open the packages ready for use**"
      ],
      "id": "3wLXFZ00rPXM"
    },
    {
      "cell_type": "code",
      "metadata": {
        "id": "7ad1e610",
        "colab": {
          "base_uri": "https://localhost:8080/"
        },
        "outputId": "ef698548-aaeb-44bc-ca56-6557cef1e6f0"
      },
      "source": [
        "# this code needs to be run to open the packages \n",
        "\n",
        "# tidyverse includes dpylr which includes all the functions such as mutate, select, summarise etc\n",
        "library(\"tidyverse\")\n",
        "\n",
        "# ggplot2 contains all the visualisation tools (similar to matplotlib)\n",
        "library(\"ggplot2\")\n",
        "\n",
        "# fastdummies is for dummy coding\n",
        "library(\"fastDummies\")\n",
        "\n",
        "# displaying in real numbers \n",
        "\n",
        "options(scipen = 999)"
      ],
      "id": "7ad1e610",
      "execution_count": 2,
      "outputs": [
        {
          "output_type": "stream",
          "name": "stderr",
          "text": [
            "Warning message in system(\"timedatectl\", intern = TRUE):\n",
            "“running command 'timedatectl' had status 1”\n",
            "── \u001b[1mAttaching packages\u001b[22m ─────────────────────────────────────── tidyverse 1.3.1 ──\n",
            "\n",
            "\u001b[32m✔\u001b[39m \u001b[34mggplot2\u001b[39m 3.3.5     \u001b[32m✔\u001b[39m \u001b[34mpurrr  \u001b[39m 0.3.4\n",
            "\u001b[32m✔\u001b[39m \u001b[34mtibble \u001b[39m 3.1.6     \u001b[32m✔\u001b[39m \u001b[34mdplyr  \u001b[39m 1.0.7\n",
            "\u001b[32m✔\u001b[39m \u001b[34mtidyr  \u001b[39m 1.1.4     \u001b[32m✔\u001b[39m \u001b[34mstringr\u001b[39m 1.4.0\n",
            "\u001b[32m✔\u001b[39m \u001b[34mreadr  \u001b[39m 2.1.1     \u001b[32m✔\u001b[39m \u001b[34mforcats\u001b[39m 0.5.1\n",
            "\n",
            "── \u001b[1mConflicts\u001b[22m ────────────────────────────────────────── tidyverse_conflicts() ──\n",
            "\u001b[31m✖\u001b[39m \u001b[34mdplyr\u001b[39m::\u001b[32mfilter()\u001b[39m masks \u001b[34mstats\u001b[39m::filter()\n",
            "\u001b[31m✖\u001b[39m \u001b[34mdplyr\u001b[39m::\u001b[32mlag()\u001b[39m    masks \u001b[34mstats\u001b[39m::lag()\n",
            "\n"
          ]
        }
      ]
    },
    {
      "cell_type": "markdown",
      "metadata": {
        "id": "e7e51ad2"
      },
      "source": [
        "# Purpose of this worksheet\n",
        "---\n",
        "\n",
        "The purpose of this worksheet is NOT to learn the R programming language.  Rather, it is intended to show some statistical methods that haven't yet been covered, using R as the coding language.  \n",
        "\n",
        "This will allow some exposure to a different language, used for often different reasons from using Python.\n",
        "\n",
        "\n",
        "### In this worksheet you will start by using R versions of operations you have already used in Python.  Then you will be analysing student performance data and performing a multiple linear regression. ###\n",
        "\n",
        "url = \"https://raw.githubusercontent.com/lilaceri/Working-with-data-/main/exams.csv\"\n",
        "\n",
        "### Setting variables ### \n",
        "\n",
        "```variable <- ...```\n",
        "\n",
        "**In R we use <- instead of using = python** \n",
        "\n",
        "### Reading data from our computer into a variable ###\n",
        "\n",
        "```data <- read_csv(\"data.csv\")```\n",
        "\n",
        "### Reading data from a URL into a variable ###\n",
        "\n",
        "```data <- read_csv(\"https://raw.github.com/file.csv\")```\n",
        "\n",
        "### Look at the first few rows of the dataset ###\n",
        "\n",
        "```head(data)```\n",
        "\n",
        "### Summary of the data ###\n",
        "\n",
        "```summary(data)```"
      ],
      "id": "e7e51ad2"
    },
    {
      "cell_type": "markdown",
      "metadata": {
        "id": "f80ef2b6"
      },
      "source": [
        "## Exercise 1\n",
        "---\n",
        "\n",
        "Read the data into a variable and have a look at it. "
      ],
      "id": "f80ef2b6"
    },
    {
      "cell_type": "code",
      "metadata": {
        "id": "278012b6",
        "colab": {
          "base_uri": "https://localhost:8080/"
        },
        "outputId": "d70f4d27-34de-402b-848b-bdd394453461"
      },
      "source": [
        "data <- read_csv(\"https://raw.githubusercontent.com/lilaceri/Working-with-data-/main/Data%20Sets%20for%20code%20divisio/exams.csv\")\n"
      ],
      "id": "278012b6",
      "execution_count": 6,
      "outputs": [
        {
          "output_type": "stream",
          "name": "stderr",
          "text": [
            "\u001b[1mRows: \u001b[22m\u001b[34m1000\u001b[39m \u001b[1mColumns: \u001b[22m\u001b[34m8\u001b[39m\n",
            "\n",
            "\u001b[36m──\u001b[39m \u001b[1mColumn specification\u001b[22m \u001b[36m────────────────────────────────────────────────────────\u001b[39m\n",
            "\u001b[1mDelimiter:\u001b[22m \",\"\n",
            "\u001b[31mchr\u001b[39m (5): gender, ethnicity, parental_education, lunch, preparation_course\n",
            "\u001b[32mdbl\u001b[39m (3): math_score, reading_score, writing_score\n",
            "\n",
            "\n",
            "\u001b[36mℹ\u001b[39m Use \u001b[30m\u001b[47m\u001b[30m\u001b[47m`spec()`\u001b[47m\u001b[30m\u001b[49m\u001b[39m to retrieve the full column specification for this data.\n",
            "\u001b[36mℹ\u001b[39m Specify the column types or set \u001b[30m\u001b[47m\u001b[30m\u001b[47m`show_col_types = FALSE`\u001b[47m\u001b[30m\u001b[49m\u001b[39m to quiet this message.\n",
            "\n"
          ]
        }
      ]
    },
    {
      "cell_type": "markdown",
      "metadata": {
        "id": "f22b0df3"
      },
      "source": [
        "# Lets have a look at the data ###\n",
        "\n",
        "We can use the `arrange()` function to sort the data or `desc()` function to sort into descending order\n",
        "\n",
        "```\n",
        "arranged_column <- arrange(data, column_name)\n",
        "head(arranged_column)\n",
        "tail(arranged_column)\n",
        "summary(arranged_column)\n",
        "```\n",
        "\n",
        "We can use the select() function to look at specific columns\n",
        "\n",
        "```\n",
        "column_specific <- select(data, column_1, column_2)\n",
        "column_specific\n",
        "```\n",
        "\n",
        "\n",
        "\n",
        "### Exercise 2 ###\n",
        "---\n",
        "\n",
        "Now have a go looking at the data in different ways, using the functions above:"
      ],
      "id": "f22b0df3"
    },
    {
      "cell_type": "code",
      "metadata": {
        "id": "e99d1914",
        "colab": {
          "base_uri": "https://localhost:8080/",
          "height": 1000
        },
        "outputId": "48fa4e7a-4419-4b7e-e021-b0accb5f86c4"
      },
      "source": [
        "arranged_column <- arrange(data, gender)\n",
        "head(arranged_column)\n",
        "tail(arranged_column)\n",
        "summary(arranged_column)\n",
        "\n",
        "column_specific <- select(data, parental_education, math_score)\n",
        "column_specific"
      ],
      "id": "e99d1914",
      "execution_count": 33,
      "outputs": [
        {
          "output_type": "display_data",
          "data": {
            "text/plain": [
              "  gender ethnicity parental_education lunch        preparation_course\n",
              "1 female group E   some college       free/reduced none              \n",
              "2 female group B   some high school   free/reduced completed         \n",
              "3 female group C   high school        free/reduced completed         \n",
              "4 female group B   some college       free/reduced none              \n",
              "5 female group D   some college       standard     none              \n",
              "6 female group C   associate's degree standard     completed         \n",
              "  math_score reading_score writing_score\n",
              "1 65         76            71           \n",
              "2 62         56            61           \n",
              "3 34         54            55           \n",
              "4 53         66            61           \n",
              "5 85         88            92           \n",
              "6 58         71            63           "
            ],
            "text/latex": "A tibble: 6 × 8\n\\begin{tabular}{llllllll}\n gender & ethnicity & parental\\_education & lunch & preparation\\_course & math\\_score & reading\\_score & writing\\_score\\\\\n <chr> & <chr> & <chr> & <chr> & <chr> & <dbl> & <dbl> & <dbl>\\\\\n\\hline\n\t female & group E & some college       & free/reduced & none      & 65 & 76 & 71\\\\\n\t female & group B & some high school   & free/reduced & completed & 62 & 56 & 61\\\\\n\t female & group C & high school        & free/reduced & completed & 34 & 54 & 55\\\\\n\t female & group B & some college       & free/reduced & none      & 53 & 66 & 61\\\\\n\t female & group D & some college       & standard     & none      & 85 & 88 & 92\\\\\n\t female & group C & associate's degree & standard     & completed & 58 & 71 & 63\\\\\n\\end{tabular}\n",
            "text/markdown": "\nA tibble: 6 × 8\n\n| gender &lt;chr&gt; | ethnicity &lt;chr&gt; | parental_education &lt;chr&gt; | lunch &lt;chr&gt; | preparation_course &lt;chr&gt; | math_score &lt;dbl&gt; | reading_score &lt;dbl&gt; | writing_score &lt;dbl&gt; |\n|---|---|---|---|---|---|---|---|\n| female | group E | some college       | free/reduced | none      | 65 | 76 | 71 |\n| female | group B | some high school   | free/reduced | completed | 62 | 56 | 61 |\n| female | group C | high school        | free/reduced | completed | 34 | 54 | 55 |\n| female | group B | some college       | free/reduced | none      | 53 | 66 | 61 |\n| female | group D | some college       | standard     | none      | 85 | 88 | 92 |\n| female | group C | associate's degree | standard     | completed | 58 | 71 | 63 |\n\n",
            "text/html": [
              "<table class=\"dataframe\">\n",
              "<caption>A tibble: 6 × 8</caption>\n",
              "<thead>\n",
              "\t<tr><th scope=col>gender</th><th scope=col>ethnicity</th><th scope=col>parental_education</th><th scope=col>lunch</th><th scope=col>preparation_course</th><th scope=col>math_score</th><th scope=col>reading_score</th><th scope=col>writing_score</th></tr>\n",
              "\t<tr><th scope=col>&lt;chr&gt;</th><th scope=col>&lt;chr&gt;</th><th scope=col>&lt;chr&gt;</th><th scope=col>&lt;chr&gt;</th><th scope=col>&lt;chr&gt;</th><th scope=col>&lt;dbl&gt;</th><th scope=col>&lt;dbl&gt;</th><th scope=col>&lt;dbl&gt;</th></tr>\n",
              "</thead>\n",
              "<tbody>\n",
              "\t<tr><td>female</td><td>group E</td><td>some college      </td><td>free/reduced</td><td>none     </td><td>65</td><td>76</td><td>71</td></tr>\n",
              "\t<tr><td>female</td><td>group B</td><td>some high school  </td><td>free/reduced</td><td>completed</td><td>62</td><td>56</td><td>61</td></tr>\n",
              "\t<tr><td>female</td><td>group C</td><td>high school       </td><td>free/reduced</td><td>completed</td><td>34</td><td>54</td><td>55</td></tr>\n",
              "\t<tr><td>female</td><td>group B</td><td>some college      </td><td>free/reduced</td><td>none     </td><td>53</td><td>66</td><td>61</td></tr>\n",
              "\t<tr><td>female</td><td>group D</td><td>some college      </td><td>standard    </td><td>none     </td><td>85</td><td>88</td><td>92</td></tr>\n",
              "\t<tr><td>female</td><td>group C</td><td>associate's degree</td><td>standard    </td><td>completed</td><td>58</td><td>71</td><td>63</td></tr>\n",
              "</tbody>\n",
              "</table>\n"
            ]
          },
          "metadata": {}
        },
        {
          "output_type": "display_data",
          "data": {
            "text/plain": [
              "  gender ethnicity parental_education lunch        preparation_course\n",
              "1 male   group B   high school        free/reduced completed         \n",
              "2 male   group E   high school        standard     none              \n",
              "3 male   group B   some college       standard     completed         \n",
              "4 male   group D   high school        standard     completed         \n",
              "5 male   group B   master's degree    free/reduced none              \n",
              "6 male   group B   some college       standard     none              \n",
              "  math_score reading_score writing_score\n",
              "1 60         70            65           \n",
              "2 79         78            69           \n",
              "3 80         73            74           \n",
              "4 82         87            82           \n",
              "5 62         62            57           \n",
              "6 38         39            40           "
            ],
            "text/latex": "A tibble: 6 × 8\n\\begin{tabular}{llllllll}\n gender & ethnicity & parental\\_education & lunch & preparation\\_course & math\\_score & reading\\_score & writing\\_score\\\\\n <chr> & <chr> & <chr> & <chr> & <chr> & <dbl> & <dbl> & <dbl>\\\\\n\\hline\n\t male & group B & high school     & free/reduced & completed & 60 & 70 & 65\\\\\n\t male & group E & high school     & standard     & none      & 79 & 78 & 69\\\\\n\t male & group B & some college    & standard     & completed & 80 & 73 & 74\\\\\n\t male & group D & high school     & standard     & completed & 82 & 87 & 82\\\\\n\t male & group B & master's degree & free/reduced & none      & 62 & 62 & 57\\\\\n\t male & group B & some college    & standard     & none      & 38 & 39 & 40\\\\\n\\end{tabular}\n",
            "text/markdown": "\nA tibble: 6 × 8\n\n| gender &lt;chr&gt; | ethnicity &lt;chr&gt; | parental_education &lt;chr&gt; | lunch &lt;chr&gt; | preparation_course &lt;chr&gt; | math_score &lt;dbl&gt; | reading_score &lt;dbl&gt; | writing_score &lt;dbl&gt; |\n|---|---|---|---|---|---|---|---|\n| male | group B | high school     | free/reduced | completed | 60 | 70 | 65 |\n| male | group E | high school     | standard     | none      | 79 | 78 | 69 |\n| male | group B | some college    | standard     | completed | 80 | 73 | 74 |\n| male | group D | high school     | standard     | completed | 82 | 87 | 82 |\n| male | group B | master's degree | free/reduced | none      | 62 | 62 | 57 |\n| male | group B | some college    | standard     | none      | 38 | 39 | 40 |\n\n",
            "text/html": [
              "<table class=\"dataframe\">\n",
              "<caption>A tibble: 6 × 8</caption>\n",
              "<thead>\n",
              "\t<tr><th scope=col>gender</th><th scope=col>ethnicity</th><th scope=col>parental_education</th><th scope=col>lunch</th><th scope=col>preparation_course</th><th scope=col>math_score</th><th scope=col>reading_score</th><th scope=col>writing_score</th></tr>\n",
              "\t<tr><th scope=col>&lt;chr&gt;</th><th scope=col>&lt;chr&gt;</th><th scope=col>&lt;chr&gt;</th><th scope=col>&lt;chr&gt;</th><th scope=col>&lt;chr&gt;</th><th scope=col>&lt;dbl&gt;</th><th scope=col>&lt;dbl&gt;</th><th scope=col>&lt;dbl&gt;</th></tr>\n",
              "</thead>\n",
              "<tbody>\n",
              "\t<tr><td>male</td><td>group B</td><td>high school    </td><td>free/reduced</td><td>completed</td><td>60</td><td>70</td><td>65</td></tr>\n",
              "\t<tr><td>male</td><td>group E</td><td>high school    </td><td>standard    </td><td>none     </td><td>79</td><td>78</td><td>69</td></tr>\n",
              "\t<tr><td>male</td><td>group B</td><td>some college   </td><td>standard    </td><td>completed</td><td>80</td><td>73</td><td>74</td></tr>\n",
              "\t<tr><td>male</td><td>group D</td><td>high school    </td><td>standard    </td><td>completed</td><td>82</td><td>87</td><td>82</td></tr>\n",
              "\t<tr><td>male</td><td>group B</td><td>master's degree</td><td>free/reduced</td><td>none     </td><td>62</td><td>62</td><td>57</td></tr>\n",
              "\t<tr><td>male</td><td>group B</td><td>some college   </td><td>standard    </td><td>none     </td><td>38</td><td>39</td><td>40</td></tr>\n",
              "</tbody>\n",
              "</table>\n"
            ]
          },
          "metadata": {}
        },
        {
          "output_type": "display_data",
          "data": {
            "text/plain": [
              "    gender           ethnicity         parental_education    lunch          \n",
              " Length:1000        Length:1000        Length:1000        Length:1000       \n",
              " Class :character   Class :character   Class :character   Class :character  \n",
              " Mode  :character   Mode  :character   Mode  :character   Mode  :character  \n",
              "                                                                            \n",
              "                                                                            \n",
              "                                                                            \n",
              " preparation_course   math_score     reading_score    writing_score   \n",
              " Length:1000        Min.   : 13.00   Min.   : 16.00   Min.   : 12.00  \n",
              " Class :character   1st Qu.: 57.00   1st Qu.: 60.00   1st Qu.: 58.00  \n",
              " Mode  :character   Median : 67.00   Median : 70.00   Median : 69.00  \n",
              "                    Mean   : 66.86   Mean   : 69.72   Mean   : 68.58  \n",
              "                    3rd Qu.: 77.00   3rd Qu.: 80.00   3rd Qu.: 80.00  \n",
              "                    Max.   :100.00   Max.   :100.00   Max.   :100.00  "
            ]
          },
          "metadata": {}
        },
        {
          "output_type": "display_data",
          "data": {
            "text/plain": [
              "     parental_education math_score\n",
              "1    some college       65        \n",
              "2    some college       75        \n",
              "3    some high school   62        \n",
              "4    some high school   60        \n",
              "5    high school        34        \n",
              "6    some college       53        \n",
              "7    some college       85        \n",
              "8    some high school   93        \n",
              "9    associate's degree 58        \n",
              "10   associate's degree 85        \n",
              "11   master's degree    83        \n",
              "12   associate's degree 54        \n",
              "13   some high school   38        \n",
              "14   some college       90        \n",
              "15   some high school   38        \n",
              "16   associate's degree 61        \n",
              "17   some high school   55        \n",
              "18   master's degree    58        \n",
              "19   some college       44        \n",
              "20   some college       71        \n",
              "21   associate's degree 77        \n",
              "22   high school        39        \n",
              "23   high school        71        \n",
              "24   some college       78        \n",
              "25   master's degree    74        \n",
              "26   high school        56        \n",
              "27   associate's degree 68        \n",
              "28   associate's degree 48        \n",
              "29   some high school   90        \n",
              "30   some high school   82        \n",
              "⋮    ⋮                  ⋮         \n",
              "971  associate's degree  64       \n",
              "972  some high school    63       \n",
              "973  bachelor's degree   60       \n",
              "974  associate's degree  62       \n",
              "975  some high school    75       \n",
              "976  associate's degree  56       \n",
              "977  high school         67       \n",
              "978  some high school    83       \n",
              "979  master's degree     57       \n",
              "980  high school         65       \n",
              "981  some college        62       \n",
              "982  high school         76       \n",
              "983  some high school    55       \n",
              "984  some college        62       \n",
              "985  some college       100       \n",
              "986  some high school    89       \n",
              "987  high school         59       \n",
              "988  high school         75       \n",
              "989  high school         62       \n",
              "990  associate's degree  67       \n",
              "991  high school         60       \n",
              "992  some college        68       \n",
              "993  some college        46       \n",
              "994  high school         79       \n",
              "995  associate's degree  72       \n",
              "996  some college        80       \n",
              "997  high school         82       \n",
              "998  associate's degree  65       \n",
              "999  master's degree     62       \n",
              "1000 some college        38       "
            ],
            "text/latex": "A tibble: 1000 × 2\n\\begin{tabular}{ll}\n parental\\_education & math\\_score\\\\\n <chr> & <dbl>\\\\\n\\hline\n\t some college       & 65\\\\\n\t some college       & 75\\\\\n\t some high school   & 62\\\\\n\t some high school   & 60\\\\\n\t high school        & 34\\\\\n\t some college       & 53\\\\\n\t some college       & 85\\\\\n\t some high school   & 93\\\\\n\t associate's degree & 58\\\\\n\t associate's degree & 85\\\\\n\t master's degree    & 83\\\\\n\t associate's degree & 54\\\\\n\t some high school   & 38\\\\\n\t some college       & 90\\\\\n\t some high school   & 38\\\\\n\t associate's degree & 61\\\\\n\t some high school   & 55\\\\\n\t master's degree    & 58\\\\\n\t some college       & 44\\\\\n\t some college       & 71\\\\\n\t associate's degree & 77\\\\\n\t high school        & 39\\\\\n\t high school        & 71\\\\\n\t some college       & 78\\\\\n\t master's degree    & 74\\\\\n\t high school        & 56\\\\\n\t associate's degree & 68\\\\\n\t associate's degree & 48\\\\\n\t some high school   & 90\\\\\n\t some high school   & 82\\\\\n\t ⋮ & ⋮\\\\\n\t associate's degree &  64\\\\\n\t some high school   &  63\\\\\n\t bachelor's degree  &  60\\\\\n\t associate's degree &  62\\\\\n\t some high school   &  75\\\\\n\t associate's degree &  56\\\\\n\t high school        &  67\\\\\n\t some high school   &  83\\\\\n\t master's degree    &  57\\\\\n\t high school        &  65\\\\\n\t some college       &  62\\\\\n\t high school        &  76\\\\\n\t some high school   &  55\\\\\n\t some college       &  62\\\\\n\t some college       & 100\\\\\n\t some high school   &  89\\\\\n\t high school        &  59\\\\\n\t high school        &  75\\\\\n\t high school        &  62\\\\\n\t associate's degree &  67\\\\\n\t high school        &  60\\\\\n\t some college       &  68\\\\\n\t some college       &  46\\\\\n\t high school        &  79\\\\\n\t associate's degree &  72\\\\\n\t some college       &  80\\\\\n\t high school        &  82\\\\\n\t associate's degree &  65\\\\\n\t master's degree    &  62\\\\\n\t some college       &  38\\\\\n\\end{tabular}\n",
            "text/markdown": "\nA tibble: 1000 × 2\n\n| parental_education &lt;chr&gt; | math_score &lt;dbl&gt; |\n|---|---|\n| some college       | 65 |\n| some college       | 75 |\n| some high school   | 62 |\n| some high school   | 60 |\n| high school        | 34 |\n| some college       | 53 |\n| some college       | 85 |\n| some high school   | 93 |\n| associate's degree | 58 |\n| associate's degree | 85 |\n| master's degree    | 83 |\n| associate's degree | 54 |\n| some high school   | 38 |\n| some college       | 90 |\n| some high school   | 38 |\n| associate's degree | 61 |\n| some high school   | 55 |\n| master's degree    | 58 |\n| some college       | 44 |\n| some college       | 71 |\n| associate's degree | 77 |\n| high school        | 39 |\n| high school        | 71 |\n| some college       | 78 |\n| master's degree    | 74 |\n| high school        | 56 |\n| associate's degree | 68 |\n| associate's degree | 48 |\n| some high school   | 90 |\n| some high school   | 82 |\n| ⋮ | ⋮ |\n| associate's degree |  64 |\n| some high school   |  63 |\n| bachelor's degree  |  60 |\n| associate's degree |  62 |\n| some high school   |  75 |\n| associate's degree |  56 |\n| high school        |  67 |\n| some high school   |  83 |\n| master's degree    |  57 |\n| high school        |  65 |\n| some college       |  62 |\n| high school        |  76 |\n| some high school   |  55 |\n| some college       |  62 |\n| some college       | 100 |\n| some high school   |  89 |\n| high school        |  59 |\n| high school        |  75 |\n| high school        |  62 |\n| associate's degree |  67 |\n| high school        |  60 |\n| some college       |  68 |\n| some college       |  46 |\n| high school        |  79 |\n| associate's degree |  72 |\n| some college       |  80 |\n| high school        |  82 |\n| associate's degree |  65 |\n| master's degree    |  62 |\n| some college       |  38 |\n\n",
            "text/html": [
              "<table class=\"dataframe\">\n",
              "<caption>A tibble: 1000 × 2</caption>\n",
              "<thead>\n",
              "\t<tr><th scope=col>parental_education</th><th scope=col>math_score</th></tr>\n",
              "\t<tr><th scope=col>&lt;chr&gt;</th><th scope=col>&lt;dbl&gt;</th></tr>\n",
              "</thead>\n",
              "<tbody>\n",
              "\t<tr><td>some college      </td><td>65</td></tr>\n",
              "\t<tr><td>some college      </td><td>75</td></tr>\n",
              "\t<tr><td>some high school  </td><td>62</td></tr>\n",
              "\t<tr><td>some high school  </td><td>60</td></tr>\n",
              "\t<tr><td>high school       </td><td>34</td></tr>\n",
              "\t<tr><td>some college      </td><td>53</td></tr>\n",
              "\t<tr><td>some college      </td><td>85</td></tr>\n",
              "\t<tr><td>some high school  </td><td>93</td></tr>\n",
              "\t<tr><td>associate's degree</td><td>58</td></tr>\n",
              "\t<tr><td>associate's degree</td><td>85</td></tr>\n",
              "\t<tr><td>master's degree   </td><td>83</td></tr>\n",
              "\t<tr><td>associate's degree</td><td>54</td></tr>\n",
              "\t<tr><td>some high school  </td><td>38</td></tr>\n",
              "\t<tr><td>some college      </td><td>90</td></tr>\n",
              "\t<tr><td>some high school  </td><td>38</td></tr>\n",
              "\t<tr><td>associate's degree</td><td>61</td></tr>\n",
              "\t<tr><td>some high school  </td><td>55</td></tr>\n",
              "\t<tr><td>master's degree   </td><td>58</td></tr>\n",
              "\t<tr><td>some college      </td><td>44</td></tr>\n",
              "\t<tr><td>some college      </td><td>71</td></tr>\n",
              "\t<tr><td>associate's degree</td><td>77</td></tr>\n",
              "\t<tr><td>high school       </td><td>39</td></tr>\n",
              "\t<tr><td>high school       </td><td>71</td></tr>\n",
              "\t<tr><td>some college      </td><td>78</td></tr>\n",
              "\t<tr><td>master's degree   </td><td>74</td></tr>\n",
              "\t<tr><td>high school       </td><td>56</td></tr>\n",
              "\t<tr><td>associate's degree</td><td>68</td></tr>\n",
              "\t<tr><td>associate's degree</td><td>48</td></tr>\n",
              "\t<tr><td>some high school  </td><td>90</td></tr>\n",
              "\t<tr><td>some high school  </td><td>82</td></tr>\n",
              "\t<tr><td>⋮</td><td>⋮</td></tr>\n",
              "\t<tr><td>associate's degree</td><td> 64</td></tr>\n",
              "\t<tr><td>some high school  </td><td> 63</td></tr>\n",
              "\t<tr><td>bachelor's degree </td><td> 60</td></tr>\n",
              "\t<tr><td>associate's degree</td><td> 62</td></tr>\n",
              "\t<tr><td>some high school  </td><td> 75</td></tr>\n",
              "\t<tr><td>associate's degree</td><td> 56</td></tr>\n",
              "\t<tr><td>high school       </td><td> 67</td></tr>\n",
              "\t<tr><td>some high school  </td><td> 83</td></tr>\n",
              "\t<tr><td>master's degree   </td><td> 57</td></tr>\n",
              "\t<tr><td>high school       </td><td> 65</td></tr>\n",
              "\t<tr><td>some college      </td><td> 62</td></tr>\n",
              "\t<tr><td>high school       </td><td> 76</td></tr>\n",
              "\t<tr><td>some high school  </td><td> 55</td></tr>\n",
              "\t<tr><td>some college      </td><td> 62</td></tr>\n",
              "\t<tr><td>some college      </td><td>100</td></tr>\n",
              "\t<tr><td>some high school  </td><td> 89</td></tr>\n",
              "\t<tr><td>high school       </td><td> 59</td></tr>\n",
              "\t<tr><td>high school       </td><td> 75</td></tr>\n",
              "\t<tr><td>high school       </td><td> 62</td></tr>\n",
              "\t<tr><td>associate's degree</td><td> 67</td></tr>\n",
              "\t<tr><td>high school       </td><td> 60</td></tr>\n",
              "\t<tr><td>some college      </td><td> 68</td></tr>\n",
              "\t<tr><td>some college      </td><td> 46</td></tr>\n",
              "\t<tr><td>high school       </td><td> 79</td></tr>\n",
              "\t<tr><td>associate's degree</td><td> 72</td></tr>\n",
              "\t<tr><td>some college      </td><td> 80</td></tr>\n",
              "\t<tr><td>high school       </td><td> 82</td></tr>\n",
              "\t<tr><td>associate's degree</td><td> 65</td></tr>\n",
              "\t<tr><td>master's degree   </td><td> 62</td></tr>\n",
              "\t<tr><td>some college      </td><td> 38</td></tr>\n",
              "</tbody>\n",
              "</table>\n"
            ]
          },
          "metadata": {}
        }
      ]
    },
    {
      "cell_type": "markdown",
      "metadata": {
        "id": "ed7b8c0d"
      },
      "source": [
        "# Prepare the data for a linear regression\n",
        "\n",
        "Rows containing null, or error-prone values can affect statistics such as measures of central tendency (e.g. mean, median) and operations such as linear regressions, reducing accuracy.\n",
        "\n",
        "To check for null values we can use:\n",
        "\n",
        "``` is.na(data) ```\n",
        "\n",
        "To remove rows which contain null values we can use:  \n",
        "\n",
        "``` na.omit(data) ``` \n",
        "\n",
        "\n",
        "\n",
        "### Exercise 3\n",
        "---\n",
        "\n",
        "Check your dataframe for null values and remove rows with null values if necessary"
      ],
      "id": "ed7b8c0d"
    },
    {
      "cell_type": "code",
      "metadata": {
        "id": "7f261cc0",
        "colab": {
          "base_uri": "https://localhost:8080/",
          "height": 1000
        },
        "outputId": "9f47e067-429e-4c3c-8cf3-d17ba53f4ec6"
      },
      "source": [
        "is.na(data)\n",
        "#na.omit(data)"
      ],
      "id": "7f261cc0",
      "execution_count": 15,
      "outputs": [
        {
          "output_type": "display_data",
          "data": {
            "text/plain": [
              "      gender ethnicity parental_education lunch preparation_course math_score\n",
              " [1,] FALSE  FALSE     FALSE              FALSE FALSE              FALSE     \n",
              " [2,] FALSE  FALSE     FALSE              FALSE FALSE              FALSE     \n",
              " [3,] FALSE  FALSE     FALSE              FALSE FALSE              FALSE     \n",
              " [4,] FALSE  FALSE     FALSE              FALSE FALSE              FALSE     \n",
              " [5,] FALSE  FALSE     FALSE              FALSE FALSE              FALSE     \n",
              " [6,] FALSE  FALSE     FALSE              FALSE FALSE              FALSE     \n",
              " [7,] FALSE  FALSE     FALSE              FALSE FALSE              FALSE     \n",
              " [8,] FALSE  FALSE     FALSE              FALSE FALSE              FALSE     \n",
              " [9,] FALSE  FALSE     FALSE              FALSE FALSE              FALSE     \n",
              "[10,] FALSE  FALSE     FALSE              FALSE FALSE              FALSE     \n",
              "[11,] FALSE  FALSE     FALSE              FALSE FALSE              FALSE     \n",
              "[12,] FALSE  FALSE     FALSE              FALSE FALSE              FALSE     \n",
              "[13,] FALSE  FALSE     FALSE              FALSE FALSE              FALSE     \n",
              "[14,] FALSE  FALSE     FALSE              FALSE FALSE              FALSE     \n",
              "[15,] FALSE  FALSE     FALSE              FALSE FALSE              FALSE     \n",
              "[16,] FALSE  FALSE     FALSE              FALSE FALSE              FALSE     \n",
              "[17,] FALSE  FALSE     FALSE              FALSE FALSE              FALSE     \n",
              "[18,] FALSE  FALSE     FALSE              FALSE FALSE              FALSE     \n",
              "[19,] FALSE  FALSE     FALSE              FALSE FALSE              FALSE     \n",
              "[20,] FALSE  FALSE     FALSE              FALSE FALSE              FALSE     \n",
              "[21,] FALSE  FALSE     FALSE              FALSE FALSE              FALSE     \n",
              "[22,] FALSE  FALSE     FALSE              FALSE FALSE              FALSE     \n",
              "[23,] FALSE  FALSE     FALSE              FALSE FALSE              FALSE     \n",
              "[24,] FALSE  FALSE     FALSE              FALSE FALSE              FALSE     \n",
              "[25,] FALSE  FALSE     FALSE              FALSE FALSE              FALSE     \n",
              "[26,] FALSE  FALSE     FALSE              FALSE FALSE              FALSE     \n",
              "[27,] FALSE  FALSE     FALSE              FALSE FALSE              FALSE     \n",
              "[28,] FALSE  FALSE     FALSE              FALSE FALSE              FALSE     \n",
              "[29,] FALSE  FALSE     FALSE              FALSE FALSE              FALSE     \n",
              "[30,] FALSE  FALSE     FALSE              FALSE FALSE              FALSE     \n",
              "[31,] ⋮      ⋮         ⋮                  ⋮     ⋮                  ⋮         \n",
              "[32,] FALSE  FALSE     FALSE              FALSE FALSE              FALSE     \n",
              "[33,] FALSE  FALSE     FALSE              FALSE FALSE              FALSE     \n",
              "[34,] FALSE  FALSE     FALSE              FALSE FALSE              FALSE     \n",
              "[35,] FALSE  FALSE     FALSE              FALSE FALSE              FALSE     \n",
              "[36,] FALSE  FALSE     FALSE              FALSE FALSE              FALSE     \n",
              "[37,] FALSE  FALSE     FALSE              FALSE FALSE              FALSE     \n",
              "[38,] FALSE  FALSE     FALSE              FALSE FALSE              FALSE     \n",
              "[39,] FALSE  FALSE     FALSE              FALSE FALSE              FALSE     \n",
              "[40,] FALSE  FALSE     FALSE              FALSE FALSE              FALSE     \n",
              "[41,] FALSE  FALSE     FALSE              FALSE FALSE              FALSE     \n",
              "[42,] FALSE  FALSE     FALSE              FALSE FALSE              FALSE     \n",
              "[43,] FALSE  FALSE     FALSE              FALSE FALSE              FALSE     \n",
              "[44,] FALSE  FALSE     FALSE              FALSE FALSE              FALSE     \n",
              "[45,] FALSE  FALSE     FALSE              FALSE FALSE              FALSE     \n",
              "[46,] FALSE  FALSE     FALSE              FALSE FALSE              FALSE     \n",
              "[47,] FALSE  FALSE     FALSE              FALSE FALSE              FALSE     \n",
              "[48,] FALSE  FALSE     FALSE              FALSE FALSE              FALSE     \n",
              "[49,] FALSE  FALSE     FALSE              FALSE FALSE              FALSE     \n",
              "[50,] FALSE  FALSE     FALSE              FALSE FALSE              FALSE     \n",
              "[51,] FALSE  FALSE     FALSE              FALSE FALSE              FALSE     \n",
              "[52,] FALSE  FALSE     FALSE              FALSE FALSE              FALSE     \n",
              "[53,] FALSE  FALSE     FALSE              FALSE FALSE              FALSE     \n",
              "[54,] FALSE  FALSE     FALSE              FALSE FALSE              FALSE     \n",
              "[55,] FALSE  FALSE     FALSE              FALSE FALSE              FALSE     \n",
              "[56,] FALSE  FALSE     FALSE              FALSE FALSE              FALSE     \n",
              "[57,] FALSE  FALSE     FALSE              FALSE FALSE              FALSE     \n",
              "[58,] FALSE  FALSE     FALSE              FALSE FALSE              FALSE     \n",
              "[59,] FALSE  FALSE     FALSE              FALSE FALSE              FALSE     \n",
              "[60,] FALSE  FALSE     FALSE              FALSE FALSE              FALSE     \n",
              "[61,] FALSE  FALSE     FALSE              FALSE FALSE              FALSE     \n",
              "      reading_score writing_score\n",
              " [1,] FALSE         FALSE        \n",
              " [2,] FALSE         FALSE        \n",
              " [3,] FALSE         FALSE        \n",
              " [4,] FALSE         FALSE        \n",
              " [5,] FALSE         FALSE        \n",
              " [6,] FALSE         FALSE        \n",
              " [7,] FALSE         FALSE        \n",
              " [8,] FALSE         FALSE        \n",
              " [9,] FALSE         FALSE        \n",
              "[10,] FALSE         FALSE        \n",
              "[11,] FALSE         FALSE        \n",
              "[12,] FALSE         FALSE        \n",
              "[13,] FALSE         FALSE        \n",
              "[14,] FALSE         FALSE        \n",
              "[15,] FALSE         FALSE        \n",
              "[16,] FALSE         FALSE        \n",
              "[17,] FALSE         FALSE        \n",
              "[18,] FALSE         FALSE        \n",
              "[19,] FALSE         FALSE        \n",
              "[20,] FALSE         FALSE        \n",
              "[21,] FALSE         FALSE        \n",
              "[22,] FALSE         FALSE        \n",
              "[23,] FALSE         FALSE        \n",
              "[24,] FALSE         FALSE        \n",
              "[25,] FALSE         FALSE        \n",
              "[26,] FALSE         FALSE        \n",
              "[27,] FALSE         FALSE        \n",
              "[28,] FALSE         FALSE        \n",
              "[29,] FALSE         FALSE        \n",
              "[30,] FALSE         FALSE        \n",
              "[31,] ⋮             ⋮            \n",
              "[32,] FALSE         FALSE        \n",
              "[33,] FALSE         FALSE        \n",
              "[34,] FALSE         FALSE        \n",
              "[35,] FALSE         FALSE        \n",
              "[36,] FALSE         FALSE        \n",
              "[37,] FALSE         FALSE        \n",
              "[38,] FALSE         FALSE        \n",
              "[39,] FALSE         FALSE        \n",
              "[40,] FALSE         FALSE        \n",
              "[41,] FALSE         FALSE        \n",
              "[42,] FALSE         FALSE        \n",
              "[43,] FALSE         FALSE        \n",
              "[44,] FALSE         FALSE        \n",
              "[45,] FALSE         FALSE        \n",
              "[46,] FALSE         FALSE        \n",
              "[47,] FALSE         FALSE        \n",
              "[48,] FALSE         FALSE        \n",
              "[49,] FALSE         FALSE        \n",
              "[50,] FALSE         FALSE        \n",
              "[51,] FALSE         FALSE        \n",
              "[52,] FALSE         FALSE        \n",
              "[53,] FALSE         FALSE        \n",
              "[54,] FALSE         FALSE        \n",
              "[55,] FALSE         FALSE        \n",
              "[56,] FALSE         FALSE        \n",
              "[57,] FALSE         FALSE        \n",
              "[58,] FALSE         FALSE        \n",
              "[59,] FALSE         FALSE        \n",
              "[60,] FALSE         FALSE        \n",
              "[61,] FALSE         FALSE        "
            ],
            "text/latex": "A matrix: 1000 × 8 of type lgl\n\\begin{tabular}{llllllll}\n gender & ethnicity & parental\\_education & lunch & preparation\\_course & math\\_score & reading\\_score & writing\\_score\\\\\n\\hline\n\t FALSE & FALSE & FALSE & FALSE & FALSE & FALSE & FALSE & FALSE\\\\\n\t FALSE & FALSE & FALSE & FALSE & FALSE & FALSE & FALSE & FALSE\\\\\n\t FALSE & FALSE & FALSE & FALSE & FALSE & FALSE & FALSE & FALSE\\\\\n\t FALSE & FALSE & FALSE & FALSE & FALSE & FALSE & FALSE & FALSE\\\\\n\t FALSE & FALSE & FALSE & FALSE & FALSE & FALSE & FALSE & FALSE\\\\\n\t FALSE & FALSE & FALSE & FALSE & FALSE & FALSE & FALSE & FALSE\\\\\n\t FALSE & FALSE & FALSE & FALSE & FALSE & FALSE & FALSE & FALSE\\\\\n\t FALSE & FALSE & FALSE & FALSE & FALSE & FALSE & FALSE & FALSE\\\\\n\t FALSE & FALSE & FALSE & FALSE & FALSE & FALSE & FALSE & FALSE\\\\\n\t FALSE & FALSE & FALSE & FALSE & FALSE & FALSE & FALSE & FALSE\\\\\n\t FALSE & FALSE & FALSE & FALSE & FALSE & FALSE & FALSE & FALSE\\\\\n\t FALSE & FALSE & FALSE & FALSE & FALSE & FALSE & FALSE & FALSE\\\\\n\t FALSE & FALSE & FALSE & FALSE & FALSE & FALSE & FALSE & FALSE\\\\\n\t FALSE & FALSE & FALSE & FALSE & FALSE & FALSE & FALSE & FALSE\\\\\n\t FALSE & FALSE & FALSE & FALSE & FALSE & FALSE & FALSE & FALSE\\\\\n\t FALSE & FALSE & FALSE & FALSE & FALSE & FALSE & FALSE & FALSE\\\\\n\t FALSE & FALSE & FALSE & FALSE & FALSE & FALSE & FALSE & FALSE\\\\\n\t FALSE & FALSE & FALSE & FALSE & FALSE & FALSE & FALSE & FALSE\\\\\n\t FALSE & FALSE & FALSE & FALSE & FALSE & FALSE & FALSE & FALSE\\\\\n\t FALSE & FALSE & FALSE & FALSE & FALSE & FALSE & FALSE & FALSE\\\\\n\t FALSE & FALSE & FALSE & FALSE & FALSE & FALSE & FALSE & FALSE\\\\\n\t FALSE & FALSE & FALSE & FALSE & FALSE & FALSE & FALSE & FALSE\\\\\n\t FALSE & FALSE & FALSE & FALSE & FALSE & FALSE & FALSE & FALSE\\\\\n\t FALSE & FALSE & FALSE & FALSE & FALSE & FALSE & FALSE & FALSE\\\\\n\t FALSE & FALSE & FALSE & FALSE & FALSE & FALSE & FALSE & FALSE\\\\\n\t FALSE & FALSE & FALSE & FALSE & FALSE & FALSE & FALSE & FALSE\\\\\n\t FALSE & FALSE & FALSE & FALSE & FALSE & FALSE & FALSE & FALSE\\\\\n\t FALSE & FALSE & FALSE & FALSE & FALSE & FALSE & FALSE & FALSE\\\\\n\t FALSE & FALSE & FALSE & FALSE & FALSE & FALSE & FALSE & FALSE\\\\\n\t FALSE & FALSE & FALSE & FALSE & FALSE & FALSE & FALSE & FALSE\\\\\n\t ⋮ & ⋮ & ⋮ & ⋮ & ⋮ & ⋮ & ⋮ & ⋮\\\\\n\t FALSE & FALSE & FALSE & FALSE & FALSE & FALSE & FALSE & FALSE\\\\\n\t FALSE & FALSE & FALSE & FALSE & FALSE & FALSE & FALSE & FALSE\\\\\n\t FALSE & FALSE & FALSE & FALSE & FALSE & FALSE & FALSE & FALSE\\\\\n\t FALSE & FALSE & FALSE & FALSE & FALSE & FALSE & FALSE & FALSE\\\\\n\t FALSE & FALSE & FALSE & FALSE & FALSE & FALSE & FALSE & FALSE\\\\\n\t FALSE & FALSE & FALSE & FALSE & FALSE & FALSE & FALSE & FALSE\\\\\n\t FALSE & FALSE & FALSE & FALSE & FALSE & FALSE & FALSE & FALSE\\\\\n\t FALSE & FALSE & FALSE & FALSE & FALSE & FALSE & FALSE & FALSE\\\\\n\t FALSE & FALSE & FALSE & FALSE & FALSE & FALSE & FALSE & FALSE\\\\\n\t FALSE & FALSE & FALSE & FALSE & FALSE & FALSE & FALSE & FALSE\\\\\n\t FALSE & FALSE & FALSE & FALSE & FALSE & FALSE & FALSE & FALSE\\\\\n\t FALSE & FALSE & FALSE & FALSE & FALSE & FALSE & FALSE & FALSE\\\\\n\t FALSE & FALSE & FALSE & FALSE & FALSE & FALSE & FALSE & FALSE\\\\\n\t FALSE & FALSE & FALSE & FALSE & FALSE & FALSE & FALSE & FALSE\\\\\n\t FALSE & FALSE & FALSE & FALSE & FALSE & FALSE & FALSE & FALSE\\\\\n\t FALSE & FALSE & FALSE & FALSE & FALSE & FALSE & FALSE & FALSE\\\\\n\t FALSE & FALSE & FALSE & FALSE & FALSE & FALSE & FALSE & FALSE\\\\\n\t FALSE & FALSE & FALSE & FALSE & FALSE & FALSE & FALSE & FALSE\\\\\n\t FALSE & FALSE & FALSE & FALSE & FALSE & FALSE & FALSE & FALSE\\\\\n\t FALSE & FALSE & FALSE & FALSE & FALSE & FALSE & FALSE & FALSE\\\\\n\t FALSE & FALSE & FALSE & FALSE & FALSE & FALSE & FALSE & FALSE\\\\\n\t FALSE & FALSE & FALSE & FALSE & FALSE & FALSE & FALSE & FALSE\\\\\n\t FALSE & FALSE & FALSE & FALSE & FALSE & FALSE & FALSE & FALSE\\\\\n\t FALSE & FALSE & FALSE & FALSE & FALSE & FALSE & FALSE & FALSE\\\\\n\t FALSE & FALSE & FALSE & FALSE & FALSE & FALSE & FALSE & FALSE\\\\\n\t FALSE & FALSE & FALSE & FALSE & FALSE & FALSE & FALSE & FALSE\\\\\n\t FALSE & FALSE & FALSE & FALSE & FALSE & FALSE & FALSE & FALSE\\\\\n\t FALSE & FALSE & FALSE & FALSE & FALSE & FALSE & FALSE & FALSE\\\\\n\t FALSE & FALSE & FALSE & FALSE & FALSE & FALSE & FALSE & FALSE\\\\\n\t FALSE & FALSE & FALSE & FALSE & FALSE & FALSE & FALSE & FALSE\\\\\n\\end{tabular}\n",
            "text/markdown": "\nA matrix: 1000 × 8 of type lgl\n\n| gender | ethnicity | parental_education | lunch | preparation_course | math_score | reading_score | writing_score |\n|---|---|---|---|---|---|---|---|\n| FALSE | FALSE | FALSE | FALSE | FALSE | FALSE | FALSE | FALSE |\n| FALSE | FALSE | FALSE | FALSE | FALSE | FALSE | FALSE | FALSE |\n| FALSE | FALSE | FALSE | FALSE | FALSE | FALSE | FALSE | FALSE |\n| FALSE | FALSE | FALSE | FALSE | FALSE | FALSE | FALSE | FALSE |\n| FALSE | FALSE | FALSE | FALSE | FALSE | FALSE | FALSE | FALSE |\n| FALSE | FALSE | FALSE | FALSE | FALSE | FALSE | FALSE | FALSE |\n| FALSE | FALSE | FALSE | FALSE | FALSE | FALSE | FALSE | FALSE |\n| FALSE | FALSE | FALSE | FALSE | FALSE | FALSE | FALSE | FALSE |\n| FALSE | FALSE | FALSE | FALSE | FALSE | FALSE | FALSE | FALSE |\n| FALSE | FALSE | FALSE | FALSE | FALSE | FALSE | FALSE | FALSE |\n| FALSE | FALSE | FALSE | FALSE | FALSE | FALSE | FALSE | FALSE |\n| FALSE | FALSE | FALSE | FALSE | FALSE | FALSE | FALSE | FALSE |\n| FALSE | FALSE | FALSE | FALSE | FALSE | FALSE | FALSE | FALSE |\n| FALSE | FALSE | FALSE | FALSE | FALSE | FALSE | FALSE | FALSE |\n| FALSE | FALSE | FALSE | FALSE | FALSE | FALSE | FALSE | FALSE |\n| FALSE | FALSE | FALSE | FALSE | FALSE | FALSE | FALSE | FALSE |\n| FALSE | FALSE | FALSE | FALSE | FALSE | FALSE | FALSE | FALSE |\n| FALSE | FALSE | FALSE | FALSE | FALSE | FALSE | FALSE | FALSE |\n| FALSE | FALSE | FALSE | FALSE | FALSE | FALSE | FALSE | FALSE |\n| FALSE | FALSE | FALSE | FALSE | FALSE | FALSE | FALSE | FALSE |\n| FALSE | FALSE | FALSE | FALSE | FALSE | FALSE | FALSE | FALSE |\n| FALSE | FALSE | FALSE | FALSE | FALSE | FALSE | FALSE | FALSE |\n| FALSE | FALSE | FALSE | FALSE | FALSE | FALSE | FALSE | FALSE |\n| FALSE | FALSE | FALSE | FALSE | FALSE | FALSE | FALSE | FALSE |\n| FALSE | FALSE | FALSE | FALSE | FALSE | FALSE | FALSE | FALSE |\n| FALSE | FALSE | FALSE | FALSE | FALSE | FALSE | FALSE | FALSE |\n| FALSE | FALSE | FALSE | FALSE | FALSE | FALSE | FALSE | FALSE |\n| FALSE | FALSE | FALSE | FALSE | FALSE | FALSE | FALSE | FALSE |\n| FALSE | FALSE | FALSE | FALSE | FALSE | FALSE | FALSE | FALSE |\n| FALSE | FALSE | FALSE | FALSE | FALSE | FALSE | FALSE | FALSE |\n| ⋮ | ⋮ | ⋮ | ⋮ | ⋮ | ⋮ | ⋮ | ⋮ |\n| FALSE | FALSE | FALSE | FALSE | FALSE | FALSE | FALSE | FALSE |\n| FALSE | FALSE | FALSE | FALSE | FALSE | FALSE | FALSE | FALSE |\n| FALSE | FALSE | FALSE | FALSE | FALSE | FALSE | FALSE | FALSE |\n| FALSE | FALSE | FALSE | FALSE | FALSE | FALSE | FALSE | FALSE |\n| FALSE | FALSE | FALSE | FALSE | FALSE | FALSE | FALSE | FALSE |\n| FALSE | FALSE | FALSE | FALSE | FALSE | FALSE | FALSE | FALSE |\n| FALSE | FALSE | FALSE | FALSE | FALSE | FALSE | FALSE | FALSE |\n| FALSE | FALSE | FALSE | FALSE | FALSE | FALSE | FALSE | FALSE |\n| FALSE | FALSE | FALSE | FALSE | FALSE | FALSE | FALSE | FALSE |\n| FALSE | FALSE | FALSE | FALSE | FALSE | FALSE | FALSE | FALSE |\n| FALSE | FALSE | FALSE | FALSE | FALSE | FALSE | FALSE | FALSE |\n| FALSE | FALSE | FALSE | FALSE | FALSE | FALSE | FALSE | FALSE |\n| FALSE | FALSE | FALSE | FALSE | FALSE | FALSE | FALSE | FALSE |\n| FALSE | FALSE | FALSE | FALSE | FALSE | FALSE | FALSE | FALSE |\n| FALSE | FALSE | FALSE | FALSE | FALSE | FALSE | FALSE | FALSE |\n| FALSE | FALSE | FALSE | FALSE | FALSE | FALSE | FALSE | FALSE |\n| FALSE | FALSE | FALSE | FALSE | FALSE | FALSE | FALSE | FALSE |\n| FALSE | FALSE | FALSE | FALSE | FALSE | FALSE | FALSE | FALSE |\n| FALSE | FALSE | FALSE | FALSE | FALSE | FALSE | FALSE | FALSE |\n| FALSE | FALSE | FALSE | FALSE | FALSE | FALSE | FALSE | FALSE |\n| FALSE | FALSE | FALSE | FALSE | FALSE | FALSE | FALSE | FALSE |\n| FALSE | FALSE | FALSE | FALSE | FALSE | FALSE | FALSE | FALSE |\n| FALSE | FALSE | FALSE | FALSE | FALSE | FALSE | FALSE | FALSE |\n| FALSE | FALSE | FALSE | FALSE | FALSE | FALSE | FALSE | FALSE |\n| FALSE | FALSE | FALSE | FALSE | FALSE | FALSE | FALSE | FALSE |\n| FALSE | FALSE | FALSE | FALSE | FALSE | FALSE | FALSE | FALSE |\n| FALSE | FALSE | FALSE | FALSE | FALSE | FALSE | FALSE | FALSE |\n| FALSE | FALSE | FALSE | FALSE | FALSE | FALSE | FALSE | FALSE |\n| FALSE | FALSE | FALSE | FALSE | FALSE | FALSE | FALSE | FALSE |\n| FALSE | FALSE | FALSE | FALSE | FALSE | FALSE | FALSE | FALSE |\n\n",
            "text/html": [
              "<table class=\"dataframe\">\n",
              "<caption>A matrix: 1000 × 8 of type lgl</caption>\n",
              "<thead>\n",
              "\t<tr><th scope=col>gender</th><th scope=col>ethnicity</th><th scope=col>parental_education</th><th scope=col>lunch</th><th scope=col>preparation_course</th><th scope=col>math_score</th><th scope=col>reading_score</th><th scope=col>writing_score</th></tr>\n",
              "</thead>\n",
              "<tbody>\n",
              "\t<tr><td>FALSE</td><td>FALSE</td><td>FALSE</td><td>FALSE</td><td>FALSE</td><td>FALSE</td><td>FALSE</td><td>FALSE</td></tr>\n",
              "\t<tr><td>FALSE</td><td>FALSE</td><td>FALSE</td><td>FALSE</td><td>FALSE</td><td>FALSE</td><td>FALSE</td><td>FALSE</td></tr>\n",
              "\t<tr><td>FALSE</td><td>FALSE</td><td>FALSE</td><td>FALSE</td><td>FALSE</td><td>FALSE</td><td>FALSE</td><td>FALSE</td></tr>\n",
              "\t<tr><td>FALSE</td><td>FALSE</td><td>FALSE</td><td>FALSE</td><td>FALSE</td><td>FALSE</td><td>FALSE</td><td>FALSE</td></tr>\n",
              "\t<tr><td>FALSE</td><td>FALSE</td><td>FALSE</td><td>FALSE</td><td>FALSE</td><td>FALSE</td><td>FALSE</td><td>FALSE</td></tr>\n",
              "\t<tr><td>FALSE</td><td>FALSE</td><td>FALSE</td><td>FALSE</td><td>FALSE</td><td>FALSE</td><td>FALSE</td><td>FALSE</td></tr>\n",
              "\t<tr><td>FALSE</td><td>FALSE</td><td>FALSE</td><td>FALSE</td><td>FALSE</td><td>FALSE</td><td>FALSE</td><td>FALSE</td></tr>\n",
              "\t<tr><td>FALSE</td><td>FALSE</td><td>FALSE</td><td>FALSE</td><td>FALSE</td><td>FALSE</td><td>FALSE</td><td>FALSE</td></tr>\n",
              "\t<tr><td>FALSE</td><td>FALSE</td><td>FALSE</td><td>FALSE</td><td>FALSE</td><td>FALSE</td><td>FALSE</td><td>FALSE</td></tr>\n",
              "\t<tr><td>FALSE</td><td>FALSE</td><td>FALSE</td><td>FALSE</td><td>FALSE</td><td>FALSE</td><td>FALSE</td><td>FALSE</td></tr>\n",
              "\t<tr><td>FALSE</td><td>FALSE</td><td>FALSE</td><td>FALSE</td><td>FALSE</td><td>FALSE</td><td>FALSE</td><td>FALSE</td></tr>\n",
              "\t<tr><td>FALSE</td><td>FALSE</td><td>FALSE</td><td>FALSE</td><td>FALSE</td><td>FALSE</td><td>FALSE</td><td>FALSE</td></tr>\n",
              "\t<tr><td>FALSE</td><td>FALSE</td><td>FALSE</td><td>FALSE</td><td>FALSE</td><td>FALSE</td><td>FALSE</td><td>FALSE</td></tr>\n",
              "\t<tr><td>FALSE</td><td>FALSE</td><td>FALSE</td><td>FALSE</td><td>FALSE</td><td>FALSE</td><td>FALSE</td><td>FALSE</td></tr>\n",
              "\t<tr><td>FALSE</td><td>FALSE</td><td>FALSE</td><td>FALSE</td><td>FALSE</td><td>FALSE</td><td>FALSE</td><td>FALSE</td></tr>\n",
              "\t<tr><td>FALSE</td><td>FALSE</td><td>FALSE</td><td>FALSE</td><td>FALSE</td><td>FALSE</td><td>FALSE</td><td>FALSE</td></tr>\n",
              "\t<tr><td>FALSE</td><td>FALSE</td><td>FALSE</td><td>FALSE</td><td>FALSE</td><td>FALSE</td><td>FALSE</td><td>FALSE</td></tr>\n",
              "\t<tr><td>FALSE</td><td>FALSE</td><td>FALSE</td><td>FALSE</td><td>FALSE</td><td>FALSE</td><td>FALSE</td><td>FALSE</td></tr>\n",
              "\t<tr><td>FALSE</td><td>FALSE</td><td>FALSE</td><td>FALSE</td><td>FALSE</td><td>FALSE</td><td>FALSE</td><td>FALSE</td></tr>\n",
              "\t<tr><td>FALSE</td><td>FALSE</td><td>FALSE</td><td>FALSE</td><td>FALSE</td><td>FALSE</td><td>FALSE</td><td>FALSE</td></tr>\n",
              "\t<tr><td>FALSE</td><td>FALSE</td><td>FALSE</td><td>FALSE</td><td>FALSE</td><td>FALSE</td><td>FALSE</td><td>FALSE</td></tr>\n",
              "\t<tr><td>FALSE</td><td>FALSE</td><td>FALSE</td><td>FALSE</td><td>FALSE</td><td>FALSE</td><td>FALSE</td><td>FALSE</td></tr>\n",
              "\t<tr><td>FALSE</td><td>FALSE</td><td>FALSE</td><td>FALSE</td><td>FALSE</td><td>FALSE</td><td>FALSE</td><td>FALSE</td></tr>\n",
              "\t<tr><td>FALSE</td><td>FALSE</td><td>FALSE</td><td>FALSE</td><td>FALSE</td><td>FALSE</td><td>FALSE</td><td>FALSE</td></tr>\n",
              "\t<tr><td>FALSE</td><td>FALSE</td><td>FALSE</td><td>FALSE</td><td>FALSE</td><td>FALSE</td><td>FALSE</td><td>FALSE</td></tr>\n",
              "\t<tr><td>FALSE</td><td>FALSE</td><td>FALSE</td><td>FALSE</td><td>FALSE</td><td>FALSE</td><td>FALSE</td><td>FALSE</td></tr>\n",
              "\t<tr><td>FALSE</td><td>FALSE</td><td>FALSE</td><td>FALSE</td><td>FALSE</td><td>FALSE</td><td>FALSE</td><td>FALSE</td></tr>\n",
              "\t<tr><td>FALSE</td><td>FALSE</td><td>FALSE</td><td>FALSE</td><td>FALSE</td><td>FALSE</td><td>FALSE</td><td>FALSE</td></tr>\n",
              "\t<tr><td>FALSE</td><td>FALSE</td><td>FALSE</td><td>FALSE</td><td>FALSE</td><td>FALSE</td><td>FALSE</td><td>FALSE</td></tr>\n",
              "\t<tr><td>FALSE</td><td>FALSE</td><td>FALSE</td><td>FALSE</td><td>FALSE</td><td>FALSE</td><td>FALSE</td><td>FALSE</td></tr>\n",
              "\t<tr><td>⋮</td><td>⋮</td><td>⋮</td><td>⋮</td><td>⋮</td><td>⋮</td><td>⋮</td><td>⋮</td></tr>\n",
              "\t<tr><td>FALSE</td><td>FALSE</td><td>FALSE</td><td>FALSE</td><td>FALSE</td><td>FALSE</td><td>FALSE</td><td>FALSE</td></tr>\n",
              "\t<tr><td>FALSE</td><td>FALSE</td><td>FALSE</td><td>FALSE</td><td>FALSE</td><td>FALSE</td><td>FALSE</td><td>FALSE</td></tr>\n",
              "\t<tr><td>FALSE</td><td>FALSE</td><td>FALSE</td><td>FALSE</td><td>FALSE</td><td>FALSE</td><td>FALSE</td><td>FALSE</td></tr>\n",
              "\t<tr><td>FALSE</td><td>FALSE</td><td>FALSE</td><td>FALSE</td><td>FALSE</td><td>FALSE</td><td>FALSE</td><td>FALSE</td></tr>\n",
              "\t<tr><td>FALSE</td><td>FALSE</td><td>FALSE</td><td>FALSE</td><td>FALSE</td><td>FALSE</td><td>FALSE</td><td>FALSE</td></tr>\n",
              "\t<tr><td>FALSE</td><td>FALSE</td><td>FALSE</td><td>FALSE</td><td>FALSE</td><td>FALSE</td><td>FALSE</td><td>FALSE</td></tr>\n",
              "\t<tr><td>FALSE</td><td>FALSE</td><td>FALSE</td><td>FALSE</td><td>FALSE</td><td>FALSE</td><td>FALSE</td><td>FALSE</td></tr>\n",
              "\t<tr><td>FALSE</td><td>FALSE</td><td>FALSE</td><td>FALSE</td><td>FALSE</td><td>FALSE</td><td>FALSE</td><td>FALSE</td></tr>\n",
              "\t<tr><td>FALSE</td><td>FALSE</td><td>FALSE</td><td>FALSE</td><td>FALSE</td><td>FALSE</td><td>FALSE</td><td>FALSE</td></tr>\n",
              "\t<tr><td>FALSE</td><td>FALSE</td><td>FALSE</td><td>FALSE</td><td>FALSE</td><td>FALSE</td><td>FALSE</td><td>FALSE</td></tr>\n",
              "\t<tr><td>FALSE</td><td>FALSE</td><td>FALSE</td><td>FALSE</td><td>FALSE</td><td>FALSE</td><td>FALSE</td><td>FALSE</td></tr>\n",
              "\t<tr><td>FALSE</td><td>FALSE</td><td>FALSE</td><td>FALSE</td><td>FALSE</td><td>FALSE</td><td>FALSE</td><td>FALSE</td></tr>\n",
              "\t<tr><td>FALSE</td><td>FALSE</td><td>FALSE</td><td>FALSE</td><td>FALSE</td><td>FALSE</td><td>FALSE</td><td>FALSE</td></tr>\n",
              "\t<tr><td>FALSE</td><td>FALSE</td><td>FALSE</td><td>FALSE</td><td>FALSE</td><td>FALSE</td><td>FALSE</td><td>FALSE</td></tr>\n",
              "\t<tr><td>FALSE</td><td>FALSE</td><td>FALSE</td><td>FALSE</td><td>FALSE</td><td>FALSE</td><td>FALSE</td><td>FALSE</td></tr>\n",
              "\t<tr><td>FALSE</td><td>FALSE</td><td>FALSE</td><td>FALSE</td><td>FALSE</td><td>FALSE</td><td>FALSE</td><td>FALSE</td></tr>\n",
              "\t<tr><td>FALSE</td><td>FALSE</td><td>FALSE</td><td>FALSE</td><td>FALSE</td><td>FALSE</td><td>FALSE</td><td>FALSE</td></tr>\n",
              "\t<tr><td>FALSE</td><td>FALSE</td><td>FALSE</td><td>FALSE</td><td>FALSE</td><td>FALSE</td><td>FALSE</td><td>FALSE</td></tr>\n",
              "\t<tr><td>FALSE</td><td>FALSE</td><td>FALSE</td><td>FALSE</td><td>FALSE</td><td>FALSE</td><td>FALSE</td><td>FALSE</td></tr>\n",
              "\t<tr><td>FALSE</td><td>FALSE</td><td>FALSE</td><td>FALSE</td><td>FALSE</td><td>FALSE</td><td>FALSE</td><td>FALSE</td></tr>\n",
              "\t<tr><td>FALSE</td><td>FALSE</td><td>FALSE</td><td>FALSE</td><td>FALSE</td><td>FALSE</td><td>FALSE</td><td>FALSE</td></tr>\n",
              "\t<tr><td>FALSE</td><td>FALSE</td><td>FALSE</td><td>FALSE</td><td>FALSE</td><td>FALSE</td><td>FALSE</td><td>FALSE</td></tr>\n",
              "\t<tr><td>FALSE</td><td>FALSE</td><td>FALSE</td><td>FALSE</td><td>FALSE</td><td>FALSE</td><td>FALSE</td><td>FALSE</td></tr>\n",
              "\t<tr><td>FALSE</td><td>FALSE</td><td>FALSE</td><td>FALSE</td><td>FALSE</td><td>FALSE</td><td>FALSE</td><td>FALSE</td></tr>\n",
              "\t<tr><td>FALSE</td><td>FALSE</td><td>FALSE</td><td>FALSE</td><td>FALSE</td><td>FALSE</td><td>FALSE</td><td>FALSE</td></tr>\n",
              "\t<tr><td>FALSE</td><td>FALSE</td><td>FALSE</td><td>FALSE</td><td>FALSE</td><td>FALSE</td><td>FALSE</td><td>FALSE</td></tr>\n",
              "\t<tr><td>FALSE</td><td>FALSE</td><td>FALSE</td><td>FALSE</td><td>FALSE</td><td>FALSE</td><td>FALSE</td><td>FALSE</td></tr>\n",
              "\t<tr><td>FALSE</td><td>FALSE</td><td>FALSE</td><td>FALSE</td><td>FALSE</td><td>FALSE</td><td>FALSE</td><td>FALSE</td></tr>\n",
              "\t<tr><td>FALSE</td><td>FALSE</td><td>FALSE</td><td>FALSE</td><td>FALSE</td><td>FALSE</td><td>FALSE</td><td>FALSE</td></tr>\n",
              "\t<tr><td>FALSE</td><td>FALSE</td><td>FALSE</td><td>FALSE</td><td>FALSE</td><td>FALSE</td><td>FALSE</td><td>FALSE</td></tr>\n",
              "</tbody>\n",
              "</table>\n"
            ]
          },
          "metadata": {}
        }
      ]
    },
    {
      "cell_type": "markdown",
      "metadata": {
        "id": "2062c520"
      },
      "source": [
        "### Visualise data distribution ### \n",
        "---\n",
        "\n",
        "In statistics, when you are preparing data for analysis, you must first check if your data is Gaussian or not (normally distributed). \n",
        "\n",
        "If data is normally distributed, it will have a bell curve and the spread of the data will tend to be small, with the mean centred in the data.\n",
        "\n",
        "The types of statistical test that are meaningful for the data depend on whether or not your data is normally distributed. \n",
        "\n",
        "To check for normality, lets first look at a histogram: \n",
        "\n",
        "**Using the ggplot2 package (similar to pythons Matplotlib):**\n",
        "\n",
        "```qplot(data$column, geom=\"histogram\") ```\n",
        "\n",
        "In R, `$` is used to specify the dataframe and target column so `data$age` would tell R to look at the age column - in Python pandas this would be ```df['age'] ```\n",
        "\n",
        "### Exercise 4 ###\n",
        "---\n",
        "\n",
        "Create histograms to check the distribution of each numeric column in your data (writing_score, reading_score, math_score)"
      ],
      "id": "2062c520"
    },
    {
      "cell_type": "code",
      "metadata": {
        "id": "55e6c624",
        "colab": {
          "base_uri": "https://localhost:8080/",
          "height": 1000
        },
        "outputId": "9fa75477-58f9-46a3-a62a-c8747d27631b"
      },
      "source": [
        "qplot(data$writing_score, geom=\"histogram\")\n",
        "qplot(data$reading_score, geom=\"histogram\")\n",
        "qplot(data$math_score, geom=\"histogram\")\n"
      ],
      "id": "55e6c624",
      "execution_count": 21,
      "outputs": [
        {
          "output_type": "stream",
          "name": "stderr",
          "text": [
            "`stat_bin()` using `bins = 30`. Pick better value with `binwidth`.\n",
            "\n",
            "`stat_bin()` using `bins = 30`. Pick better value with `binwidth`.\n",
            "\n"
          ]
        },
        {
          "output_type": "display_data",
          "data": {
            "image/png": "[encoded data removed]",
            "text/plain": [
              "plot without title"
            ]
          },
          "metadata": {
            "image/png": {
              "width": 420,
              "height": 420
            }
          }
        },
        {
          "output_type": "stream",
          "name": "stderr",
          "text": [
            "`stat_bin()` using `bins = 30`. Pick better value with `binwidth`.\n",
            "\n"
          ]
        },
        {
          "output_type": "display_data",
          "data": {
            "image/png": "[encoded data removed]",
            "text/plain": [
              "plot without title"
            ]
          },
          "metadata": {
            "image/png": {
              "width": 420,
              "height": 420
            }
          }
        },
        {
          "output_type": "display_data",
          "data": {
            "image/png": "[encoded data removed]",
            "text/plain": [
              "plot without title"
            ]
          },
          "metadata": {
            "image/png": {
              "width": 420,
              "height": 420
            }
          }
        }
      ]
    },
    {
      "cell_type": "markdown",
      "metadata": {
        "id": "a6345893"
      },
      "source": [
        "## What about data that isn't numeric?\n",
        "---\n",
        "\n",
        "A linear regression is essentially a mathematical formula, which finds 2 terms (the slope and intercept) and can use that to predict new values. \n",
        "\n",
        "Obviously you cannot do any calculations on words (such as male or female). Therefore, we need to 'dummy code' categorical values such as sex.\n",
        "\n",
        "When R does the mathematical equation for the regression, we do not want the new dummy codes to interfere with the calculation, to get around that, we code the data using 0 and 1. \n",
        "\n",
        "**There are many ways to dummy code your data, but to make things easy we are going to use a package!**\n",
        "\n",
        "``` df_dummy <- dummy_cols(data, select_columns = c('column1', 'column2', 'column3'), remove_first_dummy = TRUE, remove_selected_columns = TRUE) ```\n",
        "\n",
        "The above code sets the new dataframe in a variable called `df_dummy`, it then states which dataframe we mean, then in the brackets, you put the column names that you want dummy coded. \n",
        "\n",
        "```remove_selected_columns = TRUE``` tells R to delete the existing categorical data columns afterwards\n",
        "\n",
        "```remove_first_dummy = TRUE``` tells R to remove the first dummy column. dummy_cols will create one column for each categorical value in the original column (so the sex columns becomes 2 columns called sex_female and sex_male) So removing the first column would leave the column sex__male,  where 1 means male and 0 means female. Removing the first ethnicity column leaves the other 4 columns and any row that has 0 in all four columns can be assumed to be ethnicity A.  This is important as it stops multicollinearity in your model (your variables being too related to each other messing up the results). \n",
        "\n",
        "### Exercise 5 ###\n",
        "---\n",
        "\n",
        "Dummy code the categorical columns, removing the first dummy and the original columns. "
      ],
      "id": "a6345893"
    },
    {
      "cell_type": "code",
      "metadata": {
        "id": "3e7d7f63",
        "colab": {
          "base_uri": "https://localhost:8080/",
          "height": 788
        },
        "outputId": "a069927f-3351-4a10-cf26-a055dc374f79"
      },
      "source": [
        "df_dummy <- dummy_cols(data, select_columns = c('gender', 'ethnicity', 'lunch', 'parental_education', 'preparation_course'), remove_first_dummy = TRUE, remove_selected_columns = TRUE)\n",
        "summary(df_dummy)"
      ],
      "id": "3e7d7f63",
      "execution_count": 26,
      "outputs": [
        {
          "output_type": "display_data",
          "data": {
            "text/plain": [
              "   math_score     reading_score    writing_score     gender_male   \n",
              " Min.   : 13.00   Min.   : 16.00   Min.   : 12.00   Min.   :0.000  \n",
              " 1st Qu.: 57.00   1st Qu.: 60.00   1st Qu.: 58.00   1st Qu.:0.000  \n",
              " Median : 67.00   Median : 70.00   Median : 69.00   Median :1.000  \n",
              " Mean   : 66.86   Mean   : 69.72   Mean   : 68.58   Mean   :0.504  \n",
              " 3rd Qu.: 77.00   3rd Qu.: 80.00   3rd Qu.: 80.00   3rd Qu.:1.000  \n",
              " Max.   :100.00   Max.   :100.00   Max.   :100.00   Max.   :1.000  \n",
              " ethnicity_group B ethnicity_group C ethnicity_group D ethnicity_group E\n",
              " Min.   :0.000     Min.   :0.000     Min.   :0.000     Min.   :0.000    \n",
              " 1st Qu.:0.000     1st Qu.:0.000     1st Qu.:0.000     1st Qu.:0.000    \n",
              " Median :0.000     Median :0.000     Median :0.000     Median :0.000    \n",
              " Mean   :0.197     Mean   :0.313     Mean   :0.254     Mean   :0.154    \n",
              " 3rd Qu.:0.000     3rd Qu.:1.000     3rd Qu.:1.000     3rd Qu.:0.000    \n",
              " Max.   :1.000     Max.   :1.000     Max.   :1.000     Max.   :1.000    \n",
              " lunch_standard  parental_education_bachelor's degree\n",
              " Min.   :0.000   Min.   :0.00                        \n",
              " 1st Qu.:0.000   1st Qu.:0.00                        \n",
              " Median :1.000   Median :0.00                        \n",
              " Mean   :0.647   Mean   :0.11                        \n",
              " 3rd Qu.:1.000   3rd Qu.:0.00                        \n",
              " Max.   :1.000   Max.   :1.00                        \n",
              " parental_education_high school parental_education_master's degree\n",
              " Min.   :0.000                  Min.   :0.000                     \n",
              " 1st Qu.:0.000                  1st Qu.:0.000                     \n",
              " Median :0.000                  Median :0.000                     \n",
              " Mean   :0.195                  Mean   :0.076                     \n",
              " 3rd Qu.:0.000                  3rd Qu.:0.000                     \n",
              " Max.   :1.000                  Max.   :1.000                     \n",
              " parental_education_some college parental_education_some high school\n",
              " Min.   :0.000                   Min.   :0.000                      \n",
              " 1st Qu.:0.000                   1st Qu.:0.000                      \n",
              " Median :0.000                   Median :0.000                      \n",
              " Mean   :0.244                   Mean   :0.185                      \n",
              " 3rd Qu.:0.000                   3rd Qu.:0.000                      \n",
              " Max.   :1.000                   Max.   :1.000                      \n",
              " preparation_course_none\n",
              " Min.   :0.000          \n",
              " 1st Qu.:0.000          \n",
              " Median :1.000          \n",
              " Mean   :0.638          \n",
              " 3rd Qu.:1.000          \n",
              " Max.   :1.000          "
            ]
          },
          "metadata": {}
        }
      ]
    },
    {
      "cell_type": "markdown",
      "metadata": {
        "id": "634ad052"
      },
      "source": [
        "### We want to work out if all the independent variables (eg. gender, race, parents education) predict students exam peformance. ###\n",
        "---\n",
        "\n",
        "At the moment, writing, math and reading scores are seperated.   \n",
        "Lets make a new column with the total scores.   \n",
        "\n",
        "To do this we use the ``mutate()`` function \n",
        "\n",
        "``` new_df <- mutate(data, new_column = ....) ```\n",
        "\n",
        "eg: \n",
        "\n",
        "``` new_df <- mutate(data, new_column = column1 / column2) ```  \n",
        "``` new_df <- mutate(data, new_column = column1 + column2) ```  \n",
        "``` new_df <- mutate(data, new_column = column1 * 2) ```  \n",
        "\n",
        "etc..\n",
        "\n",
        "### Exercise 6 ###\n",
        "---\n",
        "\n",
        "Using the mutate function, create a new column called ```total_score``` which contains the sum of each students reading, writing and math scores. "
      ],
      "id": "634ad052"
    },
    {
      "cell_type": "code",
      "metadata": {
        "id": "cd02714d",
        "colab": {
          "base_uri": "https://localhost:8080/",
          "height": 788
        },
        "outputId": "a6ac36f7-6fae-4916-b99f-c73042a3c08e"
      },
      "source": [
        "new_df <- mutate(df_dummy, total_score = math_score + reading_score + writing_score)\n",
        "summary(new_df)"
      ],
      "id": "cd02714d",
      "execution_count": 28,
      "outputs": [
        {
          "output_type": "display_data",
          "data": {
            "text/plain": [
              "   math_score     reading_score    writing_score     gender_male   \n",
              " Min.   : 13.00   Min.   : 16.00   Min.   : 12.00   Min.   :0.000  \n",
              " 1st Qu.: 57.00   1st Qu.: 60.00   1st Qu.: 58.00   1st Qu.:0.000  \n",
              " Median : 67.00   Median : 70.00   Median : 69.00   Median :1.000  \n",
              " Mean   : 66.86   Mean   : 69.72   Mean   : 68.58   Mean   :0.504  \n",
              " 3rd Qu.: 77.00   3rd Qu.: 80.00   3rd Qu.: 80.00   3rd Qu.:1.000  \n",
              " Max.   :100.00   Max.   :100.00   Max.   :100.00   Max.   :1.000  \n",
              " ethnicity_group B ethnicity_group C ethnicity_group D ethnicity_group E\n",
              " Min.   :0.000     Min.   :0.000     Min.   :0.000     Min.   :0.000    \n",
              " 1st Qu.:0.000     1st Qu.:0.000     1st Qu.:0.000     1st Qu.:0.000    \n",
              " Median :0.000     Median :0.000     Median :0.000     Median :0.000    \n",
              " Mean   :0.197     Mean   :0.313     Mean   :0.254     Mean   :0.154    \n",
              " 3rd Qu.:0.000     3rd Qu.:1.000     3rd Qu.:1.000     3rd Qu.:0.000    \n",
              " Max.   :1.000     Max.   :1.000     Max.   :1.000     Max.   :1.000    \n",
              " lunch_standard  parental_education_bachelor's degree\n",
              " Min.   :0.000   Min.   :0.00                        \n",
              " 1st Qu.:0.000   1st Qu.:0.00                        \n",
              " Median :1.000   Median :0.00                        \n",
              " Mean   :0.647   Mean   :0.11                        \n",
              " 3rd Qu.:1.000   3rd Qu.:0.00                        \n",
              " Max.   :1.000   Max.   :1.00                        \n",
              " parental_education_high school parental_education_master's degree\n",
              " Min.   :0.000                  Min.   :0.000                     \n",
              " 1st Qu.:0.000                  1st Qu.:0.000                     \n",
              " Median :0.000                  Median :0.000                     \n",
              " Mean   :0.195                  Mean   :0.076                     \n",
              " 3rd Qu.:0.000                  3rd Qu.:0.000                     \n",
              " Max.   :1.000                  Max.   :1.000                     \n",
              " parental_education_some college parental_education_some high school\n",
              " Min.   :0.000                   Min.   :0.000                      \n",
              " 1st Qu.:0.000                   1st Qu.:0.000                      \n",
              " Median :0.000                   Median :0.000                      \n",
              " Mean   :0.244                   Mean   :0.185                      \n",
              " 3rd Qu.:0.000                   3rd Qu.:0.000                      \n",
              " Max.   :1.000                   Max.   :1.000                      \n",
              " preparation_course_none  total_score   \n",
              " Min.   :0.000           Min.   : 41.0  \n",
              " 1st Qu.:0.000           1st Qu.:175.0  \n",
              " Median :1.000           Median :208.0  \n",
              " Mean   :0.638           Mean   :205.2  \n",
              " 3rd Qu.:1.000           3rd Qu.:236.0  \n",
              " Max.   :1.000           Max.   :300.0  "
            ]
          },
          "metadata": {}
        }
      ]
    },
    {
      "cell_type": "markdown",
      "metadata": {
        "id": "5a5c2c36"
      },
      "source": [
        "### We are now ready to do our multiple linear regression ###\n",
        "---\n",
        "\n",
        "We are looking to find out using our dataset if we can predict student exam performance. \n",
        "\n",
        "Therefore, total_score is our dependent variable (DV) as it can be changed by the other variables \n",
        "\n",
        "Gender, ethnicity, parental_education, lunch and preparation_course are therefore our independent variables (IV) as they cannot be affected by students exam performance.   \n",
        "\n",
        "To do a linear regression, we are going to create a model that tests how significantly the IV's impact the DV.   \n",
        "\n",
        "```\n",
        "regression_model <- lm(DV ~ IV1 + IV2 + IV3..., data = df)\n",
        "summary(regression_model)\n",
        "```\n",
        "\n",
        "The above code does a very similar thing to stats.linregress in python! \n",
        "\n",
        "**Some of the new dummy variable names are seperated by spaces, so to include them enclose them in \\` ` (backtick)**\n",
        "\n",
        "eg. \\` ethnicity_group B `\n",
        "\n",
        "### Exercise 7 ###\n",
        "---\n",
        "Perform a linear regression using total_score as the DV and display the summary data \n"
      ],
      "id": "5a5c2c36"
    },
    {
      "cell_type": "code",
      "metadata": {
        "id": "54c682af",
        "colab": {
          "base_uri": "https://localhost:8080/",
          "height": 844
        },
        "outputId": "d000bb15-cb8a-4ee4-a408-b21d9580da75"
      },
      "source": [
        "regression_model <- lm(total_score ~ gender_male + `preparation_course_none` + `parental_education_high school` +`parental_education_some high school` + `parental_education_some college` + `parental_education_bachelor's degree` + `ethnicity_group B` + `ethnicity_group C` + `ethnicity_group D` + `ethnicity_group E` + lunch_standard , data = new_df)\n",
        "summary(regression_model)"
      ],
      "id": "54c682af",
      "execution_count": 34,
      "outputs": [
        {
          "output_type": "display_data",
          "data": {
            "text/plain": [
              "\n",
              "Call:\n",
              "lm(formula = total_score ~ gender_male + preparation_course_none + \n",
              "    `parental_education_high school` + `parental_education_some high school` + \n",
              "    `parental_education_some college` + `parental_education_bachelor's degree` + \n",
              "    `ethnicity_group B` + `ethnicity_group C` + `ethnicity_group D` + \n",
              "    `ethnicity_group E` + lunch_standard, data = new_df)\n",
              "\n",
              "Residuals:\n",
              "     Min       1Q   Median       3Q      Max \n",
              "-162.868  -25.035   -0.295   25.802   80.869 \n",
              "\n",
              "Coefficients:\n",
              "                                       Estimate Std. Error t value\n",
              "(Intercept)                            211.9306     5.2846  40.103\n",
              "gender_male                            -13.2878     2.3568  -5.638\n",
              "preparation_course_none                -20.8883     2.4534  -8.514\n",
              "`parental_education_high school`       -13.0856     3.5214  -3.716\n",
              "`parental_education_some high school`  -23.7394     3.5689  -6.652\n",
              "`parental_education_some college`       -8.6097     3.3094  -2.602\n",
              "`parental_education_bachelor's degree`   0.7456     4.2200   0.177\n",
              "`ethnicity_group B`                     -6.1861     4.9063  -1.261\n",
              "`ethnicity_group C`                     -1.6230     4.6203  -0.351\n",
              "`ethnicity_group D`                      9.4599     4.7366   1.997\n",
              "`ethnicity_group E`                     24.5406     5.0919   4.820\n",
              "lunch_standard                          27.4513     2.4619  11.150\n",
              "                                                   Pr(>|t|)    \n",
              "(Intercept)                            < 0.0000000000000002 ***\n",
              "gender_male                                 0.0000000224394 ***\n",
              "preparation_course_none                < 0.0000000000000002 ***\n",
              "`parental_education_high school`                   0.000214 ***\n",
              "`parental_education_some high school`       0.0000000000479 ***\n",
              "`parental_education_some college`                  0.009418 ** \n",
              "`parental_education_bachelor's degree`             0.859787    \n",
              "`ethnicity_group B`                                0.207660    \n",
              "`ethnicity_group C`                                0.725448    \n",
              "`ethnicity_group D`                                0.046078 *  \n",
              "`ethnicity_group E`                         0.0000016648007 ***\n",
              "lunch_standard                         < 0.0000000000000002 ***\n",
              "---\n",
              "Signif. codes:  0 ‘***’ 0.001 ‘**’ 0.01 ‘*’ 0.05 ‘.’ 0.1 ‘ ’ 1\n",
              "\n",
              "Residual standard error: 37.16 on 988 degrees of freedom\n",
              "Multiple R-squared:  0.2701,\tAdjusted R-squared:  0.262 \n",
              "F-statistic: 33.24 on 11 and 988 DF,  p-value: < 0.00000000000000022\n"
            ]
          },
          "metadata": {}
        }
      ]
    },
    {
      "cell_type": "markdown",
      "metadata": {
        "id": "39a48f86"
      },
      "source": [
        "### Lets understand the output ### \n",
        "---\n",
        "\n",
        "**Statistical significance**\n",
        "\n",
        "If something is statistically significant it means that the probability that the hypothesis (the thing your asking) is true/correct, is very very high aka less than 5% chance that the effect on the DV is random. \n",
        "\n",
        "So when reading a regression output, if the p-value (the right hand column) is less than 0.05 then it means it is significant, and more than 95% likely to be affecting the DV. \n",
        "\n",
        "In R, *'s are used to indicate which variables are significantly predicting the dependent variable. \n",
        "\n",
        "**The regression equation** \n",
        "\n",
        "The equation for a line of best fit is y = mx + c or y = slope*x + intercept. \n",
        "\n",
        "y = dependent variable\n",
        "x = independent variable\n",
        "\n",
        "In a multiple linear regression, we have multiple x. \n",
        "\n",
        "The equation is therefore:\n",
        "\n",
        "```y = intercept + slope1*x1 + slope2*x2... ```\n",
        "\n",
        "Each x (IV) has its own slope. \n",
        "\n",
        "**Coefficents (slope)**\n",
        "\n",
        "The estimates column lists all the regression coefficents (slopes) for each variable. What these mean in simple terms is how much the dependent variable is increased or decreased by that variable. These only matter however, if the variable is significant.   \n",
        "\n",
        "So for example, if gender_male was significant (p-value < 0.05) and had a positive coefficent, it would mean that male students were performing significantly better in their exams than female students. Therefore, gender predicted exam performance. A negative coefficent would mean that the score is less for males or rather more for females. \n",
        "\n",
        "**R squared**\n",
        "\n",
        "R^2 is how well your variables explain the variance in value of the dependent variable. So the higher the R^2 value, the better your model explains the change in value of your dependent variable. \n",
        "\n",
        "A low R^2 doesnt necessarily mean that your model is bad, but indicates that the variables in your dataset are not telling the whole story! \n",
        "\n",
        "For example, a R^2 of 0.50 would mean that your data only explains 50% of the change in scores between each student. \n",
        "\n",
        "Essentially it tells you how well your model fits the data. \n",
        "\n",
        "\n",
        "**F-Statistic**\n",
        "\n",
        "It shows results of a complex mathematical formula. But we only need to worry about it's significance! If your F statistic is significant ( p-value < 0.05), it means that when compared with a model which does not have any of the independent variables in it, your model is better. \n",
        "\n",
        "\n",
        "### Exercise 8 ###\n",
        "---\n",
        "\n",
        "Read the regression output and write some comments on the findings. \n",
        "Try to note which variables are significant, and evaluate how well the variables explain student performance. \n"
      ],
      "id": "39a48f86"
    },
    {
      "cell_type": "markdown",
      "source": [
        "\n",
        "**My Findings:**\n",
        "1. Gender is significant in the results. Specifically, the male gender has a negative slope and hence the males are likely to have lower total scores than the females.\n",
        "2. The preparation course had a significant effect on the total scores. The slope was negative for those who DIDN'T take the course, therefore those who did take the course scored higher in their exams.\n",
        "3. Parental Education levels of some or high school finishers were significant factors on the total scores. Both were negative slopes however, which leads me to think they negatively effected the scores perhaps because their parents didn't value academic advancement as highly as those with a higher education.(?)\n",
        "4. Some college education was also significant but also in a negative way. I'm not sure why that would be but again could be those parents didn't push their children as much to perform in exams. Those with Bachelors or higher degrees had positive slopes however their impact wasn't considered significant in the results (could this be because there were too few data points for this?!)\n",
        "5. The lunch standard value was also significant and in a positive way, however that means those on free school dinners did NOT perform as well as the others when it came to results.\n",
        "6. Ethnicity groups D and E both have significance and in postive directions. However, not knowing what those groups are make it very difficult to make any inferences from this data.\n",
        "\n"
      ],
      "metadata": {
        "id": "SAPWYZcwCEnA"
      },
      "id": "SAPWYZcwCEnA"
    },
    {
      "cell_type": "markdown",
      "metadata": {
        "id": "e23d1213"
      },
      "source": [
        "### Assumptions ###\n",
        "---\n",
        "\n",
        "Thinking back to the 'testing for normality' worksheet...\n",
        "\n",
        "When we do linear regressions we have to assume that our data is guassian (normally distributed). We therefore now need to test that our assumptions of normality are true and that our model is therefore meaningful. \n",
        "\n",
        "1. linearity :\n",
        "\n",
        "``` plot(model, 1) ```\n",
        "\n",
        "A largely horizontal line at about 0 means that our data has good linearity, meaning our model is good!\n",
        "\n",
        "2. Q-Q plot or P-P plot: \n",
        "\n",
        "``` plot(model, 2) ```\n",
        "\n",
        "The points following a straightish diagonal line means that again we have good normality. \n",
        "\n",
        "\n",
        "### Exercise 9 ###\n",
        "---\n",
        "\n",
        "Check both the assumptions of your model and write a comment with your findings"
      ],
      "id": "e23d1213"
    },
    {
      "cell_type": "code",
      "metadata": {
        "id": "4d1f4186"
      },
      "source": [
        ""
      ],
      "id": "4d1f4186",
      "execution_count": null,
      "outputs": []
    },
    {
      "cell_type": "markdown",
      "metadata": {
        "id": "ZwGSPCR_Dwud"
      },
      "source": [
        "# Exploring the data\n",
        "---\n",
        "\n",
        "In the previous exercises, we only looked at the effect on `total score`. Now that we know that some of our variables did significantly predict student exam scores let's explore it in more detail. \n",
        "\n",
        "### Exercise 10\n",
        "---\n",
        "\n",
        "* Run a regression called `write_mod` using `writing_score` as the DV \n",
        "* Run a regression called `read_mod` using `reading_score` as the DV\n",
        "* Run a regression called `math_mod` using `math_score` as the DV \n",
        "* Compare the results with the model from exercise 7 and comment your findings\n",
        "* Compare the results of each model with each other. What inferences can you \n",
        "make?\n",
        "* Look at the difference in coefficents of significant variables between models - what does it tell you?\n"
      ],
      "id": "ZwGSPCR_Dwud"
    },
    {
      "cell_type": "code",
      "metadata": {
        "id": "nbBN0RoUJQww"
      },
      "source": [
        ""
      ],
      "id": "nbBN0RoUJQww",
      "execution_count": null,
      "outputs": []
    },
    {
      "cell_type": "markdown",
      "metadata": {
        "id": "JgibNCXnKvHE"
      },
      "source": [
        "# Reflection\n",
        "----\n",
        "\n",
        "## What skills have you demonstrated in completing this notebook?"
      ],
      "id": "JgibNCXnKvHE"
    },
    {
      "cell_type": "markdown",
      "metadata": {
        "id": "PWZ6NctwKv88"
      },
      "source": [
        "Your answer:"
      ],
      "id": "PWZ6NctwKv88"
    },
    {
      "cell_type": "markdown",
      "metadata": {
        "id": "Y4SWfDOCKz34"
      },
      "source": [
        "## What caused you the most difficulty?"
      ],
      "id": "Y4SWfDOCKz34"
    },
    {
      "cell_type": "markdown",
      "metadata": {
        "id": "Y84WximLK0gL"
      },
      "source": [
        "Your answer:"
      ],
      "id": "Y84WximLK0gL"
    }
  ]
}