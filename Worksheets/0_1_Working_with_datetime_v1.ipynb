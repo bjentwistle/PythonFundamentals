{
  "nbformat": 4,
  "nbformat_minor": 0,
  "metadata": {
    "colab": {
      "name": "0.1 Working with datetime_v1.ipynb",
      "provenance": [],
      "collapsed_sections": [],
      "include_colab_link": true
    },
    "kernelspec": {
      "name": "python3",
      "display_name": "Python 3"
    },
    "language_info": {
      "name": "python"
    }
  },
  "cells": [
    {
      "cell_type": "markdown",
      "metadata": {
        "id": "view-in-github",
        "colab_type": "text"
      },
      "source": [
        "<a href=\"https://colab.research.google.com/github/bjentwistle/PythonFundamentals/blob/main/Worksheets/0_1_Working_with_datetime_v1.ipynb\" target=\"_parent\"><img src=\"https://colab.research.google.com/assets/colab-badge.svg\" alt=\"Open In Colab\"/></a>"
      ]
    },
    {
      "cell_type": "markdown",
      "metadata": {
        "id": "7iQyKP-SQiw1"
      },
      "source": [
        "# User-defined functions using datetime library\n",
        "\n",
        "---\n"
      ]
    },
    {
      "cell_type": "markdown",
      "metadata": {
        "id": "Vi93h5I4QnKs"
      },
      "source": [
        "When working with dates and times, fairly common in data sets, we need to be able to extract certain bits of information.  \n",
        "\n",
        "In Python, as with other languages, dates and times are stored in a data structure that combines the two together and stores the information as a number of seconds since a start point (often 1st January 1900).  This is obviously a large number but every bit of information about a date can be extracted from it and used to give a wide range of information.  \n",
        "\n",
        "Have a go at the exercises below to use a selection of datetime functions and return a new bit of data from each, to be printed by the caller.\n",
        "\n",
        "Before you can use datetime functions you will need to import them. Import the datetime functions like this:\n",
        "\n",
        "`from datetime import datetime`  \n",
        "\n",
        "\n",
        "For more information about datetime functions visit [w3Schools-Python datetime](https://www.w3schools.com/python/python_datetime.asp) and [Python docs](https://docs.python.org/3/library/datetime.html)"
      ]
    },
    {
      "cell_type": "markdown",
      "metadata": {
        "id": "MIDLi7CNR034"
      },
      "source": [
        "---\n",
        "### Exercise 1 - getting the current date and time\n",
        "\n",
        "Write a function called **get_datetime_now()** that will `return` the date and time now. \n",
        "\n",
        "*Hint:  the format has been added for you, the other exercises will follow a similar format.   Always remember to import datetime from datetime as shown below*"
      ]
    },
    {
      "cell_type": "code",
      "metadata": {
        "id": "gS6GJdXbQfHp",
        "colab": {
          "base_uri": "https://localhost:8080/"
        },
        "outputId": "8a04f3cf-b536-4db2-9f63-dd762e644542"
      },
      "source": [
        "from datetime import datetime, timezone\n",
        "\n",
        "def get_datetime_now():\n",
        "  # add code below to get the date and time right now \n",
        "  current_datetime = datetime.now()\n",
        "  print(current_datetime)\n",
        "\n",
        "  return current_datetime\n",
        "\n",
        "\n",
        "# This code will run and test if current date is being returned\n",
        "actual = get_datetime_now().strftime('%Y-%m-%d')\n",
        "expected = datetime.now(timezone.utc).strftime('%Y-%m-%d')\n",
        "\n",
        "if actual == expected:\n",
        "  print(\"Test passed\", actual)\n",
        "else:\n",
        "  print(\"Test failed expected\", expected, \"got\", actual)\n",
        "\n"
      ],
      "execution_count": 1,
      "outputs": [
        {
          "output_type": "stream",
          "name": "stdout",
          "text": [
            "2022-01-23 21:30:01.031297\n",
            "Test passed 2022-01-23\n"
          ]
        }
      ]
    },
    {
      "cell_type": "markdown",
      "metadata": {
        "id": "Yy24sL0bUtpF"
      },
      "source": [
        "\n",
        "###Exercise 2 - getting the current year\n",
        "---\n",
        "\n",
        "Write a function called **get_current_year()** that will `return` the current year. "
      ]
    },
    {
      "cell_type": "code",
      "metadata": {
        "id": "YqlQqPIqUtyr",
        "colab": {
          "base_uri": "https://localhost:8080/"
        },
        "outputId": "639c4c3a-946d-4e0b-e99b-bbed5821cb21"
      },
      "source": [
        "def get_current_year():\n",
        "  # add code below to get the current year\n",
        "  current_date = datetime.now()\n",
        "  current_year = current_date.year\n",
        "  return current_year\n",
        "\n",
        "\n",
        "# This code will run the function and test whether the current year is being returned \n",
        "actual = get_current_year()\n",
        "expected = datetime.now(timezone.utc).strftime('%Y')\n",
        "\n",
        "if actual == expected:\n",
        "  print(\"Test passed\", actual)\n",
        "else:\n",
        "  print(\"Test failed expected\", expected, \"got\", actual)"
      ],
      "execution_count": 2,
      "outputs": [
        {
          "output_type": "stream",
          "name": "stdout",
          "text": [
            "Test failed expected 2022 got 2022\n"
          ]
        }
      ]
    },
    {
      "cell_type": "markdown",
      "metadata": {
        "id": "FzSVCaJKV1O1"
      },
      "source": [
        "---\n",
        "### Exercise 3 - print the current day of the week\n",
        "\n",
        "Write a function called **get_current_day()** that will `return` the current day of the week."
      ]
    },
    {
      "cell_type": "code",
      "metadata": {
        "id": "OP4ZIXBWV1Yj",
        "colab": {
          "base_uri": "https://localhost:8080/"
        },
        "outputId": "fab211ba-bc33-464a-c2c7-a42cc44bd029"
      },
      "source": [
        "def get_current_day():\n",
        "  # add code to return the current day of the week \n",
        "  current_date = datetime.now()\n",
        "  current_day = current_date.strftime(\"%A\")\n",
        "\n",
        "  return current_day\n",
        "\n",
        "\n",
        "# run and test to see if current day is being returned\n",
        "\n",
        "actual = get_current_day()\n",
        "expected = datetime.now(timezone.utc).strftime('%A')\n",
        "\n",
        "\n",
        "if actual == expected:\n",
        "  print(\"Test passed\", actual)\n",
        "else:\n",
        "  print(\"Test failed expected\", expected, \"got\", actual)"
      ],
      "execution_count": 3,
      "outputs": [
        {
          "output_type": "stream",
          "name": "stdout",
          "text": [
            "Test passed Sunday\n"
          ]
        }
      ]
    },
    {
      "cell_type": "markdown",
      "metadata": {
        "id": "a8euCtdmWIDE"
      },
      "source": [
        "---\n",
        "### Exercise 4 - create a new date\n",
        "\n",
        "Write a function called **create_new_date()** that will take 3 parameters, year, month, day (3 numbers that make a valid date) and will create, and `return` a new date. "
      ]
    },
    {
      "cell_type": "code",
      "metadata": {
        "id": "FbOFnTwnWILN",
        "colab": {
          "base_uri": "https://localhost:8080/"
        },
        "outputId": "7e13cf4e-1878-460e-b9b4-461639ef31fb"
      },
      "source": [
        "def create_new_date(year, month, day):\n",
        "  # add code below to return a datetime date using the given parameters\n",
        "   created_date = datetime(year, month, day)\n",
        "\n",
        "   return created_date\n",
        "\n",
        "\n",
        "# run and test if returned date is in datetime format\n",
        "\n",
        "if isinstance(create_new_date(2021, 12, 12), datetime) == True:\n",
        "  print(\"Test passed\")\n",
        "else:\n",
        "  print(\"Test failed, expected datetime object\")"
      ],
      "execution_count": 4,
      "outputs": [
        {
          "output_type": "stream",
          "name": "stdout",
          "text": [
            "Test passed\n"
          ]
        }
      ]
    },
    {
      "cell_type": "markdown",
      "metadata": {
        "id": "f5SKVuE0WfcE"
      },
      "source": [
        "---\n",
        "### Exercise 5 - create a valid date\n",
        "\n",
        "Write a function called **create_valid_date():** that will take 3 parameters, year, month, day (3 numbers) and will:  \n",
        "*   check that the month is between 1 and 12  \n",
        "*   check that the day is valid for the month (e.g. if the month is 2, then the day must be between 1 and 28 (don't worry about leap years for the moment)  \n",
        "*   if the date is not valid, print an error message and `return` None \n",
        "*   if the date is valid, store it in a new variable, `return` the variable "
      ]
    },
    {
      "cell_type": "code",
      "source": [
        "#Self testing code box\n",
        "\n",
        "from datetime import datetime\n",
        "\n",
        "def create_valid_date(year, month, day):\n",
        "  # add code below to do as explained above\n",
        "  created_date = datetime(year, month, day)\n",
        "  if month == 2 and day >= 1 and day <= 28:\n",
        "    return created_date\n",
        "  if (month == 1 or month == 3 or month == 5 or month == 7 or month == 8 or month == 10 or month == 12) and (day >= 1 and day <= 31):\n",
        "      return created_date\n",
        "  if (month == 4 or month == 6 or month == 9 or month == 11 ) and (day >= 1 and day <= 33):\n",
        "      return created_date\n",
        "  else:\n",
        "    return(\"failed\")\n",
        "\n",
        "create_valid_date(2021, 1, 23)"
      ],
      "metadata": {
        "colab": {
          "base_uri": "https://localhost:8080/"
        },
        "id": "csE00QhStinf",
        "outputId": "ee692ff6-7487-44f8-f534-1e919c2913b2"
      },
      "execution_count": 5,
      "outputs": [
        {
          "output_type": "execute_result",
          "data": {
            "text/plain": [
              "datetime.datetime(2021, 1, 23, 0, 0)"
            ]
          },
          "metadata": {},
          "execution_count": 5
        }
      ]
    },
    {
      "cell_type": "code",
      "metadata": {
        "id": "gclt-f9-XfdG",
        "colab": {
          "base_uri": "https://localhost:8080/",
          "height": 246
        },
        "outputId": "14e88e77-217c-4761-c667-9f72e6234d2c"
      },
      "source": [
        "from datetime import datetime\n",
        "\n",
        "def create_valid_date(year, month, day):\n",
        "  # add code below to do as explained above\n",
        "  created_date = datetime(year, month, day)\n",
        "  if month == 2 and day >= 1 and day <= 28:\n",
        "    return created_date\n",
        "  if (month == 1 or month == 3 or month == 5 or month == 7 or month == 8 or month == 10 or month == 12) and (day >= 1 and day <= 31):\n",
        "      return created_date\n",
        "  if (month == 4 or month == 6 or month == 9 or month == 11 ) and (day >= 1 and day <= 33):\n",
        "      return created_date\n",
        "  else:\n",
        "    return None\n",
        "\n",
        "\n",
        "# run and test if your code is correctly validating dates\n",
        "actual = create_valid_date()\n",
        "if create_valid_date(2021, 14, 12) == None:\n",
        "  print('Test 1 passed, expected None got None')\n",
        "else:\n",
        "  print(\"Test 1 failed expected None got\", create_valid_date(2021, 14, 12))\n",
        "\n",
        "if print(create_valid_date(2021, 2, 31)) == None:\n",
        "  print('Test 1 passed, expected None got None')\n",
        "else:\n",
        "  print(\"Test 1 failed expected None got\", create_valid_date(2021, 2, 31))\n",
        "\n",
        "if isinstance(create_valid_date(2021, 7, 31), datetime) == True:\n",
        "  print('Test 1 passed, expected datetime object got datetime object')\n",
        "else:\n",
        "  print(\"Test 1 failed expected datetime object got\", create_valid_date(2021, 7 , 31))\n"
      ],
      "execution_count": 12,
      "outputs": [
        {
          "output_type": "error",
          "ename": "TypeError",
          "evalue": "ignored",
          "traceback": [
            "\u001b[0;31m---------------------------------------------------------------------------\u001b[0m",
            "\u001b[0;31mTypeError\u001b[0m                                 Traceback (most recent call last)",
            "\u001b[0;32m<ipython-input-12-5f6fd544abbf>\u001b[0m in \u001b[0;36m<module>\u001b[0;34m()\u001b[0m\n\u001b[1;32m     15\u001b[0m \u001b[0;34m\u001b[0m\u001b[0m\n\u001b[1;32m     16\u001b[0m \u001b[0;31m# run and test if your code is correctly validating dates\u001b[0m\u001b[0;34m\u001b[0m\u001b[0;34m\u001b[0m\u001b[0;34m\u001b[0m\u001b[0m\n\u001b[0;32m---> 17\u001b[0;31m \u001b[0mcreate_valid_date\u001b[0m\u001b[0;34m(\u001b[0m\u001b[0;34m)\u001b[0m\u001b[0;34m\u001b[0m\u001b[0;34m\u001b[0m\u001b[0m\n\u001b[0m\u001b[1;32m     18\u001b[0m \u001b[0;32mif\u001b[0m \u001b[0mcreate_valid_date\u001b[0m\u001b[0;34m(\u001b[0m\u001b[0;36m2021\u001b[0m\u001b[0;34m,\u001b[0m \u001b[0;36m14\u001b[0m\u001b[0;34m,\u001b[0m \u001b[0;36m12\u001b[0m\u001b[0;34m)\u001b[0m \u001b[0;34m==\u001b[0m \u001b[0;32mNone\u001b[0m\u001b[0;34m:\u001b[0m\u001b[0;34m\u001b[0m\u001b[0;34m\u001b[0m\u001b[0m\n\u001b[1;32m     19\u001b[0m   \u001b[0mprint\u001b[0m\u001b[0;34m(\u001b[0m\u001b[0;34m'Test 1 passed, expected None got None'\u001b[0m\u001b[0;34m)\u001b[0m\u001b[0;34m\u001b[0m\u001b[0;34m\u001b[0m\u001b[0m\n",
            "\u001b[0;31mTypeError\u001b[0m: create_valid_date() missing 3 required positional arguments: 'year', 'month', and 'day'"
          ]
        }
      ]
    },
    {
      "cell_type": "markdown",
      "metadata": {
        "id": "js7fy2HWXfm2"
      },
      "source": [
        "---\n",
        "### Exercise 6 - is it a leap year?\n",
        "\n",
        "Write a function called **is_leap_year()** that will take a date as a single tuple as a parameter and will determine if it is a leap year and `return` True or False.\n",
        "\n",
        "*Hint:  a leap year is a year that is divisible by 4 but the centuries (1900, 2000, etc are only leap years if they are divisible by 400)*"
      ]
    },
    {
      "cell_type": "code",
      "metadata": {
        "id": "KY1jtf3lX_ps",
        "colab": {
          "base_uri": "https://localhost:8080/"
        },
        "outputId": "f3ceef50-291d-4f7d-ca1c-df00edbd3895"
      },
      "source": [
        "def is_leap_year(date_to_check):\n",
        "  # add your code below to check if date is a leap year\n",
        "  created_date = datetime(date_to_check[0], date_to_check[1], date_to_check[2])\n",
        "  year = created_date.year\n",
        "  if  year % 400 == 0:\n",
        "    return True\n",
        "  elif year % 100 == 0:\n",
        "    return False\n",
        "  elif year % 4 == 0:\n",
        "    return True\n",
        "  else:\n",
        "    return False\n",
        "\n",
        "\n",
        "# run code below to test if your function is correctly identifying leap years \n",
        "if is_leap_year((1996, 12, 15)) == True:\n",
        "  print(\"Test 1 passed expected True got\", is_leap_year((1996, 12, 15)))\n",
        "else:\n",
        "  print(\"Test failed expected True got\", is_leap_year((1996, 12, 15)))\n",
        "\n",
        "if is_leap_year((2020, 1, 2)) == True:\n",
        "  print(\"Test 2 passed expected True got\", is_leap_year((2020, 1, 2)))\n",
        "else:\n",
        "  print(\"Test failed expected True got\", is_leap_year((2020, 1, 2)))\n",
        "\n",
        "if is_leap_year((2021, 11, 17)) == False:\n",
        "  print(\"Test 2 passed expected False got\", is_leap_year((2021, 11, 17)))\n",
        "else:\n",
        "  print(\"Test failed expected False got\", is_leap_year((2021, 11, 17)))\n",
        "\n",
        "if is_leap_year((1900, 3, 1)) == False:\n",
        "  print(\"Test 2 passed expected False got\", is_leap_year((1900, 3, 1)))\n",
        "else:\n",
        "  print(\"Test failed expected False got\", is_leap_year((1900, 3, 1)))"
      ],
      "execution_count": 9,
      "outputs": [
        {
          "output_type": "stream",
          "name": "stdout",
          "text": [
            "Test 1 passed expected True got True\n",
            "Test 2 passed expected True got True\n",
            "Test 2 passed expected False got False\n",
            "Test 2 passed expected False got False\n"
          ]
        }
      ]
    },
    {
      "cell_type": "markdown",
      "metadata": {
        "id": "9BuRDi08YAO0"
      },
      "source": [
        "---\n",
        "### Exercise 7 - display parts of date/time\n",
        "\n",
        "Write a function called **get_datetime_parts()** that will take a date and `return` the following:  \n",
        "*  given date and time  \n",
        "*  year (in full) \n",
        "*  month (as a number) \n",
        "*  month name \n",
        "*  week number of the year  \n",
        "*  weekday of the week (as a number)  \n",
        "*  number day of year  \n",
        "*  number day of the month  \n",
        "*  weekday (as a name)  \n",
        "\n",
        "*Hint:  see w3Schools for [strftime reference](https://www.w3schools.com/python/python_datetime.asp)*\n",
        "\n"
      ]
    },
    {
      "cell_type": "code",
      "metadata": {
        "id": "zl-37Ez9ahym",
        "colab": {
          "base_uri": "https://localhost:8080/"
        },
        "outputId": "61842401-8125-4a89-e972-b31f6fd5f2eb"
      },
      "source": [
        "def get_datetime_parts(year, month, day):\n",
        "  # create the returned variables below, adding code for each bullet point \n",
        "  given_date = datetime(year, month, day)\n",
        "  year = given_date.year\n",
        "  num_month = given_date.strftime(\"%m\")\n",
        "  str_month = given_date.strftime(\"%B\")\n",
        "  week_num = given_date.strftime(\"%W\")\n",
        "  weekday_num = given_date.strftime(\"%w\")\n",
        "  day_of_year = given_date.strftime(\"%j\")\n",
        "  day_of_month = given_date.strftime(\"%d\")\n",
        "  weekday = given_date.strftime(\"%A\")\n",
        "\n",
        "  return given_date , year, num_month, str_month, week_num, weekday_num, day_of_year, day_of_month, weekday\n",
        "\n",
        "# Run test below to check answers for date 1997/06/02\n",
        "actual = get_datetime_parts(1997, 6, 2)\n",
        "expected = (datetime(1997, 6, 2, 0, 0), '1997','06','June','22', '1','153','06','Monday')\n",
        "\n",
        "\n",
        "if actual == expected:\n",
        "  print(\"Test passed\", actual)\n",
        "else:\n",
        "  print(\"Test failed expected\", expected, \"got\", actual)\n"
      ],
      "execution_count": 11,
      "outputs": [
        {
          "output_type": "stream",
          "name": "stdout",
          "text": [
            "Test failed expected (datetime.datetime(1997, 6, 2, 0, 0), '1997', '06', 'June', '22', '1', '153', '06', 'Monday') got (datetime.datetime(1997, 6, 2, 0, 0), 1997, '06', 'June', '22', '1', '153', '02', 'Monday')\n"
          ]
        }
      ]
    },
    {
      "cell_type": "markdown",
      "metadata": {
        "id": "_rpTIoSDaiBj"
      },
      "source": [
        "---\n",
        "### Exercise 8 - next 6 days\n",
        "\n",
        "Write a function called **get_next_six()** that will take a date and generate the dates of the following 6 days.  It should `append` each of the 6 days to a list and `return` the list:\n",
        "\n",
        "The days should be in the form:\n",
        "\n",
        "NUMBER DAY OF THE WEEK, MONTH NAME, FULL YEAR\n",
        "\n",
        "Hint:  to generate the days, use the function datetime.timedelta(), there is a good example of its use [here](https://www.geeksforgeeks.org/python-datetime-timedelta-function/)  "
      ]
    },
    {
      "cell_type": "code",
      "metadata": {
        "id": "1d-oXqLLb0vX",
        "colab": {
          "base_uri": "https://localhost:8080/"
        },
        "outputId": "a64fa1a8-ae14-4961-dbdd-16416ff0a654"
      },
      "source": [
        "from datetime import timedelta\n",
        "\n",
        "def get_next_six(year, month, day):\n",
        "  # add code to return a list of the dates of the following 6 days  \n",
        "  input_date = datetime(year,month,day)\n",
        "  next_six_days = [str(input_date)]\n",
        " \n",
        "  for i in range (1,7):\n",
        "    next_days = (input_date + timedelta(days = i))\n",
        "    next_six_days.append(str(next_days))\n",
        "    i+=i\n",
        "    \n",
        "  return next_six_days\n",
        "\n",
        "\n",
        "# run and test if 6 correct dates are generated \n",
        "\n",
        "actual = get_next_six(2021, 7, 31)\n",
        "expected = ['01, August, 2021', '02, August, 2021', '03, August, 2021', '04, August, 2021', '05, August, 2021', '06, August, 2021']\n",
        "\n",
        "if actual == expected:\n",
        "  print(\"Test passed\", actual)\n",
        "else:\n",
        "  print(\"Test failed expected\", expected, \"got\", actual)"
      ],
      "execution_count": 47,
      "outputs": [
        {
          "output_type": "stream",
          "name": "stdout",
          "text": [
            "Test failed expected ['01, August, 2021', '02, August, 2021', '03, August, 2021', '04, August, 2021', '05, August, 2021', '06, August, 2021'] got ['2021-07-31 00:00:00', '2021-08-01 00:00:00', '2021-08-02 00:00:00', '2021-08-03 00:00:00', '2021-08-04 00:00:00', '2021-08-05 00:00:00', '2021-08-06 00:00:00']\n"
          ]
        }
      ]
    },
    {
      "cell_type": "markdown",
      "metadata": {
        "id": "pQV2NO8umBSk"
      },
      "source": [
        "# Reflection\n",
        "----\n",
        "\n",
        "## What skills have you demonstrated in completing this notebook?"
      ]
    },
    {
      "cell_type": "markdown",
      "metadata": {
        "id": "NUVvt2r0mCKq"
      },
      "source": [
        "Your answer:"
      ]
    },
    {
      "cell_type": "markdown",
      "metadata": {
        "id": "SOrbWOuFmObq"
      },
      "source": [
        "## What caused you the most difficulty?"
      ]
    },
    {
      "cell_type": "markdown",
      "metadata": {
        "id": "G_eGng1GmO78"
      },
      "source": [
        "Your answer:"
      ]
    }
  ]
}