{
  "nbformat": 4,
  "nbformat_minor": 0,
  "metadata": {
    "colab": {
      "name": "5. numpy.ipynb",
      "provenance": [],
      "collapsed_sections": [],
      "include_colab_link": true
    },
    "kernelspec": {
      "name": "python3",
      "display_name": "Python 3"
    },
    "language_info": {
      "name": "python"
    }
  },
  "cells": [
    {
      "cell_type": "markdown",
      "metadata": {
        "id": "view-in-github",
        "colab_type": "text"
      },
      "source": [
        "<a href=\"https://colab.research.google.com/github/bjentwistle/PythonFundamentals/blob/main/Worksheets/5_numpy.ipynb\" target=\"_parent\"><img src=\"https://colab.research.google.com/assets/colab-badge.svg\" alt=\"Open In Colab\"/></a>"
      ]
    },
    {
      "cell_type": "markdown",
      "metadata": {
        "id": "M21YTen340ZU"
      },
      "source": [
        "# Using numpy for processing lists of number data\n",
        "\n",
        "---"
      ]
    },
    {
      "cell_type": "markdown",
      "metadata": {
        "id": "lvCryMxH47we"
      },
      "source": [
        "## numpy is a high performance array processing library for Python\n",
        "\n",
        "Python lists can contain any type of data, including objects.  numpy arrays are specialised and can only contain numbers.\n",
        "\n",
        "You can customise the memory usage so that arrays can use less memory and items are always stored contiguously, which isn't always the case for Python lists.  This means that it is more efficient at storing, and faster at processing, large data sets.\n",
        "\n",
        "Use numpy arrays to **store and manipulate large lists of numbers** (for other data types use plain Python lists or a panda series)\n",
        "\n",
        "Use numpy arrays to **process panda series (columns) where these contain numerical data and a large number of records**.\n",
        "\n",
        "Use numpy arrays to **create new sets of data** to add to a dataframe.\n",
        "\n",
        "For this course we are going to focus on using numpy arrays as a means of holding and working with a list of data from a pandas dataframe column.\n"
      ]
    },
    {
      "cell_type": "markdown",
      "metadata": {
        "id": "MxKEUfvp54QO"
      },
      "source": [
        "---\n",
        "## Creating a new numpy array (maybe for a new series or an extended series)\n",
        "\n",
        "To use numpy, you will need to import it.  The conventional way to import numpy is to import the whole library and use an *alias*\n",
        "\n",
        "`import numpy as np`\n",
        "\n",
        "Every time you want to use a function from the numpy library you use the syntax:  \n",
        "\n",
        "`np.function_name()`  \n",
        "\n",
        "Create a new numpy array from a Python list of numbers\n",
        "   \n",
        "`arr = np.array([1,2,3])`\n",
        "\n",
        "Or a new numpy matrix from a Python 2 dimensional list of numbers\n",
        "\n",
        "`matrix = np.array([1,2,3],[4,5,6])`\n",
        "\n",
        "Create a numpy array from a dataframe column (series):\n",
        "\n",
        "`arr = df['column name'].to_numpy(datatype)`\n",
        "\n",
        "where the datatype matches the data type of the column (`df.info()` will give this information if you are unsure).\n",
        "\n"
      ]
    },
    {
      "cell_type": "markdown",
      "metadata": {
        "id": "s2HQHeHE6r4n"
      },
      "source": [
        "### Exercise 1 - create a new numpy array to hold the numbers from 1 to 100\n",
        "---\n",
        "\n",
        "Write a function called `make_array()` which will:\n",
        "*   create a list of the numbers 1 to 10  \n",
        "*   create a new numpy array called **new_array** from that list\n",
        "*   print `new_array`\n",
        "\n",
        "Expected output:  \n",
        "`[1 2 3 4 5 6 7 8 9 10] ` \n",
        "\n"
      ]
    },
    {
      "cell_type": "code",
      "metadata": {
        "id": "-WWVDSRq7QDN",
        "colab": {
          "base_uri": "https://localhost:8080/"
        },
        "outputId": "4bc78023-7375-45e7-dddd-6a14f8e50c86"
      },
      "source": [
        "import numpy as np\n",
        "\n",
        "def make_array():\n",
        "  # add your code below here\n",
        "  arr = np.array([1,2,3,4,5,6,7,8,9,10])\n",
        "  print(arr)\n",
        "\n",
        "# run and test the function against the expected output\n",
        "make_array()"
      ],
      "execution_count": 3,
      "outputs": [
        {
          "output_type": "stream",
          "name": "stdout",
          "text": [
            "[ 1  2  3  4  5  6  7  8  9 10]\n"
          ]
        }
      ]
    },
    {
      "cell_type": "markdown",
      "metadata": {
        "id": "X2qc0-nc7qZV"
      },
      "source": [
        "## Setting the number type in memory\n",
        "\n",
        "numpy allows you to set the type of number in memory (e.g. `int8`, `int32`) when you create the array.  This allows memory allocation to be as small as possible.  \n",
        "\n",
        "`new_matrix = np.array([1, 2, 3], np.int8)`    \n",
        "\n",
        "This creates a list of whole numbers which are all small enough to fit in 1 byte of memory storage.\n",
        "\n",
        "---\n",
        "### Exercise 2 - create list of smallish numbers\n",
        "\n",
        "Write a function which will:\n",
        "*   accept a parameter **num_list**    \n",
        "*   create a new numpy array called **new_array** from `num_list`, with data size `int16`\n",
        "*   print `new_array`  \n",
        "\n",
        "Test input:  \n",
        "`[31112, 32321, 24567,456,324,789]`\n",
        "\n",
        "Expected output:   \n",
        "```\n",
        "[31112 32321 24567 456 324 789]\n",
        "```"
      ]
    },
    {
      "cell_type": "code",
      "metadata": {
        "id": "XUMfMwhLACzH",
        "colab": {
          "base_uri": "https://localhost:8080/"
        },
        "outputId": "723ec821-a753-48cf-ae72-bc4540ee970d"
      },
      "source": [
        "import numpy as np\n",
        "\n",
        "def create_new_array(num_list):\n",
        "  # add your code below here to turn num_list into a numpy array\n",
        "  new_array = np.array(num_list, np.int16)\n",
        "  print(new_array)\n",
        "\n",
        "# run and test the code against the expected output\n",
        "create_new_array([31112, 32321, 24567,456,324,789])"
      ],
      "execution_count": 4,
      "outputs": [
        {
          "output_type": "stream",
          "name": "stdout",
          "text": [
            "[31112 32321 24567   456   324   789]\n"
          ]
        }
      ]
    },
    {
      "cell_type": "markdown",
      "metadata": {
        "id": "oC8rsm3yBLRd"
      },
      "source": [
        "---\n",
        "### Exercise 3 - create a numpy array from a pandas dataframe column\n",
        "\n",
        "Write a function which  will first create a dataframe from the titanic data set, and then will create a numpy array from the Fare column.\n",
        "\n",
        "*Recap*:  *the Fare column is df['Fare'] (assuming your dataframe is called df)*\n",
        "\n",
        "*  create a dataframe from the data set in the file at this url:  https://raw.githubusercontent.com/pandas-dev/pandas/master/doc/data/titanic.csv  \n",
        "*  create a new numpy array called **fare** from the `Fare` column (*remember to specify the data type e.g. np.int32, float64 when using* `df.to_numpy()`)  \n",
        "*  print the `fare` array\n",
        "\n",
        "Expected output:  \n",
        "```\n",
        "array([  7.25  ,  71.2833,   7.925 , ......  23.45  ,  30.    ,   7.75  ])\n",
        "```\n",
        "\n",
        "  "
      ]
    },
    {
      "cell_type": "code",
      "metadata": {
        "id": "QCs2eDFEBhr8",
        "colab": {
          "base_uri": "https://localhost:8080/"
        },
        "outputId": "06d7980c-28b4-478e-ad04-a17f61fb8839"
      },
      "source": [
        "import pandas as pd\n",
        "import numpy as np\n",
        "url = \"https://raw.githubusercontent.com/pandas-dev/pandas/master/doc/data/titanic.csv\"\n",
        "df = pd.read_csv(url)\n",
        "\n",
        "def create_fare_series():\n",
        "  # add your code below here to read the data set into a dataframe and then create a numpy array from the Fare column and print it\n",
        "  fare = df['Fare'].to_numpy(np.float16)\n",
        "  print(fare)\n",
        "\n",
        "\n",
        "# run the function and test against the expected output.\n",
        "create_fare_series()"
      ],
      "execution_count": 8,
      "outputs": [
        {
          "output_type": "stream",
          "name": "stdout",
          "text": [
            "[  7.25   71.3     7.926  53.1     8.05    8.46   51.88   21.08   11.13\n",
            "  30.08   16.7    26.55    8.05   31.28    7.855  16.     29.12   13.\n",
            "  18.      7.227  26.     13.      8.03   35.5    21.08   31.39    7.227\n",
            " 263.      7.88    7.895  27.72  146.5     7.75   10.5    82.2    52.\n",
            "   7.23    8.05   18.     11.24    9.48   21.      7.895  41.6     7.88\n",
            "   8.05   15.5     7.75   21.67   17.8    39.7     7.8    76.75   26.\n",
            "  61.97   35.5    10.5     7.23   27.75   46.9     7.23   80.     83.5\n",
            "  27.9    27.72   15.24   10.5     8.16    7.926   8.664  10.5    46.9\n",
            "  73.5    14.45   56.5     7.65    7.895   8.05   29.     12.48    9.\n",
            "   9.5     7.79   47.1    10.5    15.85   34.38    8.05  263.      8.05\n",
            "   8.05    7.855  61.2    20.58    7.25    8.05   34.66   63.34   23.\n",
            "  26.      7.895   7.895  77.3     8.66    7.926   7.895   7.65    7.773\n",
            "   7.895  24.16   52.     14.45    8.05    9.83   14.46    7.926   7.75\n",
            "  21.    247.5    31.28   73.5     8.05   30.08   13.     77.3    11.24\n",
            "   7.75    7.14   22.36    6.977   7.895   7.05   14.5    26.     13.\n",
            "  15.05   26.28   53.1     9.22   79.2    15.24    7.75   15.85    6.75\n",
            "  11.5    36.75    7.797  34.38   26.     13.     12.52   66.6     8.05\n",
            "  14.5     7.312  61.38    7.734   8.05    8.664  69.56   16.1    15.75\n",
            "   7.773   8.664  39.7    20.53   55.     27.9    25.92   56.5    33.5\n",
            "  29.12   11.13    7.926  30.7     7.855  25.47   28.72   13.      0.\n",
            "  69.56   15.05   31.39   39.     22.03   50.     15.5    26.55   15.5\n",
            "   7.895  13.     13.      7.855  26.     27.72  146.5     7.75    8.41\n",
            "   7.75   13.      9.5    69.56    6.496   7.227   8.05   10.46   15.85\n",
            "  18.78    7.75   31.      7.05   21.      7.25   13.      7.75  113.25\n",
            "   7.926  27.     76.3    10.5     8.05   13.      8.05    7.895  90.\n",
            "   9.35   10.5     7.25   13.     25.47   83.5     7.773  13.5    31.39\n",
            "  10.5     7.55   26.     26.25   10.5    12.27   14.45   15.5    10.5\n",
            "   7.125   7.227  90.      7.773  14.5    52.56   26.      7.25   10.46\n",
            "  26.55   16.1    20.22   15.24   79.2    86.5   512.5    26.      7.75\n",
            "  31.39   79.6     0.      7.75   10.5    39.7     7.773 153.5   135.6\n",
            "  31.      0.     19.5    29.7     7.75   77.94    7.75    0.     29.12\n",
            "  20.25    7.75    7.855   9.5     8.05   26.      8.664   9.5     7.895\n",
            "  13.      7.75   78.9    91.06   12.875   8.85    7.895  27.72    7.23\n",
            " 151.5    30.5   247.5     7.75   23.25    0.     12.35    8.05  151.5\n",
            " 110.9   108.9    24.     56.94   83.2   262.5    26.      7.895  26.25\n",
            "   7.855  26.     14.    164.9   134.5     7.25    7.895  12.35   29.\n",
            "  69.56  135.6     6.24   13.     20.53   57.97   23.25   28.5   153.5\n",
            "  18.    133.6     7.895  66.6   134.5     8.05   35.5    26.    263.\n",
            "  13.     13.     13.     13.     13.     16.1    15.9     8.664   9.23\n",
            "  35.      7.23   17.8     7.227   9.5    55.     13.      7.88    7.88\n",
            "  27.9    27.72   14.45    7.05   15.5     7.25   75.25    7.23    7.75\n",
            "  69.3    55.44    6.496   8.05  135.6    21.08   82.2     7.25  211.5\n",
            "   4.01    7.773 227.5    15.74    7.926  52.      7.895  73.5    46.9\n",
            "  13.      7.73   12.    120.      7.797   7.926 113.25   16.7     7.797\n",
            "   7.855  26.     10.5    12.65    7.926   8.05    9.83   15.85    8.664\n",
            "  21.      7.75   18.75    7.773  25.47    7.895   6.86   90.      0.\n",
            "   7.926   8.05   32.5    13.     13.     24.16    7.895   7.734   7.875\n",
            "  14.4    20.22    7.25   26.     26.      7.75    8.05   26.55   16.1\n",
            "  26.      7.125  55.9   120.     34.38   18.75  263.     10.5    26.25\n",
            "   9.5     7.773  13.      8.11   81.9    19.5    26.55   19.27   30.5\n",
            "  27.75   19.97   27.75   89.1     8.05    7.895  26.55   51.88   10.5\n",
            "   7.75   26.55    8.05   38.5    13.      8.05    7.05    0.     26.55\n",
            "   7.727  19.27    7.25    8.664  27.75   13.79    9.836  52.     21.\n",
            "   7.047   7.52   12.29   46.9     0.      8.05    9.586  91.06   25.47\n",
            "  90.     29.7     8.05   15.9    19.97    7.25   30.5    49.5     8.05\n",
            "  14.46   78.25   15.1   151.5     7.797   8.664   7.75    7.63    9.586\n",
            "  86.5   108.9    26.     26.55   22.53   56.5     7.75    8.05   26.28\n",
            "  59.4     7.496  34.03   10.5    24.16   26.      7.895  93.5     7.895\n",
            "   7.227  57.97    7.23    7.75   10.5   221.8     7.926  11.5    26.\n",
            "   7.23    7.23   22.36    8.664  26.25   26.55  106.44   14.5    49.5\n",
            "  71.     31.28   31.28   26.    106.44   26.     26.     13.86   20.53\n",
            "  36.75  110.9    26.      7.83    7.227   7.773  26.55   39.6   227.5\n",
            "  79.6    17.4     7.75    7.895  13.5     8.05    8.05   24.16    7.895\n",
            "  21.08    7.23    7.855  10.5    51.47   26.39    7.75    8.05   14.5\n",
            "  13.     55.9    14.46    7.926  30.    110.9    26.     40.12    8.71\n",
            "  79.6    15.     79.2     8.05    8.05    7.125  78.25    7.25    7.75\n",
            "  26.     24.16   33.      0.      7.227  56.94   27.      7.895  42.4\n",
            "   8.05   26.55   15.55    7.895  30.5    41.6   153.5    31.28    7.05\n",
            "  15.5     7.75    8.05   65.     14.4    16.1    39.     10.5    14.45\n",
            "  52.56   15.74    7.855  16.1    32.3    12.35   77.94    7.895   7.734\n",
            "  30.      7.055  30.5     0.     27.9    13.      7.926  26.25   39.7\n",
            "  16.1     7.855  69.3    27.9    56.5    19.27   76.75    7.895  35.5\n",
            "   7.55    7.55    7.895  23.      8.43    7.83    6.75   73.5     7.895\n",
            "  15.5    13.    113.25  133.6     7.227  25.6     7.496   7.926  73.5\n",
            "  13.      7.773   8.05   52.     39.     52.     10.5    13.      0.\n",
            "   7.773   8.05    9.84   46.9   512.5     8.14   76.75    9.23   46.9\n",
            "  39.     41.6    39.7    10.17    7.797 211.4    57.     13.414  56.5\n",
            "   7.227  26.55   13.5     8.05    7.734 110.9     7.65  227.5    26.28\n",
            "  14.45    7.742   7.855  26.     13.5    26.28  151.5    15.24   49.5\n",
            "  26.55   52.      9.484  13.      7.65  227.5    10.5    15.5     7.773\n",
            "  33.      7.055  13.     13.     53.1     8.664  21.      7.74   26.\n",
            "   7.926 211.4    18.78    0.     13.     13.     16.1    34.38  512.5\n",
            "   7.895   7.895  30.     78.9   262.5    16.1     7.926  71.     20.25\n",
            "  13.     53.1     7.75   23.     12.48    9.5     7.895  65.     14.5\n",
            "   7.797  11.5     8.05   86.5    14.5     7.125   7.23  120.      7.773\n",
            "  77.94   39.6     7.75   24.16    8.36    9.5     7.855  10.5     7.227\n",
            "  23.      7.75    7.75   12.48    7.74  211.4     7.23   57.     30.\n",
            "  23.45    7.05    7.25    7.496  29.12   20.58   79.2     7.75   26.\n",
            "  69.56   30.7     7.895  13.     25.92    8.68    7.23   24.16   13.\n",
            "  26.25  120.      8.516   6.977   7.773   0.      7.773  13.     53.1\n",
            "   7.887  24.16   10.5    31.28    8.05    0.      7.926  37.      6.45\n",
            "  27.9    93.5     8.664   0.     12.48   39.7     6.95   56.5    37.\n",
            "   7.75   80.     14.45   18.75    7.23    7.855   8.3    83.2     8.664\n",
            "   8.05   56.5    29.7     7.926  10.5    31.      6.438   8.664   7.55\n",
            "  69.56    7.895  33.     89.1    31.28    7.773  15.24   39.4    26.\n",
            "   9.35  164.9    26.55   19.27    7.23   14.11   11.5    25.92   69.56\n",
            "  13.     13.     13.86   50.5     9.5    11.13    7.895  52.56    5.\n",
            "   9.     24.      7.227   9.84    7.895   7.895  83.2    26.      7.895\n",
            "  10.516  10.5     7.05   29.12   13.     30.     23.45   30.      7.75 ]\n"
          ]
        }
      ]
    },
    {
      "cell_type": "markdown",
      "metadata": {
        "id": "qf3xj2T9CRmT"
      },
      "source": [
        "---\n",
        "### Exercise 4 - get some statistics from a numpy array created from a data series\n",
        "\n",
        "This exercise will use data on income in certain US states.  The link is: https://github.com/futureCodersSE/working-with-data/blob/main/Data%20sets/Income-Data.xlsx?raw=true  This spreadsheet just has one sheet.  \n",
        "\n",
        "Write a function which will create a numpy array from the `Age` column in the income dataset and will print the following:\n",
        "\n",
        "*  the average (mean) age of those surveyed  \n",
        "*  the age of the oldest person\n",
        "*  the age of the youngest person\n",
        "\n",
        "TO HELP with this, refer to this helpsheet: http://datacamp-community-prod.s3.amazonaws.com/da466534-51fe-4c6d-b0cb-154f4782eb54 \n",
        "\n",
        "Expected output:  \n",
        "```\n",
        "29.88888888888889\n",
        "42\n",
        "22\n",
        "```\n",
        "\n",
        "     "
      ]
    },
    {
      "cell_type": "code",
      "metadata": {
        "id": "27UpVktxC_VX",
        "colab": {
          "base_uri": "https://localhost:8080/"
        },
        "outputId": "1ffe33c8-bce7-4934-ea55-95593bc7f3fd"
      },
      "source": [
        "import pandas as pd\n",
        "import numpy as np\n",
        "\n",
        "url = \"https://github.com/futureCodersSE/working-with-data/blob/main/Data%20sets/Income-Data.xlsx?raw=true\"\n",
        "df = pd.read_excel(url)\n",
        "\n",
        "def get_age_stats():\n",
        "  # add your code below here to read the data set into a dataframe and then create a numpy array from the Fare column and print it\n",
        "  age = df['Age'].to_numpy(np.int8)\n",
        "  print(age)\n",
        "  mean_age = age.mean()\n",
        "  print(mean_age)\n",
        "  oldest = age.max()\n",
        "  youngest = age.min()\n",
        "  print(oldest, youngest)\n",
        "\n",
        "# run the function and test against the expected output.\n",
        "get_age_stats()"
      ],
      "execution_count": 10,
      "outputs": [
        {
          "output_type": "stream",
          "name": "stdout",
          "text": [
            "[34 42 23 36 42 25 35 40 27 23 25 29 24 25 31 22 25 30]\n",
            "29.88888888888889\n",
            "42 22\n"
          ]
        }
      ]
    },
    {
      "cell_type": "code",
      "metadata": {
        "id": "uFARauf3FiMf"
      },
      "source": [
        ""
      ],
      "execution_count": null,
      "outputs": []
    },
    {
      "cell_type": "markdown",
      "metadata": {
        "id": "DDVIHbrnFjwz"
      },
      "source": [
        "---\n",
        "### Exercise 6 - find the mean and standard deviation of wages\n",
        "\n",
        "This exercise will again use data on income in certain US states.  The link is: https://github.com/futureCodersSE/working-with-data/blob/main/Data%20sets/Income-Data.xlsx?raw=true  This spreadsheet just has one sheet.\n",
        "\n",
        "Write a function which will create a numpy array from the `Income` column in the income dataset and will print the following:\n",
        "\n",
        "*  the mean income of those surveyed  \n",
        "*  the standard deviation of income\n",
        "*  the highest income\n",
        "*  the lowest income as a percentage of the mean (lowest / mean * 100) \n",
        "\n",
        "TO HELP with this, refer to this helpsheet: http://datacamp-community-prod.s3.amazonaws.com/da466534-51fe-4c6d-b0cb-154f4782eb54 \n",
        "\n",
        "Expected output:  \n",
        "```\n",
        "63.388888888888886\n",
        "13.936916958961463\n",
        "81\n",
        "34.70639789658195\n",
        "```\n",
        "\n"
      ]
    },
    {
      "cell_type": "code",
      "metadata": {
        "id": "YB72q998EWkF"
      },
      "source": [
        "import pandas as pd\n",
        "import numpy as np\n",
        "\n",
        "def get_income_stats():\n",
        "  # add your code below to calculate the stats\n",
        "\n",
        "\n",
        "\n",
        "# run the function and test against expected output\n",
        "get_income_stats()"
      ],
      "execution_count": null,
      "outputs": []
    },
    {
      "cell_type": "markdown",
      "metadata": {
        "id": "QnOKzp1cHAvH"
      },
      "source": [
        "---\n",
        "### Exercise 7 - finding the correlation between two series\n",
        "\n",
        "Let's find out if there is a strong correlation between Age and Income in the income data set.\n",
        "\n",
        "*  read the Income data into a pandas dataframe\n",
        "*  create a numpy array from the Age column  \n",
        "*  create a numpy array from the Income column  \n",
        "*  use the np.corrcoef(nparray1, nparray2) function to get the Pearson's Correlation Coefficient (the measure of linear correlation between the two data sets) and store it in a variable called **coef**\n",
        "*  print the correlation coefficient output (see below, it will be a 2x2 matrix)\n",
        "*  print the correlation coefficient (which is at position [0][1] (coef[0][1]))\n",
        "\n",
        "\n",
        "Expected output:  \n",
        "```\n",
        "[[ 1.         -0.14787412]\n",
        " [-0.14787412  1.        ]]\n",
        " -0.1478741157606825\n",
        "\n",
        "```\n",
        "The matrix gives 4 values showing the correlation between:\n",
        "\n",
        "```\n",
        "   |    (Age/Age)        (Age/Income)     |\n",
        "   |    (Income/Age)     (Income/Income)  |\n",
        "```\n",
        "This suggests that income decreases with age (the correlation is negative \n",
        "so as one increases the other decreases) but that the correlation is quite weak (an absolute correlation would be 1 and no correlation would be 0)"
      ]
    },
    {
      "cell_type": "code",
      "metadata": {
        "id": "xXsISkA4HibO"
      },
      "source": [
        "import pandas as pd\n",
        "import numpy as np\n",
        "\n",
        "def get_correlation():\n",
        "  # add your code below to get the correlation figure for age and salary\n",
        "\n",
        "\n",
        "# run the function and test against expected output\n",
        "get_correlation()"
      ],
      "execution_count": null,
      "outputs": []
    },
    {
      "cell_type": "markdown",
      "metadata": {
        "id": "OxR5qwoxIhMY"
      },
      "source": [
        "---\n",
        "## Broadcasting an operation across an array\n",
        "\n",
        "Because a numpy array is created from a related set of data, it is useful to be able to operate on every item in the array in the same way.  For instance, the array might hold a set of scores out of 30 and you might want to convert all scores into percentages.\n",
        "\n",
        "We can do this in a number of ways:  \n",
        "1.  Create a new array to store the result after the operation in the new array\n",
        "```\n",
        "scores = np.array([29,25,15,22,30])\n",
        "percentages = scores / 30 * 100\n",
        "print(percentages)\n",
        "```\n",
        "Expected output:\n",
        "```\n",
        "[ 96.66666667  83.33333333  50.          73.33333333 100.        ]\n",
        "```\n",
        "2.  Store the result in the original array\n",
        "```\n",
        "scores = np.array([29,25,15,22,30])\n",
        "scores = scores / 30 * 100\n",
        "print(scores)\n",
        "```\n",
        "Expected output:\n",
        "```\n",
        "[ 96.66666667  83.33333333  50.  73.33333333 100. ]\n",
        "```\n",
        "\n",
        "Give it a try:\n",
        "\n",
        "\n",
        "\n"
      ]
    },
    {
      "cell_type": "code",
      "metadata": {
        "id": "ozhaq9-tJhRy"
      },
      "source": [
        ""
      ],
      "execution_count": null,
      "outputs": []
    },
    {
      "cell_type": "markdown",
      "metadata": {
        "id": "Lg62ACAlLzT8"
      },
      "source": [
        "---\n",
        "### Exercise 8 - increase whole array by 20\n",
        "\n",
        "Write a function which will:\n",
        "*  create a numpy array of 12 numbers\n",
        "*  create a new array adding 20 to each of the items in the first array  \n",
        "*  print the new array\n",
        "\n",
        "Test input:  \n",
        "`[1,2,3,4,5,6,7,8,1,2,3,4]`\n",
        "\n",
        "Expected output:  \n",
        "`[21 22 23 24 25 26 27 28 21 22 23 24]`"
      ]
    },
    {
      "cell_type": "code",
      "metadata": {
        "id": "HloCtcOYMD3W"
      },
      "source": [
        "# add your code to define the function to increase all values in an array by 20 and then to call the function\n",
        "\n",
        "def "
      ],
      "execution_count": null,
      "outputs": []
    },
    {
      "cell_type": "markdown",
      "metadata": {
        "id": "B-p-PF99MECD"
      },
      "source": [
        "---\n",
        "## Conversion of values using broadcasting\n",
        "\n",
        "---\n",
        "### Exercise 9 - convert Titanic fares into 21st century values \n",
        "\n",
        "Write a function which will:  \n",
        "*  create a dataframe from the titanic data set (https://raw.githubusercontent.com/pandas-dev/pandas/master/doc/data/titanic.csv)   \n",
        "*  create a numpy array from the Fare column\n",
        "*  convert the fares into current value (multiply by a factor of 120.7045 - source https://www.in2013dollars.com/uk/inflation/1912?amount=32 *accessed 22/1/2022*)\n",
        "*  print the average fare, the maximum fare and the minimum fare\n",
        "\n",
        "Expected output:  \n",
        "```\n",
        "3887.1928207428173\n",
        "61840.4399214\n",
        "0.0\n",
        "```\n",
        "\n",
        "\n",
        " "
      ]
    },
    {
      "cell_type": "code",
      "metadata": {
        "id": "ahgPUqTjM9it"
      },
      "source": [
        "import pandas as pd\n",
        "import numpy as np\n",
        "\n",
        "def get_current_fares():\n",
        "  # add your code below to get the fares data into a numpy array, convert to today's prices and print stats\n",
        "\n",
        "\n",
        "# run the function and test against expected output\n",
        "get_current_fares()"
      ],
      "execution_count": null,
      "outputs": []
    },
    {
      "cell_type": "markdown",
      "metadata": {
        "id": "Bv1G1MJpT1U9"
      },
      "source": [
        "---\n",
        "### Exercise 10 - create a new column in the dataframe from a numpy array\n",
        "\n",
        "**Challenging**\n",
        "\n",
        "Write a function which will calculate expected salaries for all in the income data set after an inflation rate of 3.5% (with results in a new numpy array).\n",
        "\n",
        "Just to show the result, calculate and print the Pearson Correlation Coefficient between the salaries series and the inflated salaries series.  We would expect this to be 1 (ie the inflated salary is always 3.5% higher than the current salary) and the exercise is just meant to show that - the statistic has no relevance.  \n",
        "\n",
        "Create a new column in the dataframe from the new numpy array (so that the dataframe now contains the original salaries and the inflated salaries.  \n",
        "(**Recap**:  *to add a new column, just use* `df['new column name']`)  \n",
        "\n",
        "To assign a numpy array to a pandas column use  \n",
        "`df['new column name'] = numpyarrayname.tolist()`\n",
        "\n",
        "Display the new dataframe and print the correlation coefficient.\n",
        "\n",
        "\n",
        "\n",
        "\n",
        "\n"
      ]
    },
    {
      "cell_type": "code",
      "metadata": {
        "id": "x90cXT8NWD40"
      },
      "source": [
        "import pandas as pd\n",
        "import numpy as np\n",
        "\n",
        "\n"
      ],
      "execution_count": null,
      "outputs": []
    },
    {
      "cell_type": "markdown",
      "metadata": {
        "id": "yQyytEbnZ1lw"
      },
      "source": [
        "# Reflection\n",
        "----\n",
        "\n",
        "## What skills have you demonstrated in completing this notebook?"
      ]
    },
    {
      "cell_type": "markdown",
      "metadata": {
        "id": "MM00hR5aZk1-"
      },
      "source": [
        "Your answer: "
      ]
    },
    {
      "cell_type": "markdown",
      "metadata": {
        "id": "Zgexd27sZ1ly"
      },
      "source": [
        "## What caused you the most difficulty?"
      ]
    },
    {
      "cell_type": "markdown",
      "metadata": {
        "id": "-Y_nrVBwaGXr"
      },
      "source": [
        "Your answer: "
      ]
    }
  ]
}