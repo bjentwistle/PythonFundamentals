{
  "nbformat": 4,
  "nbformat_minor": 0,
  "metadata": {
    "colab": {
      "name": "1. Data_retrieval.ipynb",
      "provenance": [],
      "collapsed_sections": [],
      "include_colab_link": true
    },
    "kernelspec": {
      "display_name": "Python 3",
      "name": "python3"
    },
    "language_info": {
      "name": "python"
    }
  },
  "cells": [
    {
      "cell_type": "markdown",
      "metadata": {
        "id": "view-in-github",
        "colab_type": "text"
      },
      "source": [
        "<a href=\"https://colab.research.google.com/github/bjentwistle/PythonFundamentals/blob/main/Worksheets/1_Data_retrieval.ipynb\" target=\"_parent\"><img src=\"https://colab.research.google.com/assets/colab-badge.svg\" alt=\"Open In Colab\"/></a>"
      ]
    },
    {
      "cell_type": "markdown",
      "metadata": {
        "id": "socyySfaK8_B"
      },
      "source": [
        "# Data retrieval\n",
        "---\n",
        "\n",
        "Examples of data being retrieved from a range of sources\n"
      ]
    },
    {
      "cell_type": "markdown",
      "metadata": {
        "id": "a_ewU932LIO-"
      },
      "source": [
        "## From a web page\n",
        "---\n",
        "\n",
        "The code below reads all the data tables from the Wikipedia page on Glasgow.  The 8th table on the page shows population data over a period of centuries.\n",
        "\n",
        "The code reads the data from the page into a list of datatables.  The index [7] is used to access the 8th table in the list.  Change the index to see other data tables.  Use len(datatables) to find out how many tables are in the list."
      ]
    },
    {
      "cell_type": "code",
      "metadata": {
        "id": "uAV9q4J3t-zy",
        "outputId": "7877e6b3-baed-4761-ca75-8f3b81b4fcbb",
        "colab": {
          "base_uri": "https://localhost:8080/",
          "height": 739
        }
      },
      "source": [
        "import pandas as pd\n",
        "\n",
        "def get_data():\n",
        "  datatables = pd.read_html('https://en.wikipedia.org/wiki/Glasgow#Climate')\n",
        "  #  change the line below to look at other tables, add the line print(len(datatables)) to see how many tables there are\n",
        "  df = datatables[7]  #Glasgow population data\n",
        "  return df\n",
        "\n",
        "\n",
        "\n",
        "# run and test the get_data() function, test visually - does it match the data on the web page\n",
        "get_data()"
      ],
      "execution_count": 1,
      "outputs": [
        {
          "output_type": "execute_result",
          "data": {
            "text/html": [
              "\n",
              "  <div id=\"df-7516a252-0d9b-4b87-b15d-9430be8fb631\">\n",
              "    <div class=\"colab-df-container\">\n",
              "      <div>\n",
              "<style scoped>\n",
              "    .dataframe tbody tr th:only-of-type {\n",
              "        vertical-align: middle;\n",
              "    }\n",
              "\n",
              "    .dataframe tbody tr th {\n",
              "        vertical-align: top;\n",
              "    }\n",
              "\n",
              "    .dataframe thead th {\n",
              "        text-align: right;\n",
              "    }\n",
              "</style>\n",
              "<table border=\"1\" class=\"dataframe\">\n",
              "  <thead>\n",
              "    <tr style=\"text-align: right;\">\n",
              "      <th></th>\n",
              "      <th>Historical population of Glasgow and city limits</th>\n",
              "      <th>Unnamed: 1</th>\n",
              "      <th>Unnamed: 2</th>\n",
              "      <th>Unnamed: 3</th>\n",
              "      <th>Unnamed: 4</th>\n",
              "    </tr>\n",
              "  </thead>\n",
              "  <tbody>\n",
              "    <tr>\n",
              "      <th>0</th>\n",
              "      <td>Historical population and city limits Year[76]...</td>\n",
              "      <td>NaN</td>\n",
              "      <td>NaN</td>\n",
              "      <td>NaN</td>\n",
              "      <td>NaN</td>\n",
              "    </tr>\n",
              "    <tr>\n",
              "      <th>1</th>\n",
              "      <td>Year[76]</td>\n",
              "      <td>Population</td>\n",
              "      <td>Area (km2)</td>\n",
              "      <td>Density (inhabitants/km2)</td>\n",
              "      <td>Area changes</td>\n",
              "    </tr>\n",
              "    <tr>\n",
              "      <th>2</th>\n",
              "      <td>1300</td>\n",
              "      <td>1500</td>\n",
              "      <td>-[77]</td>\n",
              "      <td>–</td>\n",
              "      <td>Initial</td>\n",
              "    </tr>\n",
              "    <tr>\n",
              "      <th>3</th>\n",
              "      <td>1600</td>\n",
              "      <td>7000</td>\n",
              "      <td>–</td>\n",
              "      <td>–</td>\n",
              "      <td>Unknown</td>\n",
              "    </tr>\n",
              "    <tr>\n",
              "      <th>4</th>\n",
              "      <td>1791</td>\n",
              "      <td>66000</td>\n",
              "      <td>7.16</td>\n",
              "      <td>9217</td>\n",
              "      <td>Anderson to James Street/West Nile Street to C...</td>\n",
              "    </tr>\n",
              "    <tr>\n",
              "      <th>5</th>\n",
              "      <td>1831</td>\n",
              "      <td>202426</td>\n",
              "      <td>8.83</td>\n",
              "      <td>22924</td>\n",
              "      <td>Necropolis and Blythswood</td>\n",
              "    </tr>\n",
              "    <tr>\n",
              "      <th>6</th>\n",
              "      <td>1846</td>\n",
              "      <td>280000</td>\n",
              "      <td>23.44</td>\n",
              "      <td>11945</td>\n",
              "      <td>Burghs of Anderston and Calton/Barony of Gorbals</td>\n",
              "    </tr>\n",
              "    <tr>\n",
              "      <th>7</th>\n",
              "      <td>1872</td>\n",
              "      <td>494824</td>\n",
              "      <td>24.42</td>\n",
              "      <td>20263</td>\n",
              "      <td>Districts of Keppochhill, Alexandra Parade and...</td>\n",
              "    </tr>\n",
              "    <tr>\n",
              "      <th>8</th>\n",
              "      <td>1891</td>\n",
              "      <td>658073</td>\n",
              "      <td>48.00</td>\n",
              "      <td>13709</td>\n",
              "      <td>Burghs of Govanhill, Crosshill, Pollokshields,...</td>\n",
              "    </tr>\n",
              "    <tr>\n",
              "      <th>9</th>\n",
              "      <td>1901</td>\n",
              "      <td>761712</td>\n",
              "      <td>51.35</td>\n",
              "      <td>14833</td>\n",
              "      <td>Bellahouston Park and Craigton. Districts of B...</td>\n",
              "    </tr>\n",
              "    <tr>\n",
              "      <th>10</th>\n",
              "      <td>1912</td>\n",
              "      <td>800000</td>\n",
              "      <td>77.63</td>\n",
              "      <td>10305</td>\n",
              "      <td>Burghs of Govan, Partick, Pollokshaws. Distric...</td>\n",
              "    </tr>\n",
              "    <tr>\n",
              "      <th>11</th>\n",
              "      <td>1921</td>\n",
              "      <td>1034174</td>\n",
              "      <td>77.63</td>\n",
              "      <td>13321</td>\n",
              "      <td>No change</td>\n",
              "    </tr>\n",
              "    <tr>\n",
              "      <th>12</th>\n",
              "      <td>1926</td>\n",
              "      <td>1090380</td>\n",
              "      <td>119.42</td>\n",
              "      <td>9130</td>\n",
              "      <td>Districts of Lambhill, Millerston, Aikenhead, ...</td>\n",
              "    </tr>\n",
              "    <tr>\n",
              "      <th>13</th>\n",
              "      <td>1938</td>\n",
              "      <td>1127825</td>\n",
              "      <td>160.77</td>\n",
              "      <td>7015</td>\n",
              "      <td>Districts of Balmuildy, Auchinairn, Cardowan, ...</td>\n",
              "    </tr>\n",
              "    <tr>\n",
              "      <th>14</th>\n",
              "      <td>1946</td>\n",
              "      <td>1050000</td>\n",
              "      <td>160.77</td>\n",
              "      <td>6531</td>\n",
              "      <td>No change</td>\n",
              "    </tr>\n",
              "    <tr>\n",
              "      <th>15</th>\n",
              "      <td>1951</td>\n",
              "      <td>1089555</td>\n",
              "      <td>160.77</td>\n",
              "      <td>6777</td>\n",
              "      <td>No change</td>\n",
              "    </tr>\n",
              "    <tr>\n",
              "      <th>16</th>\n",
              "      <td>1961</td>\n",
              "      <td>1055017</td>\n",
              "      <td>160.77</td>\n",
              "      <td>6562</td>\n",
              "      <td>No change</td>\n",
              "    </tr>\n",
              "    <tr>\n",
              "      <th>17</th>\n",
              "      <td>1971</td>\n",
              "      <td>897485</td>\n",
              "      <td>160.77</td>\n",
              "      <td>5582</td>\n",
              "      <td>No change</td>\n",
              "    </tr>\n",
              "    <tr>\n",
              "      <th>18</th>\n",
              "      <td>1981</td>\n",
              "      <td>774068</td>\n",
              "      <td>202.35</td>\n",
              "      <td>3825</td>\n",
              "      <td>Burghs of Rutherglen, Cambuslang, Mount Vernon...</td>\n",
              "    </tr>\n",
              "    <tr>\n",
              "      <th>19</th>\n",
              "      <td>1991</td>\n",
              "      <td>688600</td>\n",
              "      <td>202.67</td>\n",
              "      <td>3397</td>\n",
              "      <td>Minor boundary change</td>\n",
              "    </tr>\n",
              "    <tr>\n",
              "      <th>20</th>\n",
              "      <td>2001</td>\n",
              "      <td>586710</td>\n",
              "      <td>177.30</td>\n",
              "      <td>3309</td>\n",
              "      <td>Rutherglen and Cambuslang transferred to South...</td>\n",
              "    </tr>\n",
              "    <tr>\n",
              "      <th>21</th>\n",
              "      <td>2011</td>\n",
              "      <td>599650</td>\n",
              "      <td>174.70</td>\n",
              "      <td>3432</td>\n",
              "      <td>Minor boundary change</td>\n",
              "    </tr>\n",
              "  </tbody>\n",
              "</table>\n",
              "</div>\n",
              "      <button class=\"colab-df-convert\" onclick=\"convertToInteractive('df-7516a252-0d9b-4b87-b15d-9430be8fb631')\"\n",
              "              title=\"Convert this dataframe to an interactive table.\"\n",
              "              style=\"display:none;\">\n",
              "        \n",
              "  <svg xmlns=\"http://www.w3.org/2000/svg\" height=\"24px\"viewBox=\"0 0 24 24\"\n",
              "       width=\"24px\">\n",
              "    <path d=\"M0 0h24v24H0V0z\" fill=\"none\"/>\n",
              "    <path d=\"M18.56 5.44l.94 2.06.94-2.06 2.06-.94-2.06-.94-.94-2.06-.94 2.06-2.06.94zm-11 1L8.5 8.5l.94-2.06 2.06-.94-2.06-.94L8.5 2.5l-.94 2.06-2.06.94zm10 10l.94 2.06.94-2.06 2.06-.94-2.06-.94-.94-2.06-.94 2.06-2.06.94z\"/><path d=\"M17.41 7.96l-1.37-1.37c-.4-.4-.92-.59-1.43-.59-.52 0-1.04.2-1.43.59L10.3 9.45l-7.72 7.72c-.78.78-.78 2.05 0 2.83L4 21.41c.39.39.9.59 1.41.59.51 0 1.02-.2 1.41-.59l7.78-7.78 2.81-2.81c.8-.78.8-2.07 0-2.86zM5.41 20L4 18.59l7.72-7.72 1.47 1.35L5.41 20z\"/>\n",
              "  </svg>\n",
              "      </button>\n",
              "      \n",
              "  <style>\n",
              "    .colab-df-container {\n",
              "      display:flex;\n",
              "      flex-wrap:wrap;\n",
              "      gap: 12px;\n",
              "    }\n",
              "\n",
              "    .colab-df-convert {\n",
              "      background-color: #E8F0FE;\n",
              "      border: none;\n",
              "      border-radius: 50%;\n",
              "      cursor: pointer;\n",
              "      display: none;\n",
              "      fill: #1967D2;\n",
              "      height: 32px;\n",
              "      padding: 0 0 0 0;\n",
              "      width: 32px;\n",
              "    }\n",
              "\n",
              "    .colab-df-convert:hover {\n",
              "      background-color: #E2EBFA;\n",
              "      box-shadow: 0px 1px 2px rgba(60, 64, 67, 0.3), 0px 1px 3px 1px rgba(60, 64, 67, 0.15);\n",
              "      fill: #174EA6;\n",
              "    }\n",
              "\n",
              "    [theme=dark] .colab-df-convert {\n",
              "      background-color: #3B4455;\n",
              "      fill: #D2E3FC;\n",
              "    }\n",
              "\n",
              "    [theme=dark] .colab-df-convert:hover {\n",
              "      background-color: #434B5C;\n",
              "      box-shadow: 0px 1px 3px 1px rgba(0, 0, 0, 0.15);\n",
              "      filter: drop-shadow(0px 1px 2px rgba(0, 0, 0, 0.3));\n",
              "      fill: #FFFFFF;\n",
              "    }\n",
              "  </style>\n",
              "\n",
              "      <script>\n",
              "        const buttonEl =\n",
              "          document.querySelector('#df-7516a252-0d9b-4b87-b15d-9430be8fb631 button.colab-df-convert');\n",
              "        buttonEl.style.display =\n",
              "          google.colab.kernel.accessAllowed ? 'block' : 'none';\n",
              "\n",
              "        async function convertToInteractive(key) {\n",
              "          const element = document.querySelector('#df-7516a252-0d9b-4b87-b15d-9430be8fb631');\n",
              "          const dataTable =\n",
              "            await google.colab.kernel.invokeFunction('convertToInteractive',\n",
              "                                                     [key], {});\n",
              "          if (!dataTable) return;\n",
              "\n",
              "          const docLinkHtml = 'Like what you see? Visit the ' +\n",
              "            '<a target=\"_blank\" href=https://colab.research.google.com/notebooks/data_table.ipynb>data table notebook</a>'\n",
              "            + ' to learn more about interactive tables.';\n",
              "          element.innerHTML = '';\n",
              "          dataTable['output_type'] = 'display_data';\n",
              "          await google.colab.output.renderOutput(dataTable, element);\n",
              "          const docLink = document.createElement('div');\n",
              "          docLink.innerHTML = docLinkHtml;\n",
              "          element.appendChild(docLink);\n",
              "        }\n",
              "      </script>\n",
              "    </div>\n",
              "  </div>\n",
              "  "
            ],
            "text/plain": [
              "     Historical population of Glasgow and city limits  ...                                         Unnamed: 4\n",
              "0   Historical population and city limits Year[76]...  ...                                                NaN\n",
              "1                                            Year[76]  ...                                       Area changes\n",
              "2                                                1300  ...                                            Initial\n",
              "3                                                1600  ...                                            Unknown\n",
              "4                                                1791  ...  Anderson to James Street/West Nile Street to C...\n",
              "5                                                1831  ...                          Necropolis and Blythswood\n",
              "6                                                1846  ...   Burghs of Anderston and Calton/Barony of Gorbals\n",
              "7                                                1872  ...  Districts of Keppochhill, Alexandra Parade and...\n",
              "8                                                1891  ...  Burghs of Govanhill, Crosshill, Pollokshields,...\n",
              "9                                                1901  ...  Bellahouston Park and Craigton. Districts of B...\n",
              "10                                               1912  ...  Burghs of Govan, Partick, Pollokshaws. Distric...\n",
              "11                                               1921  ...                                          No change\n",
              "12                                               1926  ...  Districts of Lambhill, Millerston, Aikenhead, ...\n",
              "13                                               1938  ...  Districts of Balmuildy, Auchinairn, Cardowan, ...\n",
              "14                                               1946  ...                                          No change\n",
              "15                                               1951  ...                                          No change\n",
              "16                                               1961  ...                                          No change\n",
              "17                                               1971  ...                                          No change\n",
              "18                                               1981  ...  Burghs of Rutherglen, Cambuslang, Mount Vernon...\n",
              "19                                               1991  ...                              Minor boundary change\n",
              "20                                               2001  ...  Rutherglen and Cambuslang transferred to South...\n",
              "21                                               2011  ...                              Minor boundary change\n",
              "\n",
              "[22 rows x 5 columns]"
            ]
          },
          "metadata": {},
          "execution_count": 1
        }
      ]
    },
    {
      "cell_type": "markdown",
      "metadata": {
        "id": "hBzjrbk8evK7"
      },
      "source": [
        "## From a local file\n",
        "---\n",
        "\n",
        "You can upload from a local file using the code below.  uploaded = file.upload() will open a file chooser and you can choose the data file from there.  After that, just use the file name to read from it.  \n",
        "\n",
        "The file exists while the notebook is running, so should only be uploaded once.  If you need to access again, cancel the upload.\n",
        "\n",
        "For this exercise you will need a copy of an Excel file.  To get a copy of this file \"public_use-talent-migration.xlsx\" go to this page: https://github.com/futureCodersSE/working-with-data/blob/main/Data%20sets/public_use-talent-migration.xlsx and click on the Download button.  You will now have a copy in your Downloads folder.\n"
      ]
    },
    {
      "cell_type": "code",
      "metadata": {
        "colab": {
          "background_save": true
        },
        "id": "w29Lrv_je0nj"
      },
      "source": [
        "import pandas as pd\n",
        "from google.colab import files\n",
        "import io\n",
        "\n",
        "def get_data():\n",
        "  # upload a set of chosen files then read a specified file\n",
        "  uploaded = files.upload()\n",
        "  df = pd.read_excel(uploaded['public_use-talent-migration.xlsx'],sheet_name=\"Industry Migration\")\n",
        "  return df\n",
        "\n",
        "\n",
        "\n",
        "# run and test the get_data() function, test visually - does it match the data on the web page\n",
        "get_data()"
      ],
      "execution_count": null,
      "outputs": []
    },
    {
      "cell_type": "markdown",
      "metadata": {
        "id": "I9m4HHb3Loxe"
      },
      "source": [
        "## From a csv file hosted on Github.com\n",
        "---\n",
        "\n",
        "The code below reads the data table stored in a Comma Separated Values file (this is a text file containing rows of data with each column within the row separated from the next column by a comma).  \n",
        "\n",
        "If you were using Jupyter Notebooks on your device, the url could be replaced with the path to the CSV file."
      ]
    },
    {
      "cell_type": "code",
      "metadata": {
        "id": "4mVk6FwZ-XZu"
      },
      "source": [
        "import pandas as pd\n",
        "url = \"https://raw.githubusercontent.com/futureCodersSE/working-with-data/main/Data%20sets/Paisley-Weather-Data.csv\"\n",
        "df = pd.read_csv(url)\n",
        "df"
      ],
      "execution_count": null,
      "outputs": []
    },
    {
      "cell_type": "markdown",
      "metadata": {
        "id": "uVBfyjCQMVvA"
      },
      "source": [
        "## From an Excel file hosted on Github.com\n",
        "---\n",
        "\n",
        "The code below reads the data table from a sheet in an Excel file.  If you don't specify a sheet then it will assume that you want to read the data from the first sheet in the Excel workbook (sheet_name = 0).  If you don't know the sheet name but know it is the second sheet, you can use sheet_name = 1, or 2 for the third sheet, etc.\n",
        "\n",
        "If you were using Jupyter Notebooks on your device, the url could be replace with the path to the Excel file."
      ]
    },
    {
      "cell_type": "code",
      "metadata": {
        "id": "Att2-4UtBAhW"
      },
      "source": [
        "import pandas as pd\n",
        "url = \"https://github.com/futureCodersSE/working-with-data/blob/main/Data%20sets/public_use-talent-migration.xlsx?raw=true\"\n",
        "df = pd.read_excel(url,sheet_name=\"Industry Migration\")\n",
        "df"
      ],
      "execution_count": null,
      "outputs": []
    },
    {
      "cell_type": "markdown",
      "metadata": {
        "id": "3NQA3HFJOT8X"
      },
      "source": [
        "## From an API which delivers the data in JSON format\n",
        "---\n",
        "\n",
        "The code below requests the data from the url.  This is a bit more tricky than the other ways to get the data as how you access the data will depend on how it is organised.\n",
        "\n",
        "In this example, the data is returned as a dictionary, which will have the key 'data' against which the actual data is stored.  In the example, the data has been taken from the 'data' key/value pair and is stored in json_data. \n",
        "\n",
        "Again, in this example, the json_data is a list of json_objects but it only has one object in the list.  Try adding the line `print(json_data)` to see this.  \n",
        "\n",
        "data_table is the first object in the json_data list.  Try adding the line `print(data_table)` to see this.\n",
        "\n",
        "In this example, the data table object has three keys, 'to', 'from' and 'regions'.  The 'regions' value is the data we want to use in our dataframe, so we normalize this json data into a pandas dataframe (df), which you can see as the output.  \n",
        "\n",
        "Each API is likely to deliver its data in a different format and so you will need to be happy to read the documentation and to inspect the data to see what keys and indexes you need to access.\n",
        "\n",
        "For information on the format of the data, see https://carbon-intensity.github.io/api-definitions/#regional"
      ]
    },
    {
      "cell_type": "code",
      "metadata": {
        "id": "7uEDgTjJFYiZ"
      },
      "source": [
        "import pandas as pd\n",
        "import requests\n",
        "\n",
        "url = \"https://api.carbonintensity.org.uk/regional\"\n",
        "json_data = requests.get(url).json()['data']\n",
        "data_table = json_data[0]\n",
        "df = pd.json_normalize(data_table['regions'])\n",
        "df\n"
      ],
      "execution_count": null,
      "outputs": []
    },
    {
      "cell_type": "markdown",
      "metadata": {
        "id": "_ow6HQWqIsh0"
      },
      "source": [
        "### Exercise - upload a file from your local drive\n",
        "\n",
        "Visit the Kent and Medway Air Quality site: https://kentair.org.uk/\n",
        "\n",
        "Collect a data file containing data on Ozone levels in Dover:\n",
        "\n",
        "Open the site\n",
        "Go to the Data page  \n",
        "Launch the data selector tool  \n",
        "Select:\n",
        "*  Automatic monitoring data\n",
        "*  Measurement data and simple statistics\n",
        "*  Ozone\n",
        "*  Daily mean\n",
        "*  This month\n",
        "*  Thurrock\n",
        "*  Thurrock\n",
        "\n",
        "Click on Download CSV\n",
        "\n",
        "This should be downloaded into your Downloads folder.\n",
        "\n",
        "NOW\n",
        "\n",
        "Write a function that will allow you to upload the file and then read its contents into a dataframe.\n",
        "\n",
        "To read an uploaded CSV file (which will be in bytes format) use:\n",
        "\n",
        "```\n",
        "df = pd.read_csv(io.BytesIO(uploaded['your filename']))\n",
        "```\n",
        "\n",
        "\n",
        "Display the dataframe and compare the contents with the output on the site you took the data from.\n",
        "\n",
        "\n",
        "\n"
      ]
    },
    {
      "cell_type": "code",
      "metadata": {
        "id": "KxCrBhaWKsku"
      },
      "source": [
        "import pandas as pd\n",
        "from google.colab import files\n",
        "import io\n",
        "\n",
        "def get_data():\n",
        "  # upload a set of chosen files then read a specified file\n",
        "  !rm NO2-daily-mean-2014-2021-Swale-Newington.csv\n",
        "  uploaded = files.upload()\n",
        "  df = pd.read_csv(io.BytesIO(uploaded['NO2-daily-mean-2014-2021-Swale-Newington.csv']))\n",
        "  return df\n",
        "\n",
        "get_data()"
      ],
      "execution_count": null,
      "outputs": []
    },
    {
      "cell_type": "markdown",
      "source": [
        "# ACTIVITIES\n",
        "\n",
        "RUN ALL THE CODE CELLS ABOVE TO SEE WHAT THEY DO AND WHAT DATA THEY GET FOR YOU.\n",
        "\n",
        "Now have a go at opening a few data sets yourself.\n",
        "\n",
        "### Exercise 1\n",
        "---\n",
        "\n",
        "*  Open the datasets list: [here](https://docs.google.com/document/d/1cijDOCDixsYu-Rr9pC8STPPXado3xoFpgBAZgdDTLHs/edit?usp=sharing)  \n",
        "\n",
        "*  Find a dataset that is a CSV file, copy the code above (for online CSV) into the code cell below\n",
        "\n",
        "*  Run the code to open the data.\n",
        "\n"
      ],
      "metadata": {
        "id": "Tm1GBCJMXOXz"
      }
    },
    {
      "cell_type": "code",
      "source": [
        ""
      ],
      "metadata": {
        "id": "sRoQo_rKZEJK"
      },
      "execution_count": null,
      "outputs": []
    },
    {
      "cell_type": "markdown",
      "source": [
        "### Exercise 2\n",
        "---\n",
        "Open the datasets list: [here](https://docs.google.com/document/d/1cijDOCDixsYu-Rr9pC8STPPXado3xoFpgBAZgdDTLHs/edit?usp=sharing)  \n",
        "\n",
        "* Find a dataset that is an Excel file\n",
        "* Copy the code above (for Excel files on Github) into the code cell below\n",
        "* Change the line\n",
        "```\n",
        "df = pd.read_excel(url,sheet_name=\"Industry Migration\") \n",
        "```\n",
        "to \n",
        "```\n",
        "df = pd.read_excel(url)\n",
        "```\n",
        "This will then open the first sheet in the Excel file, rather than a named sheet.\n",
        "\n",
        "* Run the code to open the data."
      ],
      "metadata": {
        "id": "iL8MgXxSZEuY"
      }
    },
    {
      "cell_type": "code",
      "source": [
        ""
      ],
      "metadata": {
        "id": "SgPuXv4caFbB"
      },
      "execution_count": null,
      "outputs": []
    },
    {
      "cell_type": "markdown",
      "source": [
        "### Exercise 3\n",
        "---\n",
        "*  Copy the code from the API delivered in JSON format\n",
        "*  Change the URL to add /england to the end of it\n",
        "*  Run the code to see the data for England only\n",
        "*  Change it again to show data for Scotland, (/scotland)\n",
        "*  Change it again to show data for Wales"
      ],
      "metadata": {
        "id": "kn-okYP4aqo8"
      }
    },
    {
      "cell_type": "code",
      "source": [
        ""
      ],
      "metadata": {
        "id": "IT-OLNOgbL0S"
      },
      "execution_count": null,
      "outputs": []
    }
  ]
}