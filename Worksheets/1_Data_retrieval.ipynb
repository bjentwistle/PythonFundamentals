{
  "nbformat": 4,
  "nbformat_minor": 0,
  "metadata": {
    "colab": {
      "name": "1. Data_retrieval.ipynb",
      "provenance": [],
      "collapsed_sections": [],
      "include_colab_link": true
    },
    "kernelspec": {
      "display_name": "Python 3",
      "name": "python3"
    },
    "language_info": {
      "name": "python"
    }
  },
  "cells": [
    {
      "cell_type": "markdown",
      "metadata": {
        "id": "view-in-github",
        "colab_type": "text"
      },
      "source": [
        "<a href=\"https://colab.research.google.com/github/bjentwistle/PythonFundamentals/blob/main/Worksheets/1_Data_retrieval.ipynb\" target=\"_parent\"><img src=\"https://colab.research.google.com/assets/colab-badge.svg\" alt=\"Open In Colab\"/></a>"
      ]
    },
    {
      "cell_type": "markdown",
      "metadata": {
        "id": "socyySfaK8_B"
      },
      "source": [
        "# Data retrieval\n",
        "---\n",
        "\n",
        "Examples of data being retrieved from a range of sources\n"
      ]
    },
    {
      "cell_type": "markdown",
      "metadata": {
        "id": "a_ewU932LIO-"
      },
      "source": [
        "## From a web page\n",
        "---\n",
        "\n",
        "The code below reads all the data tables from the Wikipedia page on Glasgow.  The 8th table on the page shows population data over a period of centuries.\n",
        "\n",
        "The code reads the data from the page into a list of datatables.  The index [7] is used to access the 8th table in the list.  Change the index to see other data tables.  Use len(datatables) to find out how many tables are in the list."
      ]
    },
    {
      "cell_type": "code",
      "metadata": {
        "id": "uAV9q4J3t-zy",
        "colab": {
          "base_uri": "https://localhost:8080/",
          "height": 840
        },
        "outputId": "4c1e8266-9c42-44f2-c64f-8297bc0dfc3f"
      },
      "source": [
        "import pandas as pd\n",
        "\n",
        "def get_data():\n",
        "  datatables = pd.read_html('https://en.wikipedia.org/wiki/Glasgow#Climate')\n",
        "  #  change the line below to look at other tables, add the line print(len(datatables)) to see how many tables there are\n",
        "  df = datatables[4]  #Glasgow population data\n",
        "  return df\n",
        "\n",
        "\n",
        "\n",
        "# run and test the get_data() function, test visually - does it match the data on the web page\n",
        "get_data()"
      ],
      "execution_count": 5,
      "outputs": [
        {
          "output_type": "execute_result",
          "data": {
            "text/html": [
              "\n",
              "  <div id=\"df-1547ec34-0e14-4416-ad9d-10b891dc199e\">\n",
              "    <div class=\"colab-df-container\">\n",
              "      <div>\n",
              "<style scoped>\n",
              "    .dataframe tbody tr th:only-of-type {\n",
              "        vertical-align: middle;\n",
              "    }\n",
              "\n",
              "    .dataframe tbody tr th {\n",
              "        vertical-align: top;\n",
              "    }\n",
              "\n",
              "    .dataframe thead tr th {\n",
              "        text-align: left;\n",
              "    }\n",
              "</style>\n",
              "<table border=\"1\" class=\"dataframe\">\n",
              "  <thead>\n",
              "    <tr>\n",
              "      <th></th>\n",
              "      <th colspan=\"14\" halign=\"left\">.mw-parser-output .navbar{display:inline;font-size:88%;font-weight:normal}.mw-parser-output .navbar-collapse{float:left;text-align:left}.mw-parser-output .navbar-boxtext{word-spacing:0}.mw-parser-output .navbar ul{display:inline-block;white-space:nowrap;line-height:inherit}.mw-parser-output .navbar-brackets::before{margin-right:-0.125em;content:\"[ \"}.mw-parser-output .navbar-brackets::after{margin-left:-0.125em;content:\" ]\"}.mw-parser-output .navbar li{word-spacing:-0.125em}.mw-parser-output .navbar a&gt;span,.mw-parser-output .navbar a&gt;abbr{text-decoration:inherit}.mw-parser-output .navbar-mini abbr{font-variant:small-caps;border-bottom:none;text-decoration:none;cursor:inherit}.mw-parser-output .navbar-ct-full{font-size:114%;margin:0 7em}.mw-parser-output .navbar-ct-mini{font-size:114%;margin:0 4em}vteClimate data for Paisley[a], elevation: 16 m (52 ft) 1991–2020 normals, extremes 1959–present</th>\n",
              "    </tr>\n",
              "    <tr>\n",
              "      <th></th>\n",
              "      <th>Month</th>\n",
              "      <th>Jan</th>\n",
              "      <th>Feb</th>\n",
              "      <th>Mar</th>\n",
              "      <th>Apr</th>\n",
              "      <th>May</th>\n",
              "      <th>Jun</th>\n",
              "      <th>Jul</th>\n",
              "      <th>Aug</th>\n",
              "      <th>Sep</th>\n",
              "      <th>Oct</th>\n",
              "      <th>Nov</th>\n",
              "      <th>Dec</th>\n",
              "      <th>Year</th>\n",
              "    </tr>\n",
              "  </thead>\n",
              "  <tbody>\n",
              "    <tr>\n",
              "      <th>0</th>\n",
              "      <td>Record high °C (°F)</td>\n",
              "      <td>13.5(56.3)</td>\n",
              "      <td>14.4(57.9)</td>\n",
              "      <td>17.2(63.0)</td>\n",
              "      <td>24.4(75.9)</td>\n",
              "      <td>26.5(79.7)</td>\n",
              "      <td>29.6(85.3)</td>\n",
              "      <td>30.0(86.0)</td>\n",
              "      <td>31.0(87.8)</td>\n",
              "      <td>26.7(80.1)</td>\n",
              "      <td>22.8(73.0)</td>\n",
              "      <td>17.7(63.9)</td>\n",
              "      <td>14.1(57.4)</td>\n",
              "      <td>31.0(87.8)</td>\n",
              "    </tr>\n",
              "    <tr>\n",
              "      <th>1</th>\n",
              "      <td>Average high °C (°F)</td>\n",
              "      <td>7.2(45.0)</td>\n",
              "      <td>7.8(46.0)</td>\n",
              "      <td>9.8(49.6)</td>\n",
              "      <td>13.0(55.4)</td>\n",
              "      <td>16.1(61.0)</td>\n",
              "      <td>18.4(65.1)</td>\n",
              "      <td>19.8(67.6)</td>\n",
              "      <td>19.3(66.7)</td>\n",
              "      <td>16.7(62.1)</td>\n",
              "      <td>13.0(55.4)</td>\n",
              "      <td>9.6(49.3)</td>\n",
              "      <td>7.4(45.3)</td>\n",
              "      <td>13.2(55.8)</td>\n",
              "    </tr>\n",
              "    <tr>\n",
              "      <th>2</th>\n",
              "      <td>Daily mean °C (°F)</td>\n",
              "      <td>4.6(40.3)</td>\n",
              "      <td>5.0(41.0)</td>\n",
              "      <td>6.5(43.7)</td>\n",
              "      <td>9.0(48.2)</td>\n",
              "      <td>11.8(53.2)</td>\n",
              "      <td>14.3(57.7)</td>\n",
              "      <td>15.9(60.6)</td>\n",
              "      <td>15.6(60.1)</td>\n",
              "      <td>13.3(55.9)</td>\n",
              "      <td>9.9(49.8)</td>\n",
              "      <td>6.9(44.4)</td>\n",
              "      <td>4.7(40.5)</td>\n",
              "      <td>9.8(49.6)</td>\n",
              "    </tr>\n",
              "    <tr>\n",
              "      <th>3</th>\n",
              "      <td>Average low °C (°F)</td>\n",
              "      <td>2.1(35.8)</td>\n",
              "      <td>2.2(36.0)</td>\n",
              "      <td>3.2(37.8)</td>\n",
              "      <td>5.1(41.2)</td>\n",
              "      <td>7.4(45.3)</td>\n",
              "      <td>10.3(50.5)</td>\n",
              "      <td>12.1(53.8)</td>\n",
              "      <td>11.9(53.4)</td>\n",
              "      <td>9.9(49.8)</td>\n",
              "      <td>6.8(44.2)</td>\n",
              "      <td>4.2(39.6)</td>\n",
              "      <td>2.1(35.8)</td>\n",
              "      <td>6.5(43.7)</td>\n",
              "    </tr>\n",
              "    <tr>\n",
              "      <th>4</th>\n",
              "      <td>Record low °C (°F)</td>\n",
              "      <td>−14.8(5.4)</td>\n",
              "      <td>−7.5(18.5)</td>\n",
              "      <td>−8.3(17.1)</td>\n",
              "      <td>−4.4(24.1)</td>\n",
              "      <td>−1.1(30.0)</td>\n",
              "      <td>1.5(34.7)</td>\n",
              "      <td>3.9(39.0)</td>\n",
              "      <td>2.2(36.0)</td>\n",
              "      <td>−0.2(31.6)</td>\n",
              "      <td>−3.5(25.7)</td>\n",
              "      <td>−6.8(19.8)</td>\n",
              "      <td>−14.5(5.9)</td>\n",
              "      <td>−14.8(5.4)</td>\n",
              "    </tr>\n",
              "    <tr>\n",
              "      <th>5</th>\n",
              "      <td>Average precipitation mm (inches)</td>\n",
              "      <td>146.4(5.76)</td>\n",
              "      <td>115.2(4.54)</td>\n",
              "      <td>97.4(3.83)</td>\n",
              "      <td>66.1(2.60)</td>\n",
              "      <td>68.8(2.71)</td>\n",
              "      <td>67.8(2.67)</td>\n",
              "      <td>82.9(3.26)</td>\n",
              "      <td>94.8(3.73)</td>\n",
              "      <td>98.4(3.87)</td>\n",
              "      <td>131.8(5.19)</td>\n",
              "      <td>131.8(5.19)</td>\n",
              "      <td>161.4(6.35)</td>\n",
              "      <td>1,262.8(49.72)</td>\n",
              "    </tr>\n",
              "    <tr>\n",
              "      <th>6</th>\n",
              "      <td>Average precipitation days (≥ 1.0 mm)</td>\n",
              "      <td>17.7</td>\n",
              "      <td>14.7</td>\n",
              "      <td>13.8</td>\n",
              "      <td>12.3</td>\n",
              "      <td>12.1</td>\n",
              "      <td>12.1</td>\n",
              "      <td>13.3</td>\n",
              "      <td>13.9</td>\n",
              "      <td>13.9</td>\n",
              "      <td>16.2</td>\n",
              "      <td>17.3</td>\n",
              "      <td>16.9</td>\n",
              "      <td>174.3</td>\n",
              "    </tr>\n",
              "    <tr>\n",
              "      <th>7</th>\n",
              "      <td>Mean monthly sunshine hours</td>\n",
              "      <td>38.6</td>\n",
              "      <td>67.3</td>\n",
              "      <td>104.3</td>\n",
              "      <td>141.4</td>\n",
              "      <td>186.8</td>\n",
              "      <td>155.6</td>\n",
              "      <td>151.5</td>\n",
              "      <td>145.5</td>\n",
              "      <td>114.6</td>\n",
              "      <td>86.3</td>\n",
              "      <td>53.9</td>\n",
              "      <td>33.7</td>\n",
              "      <td>1279.6</td>\n",
              "    </tr>\n",
              "    <tr>\n",
              "      <th>8</th>\n",
              "      <td>Source 1: Met Office [67]</td>\n",
              "      <td>Source 1: Met Office [67]</td>\n",
              "      <td>Source 1: Met Office [67]</td>\n",
              "      <td>Source 1: Met Office [67]</td>\n",
              "      <td>Source 1: Met Office [67]</td>\n",
              "      <td>Source 1: Met Office [67]</td>\n",
              "      <td>Source 1: Met Office [67]</td>\n",
              "      <td>Source 1: Met Office [67]</td>\n",
              "      <td>Source 1: Met Office [67]</td>\n",
              "      <td>Source 1: Met Office [67]</td>\n",
              "      <td>Source 1: Met Office [67]</td>\n",
              "      <td>Source 1: Met Office [67]</td>\n",
              "      <td>Source 1: Met Office [67]</td>\n",
              "      <td>Source 1: Met Office [67]</td>\n",
              "    </tr>\n",
              "    <tr>\n",
              "      <th>9</th>\n",
              "      <td>Source 2: KNMI/Royal Dutch Meteorological Inst...</td>\n",
              "      <td>Source 2: KNMI/Royal Dutch Meteorological Inst...</td>\n",
              "      <td>Source 2: KNMI/Royal Dutch Meteorological Inst...</td>\n",
              "      <td>Source 2: KNMI/Royal Dutch Meteorological Inst...</td>\n",
              "      <td>Source 2: KNMI/Royal Dutch Meteorological Inst...</td>\n",
              "      <td>Source 2: KNMI/Royal Dutch Meteorological Inst...</td>\n",
              "      <td>Source 2: KNMI/Royal Dutch Meteorological Inst...</td>\n",
              "      <td>Source 2: KNMI/Royal Dutch Meteorological Inst...</td>\n",
              "      <td>Source 2: KNMI/Royal Dutch Meteorological Inst...</td>\n",
              "      <td>Source 2: KNMI/Royal Dutch Meteorological Inst...</td>\n",
              "      <td>Source 2: KNMI/Royal Dutch Meteorological Inst...</td>\n",
              "      <td>Source 2: KNMI/Royal Dutch Meteorological Inst...</td>\n",
              "      <td>Source 2: KNMI/Royal Dutch Meteorological Inst...</td>\n",
              "      <td>Source 2: KNMI/Royal Dutch Meteorological Inst...</td>\n",
              "    </tr>\n",
              "  </tbody>\n",
              "</table>\n",
              "</div>\n",
              "      <button class=\"colab-df-convert\" onclick=\"convertToInteractive('df-1547ec34-0e14-4416-ad9d-10b891dc199e')\"\n",
              "              title=\"Convert this dataframe to an interactive table.\"\n",
              "              style=\"display:none;\">\n",
              "        \n",
              "  <svg xmlns=\"http://www.w3.org/2000/svg\" height=\"24px\"viewBox=\"0 0 24 24\"\n",
              "       width=\"24px\">\n",
              "    <path d=\"M0 0h24v24H0V0z\" fill=\"none\"/>\n",
              "    <path d=\"M18.56 5.44l.94 2.06.94-2.06 2.06-.94-2.06-.94-.94-2.06-.94 2.06-2.06.94zm-11 1L8.5 8.5l.94-2.06 2.06-.94-2.06-.94L8.5 2.5l-.94 2.06-2.06.94zm10 10l.94 2.06.94-2.06 2.06-.94-2.06-.94-.94-2.06-.94 2.06-2.06.94z\"/><path d=\"M17.41 7.96l-1.37-1.37c-.4-.4-.92-.59-1.43-.59-.52 0-1.04.2-1.43.59L10.3 9.45l-7.72 7.72c-.78.78-.78 2.05 0 2.83L4 21.41c.39.39.9.59 1.41.59.51 0 1.02-.2 1.41-.59l7.78-7.78 2.81-2.81c.8-.78.8-2.07 0-2.86zM5.41 20L4 18.59l7.72-7.72 1.47 1.35L5.41 20z\"/>\n",
              "  </svg>\n",
              "      </button>\n",
              "      \n",
              "  <style>\n",
              "    .colab-df-container {\n",
              "      display:flex;\n",
              "      flex-wrap:wrap;\n",
              "      gap: 12px;\n",
              "    }\n",
              "\n",
              "    .colab-df-convert {\n",
              "      background-color: #E8F0FE;\n",
              "      border: none;\n",
              "      border-radius: 50%;\n",
              "      cursor: pointer;\n",
              "      display: none;\n",
              "      fill: #1967D2;\n",
              "      height: 32px;\n",
              "      padding: 0 0 0 0;\n",
              "      width: 32px;\n",
              "    }\n",
              "\n",
              "    .colab-df-convert:hover {\n",
              "      background-color: #E2EBFA;\n",
              "      box-shadow: 0px 1px 2px rgba(60, 64, 67, 0.3), 0px 1px 3px 1px rgba(60, 64, 67, 0.15);\n",
              "      fill: #174EA6;\n",
              "    }\n",
              "\n",
              "    [theme=dark] .colab-df-convert {\n",
              "      background-color: #3B4455;\n",
              "      fill: #D2E3FC;\n",
              "    }\n",
              "\n",
              "    [theme=dark] .colab-df-convert:hover {\n",
              "      background-color: #434B5C;\n",
              "      box-shadow: 0px 1px 3px 1px rgba(0, 0, 0, 0.15);\n",
              "      filter: drop-shadow(0px 1px 2px rgba(0, 0, 0, 0.3));\n",
              "      fill: #FFFFFF;\n",
              "    }\n",
              "  </style>\n",
              "\n",
              "      <script>\n",
              "        const buttonEl =\n",
              "          document.querySelector('#df-1547ec34-0e14-4416-ad9d-10b891dc199e button.colab-df-convert');\n",
              "        buttonEl.style.display =\n",
              "          google.colab.kernel.accessAllowed ? 'block' : 'none';\n",
              "\n",
              "        async function convertToInteractive(key) {\n",
              "          const element = document.querySelector('#df-1547ec34-0e14-4416-ad9d-10b891dc199e');\n",
              "          const dataTable =\n",
              "            await google.colab.kernel.invokeFunction('convertToInteractive',\n",
              "                                                     [key], {});\n",
              "          if (!dataTable) return;\n",
              "\n",
              "          const docLinkHtml = 'Like what you see? Visit the ' +\n",
              "            '<a target=\"_blank\" href=https://colab.research.google.com/notebooks/data_table.ipynb>data table notebook</a>'\n",
              "            + ' to learn more about interactive tables.';\n",
              "          element.innerHTML = '';\n",
              "          dataTable['output_type'] = 'display_data';\n",
              "          await google.colab.output.renderOutput(dataTable, element);\n",
              "          const docLink = document.createElement('div');\n",
              "          docLink.innerHTML = docLinkHtml;\n",
              "          element.appendChild(docLink);\n",
              "        }\n",
              "      </script>\n",
              "    </div>\n",
              "  </div>\n",
              "  "
            ],
            "text/plain": [
              "  .mw-parser-output .navbar{display:inline;font-size:88%;font-weight:normal}.mw-parser-output .navbar-collapse{float:left;text-align:left}.mw-parser-output .navbar-boxtext{word-spacing:0}.mw-parser-output .navbar ul{display:inline-block;white-space:nowrap;line-height:inherit}.mw-parser-output .navbar-brackets::before{margin-right:-0.125em;content:\"[ \"}.mw-parser-output .navbar-brackets::after{margin-left:-0.125em;content:\" ]\"}.mw-parser-output .navbar li{word-spacing:-0.125em}.mw-parser-output .navbar a>span,.mw-parser-output .navbar a>abbr{text-decoration:inherit}.mw-parser-output .navbar-mini abbr{font-variant:small-caps;border-bottom:none;text-decoration:none;cursor:inherit}.mw-parser-output .navbar-ct-full{font-size:114%;margin:0 7em}.mw-parser-output .navbar-ct-mini{font-size:114%;margin:0 4em}vteClimate data for Paisley[a], elevation: 16 m (52 ft) 1991–2020 normals, extremes 1959–present  ...                                                   \n",
              "                                                                                                                                                                                                                                                                                                                                                                                                                                                                                                                                                                                                                                                                                                                                                                                                                                                                                                                                     Month  ...                                               Year\n",
              "0                                Record high °C (°F)                                                                                                                                                                                                                                                                                                                                                                                                                                                                                                                                                                                                                                                                                                                                                                                                                                                                                        ...                                         31.0(87.8)\n",
              "1                               Average high °C (°F)                                                                                                                                                                                                                                                                                                                                                                                                                                                                                                                                                                                                                                                                                                                                                                                                                                                                                        ...                                         13.2(55.8)\n",
              "2                                 Daily mean °C (°F)                                                                                                                                                                                                                                                                                                                                                                                                                                                                                                                                                                                                                                                                                                                                                                                                                                                                                        ...                                          9.8(49.6)\n",
              "3                                Average low °C (°F)                                                                                                                                                                                                                                                                                                                                                                                                                                                                                                                                                                                                                                                                                                                                                                                                                                                                                        ...                                          6.5(43.7)\n",
              "4                                 Record low °C (°F)                                                                                                                                                                                                                                                                                                                                                                                                                                                                                                                                                                                                                                                                                                                                                                                                                                                                                        ...                                         −14.8(5.4)\n",
              "5                  Average precipitation mm (inches)                                                                                                                                                                                                                                                                                                                                                                                                                                                                                                                                                                                                                                                                                                                                                                                                                                                                                        ...                                     1,262.8(49.72)\n",
              "6              Average precipitation days (≥ 1.0 mm)                                                                                                                                                                                                                                                                                                                                                                                                                                                                                                                                                                                                                                                                                                                                                                                                                                                                                        ...                                              174.3\n",
              "7                        Mean monthly sunshine hours                                                                                                                                                                                                                                                                                                                                                                                                                                                                                                                                                                                                                                                                                                                                                                                                                                                                                        ...                                             1279.6\n",
              "8                          Source 1: Met Office [67]                                                                                                                                                                                                                                                                                                                                                                                                                                                                                                                                                                                                                                                                                                                                                                                                                                                                                        ...                          Source 1: Met Office [67]\n",
              "9  Source 2: KNMI/Royal Dutch Meteorological Inst...                                                                                                                                                                                                                                                                                                                                                                                                                                                                                                                                                                                                                                                                                                                                                                                                                                                                                        ...  Source 2: KNMI/Royal Dutch Meteorological Inst...\n",
              "\n",
              "[10 rows x 14 columns]"
            ]
          },
          "metadata": {},
          "execution_count": 5
        }
      ]
    },
    {
      "cell_type": "markdown",
      "metadata": {
        "id": "hBzjrbk8evK7"
      },
      "source": [
        "## From a local file\n",
        "---\n",
        "\n",
        "You can upload from a local file using the code below.  uploaded = file.upload() will open a file chooser and you can choose the data file from there.  After that, just use the file name to read from it.  \n",
        "\n",
        "The file exists while the notebook is running, so should only be uploaded once.  If you need to access again, cancel the upload.\n",
        "\n",
        "For this exercise you will need a copy of an Excel file.  To get a copy of this file \"public_use-talent-migration.xlsx\" go to this page: https://github.com/futureCodersSE/working-with-data/blob/main/Data%20sets/public_use-talent-migration.xlsx and click on the Download button.  You will now have a copy in your Downloads folder.\n"
      ]
    },
    {
      "cell_type": "code",
      "metadata": {
        "colab": {
          "background_save": true
        },
        "id": "w29Lrv_je0nj"
      },
      "source": [
        "import pandas as pd\n",
        "from google.colab import files\n",
        "import io\n",
        "\n",
        "def get_data():\n",
        "  # upload a set of chosen files then read a specified file\n",
        "  uploaded = files.upload()\n",
        "  df = pd.read_excel(uploaded['public_use-talent-migration.xlsx'],sheet_name=\"Industry Migration\")\n",
        "  return df\n",
        "\n",
        "\n",
        "\n",
        "# run and test the get_data() function, test visually - does it match the data on the web page\n",
        "get_data()"
      ],
      "execution_count": null,
      "outputs": []
    },
    {
      "cell_type": "markdown",
      "metadata": {
        "id": "I9m4HHb3Loxe"
      },
      "source": [
        "## From a csv file hosted on Github.com\n",
        "---\n",
        "\n",
        "The code below reads the data table stored in a Comma Separated Values file (this is a text file containing rows of data with each column within the row separated from the next column by a comma).  \n",
        "\n",
        "If you were using Jupyter Notebooks on your device, the url could be replaced with the path to the CSV file."
      ]
    },
    {
      "cell_type": "code",
      "metadata": {
        "id": "4mVk6FwZ-XZu"
      },
      "source": [
        "import pandas as pd\n",
        "url = \"https://raw.githubusercontent.com/futureCodersSE/working-with-data/main/Data%20sets/Paisley-Weather-Data.csv\"\n",
        "df = pd.read_csv(url)\n",
        "df"
      ],
      "execution_count": null,
      "outputs": []
    },
    {
      "cell_type": "markdown",
      "metadata": {
        "id": "uVBfyjCQMVvA"
      },
      "source": [
        "## From an Excel file hosted on Github.com\n",
        "---\n",
        "\n",
        "The code below reads the data table from a sheet in an Excel file.  If you don't specify a sheet then it will assume that you want to read the data from the first sheet in the Excel workbook (sheet_name = 0).  If you don't know the sheet name but know it is the second sheet, you can use sheet_name = 1, or 2 for the third sheet, etc.\n",
        "\n",
        "If you were using Jupyter Notebooks on your device, the url could be replace with the path to the Excel file."
      ]
    },
    {
      "cell_type": "code",
      "metadata": {
        "id": "Att2-4UtBAhW"
      },
      "source": [
        "import pandas as pd\n",
        "url = \"https://github.com/futureCodersSE/working-with-data/blob/main/Data%20sets/public_use-talent-migration.xlsx?raw=true\"\n",
        "df = pd.read_excel(url,sheet_name=\"Industry Migration\")\n",
        "df"
      ],
      "execution_count": null,
      "outputs": []
    },
    {
      "cell_type": "markdown",
      "metadata": {
        "id": "3NQA3HFJOT8X"
      },
      "source": [
        "## From an API which delivers the data in JSON format\n",
        "---\n",
        "\n",
        "The code below requests the data from the url.  This is a bit more tricky than the other ways to get the data as how you access the data will depend on how it is organised.\n",
        "\n",
        "In this example, the data is returned as a dictionary, which will have the key 'data' against which the actual data is stored.  In the example, the data has been taken from the 'data' key/value pair and is stored in json_data. \n",
        "\n",
        "Again, in this example, the json_data is a list of json_objects but it only has one object in the list.  Try adding the line `print(json_data)` to see this.  \n",
        "\n",
        "data_table is the first object in the json_data list.  Try adding the line `print(data_table)` to see this.\n",
        "\n",
        "In this example, the data table object has three keys, 'to', 'from' and 'regions'.  The 'regions' value is the data we want to use in our dataframe, so we normalize this json data into a pandas dataframe (df), which you can see as the output.  \n",
        "\n",
        "Each API is likely to deliver its data in a different format and so you will need to be happy to read the documentation and to inspect the data to see what keys and indexes you need to access.\n",
        "\n",
        "For information on the format of the data, see https://carbon-intensity.github.io/api-definitions/#regional"
      ]
    },
    {
      "cell_type": "code",
      "metadata": {
        "id": "7uEDgTjJFYiZ"
      },
      "source": [
        "import pandas as pd\n",
        "import requests\n",
        "\n",
        "url = \"https://api.carbonintensity.org.uk/regional\"\n",
        "json_data = requests.get(url).json()['data']\n",
        "data_table = json_data[0]\n",
        "df = pd.json_normalize(data_table['regions'])\n",
        "df\n"
      ],
      "execution_count": null,
      "outputs": []
    },
    {
      "cell_type": "markdown",
      "metadata": {
        "id": "_ow6HQWqIsh0"
      },
      "source": [
        "### Exercise - upload a file from your local drive\n",
        "\n",
        "Visit the Kent and Medway Air Quality site: https://kentair.org.uk/\n",
        "\n",
        "Collect a data file containing data on Ozone levels in Dover:\n",
        "\n",
        "Open the site\n",
        "Go to the Data page  \n",
        "Launch the data selector tool  \n",
        "Select:\n",
        "*  Automatic monitoring data\n",
        "*  Measurement data and simple statistics\n",
        "*  Ozone\n",
        "*  Daily mean\n",
        "*  This month\n",
        "*  Thurrock\n",
        "*  Thurrock\n",
        "\n",
        "Click on Download CSV\n",
        "\n",
        "This should be downloaded into your Downloads folder.\n",
        "\n",
        "NOW\n",
        "\n",
        "Write a function that will allow you to upload the file and then read its contents into a dataframe.\n",
        "\n",
        "To read an uploaded CSV file (which will be in bytes format) use:\n",
        "\n",
        "```\n",
        "df = pd.read_csv(io.BytesIO(uploaded['your filename']))\n",
        "```\n",
        "\n",
        "\n",
        "Display the dataframe and compare the contents with the output on the site you took the data from.\n",
        "\n",
        "\n",
        "\n"
      ]
    },
    {
      "cell_type": "code",
      "metadata": {
        "id": "KxCrBhaWKsku"
      },
      "source": [
        "import pandas as pd\n",
        "from google.colab import files\n",
        "import io\n",
        "\n",
        "def get_data():\n",
        "  # upload a set of chosen files then read a specified file\n",
        "  !rm NO2-daily-mean-2014-2021-Swale-Newington.csv\n",
        "  uploaded = files.upload()\n",
        "  df = pd.read_csv(io.BytesIO(uploaded['NO2-daily-mean-2014-2021-Swale-Newington.csv']))\n",
        "  return df\n",
        "\n",
        "get_data()"
      ],
      "execution_count": null,
      "outputs": []
    },
    {
      "cell_type": "markdown",
      "source": [
        "# ACTIVITIES\n",
        "\n",
        "RUN ALL THE CODE CELLS ABOVE TO SEE WHAT THEY DO AND WHAT DATA THEY GET FOR YOU.\n",
        "\n",
        "Now have a go at opening a few data sets yourself.\n",
        "\n",
        "### Exercise 1\n",
        "---\n",
        "\n",
        "*  Open the datasets list: [here](https://docs.google.com/document/d/1cijDOCDixsYu-Rr9pC8STPPXado3xoFpgBAZgdDTLHs/edit?usp=sharing)  \n",
        "\n",
        "*  Find a dataset that is a CSV file, copy the code above (for online CSV) into the code cell below\n",
        "\n",
        "*  Run the code to open the data.\n",
        "\n"
      ],
      "metadata": {
        "id": "Tm1GBCJMXOXz"
      }
    },
    {
      "cell_type": "code",
      "source": [
        ""
      ],
      "metadata": {
        "id": "sRoQo_rKZEJK"
      },
      "execution_count": null,
      "outputs": []
    },
    {
      "cell_type": "markdown",
      "source": [
        "### Exercise 2\n",
        "---\n",
        "Open the datasets list: [here](https://docs.google.com/document/d/1cijDOCDixsYu-Rr9pC8STPPXado3xoFpgBAZgdDTLHs/edit?usp=sharing)  \n",
        "\n",
        "* Find a dataset that is an Excel file\n",
        "* Copy the code above (for Excel files on Github) into the code cell below\n",
        "* Change the line\n",
        "```\n",
        "df = pd.read_excel(url,sheet_name=\"Industry Migration\") \n",
        "```\n",
        "to \n",
        "```\n",
        "df = pd.read_excel(url)\n",
        "```\n",
        "This will then open the first sheet in the Excel file, rather than a named sheet.\n",
        "\n",
        "* Run the code to open the data."
      ],
      "metadata": {
        "id": "iL8MgXxSZEuY"
      }
    },
    {
      "cell_type": "code",
      "source": [
        ""
      ],
      "metadata": {
        "id": "SgPuXv4caFbB"
      },
      "execution_count": null,
      "outputs": []
    },
    {
      "cell_type": "markdown",
      "source": [
        "### Exercise 3\n",
        "---\n",
        "*  Copy the code from the API delivered in JSON format\n",
        "*  Change the URL to add /england to the end of it\n",
        "*  Run the code to see the data for England only\n",
        "*  Change it again to show data for Scotland, (/scotland)\n",
        "*  Change it again to show data for Wales"
      ],
      "metadata": {
        "id": "kn-okYP4aqo8"
      }
    },
    {
      "cell_type": "code",
      "source": [
        ""
      ],
      "metadata": {
        "id": "IT-OLNOgbL0S"
      },
      "execution_count": null,
      "outputs": []
    }
  ]
}