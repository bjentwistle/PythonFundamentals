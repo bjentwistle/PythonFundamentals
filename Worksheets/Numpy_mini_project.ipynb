{
  "nbformat": 4,
  "nbformat_minor": 0,
  "metadata": {
    "colab": {
      "name": "Numpy mini-project.ipynb",
      "provenance": [],
      "collapsed_sections": [],
      "include_colab_link": true
    },
    "kernelspec": {
      "name": "python3",
      "display_name": "Python 3"
    },
    "language_info": {
      "name": "python"
    }
  },
  "cells": [
    {
      "cell_type": "markdown",
      "metadata": {
        "id": "view-in-github",
        "colab_type": "text"
      },
      "source": [
        "<a href=\"https://colab.research.google.com/github/bjentwistle/PythonFundamentals/blob/main/Worksheets/Numpy_mini_project.ipynb\" target=\"_parent\"><img src=\"https://colab.research.google.com/assets/colab-badge.svg\" alt=\"Open In Colab\"/></a>"
      ]
    },
    {
      "cell_type": "markdown",
      "source": [
        "# Investigate, wrangle, add new data to the dataframe, filter and correlate\n",
        "\n",
        "The following data file contains data about student scores in math, reading and writing.  The exam scores are assumed to be percentages. It also contains data about gender, ethnicity, parental education, whether the student qualifies for free school food and whether or not the student has taken a preparation course for the exams.  The data set has already been cleaned. \n",
        "\n",
        "1.  Investigate the data set.\n",
        "\n",
        "2.  Create numpy arrays to hold each of the three sets of scores.  \n",
        "Create a new numpy array to hold the average exam score (of the three scores for each student)\n",
        "Add the new numpy array as a new column in the dataframe.\n",
        "\n",
        "3.  Filter the original dataset into a new dataframe containing just the females.  Calculate the average exam scores for all rows in this new dataframe and then find the mean of the average column.\n",
        "\n",
        "4.  Do the same for the males.\n",
        "\n",
        "5.  Use the original dataset to find the correlation coefficient for reading and maths.  How closely do they correlate?  Write what you find in a text box below the code.\n",
        "\n",
        "6.  Do the same for reading and writing. What do you find?\n",
        "\n",
        "7.  You might want to filter on different criteria and check correlation (e.g. those on free school meals, or those who had prepared, etc)\n",
        "\n",
        "\n",
        "\n",
        "\n",
        "\n"
      ],
      "metadata": {
        "id": "8qnlsapq24Df"
      }
    },
    {
      "cell_type": "markdown",
      "source": [
        "The dataset can be accessed here:  https://raw.githubusercontent.com/lilaceri/Working-with-data-/main/Data%20Sets%20for%20code%20divisio/exams.csv.  This is a .csv file.\n",
        "\n",
        "**NOTE:** Some useful references are included at the bottom of this spreadsheet.\n",
        "\n",
        "Use the code cell below to work your code."
      ],
      "metadata": {
        "id": "SSvLiFnp4LjG"
      }
    },
    {
      "cell_type": "code",
      "source": [
        "import pandas as pd\n",
        "import numpy as np\n",
        "\n",
        "url = \"https://raw.githubusercontent.com/lilaceri/Working-with-data-/main/Data%20Sets%20for%20code%20divisio/exams.csv\"\n",
        "df = pd.read_csv(url)\n",
        "\n",
        "def get_student():\n",
        "  math_score = df['math_score'].to_numpy(np.float16)\n",
        "  reading_score = df['reading_score'].to_numpy(np.float16)\n",
        "  writing_score = df['writing_score'].to_numpy(np.float16)\n",
        "\n",
        "  sum_of_scores = (math_score + reading_score + writing_score)\n",
        "  mean_of_scores = sum_of_scores/3\n",
        "  df['mean of scores'] = mean_of_scores.tolist()\n",
        "\n",
        "  return df\n",
        "\n",
        "df = get_student()\n",
        "\n",
        "#filter for female results\n",
        "def find_female_results():\n",
        "  female_filter = df[df['gender'].str.contains(\"female\", case=True)]\n",
        "\n",
        "  math_score = female_filter['math_score'].to_numpy(np.float16)\n",
        "  reading_score = female_filter['reading_score'].to_numpy(np.float16)\n",
        "  writing_score = female_filter['writing_score'].to_numpy(np.float16)\n",
        "\n",
        "  sum_of_scores = (math_score + reading_score + writing_score)\n",
        "  mean_of_scores = sum_of_scores/3\n",
        "  female_filter['mean of scores'] = mean_of_scores.tolist()\n",
        "\n",
        "  print(female_filter)\n",
        "\n",
        "  mean_of_faverages = mean_of_scores.mean()\n",
        "  return mean_of_faverages\n",
        "\n",
        "mean_of_faverages = find_female_results()\n",
        "print(\"Mean of female scores = \", mean_of_faverages)\n",
        "\n",
        "#filter for male results\n",
        "def find_male_results():\n",
        "  male_filter = df[df['gender'].str.contains(\"male\", case=True)]\n",
        "\n",
        "  math_score = male_filter['math_score'].to_numpy(np.float16)\n",
        "  reading_score = male_filter['reading_score'].to_numpy(np.float16)\n",
        "  writing_score = male_filter['writing_score'].to_numpy(np.float16)\n",
        "\n",
        "  sum_of_scores = (math_score + reading_score + writing_score)\n",
        "  mean_of_scores = sum_of_scores/3\n",
        "  male_filter['mean of scores'] = mean_of_scores.tolist()\n",
        "\n",
        "  print(male_filter)\n",
        "\n",
        "  mean_of_maverages = mean_of_scores.mean()\n",
        "  return mean_of_maverages\n",
        "\n",
        "mean_of_maverages = find_male_results()\n",
        "print(\"Mean of male scores = \", mean_of_maverages)\n",
        "\n"
      ],
      "metadata": {
        "id": "txM4TIRUHhsJ",
        "colab": {
          "base_uri": "https://localhost:8080/"
        },
        "outputId": "b9a45d98-2c05-4433-9c4d-30bf2da1831a"
      },
      "execution_count": 40,
      "outputs": [
        {
          "output_type": "stream",
          "name": "stdout",
          "text": [
            "     gender ethnicity  ... writing_score mean of scores\n",
            "0    female   group E  ...            71       70.68750\n",
            "2    female   group B  ...            61       59.65625\n",
            "4    female   group C  ...            55       47.65625\n",
            "5    female   group B  ...            61       60.00000\n",
            "6    female   group D  ...            92       88.31250\n",
            "..      ...       ...  ...           ...            ...\n",
            "989  female   group D  ...            82       76.68750\n",
            "991  female   group C  ...            77       74.00000\n",
            "992  female   group C  ...            65       57.65625\n",
            "994  female   group D  ...            80       75.31250\n",
            "997  female   group C  ...            93       84.00000\n",
            "\n",
            "[496 rows x 9 columns]\n",
            "Mean of female scores =  70.8\n",
            "     gender ethnicity  ... writing_score mean of scores\n",
            "0    female   group E  ...            71       70.68750\n",
            "1      male   group C  ...            69       72.00000\n",
            "2    female   group B  ...            61       59.65625\n",
            "3      male   group D  ...            59       59.65625\n",
            "4    female   group C  ...            55       47.65625\n",
            "..      ...       ...  ...           ...            ...\n",
            "995    male   group B  ...            74       75.68750\n",
            "996    male   group D  ...            82       83.68750\n",
            "997  female   group C  ...            93       84.00000\n",
            "998    male   group B  ...            57       60.34375\n",
            "999    male   group B  ...            40       39.00000\n",
            "\n",
            "[1000 rows x 9 columns]\n",
            "Mean of male scores =  68.4\n"
          ]
        },
        {
          "output_type": "stream",
          "name": "stderr",
          "text": [
            "/usr/local/lib/python3.7/dist-packages/ipykernel_launcher.py:30: SettingWithCopyWarning: \n",
            "A value is trying to be set on a copy of a slice from a DataFrame.\n",
            "Try using .loc[row_indexer,col_indexer] = value instead\n",
            "\n",
            "See the caveats in the documentation: https://pandas.pydata.org/pandas-docs/stable/user_guide/indexing.html#returning-a-view-versus-a-copy\n"
          ]
        }
      ]
    },
    {
      "cell_type": "markdown",
      "source": [
        "### Helpful references\n",
        "---\n",
        "\n",
        "Filtering on criteria using df references:  \n",
        "`filtered_df = df[df['column name' == value]]`  \n",
        "\n",
        "Filtering on multiple criteria using df reference:  \n",
        "`filtered_df = df[df['first column name' == value] & df[second column name] >= value]`\n",
        "\n",
        "Numpy help sheet:  http://datacamp-community-prod.s3.amazonaws.com/da466534-51fe-4c6d-b0cb-154f4782eb54\n",
        "\n"
      ],
      "metadata": {
        "id": "hkj-Ofus_D6_"
      }
    }
  ]
}