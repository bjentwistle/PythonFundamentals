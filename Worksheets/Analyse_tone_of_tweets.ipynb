{
  "nbformat": 4,
  "nbformat_minor": 0,
  "metadata": {
    "colab": {
      "name": "Analyse tone of tweets.ipynb",
      "provenance": [],
      "collapsed_sections": [],
      "include_colab_link": true
    },
    "kernelspec": {
      "name": "python3",
      "display_name": "Python 3"
    },
    "language_info": {
      "name": "python"
    }
  },
  "cells": [
    {
      "cell_type": "markdown",
      "metadata": {
        "id": "view-in-github",
        "colab_type": "text"
      },
      "source": [
        "<a href=\"https://colab.research.google.com/github/bjentwistle/PythonFundamentals/blob/main/Projects/Analyse_tone_of_tweets.ipynb\" target=\"_parent\"><img src=\"https://colab.research.google.com/assets/colab-badge.svg\" alt=\"Open In Colab\"/></a>"
      ]
    },
    {
      "cell_type": "markdown",
      "source": [
        "# Project - analyse a set of tweets for tone\n",
        "---\n",
        "\n",
        "Search for some tweets (maybe with a particular tag, maybe from a particular user) and analyse the text for its tone, using the IBM Tone Analyser, or another IBM service\n",
        "\n",
        "1.  Sign up for a developer account on Twitter (https://developer.twitter.com/) and copy your bearer token to a document on your own device (e.g. notepad)\n",
        "\n",
        "2.  Install the tweepy library (for Twitter) into this notebook"
      ],
      "metadata": {
        "id": "wvfWi5l5zLmL"
      }
    },
    {
      "cell_type": "markdown",
      "source": [
        "# Must have the Twitter API client open and logged in to before you can access it - any issues then restart runtime."
      ],
      "metadata": {
        "id": "lV29mPS01oWo"
      }
    },
    {
      "cell_type": "code",
      "source": [
        "!pip install tweepy --upgrade"
      ],
      "metadata": {
        "id": "wEjMmg7A2-km",
        "outputId": "4c778536-25ea-4c25-e59a-19e1517939f6",
        "colab": {
          "base_uri": "https://localhost:8080/"
        }
      },
      "execution_count": 1,
      "outputs": [
        {
          "output_type": "stream",
          "name": "stdout",
          "text": [
            "Requirement already satisfied: tweepy in /usr/local/lib/python3.7/dist-packages (3.10.0)\n",
            "Collecting tweepy\n",
            "  Downloading tweepy-4.7.0-py2.py3-none-any.whl (76 kB)\n",
            "\u001b[K     |████████████████████████████████| 76 kB 2.0 MB/s \n",
            "\u001b[?25hRequirement already satisfied: oauthlib<4,>=3.2.0 in /usr/local/lib/python3.7/dist-packages (from tweepy) (3.2.0)\n",
            "Requirement already satisfied: requests-oauthlib<2,>=1.2.0 in /usr/local/lib/python3.7/dist-packages (from tweepy) (1.3.1)\n",
            "Collecting requests<3,>=2.27.0\n",
            "  Downloading requests-2.27.1-py2.py3-none-any.whl (63 kB)\n",
            "\u001b[K     |████████████████████████████████| 63 kB 952 kB/s \n",
            "\u001b[?25hRequirement already satisfied: urllib3<1.27,>=1.21.1 in /usr/local/lib/python3.7/dist-packages (from requests<3,>=2.27.0->tweepy) (1.24.3)\n",
            "Requirement already satisfied: charset-normalizer~=2.0.0 in /usr/local/lib/python3.7/dist-packages (from requests<3,>=2.27.0->tweepy) (2.0.12)\n",
            "Requirement already satisfied: idna<4,>=2.5 in /usr/local/lib/python3.7/dist-packages (from requests<3,>=2.27.0->tweepy) (2.10)\n",
            "Requirement already satisfied: certifi>=2017.4.17 in /usr/local/lib/python3.7/dist-packages (from requests<3,>=2.27.0->tweepy) (2021.10.8)\n",
            "Installing collected packages: requests, tweepy\n",
            "  Attempting uninstall: requests\n",
            "    Found existing installation: requests 2.23.0\n",
            "    Uninstalling requests-2.23.0:\n",
            "      Successfully uninstalled requests-2.23.0\n",
            "  Attempting uninstall: tweepy\n",
            "    Found existing installation: tweepy 3.10.0\n",
            "    Uninstalling tweepy-3.10.0:\n",
            "      Successfully uninstalled tweepy-3.10.0\n",
            "\u001b[31mERROR: pip's dependency resolver does not currently take into account all the packages that are installed. This behaviour is the source of the following dependency conflicts.\n",
            "google-colab 1.0.0 requires requests~=2.23.0, but you have requests 2.27.1 which is incompatible.\n",
            "datascience 0.10.6 requires folium==0.2.1, but you have folium 0.8.3 which is incompatible.\u001b[0m\n",
            "Successfully installed requests-2.27.1 tweepy-4.7.0\n"
          ]
        }
      ]
    },
    {
      "cell_type": "markdown",
      "source": [
        "3. store your bearer token in an environment variable (a variable within the OS) so that it can be hidden from notebook viewers (never upload a visible security code (key or token) to Github.   ONCE you have run the code cell below, remove the output cell that shows the bearer token you have copied in"
      ],
      "metadata": {
        "id": "_4eqWM-N3HgE"
      }
    },
    {
      "cell_type": "code",
      "source": [
        "#Input Bearer token to access the Twitter API next.\n",
        "import os\n",
        "os.environ['BEARER_TOKEN'] = input(\"Bearer token: \")"
      ],
      "metadata": {
        "id": "x7vLXt2VwY_Y"
      },
      "execution_count": null,
      "outputs": []
    },
    {
      "cell_type": "code",
      "execution_count": 18,
      "metadata": {
        "id": "3lNU8LnVadOE",
        "outputId": "1a9d7dd3-98a0-4364-adfd-16263d9abf94",
        "colab": {
          "base_uri": "https://localhost:8080/"
        }
      },
      "outputs": [
        {
          "output_type": "stream",
          "name": "stdout",
          "text": [
            "Response(data=[<Tweet id=1507047839616094211 text='It’s been a month since Russia’s military first invaded Ukraine\\n\\nCities are in ruins, millions have fled and many lives have been lost\\n\\nhttps://t.co/s7SXWKhQFQ https://t.co/MnTQouADO4'>, <Tweet id=1507042785706352645 text='\"Come with Ukrainian symbols to support Ukraine, to support freedom, to support life\"\\n\\nUkrainian President Zelensky asks people everywhere to take to the streets and show support for Ukraine one month since Russia invaded\\n\\nhttps://t.co/YImnzp8q4f https://t.co/GgK8zGr9Ui'>, <Tweet id=1507042741406117904 text='RT @BBCNews: \"We will not stand by while Putin vents his fury on Ukraine. I\\'ve rarely seen our nations more united in recent years than we…'>, <Tweet id=1507042720661053448 text='RT @BBCNews: \"Ukraine is not alone... Putin must fail, and he will fail\"\\n\\nUK PM Boris Johnson says Nato leaders have agreed to \"continue tu…'>, <Tweet id=1507036437891493888 text='Ethiopia\\'s government declares \"humanitarian truce\" in 16-month conflict with forces from Tigray https://t.co/fJwEkyvaJt'>, <Tweet id=1507030806635720709 text='\"She\\'s so good... she\\'s perfect\"\\n\\nAustralian three-time Grand Slam champion Ashleigh Barty announced her retirement from tennis on Wednesday\\n\\nPlayers at Brisbane tennis centre where she trained explain what she means to them\\n\\nhttps://t.co/2u8lyPMhol https://t.co/tirAMk3y6I'>, <Tweet id=1507023447137964034 text='Jurassic dinosaurs emerge from Wyoming badlands https://t.co/zJIobttIoz'>, <Tweet id=1507015896518168578 text='Lose your fear, dissident Nicaraguan diplomat says https://t.co/1ubKZ3vTnO'>, <Tweet id=1507014014533976075 text=\"Retiring tennis champion Ashleigh Barty says 'wait and see' on her plans https://t.co/vSpDLEq6IS\">, <Tweet id=1507008361769828362 text='Home-team advantage - brothers in arms on the Ukraine front line https://t.co/LAinwSMBYY'>, <Tweet id=1507001398726049797 text=\"RT @BBCRosAtkins: 9 mins on the untruths and distortions that Russia is spreading about 'Nazis' in Ukraine - including about the role of th…\">, <Tweet id=1507001194392305665 text='UK unveils new Russia sanctions as PM Boris Johnson aims at gold reserves https://t.co/PXbCQNxVj7'>, <Tweet id=1506995013603012613 text='Netflix boss Scott Stuber says Oscar best picture win would be \"the dream\" https://t.co/xNXD7W32Xl'>, <Tweet id=1506993561740492806 text='“Leaders approved our four new battlegroups in Bulgaria, Hungary, Romania and Slovakia”\\n\\nNato Secretary General Jens Stoltenberg says the alliance has approved major increases of its forces in Eastern Europe as conflict in Ukraine continues\\n\\nhttps://t.co/2Q26DMn5SX https://t.co/JzZOVmsTLr'>, <Tweet id=1506989937958207500 text='LGBT people in Iraq live in fear of lives https://t.co/3wMe3QaNHc'>], includes={}, errors=[], meta={'newest_id': '1507047839616094211', 'oldest_id': '1506989937958207500', 'result_count': 15, 'next_token': 'b26v89c19zqg8o3fpyqns356mcebpyuf59e5d04cs7xbx'})\n",
            "//t.co/s7SXWKhQFQ https\n",
            "//t.co/YImnzp8q4f https\n",
            " \"We will not stand by while Putin vents his fury on Ukraine. I've rarely seen our nations more united in recent years than we…\n",
            " \"Ukraine is not alone... Putin must fail, and he will fail\"  UK PM Boris Johnson says Nato leaders have agreed to \"continue tu…\n",
            "//t.co/fJwEkyvaJt\n",
            "//t.co/2u8lyPMhol https\n",
            "//t.co/zJIobttIoz\n",
            "//t.co/1ubKZ3vTnO\n",
            "//t.co/vSpDLEq6IS\n",
            "//t.co/LAinwSMBYY\n",
            " 9 mins on the untruths and distortions that Russia is spreading about 'Nazis' in Ukraine - including about the role of th…\n",
            "//t.co/PXbCQNxVj7\n",
            "//t.co/xNXD7W32Xl\n",
            "//t.co/2Q26DMn5SX https\n",
            "//t.co/3wMe3QaNHc\n"
          ]
        }
      ],
      "source": [
        "import tweepy as tw\n",
        "\n",
        "# get a Twitter client that will run a search for recent tweets (see https://docs.tweepy.org/en/stable/client.html#tweepy.Client.unhide_reply for other functions available in the client)\n",
        "def get_tweets():\n",
        "    client = tw.Client(bearer_token=os.environ.get('BEARER_TOKEN'))\n",
        "    query = 'from:BBCWorld'\n",
        "    tweets = client.search_recent_tweets(query=query, tweet_fields=['context_annotations', 'created_at'], max_results=15)\n",
        "    return tweets\n",
        "\n",
        "# use the get_tweets() function to get a list of tweets\n",
        "tweet_list = get_tweets()\n",
        "print(tweet_list)\n",
        "for tweet in tweet_list[0]:\n",
        "    tweet = str(tweet)\n",
        "    tweetparts = tweet.split(':')\n",
        "    if len(tweetparts) > 1:\n",
        "      tweet = tweetparts[1]\n",
        "    twt = \" \".join(tweet.splitlines())\n",
        "    print(twt)"
      ]
    },
    {
      "cell_type": "markdown",
      "source": [
        "# Suggestions\n",
        "---\n",
        "\n",
        "Collect a set of tweets with a common thread (same user, same topic, mentions the same account).   \n",
        "\n",
        "If you have an IBM Cloud (Lite) account and can access the Tone Analyser, analyse the tweets in relation to tone/sentiment."
      ],
      "metadata": {
        "id": "c8OLpaIi4G7y"
      }
    },
    {
      "cell_type": "code",
      "source": [
        ""
      ],
      "metadata": {
        "id": "9H6D7m-m4pV9"
      },
      "execution_count": null,
      "outputs": []
    }
  ]
}