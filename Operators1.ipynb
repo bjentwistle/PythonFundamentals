{
  "nbformat": 4,
  "nbformat_minor": 0,
  "metadata": {
    "colab": {
      "name": "Operators1.ipynb",
      "provenance": [],
      "collapsed_sections": [],
      "include_colab_link": true
    },
    "kernelspec": {
      "name": "python3",
      "display_name": "Python 3"
    }
  },
  "cells": [
    {
      "cell_type": "markdown",
      "metadata": {
        "id": "view-in-github",
        "colab_type": "text"
      },
      "source": [
        "<a href=\"https://colab.research.google.com/github/bjentwistle/PythonFundamentals/blob/main/Operators1.ipynb\" target=\"_parent\"><img src=\"https://colab.research.google.com/assets/colab-badge.svg\" alt=\"Open In Colab\"/></a>"
      ]
    },
    {
      "cell_type": "markdown",
      "metadata": {
        "id": "3O7iro_BV0mL"
      },
      "source": [
        "# Operators - arithmetic\n",
        "\n",
        "---"
      ]
    },
    {
      "cell_type": "markdown",
      "metadata": {
        "id": "Nk7bg_hfLzu7"
      },
      "source": [
        "In Python, we can use the following arithmetic operators:  \n",
        "\n",
        "![Python operators](https://drive.google.com/uc?id=1EARs0OefvMwAULyNGGs01xYLW3lIAO9B)\n",
        "\n",
        "\n",
        "\n",
        "\n",
        "\n",
        "\n",
        "\n",
        "\n",
        "\n"
      ]
    },
    {
      "cell_type": "markdown",
      "metadata": {
        "id": "ohKiZuy-OnDN"
      },
      "source": [
        "---\n",
        "### Exercise 1 - multiplication of integers\n",
        "Write a function called **print_dog_human_age()** which will:  \n",
        "\n",
        "*  ask the user to input their dog's age and assign this to an integer variable called **dog_age**  \n",
        "*  calculate the dog’s age in human years by multiplying it by 7, assigning it to a new variable called **dog_human_age**  \n",
        "*  print the age in human years (`dog_human_age`)    \n",
        "\n",
        "Test Input:  \n",
        "4  \n",
        "\n",
        "Expected output:  \n",
        "28\n"
      ]
    },
    {
      "cell_type": "code",
      "metadata": {
        "id": "kWpM2m4nO7Ir"
      },
      "source": [
        ""
      ],
      "execution_count": null,
      "outputs": []
    },
    {
      "cell_type": "markdown",
      "metadata": {
        "id": "fvxtRRcfOnGr"
      },
      "source": [
        "---\n",
        "### Exercise 2 - BIDMAS\n",
        "Write a function called **calculate_average()** which will:  \n",
        "\n",
        "*  ask the user for 3 seperate numbers, **num1**, **num2**, **num3**  \n",
        "*  calculate the **average** of the three numbers\n",
        "*  print the `average`, rounded to 2 decimal places  \n",
        "\n",
        "*Hint 1:  to round a number, use round(), e.g. round(`average`)  *\n",
        "*Hint 2: remember the BIDMAS order of operators and use brackets to change the order if necessary.*  \n",
        "\n",
        "Test Input:  \n",
        "3  \n",
        "5  \n",
        "9  \n",
        "\n",
        "Expected output:  \n",
        "5.67"
      ]
    },
    {
      "cell_type": "code",
      "metadata": {
        "id": "jYtLq8olPRZM"
      },
      "source": [
        ""
      ],
      "execution_count": null,
      "outputs": []
    },
    {
      "cell_type": "markdown",
      "metadata": {
        "id": "r9w0fiW-PR2D"
      },
      "source": [
        "---\n",
        "### Exercise 3 - BIDMAS\n",
        "\n",
        "Write a function called **calculate_avg_height()** which will:  \n",
        "\n",
        "*  ask the user to input their **height**  \n",
        "*  convert `height` to **height_centimeters** (multiply by 100)  \n",
        "*  print `height_centimeters`  \n",
        "\n",
        "*Remember, height in metres is usually a decimal, so data type matters*  \n",
        "\n",
        "Test Input:  \n",
        "1.67  \n",
        "\n",
        "Expected output:  \n",
        "167\n"
      ]
    },
    {
      "cell_type": "code",
      "metadata": {
        "id": "2dMgvQlUPirV"
      },
      "source": [
        ""
      ],
      "execution_count": null,
      "outputs": []
    },
    {
      "cell_type": "markdown",
      "metadata": {
        "id": "QTprQ2zhPi9L"
      },
      "source": [
        "---\n",
        "### Exercise 4 - float and formatting printing\n",
        "\n",
        "At the time of writing, the exchange rate from Pounds (£) to Euros (€) is 1.16 (£1 = €1.16).\n",
        "\n",
        "Write a function called **convert_currency(**) which will:\n",
        "\n",
        "*  ask a user to input an amount in **pounds**  \n",
        "*  calculate the equivalent number of **euros**  \n",
        "*  print `euros`, rounded to 2 decimal places  \n",
        "\n",
        "Test Input:  \n",
        "£60\n",
        "\n",
        "Expected output:  \n",
        "€69.6  \n",
        "\n",
        "*Remember, pounds is likely to be a decimal number and that the user should not enter the £ sign.*"
      ]
    },
    {
      "cell_type": "code",
      "metadata": {
        "id": "DXqxS75kQWOm"
      },
      "source": [
        ""
      ],
      "execution_count": null,
      "outputs": []
    },
    {
      "cell_type": "markdown",
      "metadata": {
        "id": "Eur4tRWUQWYL"
      },
      "source": [
        "---\n",
        "### Exercise 5 - rounding\n",
        "\n",
        "Write a function called **calculate_stats()** which will:  \n",
        "\n",
        "*  assign the numbers 3.145, 5.6723 and 9.34 to the variables **num1**, **num2** and **num3** respectively  \n",
        "*  calculate the **total** of the three numbers, rounded to 2 decimal places  \n",
        "*  calculate the **average** of the numbers, rounded to 3 decimal places  \n",
        "*  print `total` and `average` in a message that labels them.\n",
        "\n",
        "Expected output:\n",
        "\n",
        "The total of the three numbers is 18.16  \n",
        "The average of the three numbers is 6.052\n",
        "\n",
        "*Remember to calculate the average you divide the total by the quantity of numbers, e.g. total/3*\n"
      ]
    },
    {
      "cell_type": "code",
      "metadata": {
        "id": "pD1lMOhuRZvd"
      },
      "source": [
        ""
      ],
      "execution_count": null,
      "outputs": []
    },
    {
      "cell_type": "markdown",
      "metadata": {
        "id": "jsV3uF5aRZ56"
      },
      "source": [
        "---\n",
        "### Exercise 6 - calculating volume\n",
        "\n",
        "Bill is moving house. He needs to know how much space his cardboard packing boxes have.   \n",
        "\n",
        "Write a function called **calculate_volume()** which will:   \n",
        "\n",
        "*  assign the value 3.2, 5.6 and 7.8 to the variables **base**, **width** and **height** respectively  \n",
        "*  calculate the **box_volume** rounded to 1 decimal place  \n",
        "*  print the `box_volume`\n",
        "\n",
        "*Hint: volume = base x width x height*\n",
        "\n",
        "Expected output:  \n",
        "139.8\n"
      ]
    },
    {
      "cell_type": "code",
      "metadata": {
        "id": "WVLFFYayRwcN"
      },
      "source": [
        ""
      ],
      "execution_count": null,
      "outputs": []
    },
    {
      "cell_type": "markdown",
      "metadata": {
        "id": "Apy8QqKIB3_c"
      },
      "source": [
        "---\n",
        "***Floor Division***  \n",
        "*So far, we have been using standard arithmetic operators. If we would like to divide without remainders (eg. no decimals) we can use floor division using the // operator.  This will always round down*.  \n",
        "\n",
        "*For example*:  \n",
        "*42/8 = 5.75*  \n",
        "*BUT*  \n",
        "4*2//8 = 5*"
      ]
    },
    {
      "cell_type": "markdown",
      "metadata": {
        "id": "eGo_VENXRwo0"
      },
      "source": [
        "---\n",
        "### Exercise 7 - calculating with volumes\n",
        "\n",
        "Bill needs to work out how many boxes he will need.  \n",
        "\n",
        "Building on what you did in the last exercise, write a function called **calculate_boxes(base, width, height)** which will:  \n",
        "\n",
        "*  calculate the volume of a box, using the **base**, **width** and **height** supplied in the brackets  \n",
        "*  ask Bill for the **total_volume** of his stuff  \n",
        "*  calculate the total **number_of_boxes** he will need, and print the `number_of_boxes`  \n",
        "\n",
        "*Hint: the `total` will not be a decimal number - you should use floor division and add one to the answer (for the box that will have the leftovers).*\n",
        "\n",
        "Test Input:  \n",
        "1500  \n",
        "\n",
        "Expected output:  \n",
        "11  \n"
      ]
    },
    {
      "cell_type": "code",
      "metadata": {
        "id": "0X6TKFubSIpT"
      },
      "source": [
        "def calculate_boxes(base, width, height):\n",
        "  # add your code below here to calculate the boxVolume, ask for totalVolume and calculate number of boxes\n",
        "\n",
        "\n",
        "calculate_boxes(3.2, 5.6, 7.8)\n"
      ],
      "execution_count": null,
      "outputs": []
    },
    {
      "cell_type": "markdown",
      "metadata": {
        "id": "paxj6AccSIwy"
      },
      "source": [
        "---\n",
        "### Exercise 8 - floor division\n",
        "\n",
        "Write a function called **calculate_parcel_weight()** which will:  \n",
        "\n",
        "*  ask the user to enter the weights, in kg, of four parcels (**weight1, weight2, weight3, weight4**)\n",
        "*  calculate the total **parcel_weight** and display this in a whole number of kg, rounded up  \n",
        "*  print the `parcel_weight`\n",
        "\n",
        "*Hint: round() could either round up or down.  Floor division could be a better option* \n",
        "\n",
        "Test Inputs:  \n",
        "1.23  \n",
        "2.84  \n",
        "1.675  \n",
        "3.03  \n",
        "\n",
        "Expected output:  \n",
        "9kg\n"
      ]
    },
    {
      "cell_type": "code",
      "metadata": {
        "id": "Lulkpg6rStwT"
      },
      "source": [
        ""
      ],
      "execution_count": null,
      "outputs": []
    },
    {
      "cell_type": "markdown",
      "metadata": {
        "id": "SduMAQwsXKiA"
      },
      "source": [
        "---\n",
        "### Exercise 9 - modulus\n",
        "\n",
        "Write a function called **get_pm_minutes()** which will:  \n",
        "\n",
        "*  ask the user to enter an afternoon **time** in 24 hour clock (e.g. 1350) \n",
        "*  use floor division to get the **hour** (ie divide by 100)  \n",
        "*  use modulus to get the **minutes**  \n",
        "*  subtract 12 to get the 12 hour clock storing the result back in `hour`      \n",
        "*  print a message to say that It is `minutes` minutes past `hour` PM\n",
        "\n",
        "Test Input:  \n",
        "1350  \n",
        "\n",
        "Expected output:  \n",
        "It is 50 minutes past 1 PM\n",
        "\n",
        "*(Is it possible to use this code to get the right hour for a morning time?  You will do this in the section that allows selection depending on value)*\n",
        "\n"
      ]
    },
    {
      "cell_type": "code",
      "metadata": {
        "id": "dSxM7C1dXK9g"
      },
      "source": [
        ""
      ],
      "execution_count": null,
      "outputs": []
    },
    {
      "cell_type": "markdown",
      "metadata": {
        "id": "HUwYL72HSt5b"
      },
      "source": [
        "---\n",
        "### Exercise 10 - How many tins of beans?  \n",
        "\n",
        "Write a function called **calculate_tins()** that will calculate how many tins of beans will fit in a cardboard box. Bean tins are *11cm tall* and *8cm* diameter.  All tins will be standing up and can be stacked in layers.  \n",
        "\n",
        "*  use the **height**, **width** and **depth** of the box supplied in the function’s brackets.   \n",
        "*  calculate the **number_of_tins** that can fit in the box   \n",
        "*  print the `number_of_tins` that can fit  \n",
        "\n",
        "*Hint: you will need to calculate the number of layers, and the number that will fit in each direction, the product (all of the numbers multiplied together) will tell you how many tins. All answers must be whole numbers*  \n",
        "\n",
        "\n",
        "Expected output:  \n",
        "24 tins will fit in this box  \n"
      ]
    },
    {
      "cell_type": "code",
      "metadata": {
        "id": "HNTLnqrDVdAW"
      },
      "source": [
        "def calculate_tins(height, width, depth):\n",
        "   # add your code below here\n",
        "\n",
        "  \n",
        "\n",
        "\n",
        "calculate_tins(24, 50, 18)"
      ],
      "execution_count": null,
      "outputs": []
    }
  ]
}