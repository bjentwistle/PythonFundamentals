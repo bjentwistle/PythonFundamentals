{
  "nbformat": 4,
  "nbformat_minor": 0,
  "metadata": {
    "colab": {
      "name": "Final-Sea-Level-Project.ipynb",
      "provenance": [],
      "include_colab_link": true
    },
    "kernelspec": {
      "name": "python3",
      "display_name": "Python 3"
    },
    "language_info": {
      "name": "python"
    }
  },
  "cells": [
    {
      "cell_type": "markdown",
      "metadata": {
        "id": "view-in-github",
        "colab_type": "text"
      },
      "source": [
        "<a href=\"https://colab.research.google.com/github/bjentwistle/PythonFundamentals/blob/main/Projects/Final_Sea_Level_Project.ipynb\" target=\"_parent\"><img src=\"https://colab.research.google.com/assets/colab-badge.svg\" alt=\"Open In Colab\"/></a>"
      ]
    },
    {
      "cell_type": "markdown",
      "source": [
        "# Final Sea Level Project \n",
        "## What is the correlation between time data and sea level rise and can we make future predictions?\n",
        "---\n",
        " \n",
        "### Why Sea Levels?\n",
        "The UK hosted the 26th UN Climate Change Conference of the Parties (COP26) in Glasgow on 31 October. Whilst the science behind climate change is pretty conclusive, it is still disputed by some people. These sea level data points are a definitive and undisputable measure of the melting ice caps. The sea level is rising and has been consistently since records began. I wanted to plot the data to show the upward trend and try to make predictions about the future levels.\n",
        "### The Data Source. \n",
        "Global Average Absolute Sea Level Change, 1880-2014 from the US Environmental Protection Agency using data from CSIRO, 2015; NOAA, 2015.\n",
        "https://datahub.io/core/sea-level-rise\n",
        " \n",
        "The data describes annual sea levels from 1880 to 2013.  Measures are adjusted using two standards: Commonwealth Scientific and Industrial Research Organisation(CSIRO) and National Oceanic and Atmospheric Administration (NOAA)  \n",
        " \n",
        "Raw Data file:  https://raw.githubusercontent.com/freeCodeCamp/boilerplate-sea-level-predictor/master/epa-sea-level.csv\n",
        " \n",
        " \n",
        "\n",
        "\n"
      ],
      "metadata": {
        "id": "jBYNdCdQ9_cu"
      }
    },
    {
      "cell_type": "code",
      "source": [
        "import pandas as pd\n",
        "import numpy as np\n",
        "\n",
        "url = \"https://raw.githubusercontent.com/freeCodeCamp/boilerplate-sea-level-predictor/master/epa-sea-level.csv\"\n",
        "sea_levels = pd.read_csv(url)\n",
        "\n",
        "sea_levels.head()\n",
        "#sea_levels.info()"
      ],
      "metadata": {
        "id": "r1XUCWHV_Cj9",
        "colab": {
          "base_uri": "https://localhost:8080/",
          "height": 206
        },
        "outputId": "7276f87e-7a3e-4bff-b889-2248a6841f8b"
      },
      "execution_count": 2,
      "outputs": [
        {
          "output_type": "execute_result",
          "data": {
            "text/plain": [
              "   Year  CSIRO Adjusted Sea Level  Lower Error Bound  Upper Error Bound  \\\n",
              "0  1880                  0.000000          -0.952756           0.952756   \n",
              "1  1881                  0.220472          -0.732283           1.173228   \n",
              "2  1882                 -0.440945          -1.346457           0.464567   \n",
              "3  1883                 -0.232283          -1.129921           0.665354   \n",
              "4  1884                  0.590551          -0.283465           1.464567   \n",
              "\n",
              "   NOAA Adjusted Sea Level  \n",
              "0                      NaN  \n",
              "1                      NaN  \n",
              "2                      NaN  \n",
              "3                      NaN  \n",
              "4                      NaN  "
            ],
            "text/html": [
              "\n",
              "  <div id=\"df-883132a1-0403-4378-bd71-d4357328af6b\">\n",
              "    <div class=\"colab-df-container\">\n",
              "      <div>\n",
              "<style scoped>\n",
              "    .dataframe tbody tr th:only-of-type {\n",
              "        vertical-align: middle;\n",
              "    }\n",
              "\n",
              "    .dataframe tbody tr th {\n",
              "        vertical-align: top;\n",
              "    }\n",
              "\n",
              "    .dataframe thead th {\n",
              "        text-align: right;\n",
              "    }\n",
              "</style>\n",
              "<table border=\"1\" class=\"dataframe\">\n",
              "  <thead>\n",
              "    <tr style=\"text-align: right;\">\n",
              "      <th></th>\n",
              "      <th>Year</th>\n",
              "      <th>CSIRO Adjusted Sea Level</th>\n",
              "      <th>Lower Error Bound</th>\n",
              "      <th>Upper Error Bound</th>\n",
              "      <th>NOAA Adjusted Sea Level</th>\n",
              "    </tr>\n",
              "  </thead>\n",
              "  <tbody>\n",
              "    <tr>\n",
              "      <th>0</th>\n",
              "      <td>1880</td>\n",
              "      <td>0.000000</td>\n",
              "      <td>-0.952756</td>\n",
              "      <td>0.952756</td>\n",
              "      <td>NaN</td>\n",
              "    </tr>\n",
              "    <tr>\n",
              "      <th>1</th>\n",
              "      <td>1881</td>\n",
              "      <td>0.220472</td>\n",
              "      <td>-0.732283</td>\n",
              "      <td>1.173228</td>\n",
              "      <td>NaN</td>\n",
              "    </tr>\n",
              "    <tr>\n",
              "      <th>2</th>\n",
              "      <td>1882</td>\n",
              "      <td>-0.440945</td>\n",
              "      <td>-1.346457</td>\n",
              "      <td>0.464567</td>\n",
              "      <td>NaN</td>\n",
              "    </tr>\n",
              "    <tr>\n",
              "      <th>3</th>\n",
              "      <td>1883</td>\n",
              "      <td>-0.232283</td>\n",
              "      <td>-1.129921</td>\n",
              "      <td>0.665354</td>\n",
              "      <td>NaN</td>\n",
              "    </tr>\n",
              "    <tr>\n",
              "      <th>4</th>\n",
              "      <td>1884</td>\n",
              "      <td>0.590551</td>\n",
              "      <td>-0.283465</td>\n",
              "      <td>1.464567</td>\n",
              "      <td>NaN</td>\n",
              "    </tr>\n",
              "  </tbody>\n",
              "</table>\n",
              "</div>\n",
              "      <button class=\"colab-df-convert\" onclick=\"convertToInteractive('df-883132a1-0403-4378-bd71-d4357328af6b')\"\n",
              "              title=\"Convert this dataframe to an interactive table.\"\n",
              "              style=\"display:none;\">\n",
              "        \n",
              "  <svg xmlns=\"http://www.w3.org/2000/svg\" height=\"24px\"viewBox=\"0 0 24 24\"\n",
              "       width=\"24px\">\n",
              "    <path d=\"M0 0h24v24H0V0z\" fill=\"none\"/>\n",
              "    <path d=\"M18.56 5.44l.94 2.06.94-2.06 2.06-.94-2.06-.94-.94-2.06-.94 2.06-2.06.94zm-11 1L8.5 8.5l.94-2.06 2.06-.94-2.06-.94L8.5 2.5l-.94 2.06-2.06.94zm10 10l.94 2.06.94-2.06 2.06-.94-2.06-.94-.94-2.06-.94 2.06-2.06.94z\"/><path d=\"M17.41 7.96l-1.37-1.37c-.4-.4-.92-.59-1.43-.59-.52 0-1.04.2-1.43.59L10.3 9.45l-7.72 7.72c-.78.78-.78 2.05 0 2.83L4 21.41c.39.39.9.59 1.41.59.51 0 1.02-.2 1.41-.59l7.78-7.78 2.81-2.81c.8-.78.8-2.07 0-2.86zM5.41 20L4 18.59l7.72-7.72 1.47 1.35L5.41 20z\"/>\n",
              "  </svg>\n",
              "      </button>\n",
              "      \n",
              "  <style>\n",
              "    .colab-df-container {\n",
              "      display:flex;\n",
              "      flex-wrap:wrap;\n",
              "      gap: 12px;\n",
              "    }\n",
              "\n",
              "    .colab-df-convert {\n",
              "      background-color: #E8F0FE;\n",
              "      border: none;\n",
              "      border-radius: 50%;\n",
              "      cursor: pointer;\n",
              "      display: none;\n",
              "      fill: #1967D2;\n",
              "      height: 32px;\n",
              "      padding: 0 0 0 0;\n",
              "      width: 32px;\n",
              "    }\n",
              "\n",
              "    .colab-df-convert:hover {\n",
              "      background-color: #E2EBFA;\n",
              "      box-shadow: 0px 1px 2px rgba(60, 64, 67, 0.3), 0px 1px 3px 1px rgba(60, 64, 67, 0.15);\n",
              "      fill: #174EA6;\n",
              "    }\n",
              "\n",
              "    [theme=dark] .colab-df-convert {\n",
              "      background-color: #3B4455;\n",
              "      fill: #D2E3FC;\n",
              "    }\n",
              "\n",
              "    [theme=dark] .colab-df-convert:hover {\n",
              "      background-color: #434B5C;\n",
              "      box-shadow: 0px 1px 3px 1px rgba(0, 0, 0, 0.15);\n",
              "      filter: drop-shadow(0px 1px 2px rgba(0, 0, 0, 0.3));\n",
              "      fill: #FFFFFF;\n",
              "    }\n",
              "  </style>\n",
              "\n",
              "      <script>\n",
              "        const buttonEl =\n",
              "          document.querySelector('#df-883132a1-0403-4378-bd71-d4357328af6b button.colab-df-convert');\n",
              "        buttonEl.style.display =\n",
              "          google.colab.kernel.accessAllowed ? 'block' : 'none';\n",
              "\n",
              "        async function convertToInteractive(key) {\n",
              "          const element = document.querySelector('#df-883132a1-0403-4378-bd71-d4357328af6b');\n",
              "          const dataTable =\n",
              "            await google.colab.kernel.invokeFunction('convertToInteractive',\n",
              "                                                     [key], {});\n",
              "          if (!dataTable) return;\n",
              "\n",
              "          const docLinkHtml = 'Like what you see? Visit the ' +\n",
              "            '<a target=\"_blank\" href=https://colab.research.google.com/notebooks/data_table.ipynb>data table notebook</a>'\n",
              "            + ' to learn more about interactive tables.';\n",
              "          element.innerHTML = '';\n",
              "          dataTable['output_type'] = 'display_data';\n",
              "          await google.colab.output.renderOutput(dataTable, element);\n",
              "          const docLink = document.createElement('div');\n",
              "          docLink.innerHTML = docLinkHtml;\n",
              "          element.appendChild(docLink);\n",
              "        }\n",
              "      </script>\n",
              "    </div>\n",
              "  </div>\n",
              "  "
            ]
          },
          "metadata": {},
          "execution_count": 2
        }
      ]
    },
    {
      "cell_type": "markdown",
      "source": [
        "The dataset shows:\n",
        " \n",
        "Column 1 describes the  year of measurement as an int64 (YYYY).\n",
        " \n",
        "Column 2 is the CSIRO (Commonwealth Scientific and Industrial Research Organization) Adjusted Sea Level (as a float64), this is the cumulative changes (in inches) in sea level for the world’s oceans based on the combination of long-term tide gauge measurements and recent satellite measurements.\n",
        " \n",
        "Column 3 shows the Lower Error Bound in inches\n",
        " \n",
        "Column 4 shows the Upper Error Bound in inches\n",
        " \n",
        "Finally, column 5 shows the NOAA (National Oceanic and Atmospheric Administration) Adjusted Sea Level, number in inches (not all rows have data here as it only started in 1993.)\n",
        "For this reason, the CSIRO data column will be used throughout this project.\n",
        " \n",
        "Further explanation can be found at this link - https://datahub.io/core/sea-level-rise#readme\n",
        "\n"
      ],
      "metadata": {
        "id": "21qxqwCAqrQ2"
      }
    },
    {
      "cell_type": "markdown",
      "source": [
        "Plot a line graph to show the changes in sea level measurements over time. Using CSIRO column as the NOAA data starts later."
      ],
      "metadata": {
        "id": "ox9IWtVzI6Ub"
      }
    },
    {
      "cell_type": "code",
      "source": [
        "import seaborn as sns\n",
        "from scipy.stats import linregress\n",
        "import matplotlib.pyplot as plt\n",
        "\n",
        "def display_lineplot(df, column1, column2):\n",
        "  #create a subset of the df using only the net_per_10K columns and find their means.\n",
        "  data = df\n",
        "  \n",
        "  #plot the chart of the data means and get labels from the years column\n",
        "  plt.figure(figsize=(18, 8))\n",
        "  sns.lineplot(data=data,y = column1, x=\"Year\", color='lightblue') \n",
        "  sns.lineplot(data=data,y = column2, x=\"Year\", color='green')\n",
        "  plt.title(\"Sea Level over time\", fontsize=20)\n",
        "  labels = (column1, column2)\n",
        "  plt.legend(labels, loc='lower right')\n",
        "  plt.xlabel(\"Year\", fontsize=16)\n",
        "  plt.ylabel(\"Sea Levels (inches)\", fontsize=16)\n",
        "  sns.set_style(\"whitegrid\")\n",
        "\n",
        "display_lineplot(sea_levels, \"CSIRO Adjusted Sea Level\", \"NOAA Adjusted Sea Level\")"
      ],
      "metadata": {
        "colab": {
          "base_uri": "https://localhost:8080/",
          "height": 523
        },
        "id": "Aqi9-5G1lQtZ",
        "outputId": "827025e3-fee2-443b-a23a-e7906e9e092b"
      },
      "execution_count": 16,
      "outputs": [
        {
          "output_type": "display_data",
          "data": {
            "text/plain": [
              "<Figure size 1296x576 with 1 Axes>"
            ],
            "image/png": "[encoded data removed]"
          },
          "metadata": {}
        }
      ]
    },
    {
      "cell_type": "markdown",
      "source": [
        "### Then\n",
        "---\n",
        "1.  Calculate some statistics on the level array, eg:\n",
        "*  mean\n",
        "*  standard deviation\n",
        "*  total \n",
        "\n",
        "2.  Use the fact that the arrays are aligned (e.g. the first number in the level array is linked to the first year in the year array and display:\n",
        "\n",
        "*  the year with the biggest rise in level\n",
        "*  the year with the lowest rise in level\n",
        "\n",
        "3.  Calculate the Pearson product-moment correlation coefficient between year and the rise in sea level.  (*Expected output:  0.98 when rounded to 2 decimal places*)"
      ],
      "metadata": {
        "id": "3cf1YPgnBSc2"
      }
    },
    {
      "cell_type": "code",
      "execution_count": null,
      "metadata": {
        "id": "8VWUtmK4YhoU"
      },
      "outputs": [],
      "source": [
        "def get_statistics(source):\n",
        "\n",
        "  #Create numpy arrays for the sea levels by CSIRO and the years.\n",
        "  sea_levels_array = sea_levels[source].to_numpy(np.float32)\n",
        "  years_array = sea_levels['Year'].to_numpy(np.float16)\n",
        "\n",
        "\n",
        "  #Calculate some statistics for sea levels - mean and stnadard deviation.\n",
        "  mean_sea_levels = sea_levels_array.mean()\n",
        "  stand_dev = np.std(sea_levels_array)\n",
        "  print(\"Average increase:\", mean_sea_levels, \"Source:\", source)\n",
        "  print(\"Sandard Deviation:\", stand_dev)\n",
        "\n",
        "  #Work out which year had the maximun increase in sea levels and print that year.\n",
        "  max_increase = sea_levels_array.max()\n",
        "  year_max = np.where(sea_levels_array == max_increase)\n",
        "  print(int(years_array[year_max]),\"had the maximun sea level increase of\", max_increase)\n",
        "\n",
        "  #Work out which year had the minimum increase in sea levels and print that year.\n",
        "  min_increase = sea_levels_array.min()\n",
        "  year_min = np.where(sea_levels_array == min_increase)\n",
        "  print(int(years_array[year_min]),\"had the minimum sea level increase of\", min_increase)\n",
        "\n",
        "  #Work out the Pearson Correlation Coefficient for the sea levels realted to the year.\n",
        "  corr_coeff = np.corrcoef(years_array, sea_levels_array)\n",
        "  print(\"The correlation coefficiant between time and levels =\", corr_coeff[1,0])\n",
        "\n",
        "statistics_results_CSIRO = get_statistics(\"CSIRO Adjusted Sea Level\")"
      ]
    },
    {
      "cell_type": "markdown",
      "source": [
        "NB. The correlation coefficient is close to +1, meaning that the relation between time and the sea level is strongly linear. As time goes on the sea levels are rising consistantly."
      ],
      "metadata": {
        "id": "-TjmH2gJxh1U"
      }
    },
    {
      "cell_type": "code",
      "source": [
        "# Linear regression to get the slope and intercept of the data so I can use it to make a prediction \n",
        "# of sea levels in the future.\n",
        "\n",
        "#linear regression function needed to plot line of best fit to predict future page views\n",
        "def get_lineregress(df,x,y):\n",
        "  regression = linregress(x,y)\n",
        "  print(\"Regression slope = \", regression.slope)\n",
        "  print(\"Regression intercept =\", regression.intercept)\n",
        "  print(\"R value = \", regression[2])\n",
        "  \n",
        "  #set figure size before plotting\n",
        "  plt.figure(figsize=(18, 8))\n",
        "  chart=sns.regplot(x=x, y=y, color = 'g')\n",
        "  plt.title(\"CSIRO Adjusted Sea Level over time\", fontsize=20)\n",
        "  plt.xlabel(\"Year\", fontsize=16)\n",
        "  plt.ylabel(\"CSIRO Adjusted Sea Level (inches)\", fontsize=16)\n",
        " \n",
        "  return regression\n",
        "\n",
        "regression = get_lineregress(sea_levels, x = sea_levels[\"Year\"],  y = sea_levels[\"CSIRO Adjusted Sea Level\"])"
      ],
      "metadata": {
        "id": "8pbZjX9jjgzQ"
      },
      "execution_count": null,
      "outputs": []
    },
    {
      "cell_type": "markdown",
      "source": [
        "Visibily it can be seen that the data points are tending upwards in a sharper slope from around year 2000 onwards. The NOAA states on it's site that \"Global tidal records from 1900 to 1990 show an estimated  4- to 5-inch rise in global mean sea level. Then, in the 25 years from 1990 to 2015, this global tide gauge network showed global sea level rising 3 inches\" From NOAA Tracking sea level rise ... and fall page https://www.noaa.gov/explainers/tracking-sea-level-rise-and-fall\n",
        "\n",
        "Hence, I will filter the data from 1990 onwards to see if the increase is more pronounced in these latter decades. Then I will use this new linear regression slope to make predictions on future sea levels.\n"
      ],
      "metadata": {
        "id": "zaRvhhAauy-i"
      }
    },
    {
      "cell_type": "code",
      "source": [
        "#Filter data from the year data 1990 onwards for new linear regression calculation.\n",
        "def drop_early_years(df,year):\n",
        "\n",
        "  new_df = df[df.Year > year]\n",
        "  return new_df\n",
        "\n",
        "new_df = drop_early_years(sea_levels, 1990)\n",
        "\n",
        "#Plot the new dataframe from 1990 onwards to see if the slope has increased in gradient\n",
        "new_regression = get_lineregress(new_df, x = new_df[\"Year\"],  y = new_df[\"CSIRO Adjusted Sea Level\"])"
      ],
      "metadata": {
        "id": "vp8rhllUvJVi"
      },
      "execution_count": null,
      "outputs": []
    },
    {
      "cell_type": "markdown",
      "source": [
        "The slope gradient has indeed increased from 0.063 to 0.137 (rounded to 3 decimal places). This is inline with the NOAA's findings. The sea levels are rising at a much faster rate around the turn of this century compared to the earlier decades of 20th century. \n",
        "To make predictions for the sea levels in the future I need to extend the line of best fit for future years.\n"
      ],
      "metadata": {
        "id": "Lsy2QLk_8bh6"
      }
    },
    {
      "cell_type": "code",
      "source": [
        "#Setting the years range from 1990 to a future year of 2050 and plot using regression output\n",
        "def sealevel_prediction_plot(lower, upper):\n",
        "  guesstimate = np.arange(lower, upper)\n",
        "  plt.figure(figsize=(18, 8))\n",
        "  plt.plot(guesstimate, new_regression.intercept + new_regression.slope*guesstimate, 'g', label='fitted line')\n",
        "  plt.title(\"Sea Level prediction using line of best fit\")\n",
        "  plt.xlabel(\"Year\")\n",
        "  plt.ylabel(\"Sea Level\");\n",
        "\n",
        "sealevel_prediction_plot(1990,2051)"
      ],
      "metadata": {
        "id": "jGBxnw7W-KdY"
      },
      "execution_count": null,
      "outputs": []
    },
    {
      "cell_type": "markdown",
      "source": [
        "# This prediction line shows that the sea levels could have risen by over 14 inches, compared to the year 1880, by the year 2050!"
      ],
      "metadata": {
        "id": "OpQy6Msm_sP4"
      }
    },
    {
      "cell_type": "code",
      "source": [
        "#Write a function to give an approximate level for a year within the dataset or a prediction if beyond the dataset.\n",
        "def get_sea_level():\n",
        "  while True:\n",
        "    try:\n",
        "      year = int(input(\"Give a year (YYYY) to get predicted sea level: \"))\n",
        "    except ValueError:\n",
        "      print(\"Oops!  That was no valid year.  Please try again...\")\n",
        "    else:  \n",
        "      if year < 1880:\n",
        "        print(\"Please enter a year above 1880 when data collection began.\")\n",
        "      elif year <=1989:\n",
        "        predicted_sea_level = regression.intercept + regression.slope*year\n",
        "        print(\"Approximate Sea level in\", year, \"is\", predicted_sea_level)\n",
        "        break\n",
        "      else:          \n",
        "        predicted_sea_level = new_regression.intercept + new_regression.slope*year\n",
        "        print(\"Predicted Sea level in\", year, \"is approximately\", predicted_sea_level)\n",
        "        break\n",
        "      \n",
        "\n",
        "get_sea_level()"
      ],
      "metadata": {
        "id": "pEwRJ4u74Tuy"
      },
      "execution_count": null,
      "outputs": []
    },
    {
      "cell_type": "markdown",
      "metadata": {
        "id": "yQyytEbnZ1lw"
      },
      "source": [
        "# Reflection\n",
        "----\n",
        "\n",
        "## What skills have you demonstrated in completing this notebook?"
      ]
    },
    {
      "cell_type": "markdown",
      "metadata": {
        "id": "MM00hR5aZk1-"
      },
      "source": [
        "Your answer: Initially, this mini project was just about getting statistics using the pandas and numpy library tools as it was early in the course. I felt that I had learnt quite a lot during the course so I wanted to add visuals and predictions using this dataset."
      ]
    },
    {
      "cell_type": "markdown",
      "metadata": {
        "id": "Zgexd27sZ1ly"
      },
      "source": [
        "## What caused you the most difficulty?"
      ]
    },
    {
      "cell_type": "markdown",
      "metadata": {
        "id": "-Y_nrVBwaGXr"
      },
      "source": [
        "Your answer: Despite the new skills I learnt, I was reminded that I am quite new to programming, especially when trying to use the output of the second regression. I asked for help from the experts and the issue was solved quickly."
      ]
    }
  ]
}