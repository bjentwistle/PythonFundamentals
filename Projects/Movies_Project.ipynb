{
  "nbformat": 4,
  "nbformat_minor": 0,
  "metadata": {
    "colab": {
      "name": "10.2 Movies Project.ipynb",
      "provenance": [],
      "collapsed_sections": [],
      "include_colab_link": true
    },
    "kernelspec": {
      "name": "python3",
      "display_name": "Python 3"
    },
    "language_info": {
      "name": "python"
    }
  },
  "cells": [
    {
      "cell_type": "markdown",
      "metadata": {
        "id": "view-in-github",
        "colab_type": "text"
      },
      "source": [
        "<a href=\"https://colab.research.google.com/github/bjentwistle/PythonFundamentals/blob/main/Projects/Movies_Project.ipynb\" target=\"_parent\"><img src=\"https://colab.research.google.com/assets/colab-badge.svg\" alt=\"Open In Colab\"/></a>"
      ]
    },
    {
      "cell_type": "markdown",
      "metadata": {
        "id": "iNinIL0w_DHu"
      },
      "source": [
        "# Movies Mini-project\n",
        "---\n",
        "\n",
        "In the previous worksheet you converted an SQL relational database to a single pandas dataframe and downloaded it. You will be analysing it today.\n",
        "\n",
        "If you were unable to download the file, there is a copy located here: \n",
        "\n",
        "\"https://github.com/lilaceri/Working-with-data-/blob/main/Data%20Sets%20for%20code%20divisio/movies.csv?raw=true\"\n",
        "\n"
      ]
    },
    {
      "cell_type": "markdown",
      "metadata": {
        "id": "TlOJOk3vMN2C"
      },
      "source": [
        "### Inspect the dataset \n",
        "---"
      ]
    },
    {
      "cell_type": "code",
      "metadata": {
        "id": "Le5KSKHY_BM9",
        "colab": {
          "base_uri": "https://localhost:8080/",
          "height": 363
        },
        "outputId": "9ddbc792-c518-4cf9-f358-3f56ab2a886c"
      },
      "source": [
        "import numpy as np\n",
        "import pandas as pd\n",
        "import matplotlib.pyplot as plt\n",
        "import seaborn as sns\n",
        "\n",
        "\n",
        "url = \"https://github.com/lilaceri/Working-with-data-/blob/main/Data%20Sets%20for%20code%20divisio/movies.csv?raw=true\"\n",
        "df = pd.read_csv(url)\n",
        "df.head(10)\n"
      ],
      "execution_count": 1,
      "outputs": [
        {
          "output_type": "execute_result",
          "data": {
            "text/plain": [
              "   Unnamed: 0          first_name    last_name                           name  \\\n",
              "0           0                 Les  12 Poissons           Rondo pour trompette   \n",
              "1           1             Lejaren     a'Hiller       Sleep of Cyma Roget, The   \n",
              "2           2            Khairiya    A-Mansour               Churches in Iraq   \n",
              "3           3             Ricardo     A. Solla                       Foto, La   \n",
              "4           4             Ricardo     A. Solla                       Foto, La   \n",
              "5           5  Kodanda Rami Reddy           A.             Abhilasha (1983/I)   \n",
              "6           6  Kodanda Rami Reddy           A.                     Anubandham   \n",
              "7           7  Kodanda Rami Reddy           A.                     Anubandham   \n",
              "8           8  Kodanda Rami Reddy           A.  Athaku Yamudu Ammayiki Mogudu   \n",
              "9           9  Kodanda Rami Reddy           A.  Athaku Yamudu Ammayiki Mogudu   \n",
              "\n",
              "   year  rank        genre  \n",
              "0  2002   NaN        Short  \n",
              "1  1920   NaN        Drama  \n",
              "2  1988   NaN  Documentary  \n",
              "3  2001   NaN        Drama  \n",
              "4  2001   NaN        Short  \n",
              "5  1983   NaN     Thriller  \n",
              "6  1984   NaN        Drama  \n",
              "7  1984   NaN      Romance  \n",
              "8  1989   NaN       Action  \n",
              "9  1989   NaN       Comedy  "
            ],
            "text/html": [
              "\n",
              "  <div id=\"df-c1f1672a-8b42-4796-a496-42d42c659f8b\">\n",
              "    <div class=\"colab-df-container\">\n",
              "      <div>\n",
              "<style scoped>\n",
              "    .dataframe tbody tr th:only-of-type {\n",
              "        vertical-align: middle;\n",
              "    }\n",
              "\n",
              "    .dataframe tbody tr th {\n",
              "        vertical-align: top;\n",
              "    }\n",
              "\n",
              "    .dataframe thead th {\n",
              "        text-align: right;\n",
              "    }\n",
              "</style>\n",
              "<table border=\"1\" class=\"dataframe\">\n",
              "  <thead>\n",
              "    <tr style=\"text-align: right;\">\n",
              "      <th></th>\n",
              "      <th>Unnamed: 0</th>\n",
              "      <th>first_name</th>\n",
              "      <th>last_name</th>\n",
              "      <th>name</th>\n",
              "      <th>year</th>\n",
              "      <th>rank</th>\n",
              "      <th>genre</th>\n",
              "    </tr>\n",
              "  </thead>\n",
              "  <tbody>\n",
              "    <tr>\n",
              "      <th>0</th>\n",
              "      <td>0</td>\n",
              "      <td>Les</td>\n",
              "      <td>12 Poissons</td>\n",
              "      <td>Rondo pour trompette</td>\n",
              "      <td>2002</td>\n",
              "      <td>NaN</td>\n",
              "      <td>Short</td>\n",
              "    </tr>\n",
              "    <tr>\n",
              "      <th>1</th>\n",
              "      <td>1</td>\n",
              "      <td>Lejaren</td>\n",
              "      <td>a'Hiller</td>\n",
              "      <td>Sleep of Cyma Roget, The</td>\n",
              "      <td>1920</td>\n",
              "      <td>NaN</td>\n",
              "      <td>Drama</td>\n",
              "    </tr>\n",
              "    <tr>\n",
              "      <th>2</th>\n",
              "      <td>2</td>\n",
              "      <td>Khairiya</td>\n",
              "      <td>A-Mansour</td>\n",
              "      <td>Churches in Iraq</td>\n",
              "      <td>1988</td>\n",
              "      <td>NaN</td>\n",
              "      <td>Documentary</td>\n",
              "    </tr>\n",
              "    <tr>\n",
              "      <th>3</th>\n",
              "      <td>3</td>\n",
              "      <td>Ricardo</td>\n",
              "      <td>A. Solla</td>\n",
              "      <td>Foto, La</td>\n",
              "      <td>2001</td>\n",
              "      <td>NaN</td>\n",
              "      <td>Drama</td>\n",
              "    </tr>\n",
              "    <tr>\n",
              "      <th>4</th>\n",
              "      <td>4</td>\n",
              "      <td>Ricardo</td>\n",
              "      <td>A. Solla</td>\n",
              "      <td>Foto, La</td>\n",
              "      <td>2001</td>\n",
              "      <td>NaN</td>\n",
              "      <td>Short</td>\n",
              "    </tr>\n",
              "    <tr>\n",
              "      <th>5</th>\n",
              "      <td>5</td>\n",
              "      <td>Kodanda Rami Reddy</td>\n",
              "      <td>A.</td>\n",
              "      <td>Abhilasha (1983/I)</td>\n",
              "      <td>1983</td>\n",
              "      <td>NaN</td>\n",
              "      <td>Thriller</td>\n",
              "    </tr>\n",
              "    <tr>\n",
              "      <th>6</th>\n",
              "      <td>6</td>\n",
              "      <td>Kodanda Rami Reddy</td>\n",
              "      <td>A.</td>\n",
              "      <td>Anubandham</td>\n",
              "      <td>1984</td>\n",
              "      <td>NaN</td>\n",
              "      <td>Drama</td>\n",
              "    </tr>\n",
              "    <tr>\n",
              "      <th>7</th>\n",
              "      <td>7</td>\n",
              "      <td>Kodanda Rami Reddy</td>\n",
              "      <td>A.</td>\n",
              "      <td>Anubandham</td>\n",
              "      <td>1984</td>\n",
              "      <td>NaN</td>\n",
              "      <td>Romance</td>\n",
              "    </tr>\n",
              "    <tr>\n",
              "      <th>8</th>\n",
              "      <td>8</td>\n",
              "      <td>Kodanda Rami Reddy</td>\n",
              "      <td>A.</td>\n",
              "      <td>Athaku Yamudu Ammayiki Mogudu</td>\n",
              "      <td>1989</td>\n",
              "      <td>NaN</td>\n",
              "      <td>Action</td>\n",
              "    </tr>\n",
              "    <tr>\n",
              "      <th>9</th>\n",
              "      <td>9</td>\n",
              "      <td>Kodanda Rami Reddy</td>\n",
              "      <td>A.</td>\n",
              "      <td>Athaku Yamudu Ammayiki Mogudu</td>\n",
              "      <td>1989</td>\n",
              "      <td>NaN</td>\n",
              "      <td>Comedy</td>\n",
              "    </tr>\n",
              "  </tbody>\n",
              "</table>\n",
              "</div>\n",
              "      <button class=\"colab-df-convert\" onclick=\"convertToInteractive('df-c1f1672a-8b42-4796-a496-42d42c659f8b')\"\n",
              "              title=\"Convert this dataframe to an interactive table.\"\n",
              "              style=\"display:none;\">\n",
              "        \n",
              "  <svg xmlns=\"http://www.w3.org/2000/svg\" height=\"24px\"viewBox=\"0 0 24 24\"\n",
              "       width=\"24px\">\n",
              "    <path d=\"M0 0h24v24H0V0z\" fill=\"none\"/>\n",
              "    <path d=\"M18.56 5.44l.94 2.06.94-2.06 2.06-.94-2.06-.94-.94-2.06-.94 2.06-2.06.94zm-11 1L8.5 8.5l.94-2.06 2.06-.94-2.06-.94L8.5 2.5l-.94 2.06-2.06.94zm10 10l.94 2.06.94-2.06 2.06-.94-2.06-.94-.94-2.06-.94 2.06-2.06.94z\"/><path d=\"M17.41 7.96l-1.37-1.37c-.4-.4-.92-.59-1.43-.59-.52 0-1.04.2-1.43.59L10.3 9.45l-7.72 7.72c-.78.78-.78 2.05 0 2.83L4 21.41c.39.39.9.59 1.41.59.51 0 1.02-.2 1.41-.59l7.78-7.78 2.81-2.81c.8-.78.8-2.07 0-2.86zM5.41 20L4 18.59l7.72-7.72 1.47 1.35L5.41 20z\"/>\n",
              "  </svg>\n",
              "      </button>\n",
              "      \n",
              "  <style>\n",
              "    .colab-df-container {\n",
              "      display:flex;\n",
              "      flex-wrap:wrap;\n",
              "      gap: 12px;\n",
              "    }\n",
              "\n",
              "    .colab-df-convert {\n",
              "      background-color: #E8F0FE;\n",
              "      border: none;\n",
              "      border-radius: 50%;\n",
              "      cursor: pointer;\n",
              "      display: none;\n",
              "      fill: #1967D2;\n",
              "      height: 32px;\n",
              "      padding: 0 0 0 0;\n",
              "      width: 32px;\n",
              "    }\n",
              "\n",
              "    .colab-df-convert:hover {\n",
              "      background-color: #E2EBFA;\n",
              "      box-shadow: 0px 1px 2px rgba(60, 64, 67, 0.3), 0px 1px 3px 1px rgba(60, 64, 67, 0.15);\n",
              "      fill: #174EA6;\n",
              "    }\n",
              "\n",
              "    [theme=dark] .colab-df-convert {\n",
              "      background-color: #3B4455;\n",
              "      fill: #D2E3FC;\n",
              "    }\n",
              "\n",
              "    [theme=dark] .colab-df-convert:hover {\n",
              "      background-color: #434B5C;\n",
              "      box-shadow: 0px 1px 3px 1px rgba(0, 0, 0, 0.15);\n",
              "      filter: drop-shadow(0px 1px 2px rgba(0, 0, 0, 0.3));\n",
              "      fill: #FFFFFF;\n",
              "    }\n",
              "  </style>\n",
              "\n",
              "      <script>\n",
              "        const buttonEl =\n",
              "          document.querySelector('#df-c1f1672a-8b42-4796-a496-42d42c659f8b button.colab-df-convert');\n",
              "        buttonEl.style.display =\n",
              "          google.colab.kernel.accessAllowed ? 'block' : 'none';\n",
              "\n",
              "        async function convertToInteractive(key) {\n",
              "          const element = document.querySelector('#df-c1f1672a-8b42-4796-a496-42d42c659f8b');\n",
              "          const dataTable =\n",
              "            await google.colab.kernel.invokeFunction('convertToInteractive',\n",
              "                                                     [key], {});\n",
              "          if (!dataTable) return;\n",
              "\n",
              "          const docLinkHtml = 'Like what you see? Visit the ' +\n",
              "            '<a target=\"_blank\" href=https://colab.research.google.com/notebooks/data_table.ipynb>data table notebook</a>'\n",
              "            + ' to learn more about interactive tables.';\n",
              "          element.innerHTML = '';\n",
              "          dataTable['output_type'] = 'display_data';\n",
              "          await google.colab.output.renderOutput(dataTable, element);\n",
              "          const docLink = document.createElement('div');\n",
              "          docLink.innerHTML = docLinkHtml;\n",
              "          element.appendChild(docLink);\n",
              "        }\n",
              "      </script>\n",
              "    </div>\n",
              "  </div>\n",
              "  "
            ]
          },
          "metadata": {},
          "execution_count": 1
        }
      ]
    },
    {
      "cell_type": "markdown",
      "metadata": {
        "id": "wIRDoCnxMRj8"
      },
      "source": [
        "### Clean the dataset \n",
        "---\n"
      ]
    },
    {
      "cell_type": "code",
      "metadata": {
        "id": "LgY60bsbMUc8",
        "colab": {
          "base_uri": "https://localhost:8080/"
        },
        "outputId": "82b4127a-aca8-4934-8020-b92e9c69cda8"
      },
      "source": [
        "df_cleaned = df\n",
        "df_cleaned= df_cleaned.dropna()\n",
        "df_cleaned.info()"
      ],
      "execution_count": 2,
      "outputs": [
        {
          "output_type": "stream",
          "name": "stdout",
          "text": [
            "<class 'pandas.core.frame.DataFrame'>\n",
            "Int64Index: 113376 entries, 77 to 368891\n",
            "Data columns (total 7 columns):\n",
            " #   Column      Non-Null Count   Dtype  \n",
            "---  ------      --------------   -----  \n",
            " 0   Unnamed: 0  113376 non-null  int64  \n",
            " 1   first_name  113376 non-null  object \n",
            " 2   last_name   113376 non-null  object \n",
            " 3   name        113376 non-null  object \n",
            " 4   year        113376 non-null  int64  \n",
            " 5   rank        113376 non-null  float64\n",
            " 6   genre       113376 non-null  object \n",
            "dtypes: float64(1), int64(2), object(4)\n",
            "memory usage: 6.9+ MB\n"
          ]
        }
      ]
    },
    {
      "cell_type": "markdown",
      "source": [
        "### Ideas for cleaning the data\n",
        "\n",
        "\n",
        "1.   Remove the unnamed column as it is just an index that not needed.\n",
        "2.   Make sure that there are no spaces \" \" in the columns\n",
        "3. Sort by genre or year.\n",
        "4. Remove films with no ranking - to reduce the size.\n",
        "\n",
        "### Decided only rank needed to be cleaned up.\n",
        "\n",
        "\n",
        "\n",
        "\n",
        "\n",
        "\n"
      ],
      "metadata": {
        "id": "l3Daig6aliXl"
      }
    },
    {
      "cell_type": "markdown",
      "metadata": {
        "id": "00Vb1k3FMdei"
      },
      "source": [
        "### How many movies of each genre are there?\n",
        "---"
      ]
    },
    {
      "cell_type": "code",
      "metadata": {
        "id": "V6MsN8OcQn0u",
        "colab": {
          "base_uri": "https://localhost:8080/"
        },
        "outputId": "4a124964-d19a-4771-a4d2-91ece8827d11"
      },
      "source": [
        "#Using the full dataframe to get numbers of films per genre (there are overlaps as one film has many genres)\n",
        "#Hence why drop duplicates (name)is used further down.\n",
        "genres = df[\"genre\"].value_counts()\n",
        "\n",
        "print(genres)"
      ],
      "execution_count": 3,
      "outputs": [
        {
          "output_type": "stream",
          "name": "stdout",
          "text": [
            "Short          72894\n",
            "Drama          72635\n",
            "Comedy         54667\n",
            "Documentary    35698\n",
            "Animation      17038\n",
            "Romance        13562\n",
            "Action         12890\n",
            "Crime          12610\n",
            "Family         11074\n",
            "Thriller       10681\n",
            "Adventure       8598\n",
            "Western         8231\n",
            "Horror          7423\n",
            "Musical         6843\n",
            "Sci-Fi          4957\n",
            "Mystery         4951\n",
            "Fantasy         4871\n",
            "Music           4444\n",
            "War             4398\n",
            "Film-Noir        429\n",
            "Name: genre, dtype: int64\n"
          ]
        }
      ]
    },
    {
      "cell_type": "markdown",
      "metadata": {
        "id": "itYpwLPpQnZM"
      },
      "source": [
        "### Which director has the highest ranked movies?\n",
        "---"
      ]
    },
    {
      "cell_type": "code",
      "metadata": {
        "id": "dkW23Q27Qu0A",
        "colab": {
          "base_uri": "https://localhost:8080/"
        },
        "outputId": "2f33baa0-f71a-472b-d0b2-ff30227187c1"
      },
      "source": [
        "# drop duplicates of movie name as many genres are associated with one film\n",
        "directors = df_cleaned.drop_duplicates([\"name\"])\n",
        "#Create a new column with full name of director from first and last. \n",
        "directors[\"fullname\"] = df_cleaned[\"first_name\"] + \" \" + df_cleaned[\"last_name\"]\n",
        "directors = directors.drop(columns = [\"first_name\", \"last_name\"])\n",
        "#find the average rating of each director and then sort descending.\n",
        "directors_rank = directors.groupby([\"fullname\"])[\"rank\"].mean()\n",
        "dir_toprank = directors_rank.sort_values(ascending = False)\n",
        "print(dir_toprank.head(10))"
      ],
      "execution_count": 4,
      "outputs": [
        {
          "output_type": "stream",
          "name": "stdout",
          "text": [
            "fullname\n",
            "Arünas Zebriünas       9.9\n",
            "William T. Hurtz       9.9\n",
            "Scott Barkan           9.9\n",
            "Matthew Crandall       9.9\n",
            "Kirsten Tretbar        9.9\n",
            "Andrew Cappelletti     9.9\n",
            "Debs Tarrier           9.9\n",
            "Djordje Kadijevic      9.8\n",
            "François Miron         9.8\n",
            "Takis Kanellopoulos    9.8\n",
            "Name: rank, dtype: float64\n"
          ]
        },
        {
          "output_type": "stream",
          "name": "stderr",
          "text": [
            "/usr/local/lib/python3.7/dist-packages/ipykernel_launcher.py:4: SettingWithCopyWarning: \n",
            "A value is trying to be set on a copy of a slice from a DataFrame.\n",
            "Try using .loc[row_indexer,col_indexer] = value instead\n",
            "\n",
            "See the caveats in the documentation: https://pandas.pydata.org/pandas-docs/stable/user_guide/indexing.html#returning-a-view-versus-a-copy\n",
            "  after removing the cwd from sys.path.\n"
          ]
        }
      ]
    },
    {
      "cell_type": "markdown",
      "metadata": {
        "id": "naiCl5kCQvS-"
      },
      "source": [
        "### How many movies have ranks of over 9?\n",
        "---\n"
      ]
    },
    {
      "cell_type": "code",
      "metadata": {
        "id": "Rb7v7WXEQ3Xl",
        "colab": {
          "base_uri": "https://localhost:8080/"
        },
        "outputId": "2d095e7e-be7c-4154-9e92-ea788d7447a0"
      },
      "source": [
        "#Dropped duplicates of movie names as they have multiple entries due to genre column.\n",
        "df_dropdups = df_cleaned.drop_duplicates([\"name\"])\n",
        "top_movie_count = df_dropdups[df_dropdups[\"rank\"] >= 9].count()\n",
        "#from cheat sheet-> df[df['column name'] == value] \n",
        "print(top_movie_count[5])"
      ],
      "execution_count": 5,
      "outputs": [
        {
          "output_type": "stream",
          "name": "stdout",
          "text": [
            "1021\n"
          ]
        }
      ]
    },
    {
      "cell_type": "markdown",
      "metadata": {
        "id": "qSM1LAZGQ32W"
      },
      "source": [
        "### Plot a bar chart of mean rank and genre\n",
        "---"
      ]
    },
    {
      "cell_type": "code",
      "metadata": {
        "id": "oDk-3bkpRUfs",
        "colab": {
          "base_uri": "https://localhost:8080/",
          "height": 569
        },
        "outputId": "786059ba-62e7-4470-9e4e-ff106835724a"
      },
      "source": [
        "# copied from Jay\n",
        "#notice we didn't drop duplicates here because we would lose genre data!\n",
        "rank_by_genre = df_cleaned.groupby('genre')['rank'].mean()\n",
        "rank_by_genre = rank_by_genre.sort_values( ascending = False)\n",
        "sns.set(rc={'figure.figsize':(12,8)})\n",
        "colors = sns.color_palette('bright')\n",
        "bar_plot = rank_by_genre.plot(x=\"genre\", y=rank_by_genre, kind=\"bar\", alpha=0.75, rot=90, color = colors)\n",
        "bar_plot.set_xlabel(\"Genre\")\n",
        "bar_plot.set_ylabel(\"Mean Rank\");\n"
      ],
      "execution_count": 39,
      "outputs": [
        {
          "output_type": "display_data",
          "data": {
            "text/plain": [
              "<Figure size 864x576 with 1 Axes>"
            ],
            "image/png": "[encoded data removed]"
          },
          "metadata": {}
        }
      ]
    },
    {
      "cell_type": "code",
      "source": [
        "count_by_genre = df_cleaned.groupby('genre')['rank'].count()\n",
        "count_by_genre = count_by_genre.sort_values( ascending = False)\n",
        "bar_plot = count_by_genre.plot(x=\"genre\", y=count_by_genre, kind=\"bar\", alpha=0.75, rot=90, color = colors)\n",
        "bar_plot.set_xlabel(\"Genre\")\n",
        "bar_plot.set_ylabel(\"Count\");"
      ],
      "metadata": {
        "colab": {
          "base_uri": "https://localhost:8080/",
          "height": 567
        },
        "id": "Xd-yHomDJkfS",
        "outputId": "75afbdb6-2fc4-4c7f-f4b0-df2314ab3243"
      },
      "execution_count": 40,
      "outputs": [
        {
          "output_type": "display_data",
          "data": {
            "text/plain": [
              "<Figure size 864x576 with 1 Axes>"
            ],
            "image/png": "[encoded data removed]"
          },
          "metadata": {}
        }
      ]
    },
    {
      "cell_type": "markdown",
      "metadata": {
        "id": "O6srkKPnRbh_"
      },
      "source": [
        "### Plot a pie chart of how many movies of each genre there are \n",
        "---\n"
      ]
    },
    {
      "cell_type": "code",
      "metadata": {
        "id": "suiaWhkF6Odd",
        "colab": {
          "base_uri": "https://localhost:8080/",
          "height": 591
        },
        "outputId": "ba821587-d717-4e6e-9215-7b90767c5709"
      },
      "source": [
        "#Plot a Pie chart of genres\n",
        "colors = sns.color_palette('muted')\n",
        "labels = genres.keys()\n",
        "sns.set(rc={'figure.figsize':(10,10)})\n",
        "explode = (0.1,0.1,0.1,0.1,0.1,0.1,0.1,0.1,0.1,0.1,0.1,0.1,0.1,0.1,0.1,0.1,0.1,0.1,0.1,0.1)\n",
        "plt.pie(genres, colors = colors, pctdistance=1.1, labeldistance=1.2, explode = explode, autopct='%1.1f%%')\n",
        "plt.title(\"Pie Chart of Genres\")\n",
        "plt.legend(labels, bbox_to_anchor=(1.5,0.5), loc=\"right\")\n",
        "plt.show()"
      ],
      "execution_count": 41,
      "outputs": [
        {
          "output_type": "display_data",
          "data": {
            "text/plain": [
              "<Figure size 720x720 with 1 Axes>"
            ],
            "image/png": "[encoded data removed]"
          },
          "metadata": {}
        }
      ]
    },
    {
      "cell_type": "markdown",
      "metadata": {
        "id": "Cm9HjL_K6bvo"
      },
      "source": [
        "### Plot a graph showing the mean Rank for each year "
      ]
    },
    {
      "cell_type": "code",
      "metadata": {
        "id": "mgwSHrCt6luB",
        "colab": {
          "base_uri": "https://localhost:8080/",
          "height": 518
        },
        "outputId": "5f017ee6-cb08-4b45-db07-cf1fe292ea75"
      },
      "source": [
        "rank_by_year = df_cleaned.groupby('year')['rank'].mean()\n",
        "#print(rank_by_year)\n",
        "#plot the chart of the data means \n",
        "sns.set(rc={'figure.figsize':(12,8)})\n",
        "chart = sns.lineplot(data=rank_by_year, palette = colors)\n",
        "plt.title(\"Average rank of movies by year\")\n",
        "sns.set_style(\"whitegrid\")"
      ],
      "execution_count": 43,
      "outputs": [
        {
          "output_type": "display_data",
          "data": {
            "text/plain": [
              "<Figure size 864x576 with 1 Axes>"
            ],
            "image/png": "[encoded data removed]"
          },
          "metadata": {}
        }
      ]
    },
    {
      "cell_type": "markdown",
      "source": [
        "### This graph shows the highest ranked movies were made in the 1920's 🤩"
      ],
      "metadata": {
        "id": "2oR35E4cJCa8"
      }
    },
    {
      "cell_type": "markdown",
      "metadata": {
        "id": "FvzMjQ5X6oeU"
      },
      "source": [
        "### What else can you find out from this dataset?\n",
        "---\n",
        "Make a plan of 3 further things you can do to interrogate and analyse this dataset"
      ]
    },
    {
      "cell_type": "markdown",
      "metadata": {
        "id": "a46YOmLd64zb"
      },
      "source": [
        "Type your answer here  \n",
        "\n",
        "1.  Try ranking the directors by rating but also number of movies made. (extra challenge - find highest ranked director by genre)\n",
        "2.  write a function to return list of movies for a given director.\n",
        "3.  return a count of list of modern movies > 2000 to compare with Jay's count of movies released before 2000.\n",
        "4. plot total number of movies each year."
      ]
    },
    {
      "cell_type": "markdown",
      "metadata": {
        "id": "es_Uyz_f6-1F"
      },
      "source": [
        "### Complete the tasks you have set out in the exercise above. \n",
        "---\n"
      ]
    },
    {
      "cell_type": "markdown",
      "source": [
        "Task 1 is based on Jay's original workings above, though I will try to do it myself before asking for help."
      ],
      "metadata": {
        "id": "F29HNyMIDMv6"
      }
    },
    {
      "cell_type": "code",
      "source": [
        "import matplotlib.pyplot as plt\n",
        "\n",
        "#Task 1 - Rank the directors by their movie ratings and the number of movies they have directed.\n",
        "#Take a copy of the df with all non values dropped.\n",
        "directors = df_cleaned\n",
        "\n",
        "#create a new column with fullname in - concatenated from two columns, then remove the original columns.\n",
        "directors[\"fullname\"] = directors[\"first_name\"] + \" \" + directors[\"last_name\"]\n",
        "directors = directors.drop(columns = [\"first_name\", \"last_name\"])\n",
        "directors_name = directors[\"fullname\"]\n",
        "#print(directors_name)\n",
        "directors.info()\n",
        "\n"
      ],
      "metadata": {
        "colab": {
          "base_uri": "https://localhost:8080/"
        },
        "id": "rVqxfq8128YG",
        "outputId": "5f70f20a-f94d-4a09-ca1e-a1b110cfcc2f"
      },
      "execution_count": 10,
      "outputs": [
        {
          "output_type": "stream",
          "name": "stdout",
          "text": [
            "<class 'pandas.core.frame.DataFrame'>\n",
            "Int64Index: 113376 entries, 77 to 368891\n",
            "Data columns (total 6 columns):\n",
            " #   Column      Non-Null Count   Dtype  \n",
            "---  ------      --------------   -----  \n",
            " 0   Unnamed: 0  113376 non-null  int64  \n",
            " 1   name        113376 non-null  object \n",
            " 2   year        113376 non-null  int64  \n",
            " 3   rank        113376 non-null  float64\n",
            " 4   genre       113376 non-null  object \n",
            " 5   fullname    113376 non-null  object \n",
            "dtypes: float64(1), int64(2), object(3)\n",
            "memory usage: 10.1+ MB\n"
          ]
        },
        {
          "output_type": "stream",
          "name": "stderr",
          "text": [
            "/usr/local/lib/python3.7/dist-packages/ipykernel_launcher.py:8: SettingWithCopyWarning: \n",
            "A value is trying to be set on a copy of a slice from a DataFrame.\n",
            "Try using .loc[row_indexer,col_indexer] = value instead\n",
            "\n",
            "See the caveats in the documentation: https://pandas.pydata.org/pandas-docs/stable/user_guide/indexing.html#returning-a-view-versus-a-copy\n",
            "  \n"
          ]
        }
      ]
    },
    {
      "cell_type": "code",
      "source": [
        "#Now create a dataframe from the directors df and include the statistics on their rankings.\n",
        "def make_dataframe(df):\n",
        "  #group the directors ranks by their fullnames.\n",
        "  directors_rank_ave = df.groupby([\"fullname\"])[\"rank\"].mean()\n",
        "  #print(directors_rank_ave)\n",
        "  directors_rank_median = df.groupby([\"fullname\"])[\"rank\"].median()\n",
        "  #print(directors_rank_median)\n",
        "  directors_movie_names = directors.groupby([\"fullname\"])[\"name\"]\n",
        "  directors_movie_count = directors_movie_names.count() \n",
        "\n",
        "  #create new dataframe with above statistics from df_filtered.\n",
        "  directors_movie_names_series = pd.Series(directors_movie_names)\n",
        "  directors_rank_ave_series = pd.Series(directors_rank_ave)\n",
        "  directors_rank_median_series = pd.Series(directors_rank_median)\n",
        "  directors_movie_count_series = pd.Series(directors_movie_count)\n",
        "\n",
        "  frame = {\"Directors average rank\": directors_rank_ave_series, \"Directors median rank\": directors_rank_median_series, \"Directors movie total\": directors_movie_count_series }\n",
        "  new_dataframe =  pd.DataFrame(frame)\n",
        "  \n",
        "  return(new_dataframe)\n",
        "\n",
        "new_dataframe = make_dataframe(directors)\n",
        "\n",
        "new_dataframe.head(10)\n"
      ],
      "metadata": {
        "colab": {
          "base_uri": "https://localhost:8080/",
          "height": 394
        },
        "id": "FnDpnIXq1IDk",
        "outputId": "676af744-341b-4159-d412-f3e6be04581f"
      },
      "execution_count": 11,
      "outputs": [
        {
          "output_type": "execute_result",
          "data": {
            "text/plain": [
              "                         Directors average rank  Directors median rank  \\\n",
              "fullname                                                                 \n",
              "'Philthy' Phil Phillips                5.700000                    5.7   \n",
              "A. (I) Abramov                         6.900000                    6.9   \n",
              "A. Bhimsingh                           6.971429                    6.1   \n",
              "A. Charles Addessi                     4.200000                    4.2   \n",
              "A. Dean Bell                           5.333333                    6.4   \n",
              "A. Edward Sutherland                   6.265385                    6.4   \n",
              "A. Hans Scheirl                        6.000000                    6.0   \n",
              "A. Jonathan Benny                      8.557143                    8.6   \n",
              "A. Razak Mohaideen                     3.100000                    3.1   \n",
              "A. Trofimov                            8.800000                    8.8   \n",
              "\n",
              "                         Directors movie total  \n",
              "fullname                                        \n",
              "'Philthy' Phil Phillips                      1  \n",
              "A. (I) Abramov                               1  \n",
              "A. Bhimsingh                                 7  \n",
              "A. Charles Addessi                           1  \n",
              "A. Dean Bell                                 3  \n",
              "A. Edward Sutherland                        52  \n",
              "A. Hans Scheirl                              2  \n",
              "A. Jonathan Benny                           14  \n",
              "A. Razak Mohaideen                           1  \n",
              "A. Trofimov                                  1  "
            ],
            "text/html": [
              "\n",
              "  <div id=\"df-cbe49c1e-6808-4ae3-9d53-e5d10db39085\">\n",
              "    <div class=\"colab-df-container\">\n",
              "      <div>\n",
              "<style scoped>\n",
              "    .dataframe tbody tr th:only-of-type {\n",
              "        vertical-align: middle;\n",
              "    }\n",
              "\n",
              "    .dataframe tbody tr th {\n",
              "        vertical-align: top;\n",
              "    }\n",
              "\n",
              "    .dataframe thead th {\n",
              "        text-align: right;\n",
              "    }\n",
              "</style>\n",
              "<table border=\"1\" class=\"dataframe\">\n",
              "  <thead>\n",
              "    <tr style=\"text-align: right;\">\n",
              "      <th></th>\n",
              "      <th>Directors average rank</th>\n",
              "      <th>Directors median rank</th>\n",
              "      <th>Directors movie total</th>\n",
              "    </tr>\n",
              "    <tr>\n",
              "      <th>fullname</th>\n",
              "      <th></th>\n",
              "      <th></th>\n",
              "      <th></th>\n",
              "    </tr>\n",
              "  </thead>\n",
              "  <tbody>\n",
              "    <tr>\n",
              "      <th>'Philthy' Phil Phillips</th>\n",
              "      <td>5.700000</td>\n",
              "      <td>5.7</td>\n",
              "      <td>1</td>\n",
              "    </tr>\n",
              "    <tr>\n",
              "      <th>A. (I) Abramov</th>\n",
              "      <td>6.900000</td>\n",
              "      <td>6.9</td>\n",
              "      <td>1</td>\n",
              "    </tr>\n",
              "    <tr>\n",
              "      <th>A. Bhimsingh</th>\n",
              "      <td>6.971429</td>\n",
              "      <td>6.1</td>\n",
              "      <td>7</td>\n",
              "    </tr>\n",
              "    <tr>\n",
              "      <th>A. Charles Addessi</th>\n",
              "      <td>4.200000</td>\n",
              "      <td>4.2</td>\n",
              "      <td>1</td>\n",
              "    </tr>\n",
              "    <tr>\n",
              "      <th>A. Dean Bell</th>\n",
              "      <td>5.333333</td>\n",
              "      <td>6.4</td>\n",
              "      <td>3</td>\n",
              "    </tr>\n",
              "    <tr>\n",
              "      <th>A. Edward Sutherland</th>\n",
              "      <td>6.265385</td>\n",
              "      <td>6.4</td>\n",
              "      <td>52</td>\n",
              "    </tr>\n",
              "    <tr>\n",
              "      <th>A. Hans Scheirl</th>\n",
              "      <td>6.000000</td>\n",
              "      <td>6.0</td>\n",
              "      <td>2</td>\n",
              "    </tr>\n",
              "    <tr>\n",
              "      <th>A. Jonathan Benny</th>\n",
              "      <td>8.557143</td>\n",
              "      <td>8.6</td>\n",
              "      <td>14</td>\n",
              "    </tr>\n",
              "    <tr>\n",
              "      <th>A. Razak Mohaideen</th>\n",
              "      <td>3.100000</td>\n",
              "      <td>3.1</td>\n",
              "      <td>1</td>\n",
              "    </tr>\n",
              "    <tr>\n",
              "      <th>A. Trofimov</th>\n",
              "      <td>8.800000</td>\n",
              "      <td>8.8</td>\n",
              "      <td>1</td>\n",
              "    </tr>\n",
              "  </tbody>\n",
              "</table>\n",
              "</div>\n",
              "      <button class=\"colab-df-convert\" onclick=\"convertToInteractive('df-cbe49c1e-6808-4ae3-9d53-e5d10db39085')\"\n",
              "              title=\"Convert this dataframe to an interactive table.\"\n",
              "              style=\"display:none;\">\n",
              "        \n",
              "  <svg xmlns=\"http://www.w3.org/2000/svg\" height=\"24px\"viewBox=\"0 0 24 24\"\n",
              "       width=\"24px\">\n",
              "    <path d=\"M0 0h24v24H0V0z\" fill=\"none\"/>\n",
              "    <path d=\"M18.56 5.44l.94 2.06.94-2.06 2.06-.94-2.06-.94-.94-2.06-.94 2.06-2.06.94zm-11 1L8.5 8.5l.94-2.06 2.06-.94-2.06-.94L8.5 2.5l-.94 2.06-2.06.94zm10 10l.94 2.06.94-2.06 2.06-.94-2.06-.94-.94-2.06-.94 2.06-2.06.94z\"/><path d=\"M17.41 7.96l-1.37-1.37c-.4-.4-.92-.59-1.43-.59-.52 0-1.04.2-1.43.59L10.3 9.45l-7.72 7.72c-.78.78-.78 2.05 0 2.83L4 21.41c.39.39.9.59 1.41.59.51 0 1.02-.2 1.41-.59l7.78-7.78 2.81-2.81c.8-.78.8-2.07 0-2.86zM5.41 20L4 18.59l7.72-7.72 1.47 1.35L5.41 20z\"/>\n",
              "  </svg>\n",
              "      </button>\n",
              "      \n",
              "  <style>\n",
              "    .colab-df-container {\n",
              "      display:flex;\n",
              "      flex-wrap:wrap;\n",
              "      gap: 12px;\n",
              "    }\n",
              "\n",
              "    .colab-df-convert {\n",
              "      background-color: #E8F0FE;\n",
              "      border: none;\n",
              "      border-radius: 50%;\n",
              "      cursor: pointer;\n",
              "      display: none;\n",
              "      fill: #1967D2;\n",
              "      height: 32px;\n",
              "      padding: 0 0 0 0;\n",
              "      width: 32px;\n",
              "    }\n",
              "\n",
              "    .colab-df-convert:hover {\n",
              "      background-color: #E2EBFA;\n",
              "      box-shadow: 0px 1px 2px rgba(60, 64, 67, 0.3), 0px 1px 3px 1px rgba(60, 64, 67, 0.15);\n",
              "      fill: #174EA6;\n",
              "    }\n",
              "\n",
              "    [theme=dark] .colab-df-convert {\n",
              "      background-color: #3B4455;\n",
              "      fill: #D2E3FC;\n",
              "    }\n",
              "\n",
              "    [theme=dark] .colab-df-convert:hover {\n",
              "      background-color: #434B5C;\n",
              "      box-shadow: 0px 1px 3px 1px rgba(0, 0, 0, 0.15);\n",
              "      filter: drop-shadow(0px 1px 2px rgba(0, 0, 0, 0.3));\n",
              "      fill: #FFFFFF;\n",
              "    }\n",
              "  </style>\n",
              "\n",
              "      <script>\n",
              "        const buttonEl =\n",
              "          document.querySelector('#df-cbe49c1e-6808-4ae3-9d53-e5d10db39085 button.colab-df-convert');\n",
              "        buttonEl.style.display =\n",
              "          google.colab.kernel.accessAllowed ? 'block' : 'none';\n",
              "\n",
              "        async function convertToInteractive(key) {\n",
              "          const element = document.querySelector('#df-cbe49c1e-6808-4ae3-9d53-e5d10db39085');\n",
              "          const dataTable =\n",
              "            await google.colab.kernel.invokeFunction('convertToInteractive',\n",
              "                                                     [key], {});\n",
              "          if (!dataTable) return;\n",
              "\n",
              "          const docLinkHtml = 'Like what you see? Visit the ' +\n",
              "            '<a target=\"_blank\" href=https://colab.research.google.com/notebooks/data_table.ipynb>data table notebook</a>'\n",
              "            + ' to learn more about interactive tables.';\n",
              "          element.innerHTML = '';\n",
              "          dataTable['output_type'] = 'display_data';\n",
              "          await google.colab.output.renderOutput(dataTable, element);\n",
              "          const docLink = document.createElement('div');\n",
              "          docLink.innerHTML = docLinkHtml;\n",
              "          element.appendChild(docLink);\n",
              "        }\n",
              "      </script>\n",
              "    </div>\n",
              "  </div>\n",
              "  "
            ]
          },
          "metadata": {},
          "execution_count": 11
        }
      ]
    },
    {
      "cell_type": "code",
      "source": [
        "#sort by rank and count of movies\n",
        "top_directors = new_dataframe.sort_values([\"Directors movie total\", \"Directors average rank\"], ascending = (False, False))\n",
        "top_directors.head(10)"
      ],
      "metadata": {
        "colab": {
          "base_uri": "https://localhost:8080/",
          "height": 394
        },
        "id": "F8dsP9klNxWV",
        "outputId": "bdefeb26-3358-4507-e3de-e4bb4f811c77"
      },
      "execution_count": 12,
      "outputs": [
        {
          "output_type": "execute_result",
          "data": {
            "text/plain": [
              "                   Directors average rank  Directors median rank  \\\n",
              "fullname                                                           \n",
              "Friz Freleng                     6.718341                    6.8   \n",
              "Chuck (I) Jones                  6.944614                    7.0   \n",
              "Dave Fleischer                   5.974526                    5.9   \n",
              "Robert McKimson                  6.475897                    6.5   \n",
              "Tex Avery                        7.029077                    6.9   \n",
              "William (I) Hanna                6.518496                    6.6   \n",
              "Joseph Barbera                   6.538763                    6.6   \n",
              "Robert Clampett                  7.181212                    7.1   \n",
              "Jack Kinney                      6.591829                    6.5   \n",
              "Jack (I) Hannah                  6.932016                    6.9   \n",
              "\n",
              "                   Directors movie total  \n",
              "fullname                                  \n",
              "Friz Freleng                        1025  \n",
              "Chuck (I) Jones                      984  \n",
              "Dave Fleischer                       738  \n",
              "Robert McKimson                      697  \n",
              "Tex Avery                            509  \n",
              "William (I) Hanna                    492  \n",
              "Joseph Barbera                       485  \n",
              "Robert Clampett                      330  \n",
              "Jack Kinney                          257  \n",
              "Jack (I) Hannah                      253  "
            ],
            "text/html": [
              "\n",
              "  <div id=\"df-7c849bdf-5502-4c41-8d4c-bef1eddade4b\">\n",
              "    <div class=\"colab-df-container\">\n",
              "      <div>\n",
              "<style scoped>\n",
              "    .dataframe tbody tr th:only-of-type {\n",
              "        vertical-align: middle;\n",
              "    }\n",
              "\n",
              "    .dataframe tbody tr th {\n",
              "        vertical-align: top;\n",
              "    }\n",
              "\n",
              "    .dataframe thead th {\n",
              "        text-align: right;\n",
              "    }\n",
              "</style>\n",
              "<table border=\"1\" class=\"dataframe\">\n",
              "  <thead>\n",
              "    <tr style=\"text-align: right;\">\n",
              "      <th></th>\n",
              "      <th>Directors average rank</th>\n",
              "      <th>Directors median rank</th>\n",
              "      <th>Directors movie total</th>\n",
              "    </tr>\n",
              "    <tr>\n",
              "      <th>fullname</th>\n",
              "      <th></th>\n",
              "      <th></th>\n",
              "      <th></th>\n",
              "    </tr>\n",
              "  </thead>\n",
              "  <tbody>\n",
              "    <tr>\n",
              "      <th>Friz Freleng</th>\n",
              "      <td>6.718341</td>\n",
              "      <td>6.8</td>\n",
              "      <td>1025</td>\n",
              "    </tr>\n",
              "    <tr>\n",
              "      <th>Chuck (I) Jones</th>\n",
              "      <td>6.944614</td>\n",
              "      <td>7.0</td>\n",
              "      <td>984</td>\n",
              "    </tr>\n",
              "    <tr>\n",
              "      <th>Dave Fleischer</th>\n",
              "      <td>5.974526</td>\n",
              "      <td>5.9</td>\n",
              "      <td>738</td>\n",
              "    </tr>\n",
              "    <tr>\n",
              "      <th>Robert McKimson</th>\n",
              "      <td>6.475897</td>\n",
              "      <td>6.5</td>\n",
              "      <td>697</td>\n",
              "    </tr>\n",
              "    <tr>\n",
              "      <th>Tex Avery</th>\n",
              "      <td>7.029077</td>\n",
              "      <td>6.9</td>\n",
              "      <td>509</td>\n",
              "    </tr>\n",
              "    <tr>\n",
              "      <th>William (I) Hanna</th>\n",
              "      <td>6.518496</td>\n",
              "      <td>6.6</td>\n",
              "      <td>492</td>\n",
              "    </tr>\n",
              "    <tr>\n",
              "      <th>Joseph Barbera</th>\n",
              "      <td>6.538763</td>\n",
              "      <td>6.6</td>\n",
              "      <td>485</td>\n",
              "    </tr>\n",
              "    <tr>\n",
              "      <th>Robert Clampett</th>\n",
              "      <td>7.181212</td>\n",
              "      <td>7.1</td>\n",
              "      <td>330</td>\n",
              "    </tr>\n",
              "    <tr>\n",
              "      <th>Jack Kinney</th>\n",
              "      <td>6.591829</td>\n",
              "      <td>6.5</td>\n",
              "      <td>257</td>\n",
              "    </tr>\n",
              "    <tr>\n",
              "      <th>Jack (I) Hannah</th>\n",
              "      <td>6.932016</td>\n",
              "      <td>6.9</td>\n",
              "      <td>253</td>\n",
              "    </tr>\n",
              "  </tbody>\n",
              "</table>\n",
              "</div>\n",
              "      <button class=\"colab-df-convert\" onclick=\"convertToInteractive('df-7c849bdf-5502-4c41-8d4c-bef1eddade4b')\"\n",
              "              title=\"Convert this dataframe to an interactive table.\"\n",
              "              style=\"display:none;\">\n",
              "        \n",
              "  <svg xmlns=\"http://www.w3.org/2000/svg\" height=\"24px\"viewBox=\"0 0 24 24\"\n",
              "       width=\"24px\">\n",
              "    <path d=\"M0 0h24v24H0V0z\" fill=\"none\"/>\n",
              "    <path d=\"M18.56 5.44l.94 2.06.94-2.06 2.06-.94-2.06-.94-.94-2.06-.94 2.06-2.06.94zm-11 1L8.5 8.5l.94-2.06 2.06-.94-2.06-.94L8.5 2.5l-.94 2.06-2.06.94zm10 10l.94 2.06.94-2.06 2.06-.94-2.06-.94-.94-2.06-.94 2.06-2.06.94z\"/><path d=\"M17.41 7.96l-1.37-1.37c-.4-.4-.92-.59-1.43-.59-.52 0-1.04.2-1.43.59L10.3 9.45l-7.72 7.72c-.78.78-.78 2.05 0 2.83L4 21.41c.39.39.9.59 1.41.59.51 0 1.02-.2 1.41-.59l7.78-7.78 2.81-2.81c.8-.78.8-2.07 0-2.86zM5.41 20L4 18.59l7.72-7.72 1.47 1.35L5.41 20z\"/>\n",
              "  </svg>\n",
              "      </button>\n",
              "      \n",
              "  <style>\n",
              "    .colab-df-container {\n",
              "      display:flex;\n",
              "      flex-wrap:wrap;\n",
              "      gap: 12px;\n",
              "    }\n",
              "\n",
              "    .colab-df-convert {\n",
              "      background-color: #E8F0FE;\n",
              "      border: none;\n",
              "      border-radius: 50%;\n",
              "      cursor: pointer;\n",
              "      display: none;\n",
              "      fill: #1967D2;\n",
              "      height: 32px;\n",
              "      padding: 0 0 0 0;\n",
              "      width: 32px;\n",
              "    }\n",
              "\n",
              "    .colab-df-convert:hover {\n",
              "      background-color: #E2EBFA;\n",
              "      box-shadow: 0px 1px 2px rgba(60, 64, 67, 0.3), 0px 1px 3px 1px rgba(60, 64, 67, 0.15);\n",
              "      fill: #174EA6;\n",
              "    }\n",
              "\n",
              "    [theme=dark] .colab-df-convert {\n",
              "      background-color: #3B4455;\n",
              "      fill: #D2E3FC;\n",
              "    }\n",
              "\n",
              "    [theme=dark] .colab-df-convert:hover {\n",
              "      background-color: #434B5C;\n",
              "      box-shadow: 0px 1px 3px 1px rgba(0, 0, 0, 0.15);\n",
              "      filter: drop-shadow(0px 1px 2px rgba(0, 0, 0, 0.3));\n",
              "      fill: #FFFFFF;\n",
              "    }\n",
              "  </style>\n",
              "\n",
              "      <script>\n",
              "        const buttonEl =\n",
              "          document.querySelector('#df-7c849bdf-5502-4c41-8d4c-bef1eddade4b button.colab-df-convert');\n",
              "        buttonEl.style.display =\n",
              "          google.colab.kernel.accessAllowed ? 'block' : 'none';\n",
              "\n",
              "        async function convertToInteractive(key) {\n",
              "          const element = document.querySelector('#df-7c849bdf-5502-4c41-8d4c-bef1eddade4b');\n",
              "          const dataTable =\n",
              "            await google.colab.kernel.invokeFunction('convertToInteractive',\n",
              "                                                     [key], {});\n",
              "          if (!dataTable) return;\n",
              "\n",
              "          const docLinkHtml = 'Like what you see? Visit the ' +\n",
              "            '<a target=\"_blank\" href=https://colab.research.google.com/notebooks/data_table.ipynb>data table notebook</a>'\n",
              "            + ' to learn more about interactive tables.';\n",
              "          element.innerHTML = '';\n",
              "          dataTable['output_type'] = 'display_data';\n",
              "          await google.colab.output.renderOutput(dataTable, element);\n",
              "          const docLink = document.createElement('div');\n",
              "          docLink.innerHTML = docLinkHtml;\n",
              "          element.appendChild(docLink);\n",
              "        }\n",
              "      </script>\n",
              "    </div>\n",
              "  </div>\n",
              "  "
            ]
          },
          "metadata": {},
          "execution_count": 12
        }
      ]
    },
    {
      "cell_type": "code",
      "source": [
        "#Created a function to filter the original df by genre input by the user, then run the function from above to \n",
        "#create a new df with mean and count of movies on just one genre.\n",
        "\n",
        "def filtered_by_genre(df):\n",
        "  print(genres)\n",
        "  genre = input(\"Input a genre from above list(case sensitive): \")\n",
        "  filtered_df = df[df['genre'] == genre]\n",
        "  #filtered_df = df[df['column name' == value]] - from cheat sheet\n",
        "  filtered_df\n",
        "  return filtered_df\n",
        "\n",
        "\n",
        "#Run function and assign output to filtered_df\n",
        "filtered_df = filtered_by_genre(df_cleaned)\n",
        "#Run function to create a new dataframe that will display the average rating for each director in the user's chosen genre.\n",
        "new_dataframe = make_dataframe(filtered_df)\n",
        "new_dataframe = new_dataframe.sort_values([\"Directors average rank\", \"Directors movie total\"], ascending = (False, False))\n",
        "new_dataframe.head(10)\n"
      ],
      "metadata": {
        "colab": {
          "base_uri": "https://localhost:8080/",
          "height": 796
        },
        "id": "EN2ENLvCFOml",
        "outputId": "28b6b6f2-1100-4fe1-c3fd-23b4e16bdb93"
      },
      "execution_count": 13,
      "outputs": [
        {
          "name": "stdout",
          "output_type": "stream",
          "text": [
            "Short          72894\n",
            "Drama          72635\n",
            "Comedy         54667\n",
            "Documentary    35698\n",
            "Animation      17038\n",
            "Romance        13562\n",
            "Action         12890\n",
            "Crime          12610\n",
            "Family         11074\n",
            "Thriller       10681\n",
            "Adventure       8598\n",
            "Western         8231\n",
            "Horror          7423\n",
            "Musical         6843\n",
            "Sci-Fi          4957\n",
            "Mystery         4951\n",
            "Fantasy         4871\n",
            "Music           4444\n",
            "War             4398\n",
            "Film-Noir        429\n",
            "Name: genre, dtype: int64\n",
            "Input a genre from above list(case sensitive): Drama\n"
          ]
        },
        {
          "output_type": "execute_result",
          "data": {
            "text/plain": [
              "                      Directors average rank  Directors median rank  \\\n",
              "fullname                                                              \n",
              "Chris Eska                               9.8                    9.8   \n",
              "Takis Kanellopoulos                      9.8                    9.8   \n",
              "Djordje Kadijevic                        9.8                    9.8   \n",
              "Jung S. Ha                               9.8                    9.8   \n",
              "Lloyd A. Silverman                       9.8                    9.8   \n",
              "Jay Woelfel                              9.7                    9.7   \n",
              "Sean (II) Ellis                          9.7                    9.7   \n",
              "Ilker Canikligil                         9.7                    9.7   \n",
              "Jim (IV) Fitzpatrick                     9.7                    9.7   \n",
              "Jim Cliffe                               9.7                    9.7   \n",
              "\n",
              "                      Directors movie total  \n",
              "fullname                                     \n",
              "Chris Eska                                3  \n",
              "Takis Kanellopoulos                       3  \n",
              "Djordje Kadijevic                         2  \n",
              "Jung S. Ha                                2  \n",
              "Lloyd A. Silverman                        1  \n",
              "Jay Woelfel                              14  \n",
              "Sean (II) Ellis                           4  \n",
              "Ilker Canikligil                          3  \n",
              "Jim (IV) Fitzpatrick                      3  \n",
              "Jim Cliffe                                2  "
            ],
            "text/html": [
              "\n",
              "  <div id=\"df-cb34303b-5c88-4a47-b74a-5fd42c64e6af\">\n",
              "    <div class=\"colab-df-container\">\n",
              "      <div>\n",
              "<style scoped>\n",
              "    .dataframe tbody tr th:only-of-type {\n",
              "        vertical-align: middle;\n",
              "    }\n",
              "\n",
              "    .dataframe tbody tr th {\n",
              "        vertical-align: top;\n",
              "    }\n",
              "\n",
              "    .dataframe thead th {\n",
              "        text-align: right;\n",
              "    }\n",
              "</style>\n",
              "<table border=\"1\" class=\"dataframe\">\n",
              "  <thead>\n",
              "    <tr style=\"text-align: right;\">\n",
              "      <th></th>\n",
              "      <th>Directors average rank</th>\n",
              "      <th>Directors median rank</th>\n",
              "      <th>Directors movie total</th>\n",
              "    </tr>\n",
              "    <tr>\n",
              "      <th>fullname</th>\n",
              "      <th></th>\n",
              "      <th></th>\n",
              "      <th></th>\n",
              "    </tr>\n",
              "  </thead>\n",
              "  <tbody>\n",
              "    <tr>\n",
              "      <th>Chris Eska</th>\n",
              "      <td>9.8</td>\n",
              "      <td>9.8</td>\n",
              "      <td>3</td>\n",
              "    </tr>\n",
              "    <tr>\n",
              "      <th>Takis Kanellopoulos</th>\n",
              "      <td>9.8</td>\n",
              "      <td>9.8</td>\n",
              "      <td>3</td>\n",
              "    </tr>\n",
              "    <tr>\n",
              "      <th>Djordje Kadijevic</th>\n",
              "      <td>9.8</td>\n",
              "      <td>9.8</td>\n",
              "      <td>2</td>\n",
              "    </tr>\n",
              "    <tr>\n",
              "      <th>Jung S. Ha</th>\n",
              "      <td>9.8</td>\n",
              "      <td>9.8</td>\n",
              "      <td>2</td>\n",
              "    </tr>\n",
              "    <tr>\n",
              "      <th>Lloyd A. Silverman</th>\n",
              "      <td>9.8</td>\n",
              "      <td>9.8</td>\n",
              "      <td>1</td>\n",
              "    </tr>\n",
              "    <tr>\n",
              "      <th>Jay Woelfel</th>\n",
              "      <td>9.7</td>\n",
              "      <td>9.7</td>\n",
              "      <td>14</td>\n",
              "    </tr>\n",
              "    <tr>\n",
              "      <th>Sean (II) Ellis</th>\n",
              "      <td>9.7</td>\n",
              "      <td>9.7</td>\n",
              "      <td>4</td>\n",
              "    </tr>\n",
              "    <tr>\n",
              "      <th>Ilker Canikligil</th>\n",
              "      <td>9.7</td>\n",
              "      <td>9.7</td>\n",
              "      <td>3</td>\n",
              "    </tr>\n",
              "    <tr>\n",
              "      <th>Jim (IV) Fitzpatrick</th>\n",
              "      <td>9.7</td>\n",
              "      <td>9.7</td>\n",
              "      <td>3</td>\n",
              "    </tr>\n",
              "    <tr>\n",
              "      <th>Jim Cliffe</th>\n",
              "      <td>9.7</td>\n",
              "      <td>9.7</td>\n",
              "      <td>2</td>\n",
              "    </tr>\n",
              "  </tbody>\n",
              "</table>\n",
              "</div>\n",
              "      <button class=\"colab-df-convert\" onclick=\"convertToInteractive('df-cb34303b-5c88-4a47-b74a-5fd42c64e6af')\"\n",
              "              title=\"Convert this dataframe to an interactive table.\"\n",
              "              style=\"display:none;\">\n",
              "        \n",
              "  <svg xmlns=\"http://www.w3.org/2000/svg\" height=\"24px\"viewBox=\"0 0 24 24\"\n",
              "       width=\"24px\">\n",
              "    <path d=\"M0 0h24v24H0V0z\" fill=\"none\"/>\n",
              "    <path d=\"M18.56 5.44l.94 2.06.94-2.06 2.06-.94-2.06-.94-.94-2.06-.94 2.06-2.06.94zm-11 1L8.5 8.5l.94-2.06 2.06-.94-2.06-.94L8.5 2.5l-.94 2.06-2.06.94zm10 10l.94 2.06.94-2.06 2.06-.94-2.06-.94-.94-2.06-.94 2.06-2.06.94z\"/><path d=\"M17.41 7.96l-1.37-1.37c-.4-.4-.92-.59-1.43-.59-.52 0-1.04.2-1.43.59L10.3 9.45l-7.72 7.72c-.78.78-.78 2.05 0 2.83L4 21.41c.39.39.9.59 1.41.59.51 0 1.02-.2 1.41-.59l7.78-7.78 2.81-2.81c.8-.78.8-2.07 0-2.86zM5.41 20L4 18.59l7.72-7.72 1.47 1.35L5.41 20z\"/>\n",
              "  </svg>\n",
              "      </button>\n",
              "      \n",
              "  <style>\n",
              "    .colab-df-container {\n",
              "      display:flex;\n",
              "      flex-wrap:wrap;\n",
              "      gap: 12px;\n",
              "    }\n",
              "\n",
              "    .colab-df-convert {\n",
              "      background-color: #E8F0FE;\n",
              "      border: none;\n",
              "      border-radius: 50%;\n",
              "      cursor: pointer;\n",
              "      display: none;\n",
              "      fill: #1967D2;\n",
              "      height: 32px;\n",
              "      padding: 0 0 0 0;\n",
              "      width: 32px;\n",
              "    }\n",
              "\n",
              "    .colab-df-convert:hover {\n",
              "      background-color: #E2EBFA;\n",
              "      box-shadow: 0px 1px 2px rgba(60, 64, 67, 0.3), 0px 1px 3px 1px rgba(60, 64, 67, 0.15);\n",
              "      fill: #174EA6;\n",
              "    }\n",
              "\n",
              "    [theme=dark] .colab-df-convert {\n",
              "      background-color: #3B4455;\n",
              "      fill: #D2E3FC;\n",
              "    }\n",
              "\n",
              "    [theme=dark] .colab-df-convert:hover {\n",
              "      background-color: #434B5C;\n",
              "      box-shadow: 0px 1px 3px 1px rgba(0, 0, 0, 0.15);\n",
              "      filter: drop-shadow(0px 1px 2px rgba(0, 0, 0, 0.3));\n",
              "      fill: #FFFFFF;\n",
              "    }\n",
              "  </style>\n",
              "\n",
              "      <script>\n",
              "        const buttonEl =\n",
              "          document.querySelector('#df-cb34303b-5c88-4a47-b74a-5fd42c64e6af button.colab-df-convert');\n",
              "        buttonEl.style.display =\n",
              "          google.colab.kernel.accessAllowed ? 'block' : 'none';\n",
              "\n",
              "        async function convertToInteractive(key) {\n",
              "          const element = document.querySelector('#df-cb34303b-5c88-4a47-b74a-5fd42c64e6af');\n",
              "          const dataTable =\n",
              "            await google.colab.kernel.invokeFunction('convertToInteractive',\n",
              "                                                     [key], {});\n",
              "          if (!dataTable) return;\n",
              "\n",
              "          const docLinkHtml = 'Like what you see? Visit the ' +\n",
              "            '<a target=\"_blank\" href=https://colab.research.google.com/notebooks/data_table.ipynb>data table notebook</a>'\n",
              "            + ' to learn more about interactive tables.';\n",
              "          element.innerHTML = '';\n",
              "          dataTable['output_type'] = 'display_data';\n",
              "          await google.colab.output.renderOutput(dataTable, element);\n",
              "          const docLink = document.createElement('div');\n",
              "          docLink.innerHTML = docLinkHtml;\n",
              "          element.appendChild(docLink);\n",
              "        }\n",
              "      </script>\n",
              "    </div>\n",
              "  </div>\n",
              "  "
            ]
          },
          "metadata": {},
          "execution_count": 13
        }
      ]
    },
    {
      "cell_type": "code",
      "source": [
        "#task 2 Write a function to return a list of all movies by a given director\n",
        "\n",
        "def get_movies(df, fullname):\n",
        "  list_of_movies = df[df[\"fullname\"] == fullname].drop_duplicates([\"name\"])\n",
        "  return list_of_movies\n",
        "\n",
        "list_of_movies = get_movies(directors, \"Quentin Tarantino\")\n",
        "movies = list_of_movies[\"name\"]\n",
        "print(movies)"
      ],
      "metadata": {
        "colab": {
          "base_uri": "https://localhost:8080/"
        },
        "id": "f4uEwMIke-mq",
        "outputId": "dcfe732d-fc1b-429f-b0f0-8bafa1da3f94"
      },
      "execution_count": 14,
      "outputs": [
        {
          "output_type": "stream",
          "name": "stdout",
          "text": [
            "328559                   Four Rooms\n",
            "328564                 Jackie Brown\n",
            "328567            Kill Bill: Vol. 1\n",
            "328570            Kill Bill: Vol. 2\n",
            "328574    My Best Friend's Birthday\n",
            "328576                 Pulp Fiction\n",
            "328578               Reservoir Dogs\n",
            "Name: name, dtype: object\n"
          ]
        }
      ]
    },
    {
      "cell_type": "code",
      "metadata": {
        "id": "GY-HzjZb7L5q",
        "colab": {
          "base_uri": "https://localhost:8080/"
        },
        "outputId": "e98243be-f776-417b-d581-4d515249b1aa"
      },
      "source": [
        "# task 3 Count of movies released after year 2000\n",
        "this_century = df_cleaned[df_cleaned[\"year\"] >= 2000].count()\n",
        "print(this_century)\n",
        "\n",
        "past_century = df_cleaned[df_cleaned[\"year\"] < 2000].count()\n",
        "print(past_century)"
      ],
      "execution_count": 15,
      "outputs": [
        {
          "output_type": "stream",
          "name": "stdout",
          "text": [
            "Unnamed: 0    20378\n",
            "first_name    20378\n",
            "last_name     20378\n",
            "name          20378\n",
            "year          20378\n",
            "rank          20378\n",
            "genre         20378\n",
            "fullname      20378\n",
            "dtype: int64\n",
            "Unnamed: 0    92998\n",
            "first_name    92998\n",
            "last_name     92998\n",
            "name          92998\n",
            "year          92998\n",
            "rank          92998\n",
            "genre         92998\n",
            "fullname      92998\n",
            "dtype: int64\n"
          ]
        }
      ]
    },
    {
      "cell_type": "code",
      "source": [
        "#Task 4 Plot the total number of movies by year.\n",
        "remove_duplicates = df_cleaned.drop_duplicates([\"name\"])\n",
        "count_by_year = remove_duplicates.groupby('year')[\"name\"].count()\n",
        "#plot the chart of the data counts using seaborn \n",
        "plt.title(\"Count of Movies per year\")\n",
        "plt.xlabel(\"Years\")\n",
        "plt.ylabel(\"Count of Movies\")\n",
        "chart = sns.lineplot(data=count_by_year)\n",
        "sns.set_style(\"whitegrid\")\n"
      ],
      "metadata": {
        "colab": {
          "base_uri": "https://localhost:8080/",
          "height": 295
        },
        "id": "W4tmWIKY1Vec",
        "outputId": "2cd8c2b7-22d2-42b1-eb02-77dc678e27fa"
      },
      "execution_count": 16,
      "outputs": [
        {
          "output_type": "display_data",
          "data": {
            "text/plain": [
              "<Figure size 432x288 with 1 Axes>"
            ],
            "image/png": "[encoded data removed]"
          },
          "metadata": {}
        }
      ]
    },
    {
      "cell_type": "markdown",
      "metadata": {
        "id": "pQV2NO8umBSk"
      },
      "source": [
        "# Reflection\n",
        "----\n",
        "\n",
        "## What skills have you demonstrated in completing this notebook?"
      ]
    },
    {
      "cell_type": "markdown",
      "metadata": {
        "id": "NUVvt2r0mCKq"
      },
      "source": [
        "We pulled together some of the previous worksheets on Pandas for this project. We use droping null values, filtering on columns and grouping by another. Plotting tools like pie charts and line graphs. Working with another person was helpful for me as I often can't get started quickly and sometimes can't see the typos or missing brackets easily."
      ]
    },
    {
      "cell_type": "markdown",
      "metadata": {
        "id": "SOrbWOuFmObq"
      },
      "source": [
        "## What caused you the most difficulty?"
      ]
    },
    {
      "cell_type": "markdown",
      "metadata": {
        "id": "G_eGng1GmO78"
      },
      "source": [
        "Your answer: Jay and I worked together on this mini project, although Jay was well ahead of me when I started. It took me a while to catch up but Jay was patient and helped when I was really stuck. Mostly, I get stuck on syntax and what command to use sometimes. I struggled with the filtering functions still which is very frustrating to me. I will try and practice this more."
      ]
    }
  ]
}