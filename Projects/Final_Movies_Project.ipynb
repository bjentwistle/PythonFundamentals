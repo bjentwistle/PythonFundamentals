{
  "nbformat": 4,
  "nbformat_minor": 0,
  "metadata": {
    "colab": {
      "name": "Final Movies Project.ipynb",
      "provenance": [],
      "collapsed_sections": [],
      "include_colab_link": true
    },
    "kernelspec": {
      "name": "python3",
      "display_name": "Python 3"
    },
    "language_info": {
      "name": "python"
    }
  },
  "cells": [
    {
      "cell_type": "markdown",
      "metadata": {
        "id": "view-in-github",
        "colab_type": "text"
      },
      "source": [
        "<a href=\"https://colab.research.google.com/github/bjentwistle/PythonFundamentals/blob/main/Projects/Final_Movies_Project.ipynb\" target=\"_parent\"><img src=\"https://colab.research.google.com/assets/colab-badge.svg\" alt=\"Open In Colab\"/></a>"
      ]
    },
    {
      "cell_type": "markdown",
      "metadata": {
        "id": "iNinIL0w_DHu"
      },
      "source": [
        "# Movies Mini-project\n",
        "---\n",
        "\n",
        "In the previous worksheet you converted an SQL relational database to a single pandas dataframe and downloaded it. You will be analysing it today.\n",
        "\n",
        "If you were unable to download the file, there is a copy located here: \n",
        "\n",
        "\"https://github.com/lilaceri/Working-with-data-/blob/main/Data%20Sets%20for%20code%20divisio/movies.csv?raw=true\"\n",
        "\n"
      ]
    },
    {
      "cell_type": "markdown",
      "metadata": {
        "id": "TlOJOk3vMN2C"
      },
      "source": [
        "### Inspect the dataset \n",
        "---"
      ]
    },
    {
      "cell_type": "code",
      "metadata": {
        "id": "Le5KSKHY_BM9",
        "colab": {
          "base_uri": "https://localhost:8080/",
          "height": 206
        },
        "outputId": "d29bbaf4-4d1f-4351-ad47-d67f89904120"
      },
      "source": [
        "import numpy as np\n",
        "import pandas as pd\n",
        "import matplotlib.pyplot as plt\n",
        "import seaborn as sns\n",
        "\n",
        "\n",
        "url = \"https://github.com/lilaceri/Working-with-data-/blob/main/Data%20Sets%20for%20code%20divisio/movies.csv?raw=true\"\n",
        "df = pd.read_csv(url)\n",
        "df.head()\n"
      ],
      "execution_count": 26,
      "outputs": [
        {
          "output_type": "execute_result",
          "data": {
            "text/plain": [
              "   Unnamed: 0 first_name    last_name                      name  year  rank  \\\n",
              "0           0        Les  12 Poissons      Rondo pour trompette  2002   NaN   \n",
              "1           1    Lejaren     a'Hiller  Sleep of Cyma Roget, The  1920   NaN   \n",
              "2           2   Khairiya    A-Mansour          Churches in Iraq  1988   NaN   \n",
              "3           3    Ricardo     A. Solla                  Foto, La  2001   NaN   \n",
              "4           4    Ricardo     A. Solla                  Foto, La  2001   NaN   \n",
              "\n",
              "         genre  \n",
              "0        Short  \n",
              "1        Drama  \n",
              "2  Documentary  \n",
              "3        Drama  \n",
              "4        Short  "
            ],
            "text/html": [
              "\n",
              "  <div id=\"df-ba83556d-7db0-4580-9dc4-bd5196f90133\">\n",
              "    <div class=\"colab-df-container\">\n",
              "      <div>\n",
              "<style scoped>\n",
              "    .dataframe tbody tr th:only-of-type {\n",
              "        vertical-align: middle;\n",
              "    }\n",
              "\n",
              "    .dataframe tbody tr th {\n",
              "        vertical-align: top;\n",
              "    }\n",
              "\n",
              "    .dataframe thead th {\n",
              "        text-align: right;\n",
              "    }\n",
              "</style>\n",
              "<table border=\"1\" class=\"dataframe\">\n",
              "  <thead>\n",
              "    <tr style=\"text-align: right;\">\n",
              "      <th></th>\n",
              "      <th>Unnamed: 0</th>\n",
              "      <th>first_name</th>\n",
              "      <th>last_name</th>\n",
              "      <th>name</th>\n",
              "      <th>year</th>\n",
              "      <th>rank</th>\n",
              "      <th>genre</th>\n",
              "    </tr>\n",
              "  </thead>\n",
              "  <tbody>\n",
              "    <tr>\n",
              "      <th>0</th>\n",
              "      <td>0</td>\n",
              "      <td>Les</td>\n",
              "      <td>12 Poissons</td>\n",
              "      <td>Rondo pour trompette</td>\n",
              "      <td>2002</td>\n",
              "      <td>NaN</td>\n",
              "      <td>Short</td>\n",
              "    </tr>\n",
              "    <tr>\n",
              "      <th>1</th>\n",
              "      <td>1</td>\n",
              "      <td>Lejaren</td>\n",
              "      <td>a'Hiller</td>\n",
              "      <td>Sleep of Cyma Roget, The</td>\n",
              "      <td>1920</td>\n",
              "      <td>NaN</td>\n",
              "      <td>Drama</td>\n",
              "    </tr>\n",
              "    <tr>\n",
              "      <th>2</th>\n",
              "      <td>2</td>\n",
              "      <td>Khairiya</td>\n",
              "      <td>A-Mansour</td>\n",
              "      <td>Churches in Iraq</td>\n",
              "      <td>1988</td>\n",
              "      <td>NaN</td>\n",
              "      <td>Documentary</td>\n",
              "    </tr>\n",
              "    <tr>\n",
              "      <th>3</th>\n",
              "      <td>3</td>\n",
              "      <td>Ricardo</td>\n",
              "      <td>A. Solla</td>\n",
              "      <td>Foto, La</td>\n",
              "      <td>2001</td>\n",
              "      <td>NaN</td>\n",
              "      <td>Drama</td>\n",
              "    </tr>\n",
              "    <tr>\n",
              "      <th>4</th>\n",
              "      <td>4</td>\n",
              "      <td>Ricardo</td>\n",
              "      <td>A. Solla</td>\n",
              "      <td>Foto, La</td>\n",
              "      <td>2001</td>\n",
              "      <td>NaN</td>\n",
              "      <td>Short</td>\n",
              "    </tr>\n",
              "  </tbody>\n",
              "</table>\n",
              "</div>\n",
              "      <button class=\"colab-df-convert\" onclick=\"convertToInteractive('df-ba83556d-7db0-4580-9dc4-bd5196f90133')\"\n",
              "              title=\"Convert this dataframe to an interactive table.\"\n",
              "              style=\"display:none;\">\n",
              "        \n",
              "  <svg xmlns=\"http://www.w3.org/2000/svg\" height=\"24px\"viewBox=\"0 0 24 24\"\n",
              "       width=\"24px\">\n",
              "    <path d=\"M0 0h24v24H0V0z\" fill=\"none\"/>\n",
              "    <path d=\"M18.56 5.44l.94 2.06.94-2.06 2.06-.94-2.06-.94-.94-2.06-.94 2.06-2.06.94zm-11 1L8.5 8.5l.94-2.06 2.06-.94-2.06-.94L8.5 2.5l-.94 2.06-2.06.94zm10 10l.94 2.06.94-2.06 2.06-.94-2.06-.94-.94-2.06-.94 2.06-2.06.94z\"/><path d=\"M17.41 7.96l-1.37-1.37c-.4-.4-.92-.59-1.43-.59-.52 0-1.04.2-1.43.59L10.3 9.45l-7.72 7.72c-.78.78-.78 2.05 0 2.83L4 21.41c.39.39.9.59 1.41.59.51 0 1.02-.2 1.41-.59l7.78-7.78 2.81-2.81c.8-.78.8-2.07 0-2.86zM5.41 20L4 18.59l7.72-7.72 1.47 1.35L5.41 20z\"/>\n",
              "  </svg>\n",
              "      </button>\n",
              "      \n",
              "  <style>\n",
              "    .colab-df-container {\n",
              "      display:flex;\n",
              "      flex-wrap:wrap;\n",
              "      gap: 12px;\n",
              "    }\n",
              "\n",
              "    .colab-df-convert {\n",
              "      background-color: #E8F0FE;\n",
              "      border: none;\n",
              "      border-radius: 50%;\n",
              "      cursor: pointer;\n",
              "      display: none;\n",
              "      fill: #1967D2;\n",
              "      height: 32px;\n",
              "      padding: 0 0 0 0;\n",
              "      width: 32px;\n",
              "    }\n",
              "\n",
              "    .colab-df-convert:hover {\n",
              "      background-color: #E2EBFA;\n",
              "      box-shadow: 0px 1px 2px rgba(60, 64, 67, 0.3), 0px 1px 3px 1px rgba(60, 64, 67, 0.15);\n",
              "      fill: #174EA6;\n",
              "    }\n",
              "\n",
              "    [theme=dark] .colab-df-convert {\n",
              "      background-color: #3B4455;\n",
              "      fill: #D2E3FC;\n",
              "    }\n",
              "\n",
              "    [theme=dark] .colab-df-convert:hover {\n",
              "      background-color: #434B5C;\n",
              "      box-shadow: 0px 1px 3px 1px rgba(0, 0, 0, 0.15);\n",
              "      filter: drop-shadow(0px 1px 2px rgba(0, 0, 0, 0.3));\n",
              "      fill: #FFFFFF;\n",
              "    }\n",
              "  </style>\n",
              "\n",
              "      <script>\n",
              "        const buttonEl =\n",
              "          document.querySelector('#df-ba83556d-7db0-4580-9dc4-bd5196f90133 button.colab-df-convert');\n",
              "        buttonEl.style.display =\n",
              "          google.colab.kernel.accessAllowed ? 'block' : 'none';\n",
              "\n",
              "        async function convertToInteractive(key) {\n",
              "          const element = document.querySelector('#df-ba83556d-7db0-4580-9dc4-bd5196f90133');\n",
              "          const dataTable =\n",
              "            await google.colab.kernel.invokeFunction('convertToInteractive',\n",
              "                                                     [key], {});\n",
              "          if (!dataTable) return;\n",
              "\n",
              "          const docLinkHtml = 'Like what you see? Visit the ' +\n",
              "            '<a target=\"_blank\" href=https://colab.research.google.com/notebooks/data_table.ipynb>data table notebook</a>'\n",
              "            + ' to learn more about interactive tables.';\n",
              "          element.innerHTML = '';\n",
              "          dataTable['output_type'] = 'display_data';\n",
              "          await google.colab.output.renderOutput(dataTable, element);\n",
              "          const docLink = document.createElement('div');\n",
              "          docLink.innerHTML = docLinkHtml;\n",
              "          element.appendChild(docLink);\n",
              "        }\n",
              "      </script>\n",
              "    </div>\n",
              "  </div>\n",
              "  "
            ]
          },
          "metadata": {},
          "execution_count": 26
        }
      ]
    },
    {
      "cell_type": "markdown",
      "metadata": {
        "id": "wIRDoCnxMRj8"
      },
      "source": [
        "### Clean the dataset \n",
        "---\n"
      ]
    },
    {
      "cell_type": "code",
      "metadata": {
        "id": "LgY60bsbMUc8",
        "colab": {
          "base_uri": "https://localhost:8080/"
        },
        "outputId": "972279d6-a615-4df4-d602-4115933fd3c3"
      },
      "source": [
        "df_cleaned = df\n",
        "df_cleaned= df_cleaned.dropna()\n",
        "df_cleaned.info()"
      ],
      "execution_count": 27,
      "outputs": [
        {
          "output_type": "stream",
          "name": "stdout",
          "text": [
            "<class 'pandas.core.frame.DataFrame'>\n",
            "Int64Index: 113376 entries, 77 to 368891\n",
            "Data columns (total 7 columns):\n",
            " #   Column      Non-Null Count   Dtype  \n",
            "---  ------      --------------   -----  \n",
            " 0   Unnamed: 0  113376 non-null  int64  \n",
            " 1   first_name  113376 non-null  object \n",
            " 2   last_name   113376 non-null  object \n",
            " 3   name        113376 non-null  object \n",
            " 4   year        113376 non-null  int64  \n",
            " 5   rank        113376 non-null  float64\n",
            " 6   genre       113376 non-null  object \n",
            "dtypes: float64(1), int64(2), object(4)\n",
            "memory usage: 6.9+ MB\n"
          ]
        }
      ]
    },
    {
      "cell_type": "markdown",
      "source": [
        "### Ideas for cleaning the data\n",
        "\n",
        "\n",
        "1.   Remove the unnamed column as it is just an index that not needed.\n",
        "2.   Make sure that there are no spaces \" \" in the columns\n",
        "3. Sort by genre or year.\n",
        "4. Remove films with no ranking - to reduce the size.\n",
        "\n",
        "### Decided only rank needed to be cleaned up.\n",
        "\n",
        "\n",
        "\n",
        "\n",
        "\n",
        "\n"
      ],
      "metadata": {
        "id": "l3Daig6aliXl"
      }
    },
    {
      "cell_type": "markdown",
      "metadata": {
        "id": "00Vb1k3FMdei"
      },
      "source": [
        "### How many movies of each genre are there?\n",
        "---"
      ]
    },
    {
      "cell_type": "code",
      "metadata": {
        "id": "V6MsN8OcQn0u",
        "colab": {
          "base_uri": "https://localhost:8080/"
        },
        "outputId": "a9b113f4-e5a5-4a16-e042-41462428bba7"
      },
      "source": [
        "#Using the full dataframe to get numbers of films per genre (there are overlaps as one film has many genres)\n",
        "#Hence why drop duplicates (name)is used further down.\n",
        "genres = df[\"genre\"].value_counts()\n",
        "\n",
        "print(genres)"
      ],
      "execution_count": 28,
      "outputs": [
        {
          "output_type": "stream",
          "name": "stdout",
          "text": [
            "Short          72894\n",
            "Drama          72635\n",
            "Comedy         54667\n",
            "Documentary    35698\n",
            "Animation      17038\n",
            "Romance        13562\n",
            "Action         12890\n",
            "Crime          12610\n",
            "Family         11074\n",
            "Thriller       10681\n",
            "Adventure       8598\n",
            "Western         8231\n",
            "Horror          7423\n",
            "Musical         6843\n",
            "Sci-Fi          4957\n",
            "Mystery         4951\n",
            "Fantasy         4871\n",
            "Music           4444\n",
            "War             4398\n",
            "Film-Noir        429\n",
            "Name: genre, dtype: int64\n"
          ]
        }
      ]
    },
    {
      "cell_type": "markdown",
      "metadata": {
        "id": "itYpwLPpQnZM"
      },
      "source": [
        "### Which director has the highest ranked movies?\n",
        "---"
      ]
    },
    {
      "cell_type": "code",
      "metadata": {
        "id": "dkW23Q27Qu0A",
        "colab": {
          "base_uri": "https://localhost:8080/"
        },
        "outputId": "028a3b41-b4a4-4267-be69-c49c208744af"
      },
      "source": [
        "# drop duplicates of movie name as many genres are associated with one film\n",
        "directors = df_cleaned.drop_duplicates([\"name\"])\n",
        "#Create a new column with full name of director from first and last. \n",
        "directors[\"fullname\"] = df_cleaned[\"first_name\"] + \" \" + df_cleaned[\"last_name\"]\n",
        "directors = directors.drop(columns = [\"first_name\", \"last_name\"])\n",
        "#find the average rating of each director and then sort descending.\n",
        "directors_rank = directors.groupby([\"fullname\"])[\"rank\"].mean()\n",
        "dir_toprank = directors_rank.sort_values(ascending = False)\n",
        "print(dir_toprank.head(10))"
      ],
      "execution_count": 29,
      "outputs": [
        {
          "output_type": "stream",
          "name": "stdout",
          "text": [
            "fullname\n",
            "Arünas Zebriünas       9.9\n",
            "William T. Hurtz       9.9\n",
            "Scott Barkan           9.9\n",
            "Matthew Crandall       9.9\n",
            "Kirsten Tretbar        9.9\n",
            "Andrew Cappelletti     9.9\n",
            "Debs Tarrier           9.9\n",
            "Djordje Kadijevic      9.8\n",
            "François Miron         9.8\n",
            "Takis Kanellopoulos    9.8\n",
            "Name: rank, dtype: float64\n"
          ]
        },
        {
          "output_type": "stream",
          "name": "stderr",
          "text": [
            "/usr/local/lib/python3.7/dist-packages/ipykernel_launcher.py:4: SettingWithCopyWarning: \n",
            "A value is trying to be set on a copy of a slice from a DataFrame.\n",
            "Try using .loc[row_indexer,col_indexer] = value instead\n",
            "\n",
            "See the caveats in the documentation: https://pandas.pydata.org/pandas-docs/stable/user_guide/indexing.html#returning-a-view-versus-a-copy\n",
            "  after removing the cwd from sys.path.\n"
          ]
        }
      ]
    },
    {
      "cell_type": "markdown",
      "metadata": {
        "id": "naiCl5kCQvS-"
      },
      "source": [
        "### How many movies have ranks of over 9?\n",
        "---\n"
      ]
    },
    {
      "cell_type": "code",
      "metadata": {
        "id": "Rb7v7WXEQ3Xl",
        "colab": {
          "base_uri": "https://localhost:8080/"
        },
        "outputId": "3fa2af27-f177-4e22-9b2e-1d0c0d0fa481"
      },
      "source": [
        "#Dropped duplicates of movie names as they have multiple entries due to genre column.\n",
        "df_dropdups = df_cleaned.drop_duplicates([\"name\"])\n",
        "top_movie_count = df_dropdups[df_dropdups[\"rank\"] >= 9].count()\n",
        "#from cheat sheet-> df[df['column name'] == value] \n",
        "print(top_movie_count[5])"
      ],
      "execution_count": 30,
      "outputs": [
        {
          "output_type": "stream",
          "name": "stdout",
          "text": [
            "1021\n"
          ]
        }
      ]
    },
    {
      "cell_type": "markdown",
      "metadata": {
        "id": "qSM1LAZGQ32W"
      },
      "source": [
        "### Plot a bar chart of median rank and genre\n",
        "---"
      ]
    },
    {
      "cell_type": "code",
      "metadata": {
        "id": "oDk-3bkpRUfs",
        "colab": {
          "base_uri": "https://localhost:8080/",
          "height": 567
        },
        "outputId": "7e890a9a-2f41-42f2-8059-adaaffbb7c50"
      },
      "source": [
        "#Used median rating here as the most frequent rating is most likely the most representative for a film, the rating is subjective.\n",
        "\n",
        "rank_by_genre = df_cleaned.groupby('genre')['rank'].median()\n",
        "rank_by_genre = rank_by_genre.sort_values( ascending = False)\n",
        "sns.set(rc={'figure.figsize':(12,8)})\n",
        "colors = sns.color_palette('bright')\n",
        "bar_plot = rank_by_genre.plot(x=\"genre\", y=rank_by_genre, kind=\"bar\", alpha=0.75, rot=90, color = colors)\n",
        "bar_plot.set_xlabel(\"Genre\")\n",
        "bar_plot.set_ylabel(\"Mean Rank\");\n"
      ],
      "execution_count": 31,
      "outputs": [
        {
          "output_type": "display_data",
          "data": {
            "text/plain": [
              "<Figure size 864x576 with 1 Axes>"
            ],
            "image/png": "[encoded data removed]"
          },
          "metadata": {}
        }
      ]
    },
    {
      "cell_type": "markdown",
      "metadata": {
        "id": "O6srkKPnRbh_"
      },
      "source": [
        "### Plot a pie chart of how many movies of each genre there are \n",
        "---\n"
      ]
    },
    {
      "cell_type": "code",
      "metadata": {
        "id": "suiaWhkF6Odd",
        "colab": {
          "base_uri": "https://localhost:8080/",
          "height": 591
        },
        "outputId": "b2fab972-2f05-4dce-b2ac-c66d1854c246"
      },
      "source": [
        "#Plot a Pie chart of genres of films and their percentages.\n",
        "\n",
        "count_by_genre = df_cleaned.groupby('genre')['rank'].count()\n",
        "count_by_genre = count_by_genre.sort_values( ascending = False)\n",
        "colors = sns.color_palette('muted')\n",
        "labels = genres.keys()\n",
        "sns.set(rc={'figure.figsize':(10,10)})\n",
        "explode = (0.1,0.1,0.1,0.1,0.1,0.1,0.1,0.1,0.1,0.1,0.1,0.1,0.1,0.1,0.1,0.1,0.1,0.1,0.1,0.1)\n",
        "plt.pie(genres, colors = colors, pctdistance=1.1, labeldistance=1.2, explode = explode, autopct='%1.1f%%')\n",
        "plt.title(\"Pie Chart of Genres\")\n",
        "plt.legend(labels, bbox_to_anchor=(1.5,0.5), loc=\"right\")\n",
        "plt.show()"
      ],
      "execution_count": 32,
      "outputs": [
        {
          "output_type": "display_data",
          "data": {
            "text/plain": [
              "<Figure size 720x720 with 1 Axes>"
            ],
            "image/png": "[encoded data removed]"
          },
          "metadata": {}
        }
      ]
    },
    {
      "cell_type": "markdown",
      "metadata": {
        "id": "Cm9HjL_K6bvo"
      },
      "source": [
        "### Plot a graph showing the mean Rank for each year "
      ]
    },
    {
      "cell_type": "code",
      "metadata": {
        "id": "mgwSHrCt6luB",
        "colab": {
          "base_uri": "https://localhost:8080/",
          "height": 555
        },
        "outputId": "7541a74d-d568-4e63-9c24-7141128c2fc4"
      },
      "source": [
        "rank_by_year = df_cleaned.groupby('year')['rank'].mean()\n",
        "#print(rank_by_year)\n",
        "#plot the chart of the data means \n",
        "sns.set(rc={'figure.figsize':(12,8)})\n",
        "chart = sns.lineplot(data=rank_by_year, palette = colors)\n",
        "plt.title(\"Average rank of movies by year\")\n",
        "sns.set_style(\"whitegrid\")\n",
        "\n",
        "#Small function to print out the maximum and minimum values of a given column.\n",
        "\n",
        "def get_maxandmin(df,column): \n",
        "  print(\"Max = \", df[column].min())\n",
        "  print(\"Min = \" , df[column].max())\n",
        "\n",
        "get_maxandmin(df_cleaned,\"year\")"
      ],
      "execution_count": 33,
      "outputs": [
        {
          "output_type": "stream",
          "name": "stdout",
          "text": [
            "Max =  1892\n",
            "Min =  2004\n"
          ]
        },
        {
          "output_type": "display_data",
          "data": {
            "text/plain": [
              "<Figure size 864x576 with 1 Axes>"
            ],
            "image/png": "[encoded data removed]"
          },
          "metadata": {}
        }
      ]
    },
    {
      "cell_type": "markdown",
      "source": [
        "### This graph shows the highest ranked movies were made in the 1920's 🤩"
      ],
      "metadata": {
        "id": "2oR35E4cJCa8"
      }
    },
    {
      "cell_type": "markdown",
      "metadata": {
        "id": "FvzMjQ5X6oeU"
      },
      "source": [
        "### What else can you find out from this dataset?\n",
        "---\n",
        "Make a plan of 3 further things you can do to interrogate and analyse this dataset"
      ]
    },
    {
      "cell_type": "markdown",
      "metadata": {
        "id": "a46YOmLd64zb"
      },
      "source": [
        "Type your answer here  \n",
        "\n",
        "1.  Try ranking the directors by rating but also number of movies made. (extra challenge - find highest ranked director by genre)\n",
        "2.  write a function to return list of movies for a given director.\n",
        "3.  return a count of list of modern movies > 2000 to compare with Jay's count of movies released before 2000.\n",
        "4. plot total number of movies each year."
      ]
    },
    {
      "cell_type": "markdown",
      "metadata": {
        "id": "es_Uyz_f6-1F"
      },
      "source": [
        "### Complete the tasks you have set out in the exercise above. \n",
        "---\n"
      ]
    },
    {
      "cell_type": "markdown",
      "source": [
        "Task 1 is based on Jay's original workings above, though I will try to do it myself before asking for help."
      ],
      "metadata": {
        "id": "F29HNyMIDMv6"
      }
    },
    {
      "cell_type": "code",
      "source": [
        "import matplotlib.pyplot as plt\n",
        "\n",
        "#Task 1 - Rank the directors by their movie ratings and the number of movies they have directed.\n",
        "#Take a copy of the df with all non values dropped.\n",
        "directors = df_cleaned\n",
        "\n",
        "#create a new column with fullname in - concatenated from two columns, then remove the original columns.\n",
        "directors[\"fullname\"] = directors[\"first_name\"] + \" \" + directors[\"last_name\"]\n",
        "directors = directors.drop(columns = [\"first_name\", \"last_name\"])\n",
        "directors_name = directors[\"fullname\"]\n",
        "#print(directors_name)\n",
        "directors.info()\n",
        "\n"
      ],
      "metadata": {
        "colab": {
          "base_uri": "https://localhost:8080/"
        },
        "id": "rVqxfq8128YG",
        "outputId": "cb5251a9-cdc6-4bdc-f203-04ebd740c0ef"
      },
      "execution_count": 34,
      "outputs": [
        {
          "output_type": "stream",
          "name": "stdout",
          "text": [
            "<class 'pandas.core.frame.DataFrame'>\n",
            "Int64Index: 113376 entries, 77 to 368891\n",
            "Data columns (total 6 columns):\n",
            " #   Column      Non-Null Count   Dtype  \n",
            "---  ------      --------------   -----  \n",
            " 0   Unnamed: 0  113376 non-null  int64  \n",
            " 1   name        113376 non-null  object \n",
            " 2   year        113376 non-null  int64  \n",
            " 3   rank        113376 non-null  float64\n",
            " 4   genre       113376 non-null  object \n",
            " 5   fullname    113376 non-null  object \n",
            "dtypes: float64(1), int64(2), object(3)\n",
            "memory usage: 10.1+ MB\n"
          ]
        },
        {
          "output_type": "stream",
          "name": "stderr",
          "text": [
            "/usr/local/lib/python3.7/dist-packages/ipykernel_launcher.py:8: SettingWithCopyWarning: \n",
            "A value is trying to be set on a copy of a slice from a DataFrame.\n",
            "Try using .loc[row_indexer,col_indexer] = value instead\n",
            "\n",
            "See the caveats in the documentation: https://pandas.pydata.org/pandas-docs/stable/user_guide/indexing.html#returning-a-view-versus-a-copy\n",
            "  \n"
          ]
        }
      ]
    },
    {
      "cell_type": "code",
      "source": [
        "#Now create a dataframe from the directors df and include the statistics on their rankings.\n",
        "def make_dataframe(df):\n",
        "  #group the directors ranks by their fullnames.\n",
        "  directors_rank_ave = df.groupby([\"fullname\"])[\"rank\"].mean()\n",
        "  #print(directors_rank_ave)\n",
        "  directors_rank_median = df.groupby([\"fullname\"])[\"rank\"].median()\n",
        "  #print(directors_rank_median)\n",
        "  directors_movie_names = directors.groupby([\"fullname\"])[\"name\"]\n",
        "  directors_movie_count = directors_movie_names.count() \n",
        "\n",
        "  #create new dataframe with above statistics from df_filtered.\n",
        "  directors_movie_names_series = pd.Series(directors_movie_names)\n",
        "  directors_rank_ave_series = pd.Series(directors_rank_ave)\n",
        "  directors_rank_median_series = pd.Series(directors_rank_median)\n",
        "  directors_movie_count_series = pd.Series(directors_movie_count)\n",
        "\n",
        "  frame = {\"Directors average rank\": directors_rank_ave_series, \"Directors median rank\": directors_rank_median_series, \"Directors movie total\": directors_movie_count_series }\n",
        "  new_dataframe =  pd.DataFrame(frame)\n",
        "  \n",
        "  return(new_dataframe)\n",
        "\n",
        "new_dataframe = make_dataframe(directors)\n",
        "\n",
        "new_dataframe.head(10)\n"
      ],
      "metadata": {
        "colab": {
          "base_uri": "https://localhost:8080/",
          "height": 394
        },
        "id": "FnDpnIXq1IDk",
        "outputId": "12b826bc-842f-47de-add0-69fdd6d18b0b"
      },
      "execution_count": 35,
      "outputs": [
        {
          "output_type": "execute_result",
          "data": {
            "text/plain": [
              "                         Directors average rank  Directors median rank  \\\n",
              "fullname                                                                 \n",
              "'Philthy' Phil Phillips                5.700000                    5.7   \n",
              "A. (I) Abramov                         6.900000                    6.9   \n",
              "A. Bhimsingh                           6.971429                    6.1   \n",
              "A. Charles Addessi                     4.200000                    4.2   \n",
              "A. Dean Bell                           5.333333                    6.4   \n",
              "A. Edward Sutherland                   6.265385                    6.4   \n",
              "A. Hans Scheirl                        6.000000                    6.0   \n",
              "A. Jonathan Benny                      8.557143                    8.6   \n",
              "A. Razak Mohaideen                     3.100000                    3.1   \n",
              "A. Trofimov                            8.800000                    8.8   \n",
              "\n",
              "                         Directors movie total  \n",
              "fullname                                        \n",
              "'Philthy' Phil Phillips                      1  \n",
              "A. (I) Abramov                               1  \n",
              "A. Bhimsingh                                 7  \n",
              "A. Charles Addessi                           1  \n",
              "A. Dean Bell                                 3  \n",
              "A. Edward Sutherland                        52  \n",
              "A. Hans Scheirl                              2  \n",
              "A. Jonathan Benny                           14  \n",
              "A. Razak Mohaideen                           1  \n",
              "A. Trofimov                                  1  "
            ],
            "text/html": [
              "\n",
              "  <div id=\"df-ba26fee0-970c-4983-84b0-f55b94c0b88c\">\n",
              "    <div class=\"colab-df-container\">\n",
              "      <div>\n",
              "<style scoped>\n",
              "    .dataframe tbody tr th:only-of-type {\n",
              "        vertical-align: middle;\n",
              "    }\n",
              "\n",
              "    .dataframe tbody tr th {\n",
              "        vertical-align: top;\n",
              "    }\n",
              "\n",
              "    .dataframe thead th {\n",
              "        text-align: right;\n",
              "    }\n",
              "</style>\n",
              "<table border=\"1\" class=\"dataframe\">\n",
              "  <thead>\n",
              "    <tr style=\"text-align: right;\">\n",
              "      <th></th>\n",
              "      <th>Directors average rank</th>\n",
              "      <th>Directors median rank</th>\n",
              "      <th>Directors movie total</th>\n",
              "    </tr>\n",
              "    <tr>\n",
              "      <th>fullname</th>\n",
              "      <th></th>\n",
              "      <th></th>\n",
              "      <th></th>\n",
              "    </tr>\n",
              "  </thead>\n",
              "  <tbody>\n",
              "    <tr>\n",
              "      <th>'Philthy' Phil Phillips</th>\n",
              "      <td>5.700000</td>\n",
              "      <td>5.7</td>\n",
              "      <td>1</td>\n",
              "    </tr>\n",
              "    <tr>\n",
              "      <th>A. (I) Abramov</th>\n",
              "      <td>6.900000</td>\n",
              "      <td>6.9</td>\n",
              "      <td>1</td>\n",
              "    </tr>\n",
              "    <tr>\n",
              "      <th>A. Bhimsingh</th>\n",
              "      <td>6.971429</td>\n",
              "      <td>6.1</td>\n",
              "      <td>7</td>\n",
              "    </tr>\n",
              "    <tr>\n",
              "      <th>A. Charles Addessi</th>\n",
              "      <td>4.200000</td>\n",
              "      <td>4.2</td>\n",
              "      <td>1</td>\n",
              "    </tr>\n",
              "    <tr>\n",
              "      <th>A. Dean Bell</th>\n",
              "      <td>5.333333</td>\n",
              "      <td>6.4</td>\n",
              "      <td>3</td>\n",
              "    </tr>\n",
              "    <tr>\n",
              "      <th>A. Edward Sutherland</th>\n",
              "      <td>6.265385</td>\n",
              "      <td>6.4</td>\n",
              "      <td>52</td>\n",
              "    </tr>\n",
              "    <tr>\n",
              "      <th>A. Hans Scheirl</th>\n",
              "      <td>6.000000</td>\n",
              "      <td>6.0</td>\n",
              "      <td>2</td>\n",
              "    </tr>\n",
              "    <tr>\n",
              "      <th>A. Jonathan Benny</th>\n",
              "      <td>8.557143</td>\n",
              "      <td>8.6</td>\n",
              "      <td>14</td>\n",
              "    </tr>\n",
              "    <tr>\n",
              "      <th>A. Razak Mohaideen</th>\n",
              "      <td>3.100000</td>\n",
              "      <td>3.1</td>\n",
              "      <td>1</td>\n",
              "    </tr>\n",
              "    <tr>\n",
              "      <th>A. Trofimov</th>\n",
              "      <td>8.800000</td>\n",
              "      <td>8.8</td>\n",
              "      <td>1</td>\n",
              "    </tr>\n",
              "  </tbody>\n",
              "</table>\n",
              "</div>\n",
              "      <button class=\"colab-df-convert\" onclick=\"convertToInteractive('df-ba26fee0-970c-4983-84b0-f55b94c0b88c')\"\n",
              "              title=\"Convert this dataframe to an interactive table.\"\n",
              "              style=\"display:none;\">\n",
              "        \n",
              "  <svg xmlns=\"http://www.w3.org/2000/svg\" height=\"24px\"viewBox=\"0 0 24 24\"\n",
              "       width=\"24px\">\n",
              "    <path d=\"M0 0h24v24H0V0z\" fill=\"none\"/>\n",
              "    <path d=\"M18.56 5.44l.94 2.06.94-2.06 2.06-.94-2.06-.94-.94-2.06-.94 2.06-2.06.94zm-11 1L8.5 8.5l.94-2.06 2.06-.94-2.06-.94L8.5 2.5l-.94 2.06-2.06.94zm10 10l.94 2.06.94-2.06 2.06-.94-2.06-.94-.94-2.06-.94 2.06-2.06.94z\"/><path d=\"M17.41 7.96l-1.37-1.37c-.4-.4-.92-.59-1.43-.59-.52 0-1.04.2-1.43.59L10.3 9.45l-7.72 7.72c-.78.78-.78 2.05 0 2.83L4 21.41c.39.39.9.59 1.41.59.51 0 1.02-.2 1.41-.59l7.78-7.78 2.81-2.81c.8-.78.8-2.07 0-2.86zM5.41 20L4 18.59l7.72-7.72 1.47 1.35L5.41 20z\"/>\n",
              "  </svg>\n",
              "      </button>\n",
              "      \n",
              "  <style>\n",
              "    .colab-df-container {\n",
              "      display:flex;\n",
              "      flex-wrap:wrap;\n",
              "      gap: 12px;\n",
              "    }\n",
              "\n",
              "    .colab-df-convert {\n",
              "      background-color: #E8F0FE;\n",
              "      border: none;\n",
              "      border-radius: 50%;\n",
              "      cursor: pointer;\n",
              "      display: none;\n",
              "      fill: #1967D2;\n",
              "      height: 32px;\n",
              "      padding: 0 0 0 0;\n",
              "      width: 32px;\n",
              "    }\n",
              "\n",
              "    .colab-df-convert:hover {\n",
              "      background-color: #E2EBFA;\n",
              "      box-shadow: 0px 1px 2px rgba(60, 64, 67, 0.3), 0px 1px 3px 1px rgba(60, 64, 67, 0.15);\n",
              "      fill: #174EA6;\n",
              "    }\n",
              "\n",
              "    [theme=dark] .colab-df-convert {\n",
              "      background-color: #3B4455;\n",
              "      fill: #D2E3FC;\n",
              "    }\n",
              "\n",
              "    [theme=dark] .colab-df-convert:hover {\n",
              "      background-color: #434B5C;\n",
              "      box-shadow: 0px 1px 3px 1px rgba(0, 0, 0, 0.15);\n",
              "      filter: drop-shadow(0px 1px 2px rgba(0, 0, 0, 0.3));\n",
              "      fill: #FFFFFF;\n",
              "    }\n",
              "  </style>\n",
              "\n",
              "      <script>\n",
              "        const buttonEl =\n",
              "          document.querySelector('#df-ba26fee0-970c-4983-84b0-f55b94c0b88c button.colab-df-convert');\n",
              "        buttonEl.style.display =\n",
              "          google.colab.kernel.accessAllowed ? 'block' : 'none';\n",
              "\n",
              "        async function convertToInteractive(key) {\n",
              "          const element = document.querySelector('#df-ba26fee0-970c-4983-84b0-f55b94c0b88c');\n",
              "          const dataTable =\n",
              "            await google.colab.kernel.invokeFunction('convertToInteractive',\n",
              "                                                     [key], {});\n",
              "          if (!dataTable) return;\n",
              "\n",
              "          const docLinkHtml = 'Like what you see? Visit the ' +\n",
              "            '<a target=\"_blank\" href=https://colab.research.google.com/notebooks/data_table.ipynb>data table notebook</a>'\n",
              "            + ' to learn more about interactive tables.';\n",
              "          element.innerHTML = '';\n",
              "          dataTable['output_type'] = 'display_data';\n",
              "          await google.colab.output.renderOutput(dataTable, element);\n",
              "          const docLink = document.createElement('div');\n",
              "          docLink.innerHTML = docLinkHtml;\n",
              "          element.appendChild(docLink);\n",
              "        }\n",
              "      </script>\n",
              "    </div>\n",
              "  </div>\n",
              "  "
            ]
          },
          "metadata": {},
          "execution_count": 35
        }
      ]
    },
    {
      "cell_type": "code",
      "source": [
        "#sort by rank and count of movies\n",
        "top_directors = new_dataframe.sort_values([\"Directors movie total\", \"Directors average rank\"], ascending = (False, False))\n",
        "top_directors.head(10)"
      ],
      "metadata": {
        "colab": {
          "base_uri": "https://localhost:8080/",
          "height": 394
        },
        "id": "F8dsP9klNxWV",
        "outputId": "8bc04e5b-f62d-426d-a597-610ec1b7beef"
      },
      "execution_count": 36,
      "outputs": [
        {
          "output_type": "execute_result",
          "data": {
            "text/plain": [
              "                   Directors average rank  Directors median rank  \\\n",
              "fullname                                                           \n",
              "Friz Freleng                     6.718341                    6.8   \n",
              "Chuck (I) Jones                  6.944614                    7.0   \n",
              "Dave Fleischer                   5.974526                    5.9   \n",
              "Robert McKimson                  6.475897                    6.5   \n",
              "Tex Avery                        7.029077                    6.9   \n",
              "William (I) Hanna                6.518496                    6.6   \n",
              "Joseph Barbera                   6.538763                    6.6   \n",
              "Robert Clampett                  7.181212                    7.1   \n",
              "Jack Kinney                      6.591829                    6.5   \n",
              "Jack (I) Hannah                  6.932016                    6.9   \n",
              "\n",
              "                   Directors movie total  \n",
              "fullname                                  \n",
              "Friz Freleng                        1025  \n",
              "Chuck (I) Jones                      984  \n",
              "Dave Fleischer                       738  \n",
              "Robert McKimson                      697  \n",
              "Tex Avery                            509  \n",
              "William (I) Hanna                    492  \n",
              "Joseph Barbera                       485  \n",
              "Robert Clampett                      330  \n",
              "Jack Kinney                          257  \n",
              "Jack (I) Hannah                      253  "
            ],
            "text/html": [
              "\n",
              "  <div id=\"df-3aa3cec6-a340-4112-8144-fe51a13e7414\">\n",
              "    <div class=\"colab-df-container\">\n",
              "      <div>\n",
              "<style scoped>\n",
              "    .dataframe tbody tr th:only-of-type {\n",
              "        vertical-align: middle;\n",
              "    }\n",
              "\n",
              "    .dataframe tbody tr th {\n",
              "        vertical-align: top;\n",
              "    }\n",
              "\n",
              "    .dataframe thead th {\n",
              "        text-align: right;\n",
              "    }\n",
              "</style>\n",
              "<table border=\"1\" class=\"dataframe\">\n",
              "  <thead>\n",
              "    <tr style=\"text-align: right;\">\n",
              "      <th></th>\n",
              "      <th>Directors average rank</th>\n",
              "      <th>Directors median rank</th>\n",
              "      <th>Directors movie total</th>\n",
              "    </tr>\n",
              "    <tr>\n",
              "      <th>fullname</th>\n",
              "      <th></th>\n",
              "      <th></th>\n",
              "      <th></th>\n",
              "    </tr>\n",
              "  </thead>\n",
              "  <tbody>\n",
              "    <tr>\n",
              "      <th>Friz Freleng</th>\n",
              "      <td>6.718341</td>\n",
              "      <td>6.8</td>\n",
              "      <td>1025</td>\n",
              "    </tr>\n",
              "    <tr>\n",
              "      <th>Chuck (I) Jones</th>\n",
              "      <td>6.944614</td>\n",
              "      <td>7.0</td>\n",
              "      <td>984</td>\n",
              "    </tr>\n",
              "    <tr>\n",
              "      <th>Dave Fleischer</th>\n",
              "      <td>5.974526</td>\n",
              "      <td>5.9</td>\n",
              "      <td>738</td>\n",
              "    </tr>\n",
              "    <tr>\n",
              "      <th>Robert McKimson</th>\n",
              "      <td>6.475897</td>\n",
              "      <td>6.5</td>\n",
              "      <td>697</td>\n",
              "    </tr>\n",
              "    <tr>\n",
              "      <th>Tex Avery</th>\n",
              "      <td>7.029077</td>\n",
              "      <td>6.9</td>\n",
              "      <td>509</td>\n",
              "    </tr>\n",
              "    <tr>\n",
              "      <th>William (I) Hanna</th>\n",
              "      <td>6.518496</td>\n",
              "      <td>6.6</td>\n",
              "      <td>492</td>\n",
              "    </tr>\n",
              "    <tr>\n",
              "      <th>Joseph Barbera</th>\n",
              "      <td>6.538763</td>\n",
              "      <td>6.6</td>\n",
              "      <td>485</td>\n",
              "    </tr>\n",
              "    <tr>\n",
              "      <th>Robert Clampett</th>\n",
              "      <td>7.181212</td>\n",
              "      <td>7.1</td>\n",
              "      <td>330</td>\n",
              "    </tr>\n",
              "    <tr>\n",
              "      <th>Jack Kinney</th>\n",
              "      <td>6.591829</td>\n",
              "      <td>6.5</td>\n",
              "      <td>257</td>\n",
              "    </tr>\n",
              "    <tr>\n",
              "      <th>Jack (I) Hannah</th>\n",
              "      <td>6.932016</td>\n",
              "      <td>6.9</td>\n",
              "      <td>253</td>\n",
              "    </tr>\n",
              "  </tbody>\n",
              "</table>\n",
              "</div>\n",
              "      <button class=\"colab-df-convert\" onclick=\"convertToInteractive('df-3aa3cec6-a340-4112-8144-fe51a13e7414')\"\n",
              "              title=\"Convert this dataframe to an interactive table.\"\n",
              "              style=\"display:none;\">\n",
              "        \n",
              "  <svg xmlns=\"http://www.w3.org/2000/svg\" height=\"24px\"viewBox=\"0 0 24 24\"\n",
              "       width=\"24px\">\n",
              "    <path d=\"M0 0h24v24H0V0z\" fill=\"none\"/>\n",
              "    <path d=\"M18.56 5.44l.94 2.06.94-2.06 2.06-.94-2.06-.94-.94-2.06-.94 2.06-2.06.94zm-11 1L8.5 8.5l.94-2.06 2.06-.94-2.06-.94L8.5 2.5l-.94 2.06-2.06.94zm10 10l.94 2.06.94-2.06 2.06-.94-2.06-.94-.94-2.06-.94 2.06-2.06.94z\"/><path d=\"M17.41 7.96l-1.37-1.37c-.4-.4-.92-.59-1.43-.59-.52 0-1.04.2-1.43.59L10.3 9.45l-7.72 7.72c-.78.78-.78 2.05 0 2.83L4 21.41c.39.39.9.59 1.41.59.51 0 1.02-.2 1.41-.59l7.78-7.78 2.81-2.81c.8-.78.8-2.07 0-2.86zM5.41 20L4 18.59l7.72-7.72 1.47 1.35L5.41 20z\"/>\n",
              "  </svg>\n",
              "      </button>\n",
              "      \n",
              "  <style>\n",
              "    .colab-df-container {\n",
              "      display:flex;\n",
              "      flex-wrap:wrap;\n",
              "      gap: 12px;\n",
              "    }\n",
              "\n",
              "    .colab-df-convert {\n",
              "      background-color: #E8F0FE;\n",
              "      border: none;\n",
              "      border-radius: 50%;\n",
              "      cursor: pointer;\n",
              "      display: none;\n",
              "      fill: #1967D2;\n",
              "      height: 32px;\n",
              "      padding: 0 0 0 0;\n",
              "      width: 32px;\n",
              "    }\n",
              "\n",
              "    .colab-df-convert:hover {\n",
              "      background-color: #E2EBFA;\n",
              "      box-shadow: 0px 1px 2px rgba(60, 64, 67, 0.3), 0px 1px 3px 1px rgba(60, 64, 67, 0.15);\n",
              "      fill: #174EA6;\n",
              "    }\n",
              "\n",
              "    [theme=dark] .colab-df-convert {\n",
              "      background-color: #3B4455;\n",
              "      fill: #D2E3FC;\n",
              "    }\n",
              "\n",
              "    [theme=dark] .colab-df-convert:hover {\n",
              "      background-color: #434B5C;\n",
              "      box-shadow: 0px 1px 3px 1px rgba(0, 0, 0, 0.15);\n",
              "      filter: drop-shadow(0px 1px 2px rgba(0, 0, 0, 0.3));\n",
              "      fill: #FFFFFF;\n",
              "    }\n",
              "  </style>\n",
              "\n",
              "      <script>\n",
              "        const buttonEl =\n",
              "          document.querySelector('#df-3aa3cec6-a340-4112-8144-fe51a13e7414 button.colab-df-convert');\n",
              "        buttonEl.style.display =\n",
              "          google.colab.kernel.accessAllowed ? 'block' : 'none';\n",
              "\n",
              "        async function convertToInteractive(key) {\n",
              "          const element = document.querySelector('#df-3aa3cec6-a340-4112-8144-fe51a13e7414');\n",
              "          const dataTable =\n",
              "            await google.colab.kernel.invokeFunction('convertToInteractive',\n",
              "                                                     [key], {});\n",
              "          if (!dataTable) return;\n",
              "\n",
              "          const docLinkHtml = 'Like what you see? Visit the ' +\n",
              "            '<a target=\"_blank\" href=https://colab.research.google.com/notebooks/data_table.ipynb>data table notebook</a>'\n",
              "            + ' to learn more about interactive tables.';\n",
              "          element.innerHTML = '';\n",
              "          dataTable['output_type'] = 'display_data';\n",
              "          await google.colab.output.renderOutput(dataTable, element);\n",
              "          const docLink = document.createElement('div');\n",
              "          docLink.innerHTML = docLinkHtml;\n",
              "          element.appendChild(docLink);\n",
              "        }\n",
              "      </script>\n",
              "    </div>\n",
              "  </div>\n",
              "  "
            ]
          },
          "metadata": {},
          "execution_count": 36
        }
      ]
    },
    {
      "cell_type": "code",
      "source": [
        "#Created a function to filter the original df by genre input by the user, then run the function from above to \n",
        "#create a new df with mean and count of movies on just one genre.\n",
        "\n",
        "def filtered_by_genre(df):\n",
        "  print(genres.index)\n",
        "  genre = input(\"Input a genre from above list(case sensitive): \")\n",
        "  filtered_df = df[df['genre'] == genre]  #filtered_df = df[df['column name' == value]] - from cheat sheet\n",
        "\n",
        "  new_dataframe = make_dataframe(filtered_df)\n",
        "  new_dataframe = new_dataframe.sort_values([\"Directors average rank\", \"Directors movie total\"], ascending = (False, False))\n",
        "  return new_dataframe\n",
        "\n",
        "#Run function and assign output to filtered_df\n",
        "filtered_df = filtered_by_genre(df_cleaned)\n",
        "#Run function to create a new dataframe that will display the average rating for each director in the user's chosen genre.\n",
        "filtered_df.head(10)\n"
      ],
      "metadata": {
        "colab": {
          "base_uri": "https://localhost:8080/",
          "height": 505
        },
        "id": "EN2ENLvCFOml",
        "outputId": "bb4b739c-d842-42f7-f589-7abf2af80a32"
      },
      "execution_count": 41,
      "outputs": [
        {
          "name": "stdout",
          "output_type": "stream",
          "text": [
            "Index(['Short', 'Drama', 'Comedy', 'Documentary', 'Animation', 'Romance',\n",
            "       'Action', 'Crime', 'Family', 'Thriller', 'Adventure', 'Western',\n",
            "       'Horror', 'Musical', 'Sci-Fi', 'Mystery', 'Fantasy', 'Music', 'War',\n",
            "       'Film-Noir'],\n",
            "      dtype='object')\n",
            "Input a genre from above list(case sensitive): Short\n"
          ]
        },
        {
          "output_type": "execute_result",
          "data": {
            "text/plain": [
              "                    Directors average rank  Directors median rank  \\\n",
              "fullname                                                            \n",
              "Jonathan Demme                         9.9                    9.9   \n",
              "William T. Hurtz                       9.9                    9.9   \n",
              "Zack Resnicoff                         9.9                    9.9   \n",
              "Gregg Zehentner                        9.9                    9.9   \n",
              "Ioana Wieder                           9.9                    9.9   \n",
              "Scott Barkan                           9.9                    9.9   \n",
              "Andrew Cappelletti                     9.9                    9.9   \n",
              "Debs Tarrier                           9.9                    9.9   \n",
              "Matthew Crandall                       9.9                    9.9   \n",
              "Luke S. Goljan                         9.8                    9.8   \n",
              "\n",
              "                    Directors movie total  \n",
              "fullname                                   \n",
              "Jonathan Demme                         33  \n",
              "William T. Hurtz                        7  \n",
              "Zack Resnicoff                          4  \n",
              "Gregg Zehentner                         3  \n",
              "Ioana Wieder                            3  \n",
              "Scott Barkan                            3  \n",
              "Andrew Cappelletti                      2  \n",
              "Debs Tarrier                            2  \n",
              "Matthew Crandall                        2  \n",
              "Luke S. Goljan                          5  "
            ],
            "text/html": [
              "\n",
              "  <div id=\"df-beab99c8-bf8e-49dc-92fb-90f751ee87b4\">\n",
              "    <div class=\"colab-df-container\">\n",
              "      <div>\n",
              "<style scoped>\n",
              "    .dataframe tbody tr th:only-of-type {\n",
              "        vertical-align: middle;\n",
              "    }\n",
              "\n",
              "    .dataframe tbody tr th {\n",
              "        vertical-align: top;\n",
              "    }\n",
              "\n",
              "    .dataframe thead th {\n",
              "        text-align: right;\n",
              "    }\n",
              "</style>\n",
              "<table border=\"1\" class=\"dataframe\">\n",
              "  <thead>\n",
              "    <tr style=\"text-align: right;\">\n",
              "      <th></th>\n",
              "      <th>Directors average rank</th>\n",
              "      <th>Directors median rank</th>\n",
              "      <th>Directors movie total</th>\n",
              "    </tr>\n",
              "    <tr>\n",
              "      <th>fullname</th>\n",
              "      <th></th>\n",
              "      <th></th>\n",
              "      <th></th>\n",
              "    </tr>\n",
              "  </thead>\n",
              "  <tbody>\n",
              "    <tr>\n",
              "      <th>Jonathan Demme</th>\n",
              "      <td>9.9</td>\n",
              "      <td>9.9</td>\n",
              "      <td>33</td>\n",
              "    </tr>\n",
              "    <tr>\n",
              "      <th>William T. Hurtz</th>\n",
              "      <td>9.9</td>\n",
              "      <td>9.9</td>\n",
              "      <td>7</td>\n",
              "    </tr>\n",
              "    <tr>\n",
              "      <th>Zack Resnicoff</th>\n",
              "      <td>9.9</td>\n",
              "      <td>9.9</td>\n",
              "      <td>4</td>\n",
              "    </tr>\n",
              "    <tr>\n",
              "      <th>Gregg Zehentner</th>\n",
              "      <td>9.9</td>\n",
              "      <td>9.9</td>\n",
              "      <td>3</td>\n",
              "    </tr>\n",
              "    <tr>\n",
              "      <th>Ioana Wieder</th>\n",
              "      <td>9.9</td>\n",
              "      <td>9.9</td>\n",
              "      <td>3</td>\n",
              "    </tr>\n",
              "    <tr>\n",
              "      <th>Scott Barkan</th>\n",
              "      <td>9.9</td>\n",
              "      <td>9.9</td>\n",
              "      <td>3</td>\n",
              "    </tr>\n",
              "    <tr>\n",
              "      <th>Andrew Cappelletti</th>\n",
              "      <td>9.9</td>\n",
              "      <td>9.9</td>\n",
              "      <td>2</td>\n",
              "    </tr>\n",
              "    <tr>\n",
              "      <th>Debs Tarrier</th>\n",
              "      <td>9.9</td>\n",
              "      <td>9.9</td>\n",
              "      <td>2</td>\n",
              "    </tr>\n",
              "    <tr>\n",
              "      <th>Matthew Crandall</th>\n",
              "      <td>9.9</td>\n",
              "      <td>9.9</td>\n",
              "      <td>2</td>\n",
              "    </tr>\n",
              "    <tr>\n",
              "      <th>Luke S. Goljan</th>\n",
              "      <td>9.8</td>\n",
              "      <td>9.8</td>\n",
              "      <td>5</td>\n",
              "    </tr>\n",
              "  </tbody>\n",
              "</table>\n",
              "</div>\n",
              "      <button class=\"colab-df-convert\" onclick=\"convertToInteractive('df-beab99c8-bf8e-49dc-92fb-90f751ee87b4')\"\n",
              "              title=\"Convert this dataframe to an interactive table.\"\n",
              "              style=\"display:none;\">\n",
              "        \n",
              "  <svg xmlns=\"http://www.w3.org/2000/svg\" height=\"24px\"viewBox=\"0 0 24 24\"\n",
              "       width=\"24px\">\n",
              "    <path d=\"M0 0h24v24H0V0z\" fill=\"none\"/>\n",
              "    <path d=\"M18.56 5.44l.94 2.06.94-2.06 2.06-.94-2.06-.94-.94-2.06-.94 2.06-2.06.94zm-11 1L8.5 8.5l.94-2.06 2.06-.94-2.06-.94L8.5 2.5l-.94 2.06-2.06.94zm10 10l.94 2.06.94-2.06 2.06-.94-2.06-.94-.94-2.06-.94 2.06-2.06.94z\"/><path d=\"M17.41 7.96l-1.37-1.37c-.4-.4-.92-.59-1.43-.59-.52 0-1.04.2-1.43.59L10.3 9.45l-7.72 7.72c-.78.78-.78 2.05 0 2.83L4 21.41c.39.39.9.59 1.41.59.51 0 1.02-.2 1.41-.59l7.78-7.78 2.81-2.81c.8-.78.8-2.07 0-2.86zM5.41 20L4 18.59l7.72-7.72 1.47 1.35L5.41 20z\"/>\n",
              "  </svg>\n",
              "      </button>\n",
              "      \n",
              "  <style>\n",
              "    .colab-df-container {\n",
              "      display:flex;\n",
              "      flex-wrap:wrap;\n",
              "      gap: 12px;\n",
              "    }\n",
              "\n",
              "    .colab-df-convert {\n",
              "      background-color: #E8F0FE;\n",
              "      border: none;\n",
              "      border-radius: 50%;\n",
              "      cursor: pointer;\n",
              "      display: none;\n",
              "      fill: #1967D2;\n",
              "      height: 32px;\n",
              "      padding: 0 0 0 0;\n",
              "      width: 32px;\n",
              "    }\n",
              "\n",
              "    .colab-df-convert:hover {\n",
              "      background-color: #E2EBFA;\n",
              "      box-shadow: 0px 1px 2px rgba(60, 64, 67, 0.3), 0px 1px 3px 1px rgba(60, 64, 67, 0.15);\n",
              "      fill: #174EA6;\n",
              "    }\n",
              "\n",
              "    [theme=dark] .colab-df-convert {\n",
              "      background-color: #3B4455;\n",
              "      fill: #D2E3FC;\n",
              "    }\n",
              "\n",
              "    [theme=dark] .colab-df-convert:hover {\n",
              "      background-color: #434B5C;\n",
              "      box-shadow: 0px 1px 3px 1px rgba(0, 0, 0, 0.15);\n",
              "      filter: drop-shadow(0px 1px 2px rgba(0, 0, 0, 0.3));\n",
              "      fill: #FFFFFF;\n",
              "    }\n",
              "  </style>\n",
              "\n",
              "      <script>\n",
              "        const buttonEl =\n",
              "          document.querySelector('#df-beab99c8-bf8e-49dc-92fb-90f751ee87b4 button.colab-df-convert');\n",
              "        buttonEl.style.display =\n",
              "          google.colab.kernel.accessAllowed ? 'block' : 'none';\n",
              "\n",
              "        async function convertToInteractive(key) {\n",
              "          const element = document.querySelector('#df-beab99c8-bf8e-49dc-92fb-90f751ee87b4');\n",
              "          const dataTable =\n",
              "            await google.colab.kernel.invokeFunction('convertToInteractive',\n",
              "                                                     [key], {});\n",
              "          if (!dataTable) return;\n",
              "\n",
              "          const docLinkHtml = 'Like what you see? Visit the ' +\n",
              "            '<a target=\"_blank\" href=https://colab.research.google.com/notebooks/data_table.ipynb>data table notebook</a>'\n",
              "            + ' to learn more about interactive tables.';\n",
              "          element.innerHTML = '';\n",
              "          dataTable['output_type'] = 'display_data';\n",
              "          await google.colab.output.renderOutput(dataTable, element);\n",
              "          const docLink = document.createElement('div');\n",
              "          docLink.innerHTML = docLinkHtml;\n",
              "          element.appendChild(docLink);\n",
              "        }\n",
              "      </script>\n",
              "    </div>\n",
              "  </div>\n",
              "  "
            ]
          },
          "metadata": {},
          "execution_count": 41
        }
      ]
    },
    {
      "cell_type": "markdown",
      "source": [
        "This function askes the user for a genre they would like to see the top directors for. Once they chose the functions returns the top 10 in the database ranked by their "
      ],
      "metadata": {
        "id": "G05m6MWFQUo-"
      }
    },
    {
      "cell_type": "code",
      "source": [
        "#Write a function to return a list of all movies by a given director\n",
        "\n",
        "def get_movies(df, fullname):\n",
        "  list_of_movies = df[df[\"fullname\"] == fullname].drop_duplicates([\"name\"])\n",
        "  return list_of_movies\n",
        "\n",
        "list_of_movies = get_movies(directors, \"Quentin Tarantino\")\n",
        "movies = list_of_movies[\"name\"]\n",
        "print(movies)"
      ],
      "metadata": {
        "id": "f4uEwMIke-mq"
      },
      "execution_count": null,
      "outputs": []
    },
    {
      "cell_type": "code",
      "metadata": {
        "id": "GY-HzjZb7L5q"
      },
      "source": [
        "#Small function to print out the maximum and minimum values of a given column.\n",
        "\n",
        "def get_maxandmin(df,column): \n",
        "  print(\"Max = \", df[column].min())\n",
        "  print(\"Min = \" , df[column].max())\n",
        "\n",
        "get_maxandmin(df_cleaned,\"year\")\n",
        "\n",
        "#Count of movies released after year 2000\n",
        "this_century = df_cleaned[df_cleaned[\"year\"] >= 2000].count()\n",
        "print(\"Number of movies this century = \", this_century[1])\n",
        "\n",
        "past_century = df_cleaned[df_cleaned[\"year\"] < 2000].count()\n",
        "print(\"Number of movies last century = \", past_century[1])"
      ],
      "execution_count": null,
      "outputs": []
    },
    {
      "cell_type": "markdown",
      "source": [
        "Given that the data for last century goes back to 1892 and there are only 4 years into the 21st Centruty (2004) yet 20,378 movies were made already."
      ],
      "metadata": {
        "id": "wSKrgWipuCWL"
      }
    },
    {
      "cell_type": "code",
      "source": [
        "#Plot the total number of movies by year.\n",
        "remove_duplicates = df_cleaned.drop_duplicates([\"name\"])\n",
        "count_by_year = remove_duplicates.groupby('year')[\"name\"].count()\n",
        "#plot the chart of the data counts using seaborn \n",
        "plt.title(\"Count of Movies per year\")\n",
        "plt.xlabel(\"Years\")\n",
        "plt.ylabel(\"Count of Movies\")\n",
        "chart = sns.lineplot(data=count_by_year)\n",
        "sns.set_style(\"whitegrid\")\n"
      ],
      "metadata": {
        "id": "W4tmWIKY1Vec"
      },
      "execution_count": null,
      "outputs": []
    },
    {
      "cell_type": "markdown",
      "source": [
        "I believe the tail-off at the end is due to the data being truncated whilst being retrieved by the tutors. Another dataset might yeild more interesting results.\n"
      ],
      "metadata": {
        "id": "3E7t7s28PGHP"
      }
    },
    {
      "cell_type": "markdown",
      "metadata": {
        "id": "pQV2NO8umBSk"
      },
      "source": [
        "# Reflection\n",
        "----\n",
        "\n",
        "## What skills have you demonstrated in completing this notebook?"
      ]
    },
    {
      "cell_type": "markdown",
      "metadata": {
        "id": "NUVvt2r0mCKq"
      },
      "source": [
        "Initially I worked with Jay on this mini project. We pulled together some of the previous worksheets on Pandas for this project. We use droping null values, filtering on columns and grouping by another. Plotting tools like pie charts and line graphs. Working with another person was helpful for me as I often can't get started quickly and sometimes can't see the typos or missing brackets easily.\n",
        "Update: ??\n"
      ]
    },
    {
      "cell_type": "markdown",
      "metadata": {
        "id": "SOrbWOuFmObq"
      },
      "source": [
        "## What caused you the most difficulty?"
      ]
    },
    {
      "cell_type": "markdown",
      "metadata": {
        "id": "G_eGng1GmO78"
      },
      "source": [
        "Your answer: Jay and I worked together on this mini project, although Jay was well ahead of me when I started. It took me a while to catch up but Jay was patient and helped when I was really stuck. Mostly, I got stuck on syntax and what command to use sometimes. I struggled with the filtering functions still which is very frustrating to me. I will try and practice this more.\n",
        "Update: Returning to this projet after a long break caused me minor issues as I wanted to expand on it and add more but the dataset was limiting. If I had more time I would chose a larger and more detailed dataset."
      ]
    }
  ]
}
