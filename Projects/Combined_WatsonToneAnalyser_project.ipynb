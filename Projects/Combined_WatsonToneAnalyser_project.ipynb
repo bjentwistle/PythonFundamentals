{
  "cells": [
    {
      "cell_type": "markdown",
      "metadata": {
        "id": "view-in-github",
        "colab_type": "text"
      },
      "source": [
        "<a href=\"https://colab.research.google.com/github/bjentwistle/PythonFundamentals/blob/main/Projects/Combined_WatsonToneAnalyser_project.ipynb\" target=\"_parent\"><img src=\"https://colab.research.google.com/assets/colab-badge.svg\" alt=\"Open In Colab\"/></a>"
      ]
    },
    {
      "cell_type": "markdown",
      "metadata": {
        "id": "KyS2Fb7jTftO"
      },
      "source": [
        "# Watson Tone Analyser Mini-project - combined\n",
        "----\n"
      ]
    },
    {
      "cell_type": "markdown",
      "source": [
        "# Project - Extract a set of tweets for tone analysis\n",
        "---\n",
        "\n",
        "Search for some tweets (maybe with a particular tag, maybe from a particular user) and analyse the text for its tone, using the IBM Tone Analyser, or another IBM service\n",
        "\n",
        "1.  Sign up for a developer account on Twitter (https://developer.twitter.com/) and copy your bearer token to a document on your own device (e.g. notepad)\n",
        "\n",
        "2.  Install the tweepy library (for Twitter) into this notebook"
      ],
      "metadata": {
        "id": "wqlrZWfA_tKk"
      }
    },
    {
      "cell_type": "markdown",
      "source": [
        "# Must have the Twitter API client open and logged in to before you can access it - any issues then restart runtime."
      ],
      "metadata": {
        "id": "dhYVvJCTkUPR"
      }
    },
    {
      "cell_type": "code",
      "source": [
        "!pip install tweepy --upgrade"
      ],
      "metadata": {
        "id": "6outwWdUkPS5",
        "outputId": "bf995418-ab73-4098-dcac-237ca57c8e7c",
        "colab": {
          "base_uri": "https://localhost:8080/"
        }
      },
      "execution_count": null,
      "outputs": [
        {
          "output_type": "stream",
          "name": "stdout",
          "text": [
            "Requirement already satisfied: tweepy in /usr/local/lib/python3.7/dist-packages (3.10.0)\n",
            "Collecting tweepy\n",
            "  Downloading tweepy-4.8.0-py2.py3-none-any.whl (77 kB)\n",
            "\u001b[K     |████████████████████████████████| 77 kB 2.9 MB/s \n",
            "\u001b[?25hRequirement already satisfied: oauthlib<4,>=3.2.0 in /usr/local/lib/python3.7/dist-packages (from tweepy) (3.2.0)\n",
            "Collecting requests<3,>=2.27.0\n",
            "  Downloading requests-2.27.1-py2.py3-none-any.whl (63 kB)\n",
            "\u001b[K     |████████████████████████████████| 63 kB 1.3 MB/s \n",
            "\u001b[?25hRequirement already satisfied: requests-oauthlib<2,>=1.2.0 in /usr/local/lib/python3.7/dist-packages (from tweepy) (1.3.1)\n",
            "Requirement already satisfied: certifi>=2017.4.17 in /usr/local/lib/python3.7/dist-packages (from requests<3,>=2.27.0->tweepy) (2021.10.8)\n",
            "Requirement already satisfied: charset-normalizer~=2.0.0 in /usr/local/lib/python3.7/dist-packages (from requests<3,>=2.27.0->tweepy) (2.0.12)\n",
            "Requirement already satisfied: urllib3<1.27,>=1.21.1 in /usr/local/lib/python3.7/dist-packages (from requests<3,>=2.27.0->tweepy) (1.24.3)\n",
            "Requirement already satisfied: idna<4,>=2.5 in /usr/local/lib/python3.7/dist-packages (from requests<3,>=2.27.0->tweepy) (2.10)\n",
            "Installing collected packages: requests, tweepy\n",
            "  Attempting uninstall: requests\n",
            "    Found existing installation: requests 2.23.0\n",
            "    Uninstalling requests-2.23.0:\n",
            "      Successfully uninstalled requests-2.23.0\n",
            "  Attempting uninstall: tweepy\n",
            "    Found existing installation: tweepy 3.10.0\n",
            "    Uninstalling tweepy-3.10.0:\n",
            "      Successfully uninstalled tweepy-3.10.0\n",
            "\u001b[31mERROR: pip's dependency resolver does not currently take into account all the packages that are installed. This behaviour is the source of the following dependency conflicts.\n",
            "google-colab 1.0.0 requires requests~=2.23.0, but you have requests 2.27.1 which is incompatible.\n",
            "datascience 0.10.6 requires folium==0.2.1, but you have folium 0.8.3 which is incompatible.\u001b[0m\n",
            "Successfully installed requests-2.27.1 tweepy-4.8.0\n"
          ]
        }
      ]
    },
    {
      "cell_type": "markdown",
      "source": [
        "3. Store your bearer token in an environment variable (a variable within the OS) so that it can be hidden from notebook viewers (never upload a visible security code (key or token) to Github.   ONCE you have run the code cell below, remove the output cell that shows the bearer token you have copied in!"
      ],
      "metadata": {
        "id": "MUl9k6qAkdhw"
      }
    },
    {
      "cell_type": "code",
      "source": [
        "#Input Bearer token to access the Twitter API next.\n",
        "import os\n",
        "os.environ['BEARER_TOKEN'] = input(\"Bearer token: \")"
      ],
      "metadata": {
        "id": "VO-6Qp5ikgHp"
      },
      "execution_count": null,
      "outputs": []
    },
    {
      "cell_type": "code",
      "source": [
        "import tweepy as tw\n",
        "\n",
        "# get a Twitter client that will run a search for recent tweets (see https://docs.tweepy.org/en/stable/client.html#tweepy.Client.unhide_reply for other functions available in the client)\n",
        "def get_tweets():\n",
        "    client = tw.Client(bearer_token=os.environ.get('BEARER_TOKEN'))\n",
        "    query = 'from:BBCNews'\n",
        "    tweets = client.search_recent_tweets(query=query, tweet_fields=['context_annotations', 'created_at'], max_results=15)\n",
        "    return tweets\n",
        "\n",
        "# use the get_tweets() function to get a list of tweets\n",
        "tweet_list = get_tweets()\n",
        "print(tweet_list)\n",
        "for tweet in tweet_list[0]:\n",
        "    tweet = str(tweet)\n",
        "    tweetparts = tweet.split(':')\n",
        "    if len(tweetparts) > 1:\n",
        "      tweet = tweetparts[1]\n",
        "    twt = \" \".join(tweet.splitlines())\n",
        "    print(twt)"
      ],
      "metadata": {
        "id": "-FV2mxygk_JK",
        "outputId": "2abbb4d8-3877-4c08-b21c-2a15910b0519",
        "colab": {
          "base_uri": "https://localhost:8080/"
        }
      },
      "execution_count": null,
      "outputs": [
        {
          "output_type": "stream",
          "name": "stdout",
          "text": [
            "Response(data=[<Tweet id=1508559330722947081 text='Tuesday’s Mirror: “Abramovich poisoned at peace talks” #BBCPapers #TomorrowsPapersToday https://t.co/TSvkP6YUxr https://t.co/dNmuTlcHgp'>, <Tweet id=1508558301822341135 text='Tuesday’s Express: “Triple lock is back! Pensions set to rise by 7.4%” #BBCPapers #TomorrowsPapersToday https://t.co/i662GGxMTN https://t.co/ysh1DZcDke'>, <Tweet id=1508557873672081418 text=\"Tuesday’s Times: “Abramovich ‘poisoned at talks'” #BBCPapers #TomorrowsPapersToday https://t.co/6TwsaFjoa1 https://t.co/xcLlKb9Eyg\">, <Tweet id=1508557538236801041 text=\"Tuesday’s Star: “Abramovich ‘poisoned at peace talks'” #BBCPapers #TomorrowsPapersToday https://t.co/OjGP2jWaG2 https://t.co/DKWzfIBCYV\">, <Tweet id=1508556757509058563 text='Tuesday’s Telegraph: “Partygate fines to be issued from today” #BBCPapers #TomorrowsPapersToday https://t.co/1OKJbdIeec https://t.co/9ph8WJgNOE'>, <Tweet id=1508556395670810625 text='Tuesday’s Mail: “Abramovich ‘blinded in poison attack’” #BBCPapers #TomorrowsPapersToday https://t.co/62nmgbZwNc https://t.co/d1j9BPWOo6'>, <Tweet id=1508554088123928580 text='Tuesday’s Guardian: “Ukraine peace talks resume amid claims Abramovich was poisoned” #BBCPapers #TomorrowsPapersToday https://t.co/cHPtRkapIi https://t.co/qqBZGXOgA9'>, <Tweet id=1508553404989292545 text='Tuesday’s Independent: “Abramovich ‘poisoned during Ukraine talks’” #BBCPapers #TomorrowsPapersToday https://t.co/zQAqlhhsCV https://t.co/wh56pNb2cL'>, <Tweet id=1508548251426951171 text=\"Met Police to issue first 'partygate' fines, sources say https://t.co/wBRzWa92Bf\">, <Tweet id=1508547537313189897 text='“I felt this freedom… the air was different, you feel it… you are free to talk”\\n\\nHussain tells #Ukrainecast how he got his family out of Kherson and past Russian soldiers to freedom\\n\\nListen on BBC Sounds https://t.co/8xMb8Uv4vo'>, <Tweet id=1508547295557697555 text='Tuesday’s i: “Johnson and Sunak row goes nuclear” #BBCPapers #TomorrowsPapersToday https://t.co/IdaQGCVWFc https://t.co/CB6KOcoh7m'>, <Tweet id=1508546426569113603 text='Tuesday’s Metro: “Duke back on parade” #BBCPapers #TomorrowsPapersToday https://t.co/PZi3uAGfbT https://t.co/usW3tgmP2U'>, <Tweet id=1508545977254359050 text='Tuesday’s FT: “Britons face ‘historic shock’ to incomes, BoE governor warns” #BBCPapers #TomorrowsPapersToday https://t.co/w6T64JTv50 https://t.co/AU2PGxXPCo'>, <Tweet id=1508543031456190464 text='Brothers, 12 and 13, wanted for raiding top London hotels https://t.co/Y0I3tWdiIE'>, <Tweet id=1508539836684247043 text=\"Paraglider breaks man's nose in cliff-top crash https://t.co/VhHiV9RjA9\">], includes={}, errors=[], meta={'newest_id': '1508559330722947081', 'oldest_id': '1508539836684247043', 'result_count': 15, 'next_token': 'b26v89c19zqg8o3fpyqom5snwzgr0cl9qigsltzc8uyrh'})\n",
            " “Abramovich poisoned at peace talks” #BBCPapers #TomorrowsPapersToday https\n",
            " “Triple lock is back! Pensions set to rise by 7.4%” #BBCPapers #TomorrowsPapersToday https\n",
            " “Abramovich ‘poisoned at talks'” #BBCPapers #TomorrowsPapersToday https\n",
            " “Abramovich ‘poisoned at peace talks'” #BBCPapers #TomorrowsPapersToday https\n",
            " “Partygate fines to be issued from today” #BBCPapers #TomorrowsPapersToday https\n",
            " “Abramovich ‘blinded in poison attack’” #BBCPapers #TomorrowsPapersToday https\n",
            " “Ukraine peace talks resume amid claims Abramovich was poisoned” #BBCPapers #TomorrowsPapersToday https\n",
            " “Abramovich ‘poisoned during Ukraine talks’” #BBCPapers #TomorrowsPapersToday https\n",
            "//t.co/wBRzWa92Bf\n",
            "//t.co/8xMb8Uv4vo\n",
            " “Johnson and Sunak row goes nuclear” #BBCPapers #TomorrowsPapersToday https\n",
            " “Duke back on parade” #BBCPapers #TomorrowsPapersToday https\n",
            " “Britons face ‘historic shock’ to incomes, BoE governor warns” #BBCPapers #TomorrowsPapersToday https\n",
            "//t.co/Y0I3tWdiIE\n",
            "//t.co/VhHiV9RjA9\n"
          ]
        }
      ]
    },
    {
      "cell_type": "markdown",
      "source": [
        "### I successfully extracted some tweets from Twitter with text that can be analysed using qualitative methods such as the Watson Tone Analyser below. \n",
        "\n",
        "However, due to issues access the IBM API I have had to skip this part. We did get some tone analysis data from our tutor who had an account with IBM so the rest of this project is based on the output she obtained for us."
      ],
      "metadata": {
        "id": "fdqif8mzlYHC"
      }
    },
    {
      "cell_type": "markdown",
      "source": [
        "# Part 2 - Creating a dataframe from analysed text data\n",
        "----\n",
        "For this project we were going to use the IBM Watson Tone Analyser API. We were supposed to send some text data to it, use security information stored in a config file to keep it secret, receive the results in JSON format, investigate the structure of the results and build a dataframe from them.\n",
        "\n",
        "### However, IBM required us to give out credit card details to access a free version of the API!\n",
        "Even when I added my details I still couldn't access the service so there was a probelm. Our tutor had an account so she ran the text data through the tone analyser for us. \n",
        "\n",
        "Then we could use her results to create a visualisation of tone and to report an overall set of statistics from the data.\n",
        "\n",
        "# Skip to step 3 below"
      ],
      "metadata": {
        "id": "rBJ6UUzc_0Se"
      }
    },
    {
      "cell_type": "markdown",
      "metadata": {
        "id": "QsZ4_b2rTftU"
      },
      "source": [
        "---\n",
        "\n",
        "## Step 1 - sign up for IBM Watson services to use the Tone Analyser\n",
        "\n",
        "1.  Sign up for [IBM Watson](https://cloud.ibm.com/registration?cm_mmc=dw-_-cognitive-_-topcoder-_-communityEducational1)\n",
        "2.  Click 'Try on Cloud at no cost'  \n",
        "3.  Select the London region  (costs reduced and performance improved when you use the nearest servers)  \n",
        "4.  Create an IBM Cloud account (enter email and accept terms)  \n",
        "5.  Follow the instructions to create the account  \n",
        "6.  Provision the services  \n",
        "7.  Then go to IBM Watson Studio  \n",
        "8.  Select Tone Analyzer under the Your Services heading  \n",
        "9.  You will be shown the **url** for the Tone Analyser API and an **API key** which is needed for using the API."
      ]
    },
    {
      "cell_type": "markdown",
      "source": [
        "# Step 2 - add security to your worksheet to keep your apikey and url hidden\n",
        "\n",
        "You can do this by using environment variables, which are stored in the operating system for this worksheet.\n",
        "\n",
        "We will use a simplified system for storing the sensitive data so that it isn't visible in the worksheet:\n",
        "\n",
        "1.  Ask for the api key to be input and store it in an environment variable called apikey\n",
        "\n",
        "2.  Ask for the url to be input and store it in an environment variable\n",
        "\n",
        "3.  Run the cell, type in the api key, then the url.  Once tis has been done.  Remove the output part of the cell."
      ],
      "metadata": {
        "id": "ZV19Vcgp2JHe"
      }
    },
    {
      "cell_type": "code",
      "source": [
        "import os\n",
        "\n",
        "# add the code to ask for the URL, then run this cell and when it has completed, remove the output (note: you will need to do this again if you return to the worksheet)\n",
        "os.environ['APIKEY'] = input(\"Enter API key: \")\n",
        "os.environ['URL'] = input(\"Enter URL: \")\n"
      ],
      "metadata": {
        "id": "ZM4PRCOZ2zyW"
      },
      "execution_count": null,
      "outputs": []
    },
    {
      "cell_type": "markdown",
      "source": [
        "# Install the ibm_watson libraries so that you can use their functions"
      ],
      "metadata": {
        "id": "fOKQWCOw1AGn"
      }
    },
    {
      "cell_type": "code",
      "source": [
        "# install the ibm_watson libraries\n",
        "\n",
        "!pip install ibm_watson"
      ],
      "metadata": {
        "id": "Uhi1cWMwQrZy"
      },
      "execution_count": null,
      "outputs": []
    },
    {
      "cell_type": "markdown",
      "metadata": {
        "id": "Tqs2PZBXTftW"
      },
      "source": [
        "---\n",
        "\n",
        "## Test to make sure it works\n",
        "\n",
        "1.  Open this file, which has some text for you to test with: https://drive.google.com/file/d/1m65cPQGYQd1mwvEmfZw69-GMUBdo43k0/view?usp=sharing.  You will be able to copy and paste the text into here as needed.\n",
        "\n",
        "2.  Get the environment variable for each of the two pieces of security information so that these do not need to be included in your notebook (have the keys available for copying and pasting).  To do this:\n",
        "\n",
        "  ``` apikey = os.environ.get('APIKEY') ```\n",
        "\n",
        "3.  Run the code below,which will create a ToneAnalyzer with the credentials from your environment variables, then paste the text from the **text-for-analysis.txt** file\n",
        "\n",
        "4.  Decide what the data looks like and how this might be represented in a pandas dataframe"
      ]
    },
    {
      "cell_type": "code",
      "execution_count": null,
      "metadata": {
        "id": "8f_zyVYfTftY"
      },
      "outputs": [],
      "source": [
        "from ibm_watson import ToneAnalyzerV3\n",
        "from ibm_cloud_sdk_core.authenticators import IAMAuthenticator\n",
        "import os\n",
        "import json\n",
        "\n",
        "# get credentials from the environment variables you set\n",
        "def get_secret(key):\n",
        "    # add code here to get the keys from the environment variable and return the requested key\n",
        "    # if there is an error print an error message and return None\n",
        "    return os.environ.get(key)\n",
        "\n",
        "\n",
        "    \n",
        "def get_text_for_analysis():\n",
        "    # add code here to input the text from the text-for-analysis.txt file and return the text it reads as one string\n",
        "    # if there is an error, return None\n",
        "    # return 'Team, I know that times are tough! Product sales have been disappointing for the past three quarters. We have a competitive product, but we need to do a better job of selling it!'\n",
        "    return 'But I feel peaceful. Your success in the ring this morning was, to a small degree, my success. Your future is assured. You will live, secure and safe, Wilbur. Nothing can harm you now. These autumn days will shorten and grow cold. The leaves will shake loose from the trees and fall. Christmas will come, and the snows of winter. You will live to enjoy the beauty of the frozen world, for you mean a great deal to Zuckerman and he will not harm you, ever. Winter will pass, the days will lengthen, the ice will melt in the pasture pond. The song sparrow will return and sing, the frogs will awake, the warm wind will blow again. All these sights and sounds and smells will be yours to enjoy, Wilbur-this lovely world, these precious days.'\n",
        "     \n",
        "    \n",
        "# create a ToneAnalyzerV3 object, version 2017-09-21 using api key and url from config\n",
        "authenticator = IAMAuthenticator(apikey=get_secret('APIKEY'))\n",
        "tone_analyzer = ToneAnalyzerV3(\n",
        "    version='2017-09-21',\n",
        "    authenticator=authenticator\n",
        ")\n",
        "tone_analyzer.set_service_url(get_secret('URL'))\n",
        "\n",
        "# get the text for analysis from the file\n",
        "text = get_text_for_analysis()\n",
        "if text:\n",
        "    tone_analysis = tone_analyzer.tone(\n",
        "        {'text': text},\n",
        "        content_type='application/json'\n",
        "    ).get_result()    \n",
        "    print(tone_analysis)\n",
        "else:\n",
        "    print(\"No data\")"
      ]
    },
    {
      "cell_type": "markdown",
      "source": [
        "# Step 3 - WORKING WITH THE OUTPUT OF TEXT ANALYSIS\n",
        "----\n",
        "\n",
        "### Watson Tone Analyser API Output\n",
        "---\n",
        "\n",
        "This is the output that the given text will produce. You will need to assign this output to a variable called **tone_analysis** in the function you are going to write below. \n",
        "\n",
        "```\n",
        "{'document_tone': {'tones': [{'score': 0.582191, 'tone_id': 'sadness', 'tone_name': 'Sadness'}, {'score': 0.829888, 'tone_id': 'analytical', 'tone_name': 'Analytical'}]}, 'sentences_tone': [{'sentence_id': 0, 'text': 'Team, I know that times are tough!', 'tones': [{'score': 0.801827, 'tone_id': 'analytical', 'tone_name': 'Analytical'}]}, {'sentence_id': 1, 'text': 'Product sales have been disappointing for the past three quarters.', 'tones': [{'score': 0.817406, 'tone_id': 'sadness', 'tone_name': 'Sadness'}, {'score': 0.687768, 'tone_id': 'analytical', 'tone_name': 'Analytical'}]}, {'sentence_id': 2, 'text': 'We have a competitive product, but we need to do a better job of selling it!', 'tones': [{'score': 0.506763, 'tone_id': 'analytical', 'tone_name': 'Analytical'}]}]}\n",
        "\n",
        "```\n",
        "\n"
      ],
      "metadata": {
        "id": "9hjqn6lrd4RE"
      }
    },
    {
      "cell_type": "markdown",
      "source": [
        "## Watson Tone Analyzer output:  \n",
        "\n",
        "I decided to split the tone analysis output into paragrpahs to help me understand what it contained.\n",
        "\n",
        "**{'document_tone':** \n",
        "\n",
        "**{'tones':**\n",
        "\n",
        "[{'score': 0.582191, 'tone_id': 'sadness', 'tone_name': 'Sadness'}, \n",
        "{'score': 0.829888, 'tone_id': 'analytical', 'tone_name': 'Analytical'}]\t}, \n",
        "\n",
        "**'sentences_tone':** \t\n",
        "\n",
        "[{'sentence_id': 0, 'text': 'Team, I know that times are tough!', 'tones': \n",
        "[{'score': 0.801827, 'tone_id': 'analytical', 'tone_name': 'Analytical'}]},\n",
        "{'sentence_id': 1, 'text': 'Product sales have been disappointing for the past three quarters.', 'tones':\n",
        " [{'score': 0.817406, 'tone_id': 'sadness', 'tone_name': 'Sadness'}, \n",
        "{'score': 0.687768, 'tone_id': 'analytical', 'tone_name': 'Analytical'}]\t}, \n",
        "{'sentence_id': 2, 'text': 'We have a competitive product, but we need to do a better job of selling it!', 'tones':\n",
        " [{'score': 0.506763, 'tone_id': 'analytical', 'tone_name': 'Analytical'}]}]\t\t\t\t\t\t\t\t\t\t\t}\n"
      ],
      "metadata": {
        "id": "L9viz0QRFQ_p"
      }
    },
    {
      "cell_type": "markdown",
      "source": [
        "### Things of note:\n",
        "\n",
        "1. There are 2 **tones** with 3 keys [score, tone_id and tone_name].\n",
        "\n",
        "2. There are 3 sentences with 3 keys [ sentence_id, text and **tones** which comes from the level above].\n",
        "\n",
        "3. Because one of the sentences has 2 tones then the df would need to have 4 rows to include all tones.\n",
        "\n",
        "4. So each row would need to include sentence_id, text, score, tone_id and tone_name.\n"
      ],
      "metadata": {
        "id": "1utyZiaveizh"
      }
    },
    {
      "cell_type": "markdown",
      "metadata": {
        "id": "KQ-p60NeTftc"
      },
      "source": [
        "### Create a dataframe and start to populate with the data\n",
        "\n",
        "You can create a **dataframe** from this data either by converting it manually into a table OR by using the pandas function pd.json_normalise(data).  \n",
        "\n",
        "**Manually**:\n",
        "\n",
        "One way to do this would be to create a list of dictionary records, with each record formed from the data from each row in the original 'sentences_tone' data.  You will need to loop through the rows in the 'sentences_tone' list, nesting a loop through the 'tones' list for each sentence.  For each, copy across the columns you feel should be included.\n",
        "\n",
        "_Hint:_  \n",
        "```\n",
        " for row in sentence_data:\n",
        "        for col in row['tones']:\n",
        "            new_row = {'sentence_id':row['sentence_id'], 'text':row['text'], 'tone_score':col['score'], 'tone_id':col['tone_id'],'tone_name':col['tone_name']}\n",
        "```\n",
        "**Using pandas**:\n",
        "\n",
        "An alternative way to do this would be to create a pandas dataframe from the sentences_tone data list (using `pd.json_normalise(data)`)"
      ]
    },
    {
      "cell_type": "code",
      "execution_count": null,
      "metadata": {
        "id": "thFgfS13Tftc",
        "outputId": "dc6cdeec-9531-4a42-de38-c17631e8b379",
        "colab": {
          "base_uri": "https://localhost:8080/",
          "height": 175
        }
      },
      "outputs": [
        {
          "output_type": "execute_result",
          "data": {
            "text/plain": [
              "   sentence_id                                               text  \\\n",
              "0            0                 Team, I know that times are tough!   \n",
              "1            1  Product sales have been disappointing for the ...   \n",
              "2            1  Product sales have been disappointing for the ...   \n",
              "3            2  We have a competitive product, but we need to ...   \n",
              "\n",
              "                                               tones  \n",
              "0  {'score': 0.801827, 'tone_id': 'analytical', '...  \n",
              "1  {'score': 0.817406, 'tone_id': 'sadness', 'ton...  \n",
              "2  {'score': 0.687768, 'tone_id': 'analytical', '...  \n",
              "3  {'score': 0.506763, 'tone_id': 'analytical', '...  "
            ],
            "text/html": [
              "\n",
              "  <div id=\"df-0b3b756f-1d90-44e0-90c6-3982fd9ba3a6\">\n",
              "    <div class=\"colab-df-container\">\n",
              "      <div>\n",
              "<style scoped>\n",
              "    .dataframe tbody tr th:only-of-type {\n",
              "        vertical-align: middle;\n",
              "    }\n",
              "\n",
              "    .dataframe tbody tr th {\n",
              "        vertical-align: top;\n",
              "    }\n",
              "\n",
              "    .dataframe thead th {\n",
              "        text-align: right;\n",
              "    }\n",
              "</style>\n",
              "<table border=\"1\" class=\"dataframe\">\n",
              "  <thead>\n",
              "    <tr style=\"text-align: right;\">\n",
              "      <th></th>\n",
              "      <th>sentence_id</th>\n",
              "      <th>text</th>\n",
              "      <th>tones</th>\n",
              "    </tr>\n",
              "  </thead>\n",
              "  <tbody>\n",
              "    <tr>\n",
              "      <th>0</th>\n",
              "      <td>0</td>\n",
              "      <td>Team, I know that times are tough!</td>\n",
              "      <td>{'score': 0.801827, 'tone_id': 'analytical', '...</td>\n",
              "    </tr>\n",
              "    <tr>\n",
              "      <th>1</th>\n",
              "      <td>1</td>\n",
              "      <td>Product sales have been disappointing for the ...</td>\n",
              "      <td>{'score': 0.817406, 'tone_id': 'sadness', 'ton...</td>\n",
              "    </tr>\n",
              "    <tr>\n",
              "      <th>2</th>\n",
              "      <td>1</td>\n",
              "      <td>Product sales have been disappointing for the ...</td>\n",
              "      <td>{'score': 0.687768, 'tone_id': 'analytical', '...</td>\n",
              "    </tr>\n",
              "    <tr>\n",
              "      <th>3</th>\n",
              "      <td>2</td>\n",
              "      <td>We have a competitive product, but we need to ...</td>\n",
              "      <td>{'score': 0.506763, 'tone_id': 'analytical', '...</td>\n",
              "    </tr>\n",
              "  </tbody>\n",
              "</table>\n",
              "</div>\n",
              "      <button class=\"colab-df-convert\" onclick=\"convertToInteractive('df-0b3b756f-1d90-44e0-90c6-3982fd9ba3a6')\"\n",
              "              title=\"Convert this dataframe to an interactive table.\"\n",
              "              style=\"display:none;\">\n",
              "        \n",
              "  <svg xmlns=\"http://www.w3.org/2000/svg\" height=\"24px\"viewBox=\"0 0 24 24\"\n",
              "       width=\"24px\">\n",
              "    <path d=\"M0 0h24v24H0V0z\" fill=\"none\"/>\n",
              "    <path d=\"M18.56 5.44l.94 2.06.94-2.06 2.06-.94-2.06-.94-.94-2.06-.94 2.06-2.06.94zm-11 1L8.5 8.5l.94-2.06 2.06-.94-2.06-.94L8.5 2.5l-.94 2.06-2.06.94zm10 10l.94 2.06.94-2.06 2.06-.94-2.06-.94-.94-2.06-.94 2.06-2.06.94z\"/><path d=\"M17.41 7.96l-1.37-1.37c-.4-.4-.92-.59-1.43-.59-.52 0-1.04.2-1.43.59L10.3 9.45l-7.72 7.72c-.78.78-.78 2.05 0 2.83L4 21.41c.39.39.9.59 1.41.59.51 0 1.02-.2 1.41-.59l7.78-7.78 2.81-2.81c.8-.78.8-2.07 0-2.86zM5.41 20L4 18.59l7.72-7.72 1.47 1.35L5.41 20z\"/>\n",
              "  </svg>\n",
              "      </button>\n",
              "      \n",
              "  <style>\n",
              "    .colab-df-container {\n",
              "      display:flex;\n",
              "      flex-wrap:wrap;\n",
              "      gap: 12px;\n",
              "    }\n",
              "\n",
              "    .colab-df-convert {\n",
              "      background-color: #E8F0FE;\n",
              "      border: none;\n",
              "      border-radius: 50%;\n",
              "      cursor: pointer;\n",
              "      display: none;\n",
              "      fill: #1967D2;\n",
              "      height: 32px;\n",
              "      padding: 0 0 0 0;\n",
              "      width: 32px;\n",
              "    }\n",
              "\n",
              "    .colab-df-convert:hover {\n",
              "      background-color: #E2EBFA;\n",
              "      box-shadow: 0px 1px 2px rgba(60, 64, 67, 0.3), 0px 1px 3px 1px rgba(60, 64, 67, 0.15);\n",
              "      fill: #174EA6;\n",
              "    }\n",
              "\n",
              "    [theme=dark] .colab-df-convert {\n",
              "      background-color: #3B4455;\n",
              "      fill: #D2E3FC;\n",
              "    }\n",
              "\n",
              "    [theme=dark] .colab-df-convert:hover {\n",
              "      background-color: #434B5C;\n",
              "      box-shadow: 0px 1px 3px 1px rgba(0, 0, 0, 0.15);\n",
              "      filter: drop-shadow(0px 1px 2px rgba(0, 0, 0, 0.3));\n",
              "      fill: #FFFFFF;\n",
              "    }\n",
              "  </style>\n",
              "\n",
              "      <script>\n",
              "        const buttonEl =\n",
              "          document.querySelector('#df-0b3b756f-1d90-44e0-90c6-3982fd9ba3a6 button.colab-df-convert');\n",
              "        buttonEl.style.display =\n",
              "          google.colab.kernel.accessAllowed ? 'block' : 'none';\n",
              "\n",
              "        async function convertToInteractive(key) {\n",
              "          const element = document.querySelector('#df-0b3b756f-1d90-44e0-90c6-3982fd9ba3a6');\n",
              "          const dataTable =\n",
              "            await google.colab.kernel.invokeFunction('convertToInteractive',\n",
              "                                                     [key], {});\n",
              "          if (!dataTable) return;\n",
              "\n",
              "          const docLinkHtml = 'Like what you see? Visit the ' +\n",
              "            '<a target=\"_blank\" href=https://colab.research.google.com/notebooks/data_table.ipynb>data table notebook</a>'\n",
              "            + ' to learn more about interactive tables.';\n",
              "          element.innerHTML = '';\n",
              "          dataTable['output_type'] = 'display_data';\n",
              "          await google.colab.output.renderOutput(dataTable, element);\n",
              "          const docLink = document.createElement('div');\n",
              "          docLink.innerHTML = docLinkHtml;\n",
              "          element.appendChild(docLink);\n",
              "        }\n",
              "      </script>\n",
              "    </div>\n",
              "  </div>\n",
              "  "
            ]
          },
          "metadata": {},
          "execution_count": 11
        }
      ],
      "source": [
        "import pandas as pd\n",
        "import numpy as np\n",
        "\n",
        "# convert json data to a dataframe with one row for each tone for each sentence\n",
        "def convert_to_tones_table(data):\n",
        "    # return the data normalized into a dataframe (pd.json_normalise(data))\n",
        "    # the dataframe should have the columns: sentence_id, text, score, tone_id, tone_name\n",
        "    df = pd.json_normalize(data)\n",
        "    return df\n",
        "\n",
        "tone_analysis = {'document_tone': {'tones': [{'score': 0.582191, 'tone_id': 'sadness', 'tone_name': 'Sadness'}, {'score': 0.829888, 'tone_id': 'analytical', 'tone_name': 'Analytical'}]}, 'sentences_tone': [{'sentence_id': 0, 'text': 'Team, I know that times are tough!', 'tones': [{'score': 0.801827, 'tone_id': 'analytical', 'tone_name': 'Analytical'}]}, {'sentence_id': 1, 'text': 'Product sales have been disappointing for the past three quarters.', 'tones': [{'score': 0.817406, 'tone_id': 'sadness', 'tone_name': 'Sadness'}, {'score': 0.687768, 'tone_id': 'analytical', 'tone_name': 'Analytical'}]}, {'sentence_id': 2, 'text': 'We have a competitive product, but we need to do a better job of selling it!', 'tones': [{'score': 0.506763, 'tone_id': 'analytical', 'tone_name': 'Analytical'}]}]}\n",
        "#convert the tone_analysis string to a table on the document_tone item\n",
        "tone_table = convert_to_tones_table(tone_analysis['document_tone'])\n",
        "#convert again on the tones item to get down to score, tone_id and tone_name - DO I EVEN NEED THIS?!\n",
        "tone_normal = convert_to_tones_table(tone_table['tones'])\n",
        "#transpose the table so that you get two rows for the two types of tone names - Analytical and Sadness.\n",
        "tone_pivoted = tone_normal.transpose()\n",
        "\n",
        "#straingforward conversion of the sentence_tone \n",
        "sentence_table = convert_to_tones_table(tone_analysis['sentences_tone'])\n",
        "exploded_df = sentence_table.explode('tones', ignore_index=True)\n",
        "\n",
        "exploded_df\n",
        "\n"
      ]
    },
    {
      "cell_type": "code",
      "source": [
        "%matplotlib inline\n",
        "import seaborn as sns\n",
        "import matplotlib.pyplot as plt\n",
        "\n",
        "#Assign Exploded df to a new variable new_df\n",
        "new_df = exploded_df\n",
        "#create a new df with the tones column\n",
        "tones_col_df = pd.DataFrame(new_df['tones'].to_list(), columns = ['score', 'tone_id', 'tone_name'])\n",
        "#print(tones_col_df)\n",
        "\n",
        "#Joins the two dfs back together\n",
        "final_tone = new_df.join(tones_col_df)\n",
        "final_tone\n"
      ],
      "metadata": {
        "id": "h1B3IyQtMfMG",
        "outputId": "c2d0731d-4c4d-4d11-bc14-1bd3736a31d4",
        "colab": {
          "base_uri": "https://localhost:8080/",
          "height": 175
        }
      },
      "execution_count": null,
      "outputs": [
        {
          "output_type": "execute_result",
          "data": {
            "text/plain": [
              "   sentence_id                                               text  \\\n",
              "0            0                 Team, I know that times are tough!   \n",
              "1            1  Product sales have been disappointing for the ...   \n",
              "2            1  Product sales have been disappointing for the ...   \n",
              "3            2  We have a competitive product, but we need to ...   \n",
              "\n",
              "                                               tones     score     tone_id  \\\n",
              "0  {'score': 0.801827, 'tone_id': 'analytical', '...  0.801827  analytical   \n",
              "1  {'score': 0.817406, 'tone_id': 'sadness', 'ton...  0.817406     sadness   \n",
              "2  {'score': 0.687768, 'tone_id': 'analytical', '...  0.687768  analytical   \n",
              "3  {'score': 0.506763, 'tone_id': 'analytical', '...  0.506763  analytical   \n",
              "\n",
              "    tone_name  \n",
              "0  Analytical  \n",
              "1     Sadness  \n",
              "2  Analytical  \n",
              "3  Analytical  "
            ],
            "text/html": [
              "\n",
              "  <div id=\"df-755e8012-9486-47b4-8de9-74dac57efc73\">\n",
              "    <div class=\"colab-df-container\">\n",
              "      <div>\n",
              "<style scoped>\n",
              "    .dataframe tbody tr th:only-of-type {\n",
              "        vertical-align: middle;\n",
              "    }\n",
              "\n",
              "    .dataframe tbody tr th {\n",
              "        vertical-align: top;\n",
              "    }\n",
              "\n",
              "    .dataframe thead th {\n",
              "        text-align: right;\n",
              "    }\n",
              "</style>\n",
              "<table border=\"1\" class=\"dataframe\">\n",
              "  <thead>\n",
              "    <tr style=\"text-align: right;\">\n",
              "      <th></th>\n",
              "      <th>sentence_id</th>\n",
              "      <th>text</th>\n",
              "      <th>tones</th>\n",
              "      <th>score</th>\n",
              "      <th>tone_id</th>\n",
              "      <th>tone_name</th>\n",
              "    </tr>\n",
              "  </thead>\n",
              "  <tbody>\n",
              "    <tr>\n",
              "      <th>0</th>\n",
              "      <td>0</td>\n",
              "      <td>Team, I know that times are tough!</td>\n",
              "      <td>{'score': 0.801827, 'tone_id': 'analytical', '...</td>\n",
              "      <td>0.801827</td>\n",
              "      <td>analytical</td>\n",
              "      <td>Analytical</td>\n",
              "    </tr>\n",
              "    <tr>\n",
              "      <th>1</th>\n",
              "      <td>1</td>\n",
              "      <td>Product sales have been disappointing for the ...</td>\n",
              "      <td>{'score': 0.817406, 'tone_id': 'sadness', 'ton...</td>\n",
              "      <td>0.817406</td>\n",
              "      <td>sadness</td>\n",
              "      <td>Sadness</td>\n",
              "    </tr>\n",
              "    <tr>\n",
              "      <th>2</th>\n",
              "      <td>1</td>\n",
              "      <td>Product sales have been disappointing for the ...</td>\n",
              "      <td>{'score': 0.687768, 'tone_id': 'analytical', '...</td>\n",
              "      <td>0.687768</td>\n",
              "      <td>analytical</td>\n",
              "      <td>Analytical</td>\n",
              "    </tr>\n",
              "    <tr>\n",
              "      <th>3</th>\n",
              "      <td>2</td>\n",
              "      <td>We have a competitive product, but we need to ...</td>\n",
              "      <td>{'score': 0.506763, 'tone_id': 'analytical', '...</td>\n",
              "      <td>0.506763</td>\n",
              "      <td>analytical</td>\n",
              "      <td>Analytical</td>\n",
              "    </tr>\n",
              "  </tbody>\n",
              "</table>\n",
              "</div>\n",
              "      <button class=\"colab-df-convert\" onclick=\"convertToInteractive('df-755e8012-9486-47b4-8de9-74dac57efc73')\"\n",
              "              title=\"Convert this dataframe to an interactive table.\"\n",
              "              style=\"display:none;\">\n",
              "        \n",
              "  <svg xmlns=\"http://www.w3.org/2000/svg\" height=\"24px\"viewBox=\"0 0 24 24\"\n",
              "       width=\"24px\">\n",
              "    <path d=\"M0 0h24v24H0V0z\" fill=\"none\"/>\n",
              "    <path d=\"M18.56 5.44l.94 2.06.94-2.06 2.06-.94-2.06-.94-.94-2.06-.94 2.06-2.06.94zm-11 1L8.5 8.5l.94-2.06 2.06-.94-2.06-.94L8.5 2.5l-.94 2.06-2.06.94zm10 10l.94 2.06.94-2.06 2.06-.94-2.06-.94-.94-2.06-.94 2.06-2.06.94z\"/><path d=\"M17.41 7.96l-1.37-1.37c-.4-.4-.92-.59-1.43-.59-.52 0-1.04.2-1.43.59L10.3 9.45l-7.72 7.72c-.78.78-.78 2.05 0 2.83L4 21.41c.39.39.9.59 1.41.59.51 0 1.02-.2 1.41-.59l7.78-7.78 2.81-2.81c.8-.78.8-2.07 0-2.86zM5.41 20L4 18.59l7.72-7.72 1.47 1.35L5.41 20z\"/>\n",
              "  </svg>\n",
              "      </button>\n",
              "      \n",
              "  <style>\n",
              "    .colab-df-container {\n",
              "      display:flex;\n",
              "      flex-wrap:wrap;\n",
              "      gap: 12px;\n",
              "    }\n",
              "\n",
              "    .colab-df-convert {\n",
              "      background-color: #E8F0FE;\n",
              "      border: none;\n",
              "      border-radius: 50%;\n",
              "      cursor: pointer;\n",
              "      display: none;\n",
              "      fill: #1967D2;\n",
              "      height: 32px;\n",
              "      padding: 0 0 0 0;\n",
              "      width: 32px;\n",
              "    }\n",
              "\n",
              "    .colab-df-convert:hover {\n",
              "      background-color: #E2EBFA;\n",
              "      box-shadow: 0px 1px 2px rgba(60, 64, 67, 0.3), 0px 1px 3px 1px rgba(60, 64, 67, 0.15);\n",
              "      fill: #174EA6;\n",
              "    }\n",
              "\n",
              "    [theme=dark] .colab-df-convert {\n",
              "      background-color: #3B4455;\n",
              "      fill: #D2E3FC;\n",
              "    }\n",
              "\n",
              "    [theme=dark] .colab-df-convert:hover {\n",
              "      background-color: #434B5C;\n",
              "      box-shadow: 0px 1px 3px 1px rgba(0, 0, 0, 0.15);\n",
              "      filter: drop-shadow(0px 1px 2px rgba(0, 0, 0, 0.3));\n",
              "      fill: #FFFFFF;\n",
              "    }\n",
              "  </style>\n",
              "\n",
              "      <script>\n",
              "        const buttonEl =\n",
              "          document.querySelector('#df-755e8012-9486-47b4-8de9-74dac57efc73 button.colab-df-convert');\n",
              "        buttonEl.style.display =\n",
              "          google.colab.kernel.accessAllowed ? 'block' : 'none';\n",
              "\n",
              "        async function convertToInteractive(key) {\n",
              "          const element = document.querySelector('#df-755e8012-9486-47b4-8de9-74dac57efc73');\n",
              "          const dataTable =\n",
              "            await google.colab.kernel.invokeFunction('convertToInteractive',\n",
              "                                                     [key], {});\n",
              "          if (!dataTable) return;\n",
              "\n",
              "          const docLinkHtml = 'Like what you see? Visit the ' +\n",
              "            '<a target=\"_blank\" href=https://colab.research.google.com/notebooks/data_table.ipynb>data table notebook</a>'\n",
              "            + ' to learn more about interactive tables.';\n",
              "          element.innerHTML = '';\n",
              "          dataTable['output_type'] = 'display_data';\n",
              "          await google.colab.output.renderOutput(dataTable, element);\n",
              "          const docLink = document.createElement('div');\n",
              "          docLink.innerHTML = docLinkHtml;\n",
              "          element.appendChild(docLink);\n",
              "        }\n",
              "      </script>\n",
              "    </div>\n",
              "  </div>\n",
              "  "
            ]
          },
          "metadata": {},
          "execution_count": 12
        }
      ]
    },
    {
      "cell_type": "code",
      "source": [
        "#Code cell to calculate the average of Analytical scores and plot a bar chart.\n",
        "\n",
        "def plot_scores(df,term):\n",
        "  scores_mean = df.groupby(['tone_id']).mean(['score'])\n",
        "  print(scores_mean)\n",
        "  scores = df[df['tone_id'].str.contains(term)]\n",
        "  scores\n",
        "  scores['score'].plot.bar(x=None, y=None, xlabel = \"Sentences\", ylabel = \"Scores\")\n",
        "\n",
        "  plt.show()\n",
        "  return scores\n",
        "\n",
        "analytical_scores = plot_scores(final_tone, \"analytical\")\n"
      ],
      "metadata": {
        "id": "IQcJrO0JSEnN",
        "outputId": "3cc3e6bd-865e-4d54-8675-9aed6e483887",
        "colab": {
          "base_uri": "https://localhost:8080/",
          "height": 349
        }
      },
      "execution_count": null,
      "outputs": [
        {
          "output_type": "stream",
          "name": "stdout",
          "text": [
            "            sentence_id     score\n",
            "tone_id                          \n",
            "analytical          1.0  0.665453\n",
            "sadness             1.0  0.817406\n"
          ]
        },
        {
          "output_type": "display_data",
          "data": {
            "text/plain": [
              "<Figure size 432x288 with 1 Axes>"
            ],
            "image/png": "[encoded data removed]"
          },
          "metadata": {
            "needs_background": "light"
          }
        }
      ]
    },
    {
      "cell_type": "markdown",
      "metadata": {
        "id": "4LBNPm67Tfte"
      },
      "source": [
        "### Summarise the sentence data\n",
        "*  Which sentence is the most analytical?\n",
        "*  which sentence is the least analytical?\n",
        "*  what is the average analytical tone score for the sentences?\n",
        "*  what do the analytical scores look like in a bar chart?"
      ]
    },
    {
      "cell_type": "markdown",
      "source": [
        "### My Answers:\n",
        "1. The most analytical sentence is \"Team, I know that times are hard!\"\n",
        "2. Least analyticial is \"We have a competitive product, but ....\"\n",
        "3. The average analytical score is 0.665453.\n"
      ],
      "metadata": {
        "id": "s4zx3EDys33Q"
      }
    },
    {
      "cell_type": "code",
      "source": [
        "# Solution from Karen Scott using lambda function.\n",
        "def convert_to_sentence_tones(data):\n",
        "    df = pd.json_normalize(data)\n",
        "    df = df.explode('tones', ignore_index=True)\n",
        "    df['score'] = df['tones'].apply(lambda x: x['score'])\n",
        "    df['tone_id'] = df['tones'].apply(lambda x: x['tone_id'])\n",
        "    df['tone_name'] = df['tones'].apply(lambda x: x['tone_name'])\n",
        "    df = df.drop(['tones'], axis=1)\n",
        "    return df\n",
        "# create sentences dataframe\n",
        "sentences_data = convert_to_sentence_tones(tone_analysis['sentences_tone'])\n",
        "display(sentences_data)"
      ],
      "metadata": {
        "id": "8zMeYTxloeaX",
        "outputId": "40a5b875-259b-4ea6-f20d-521c9cae8cb7",
        "colab": {
          "base_uri": "https://localhost:8080/",
          "height": 175
        }
      },
      "execution_count": null,
      "outputs": [
        {
          "output_type": "display_data",
          "data": {
            "text/plain": [
              "   sentence_id                                               text     score  \\\n",
              "0            0                 Team, I know that times are tough!  0.801827   \n",
              "1            1  Product sales have been disappointing for the ...  0.817406   \n",
              "2            1  Product sales have been disappointing for the ...  0.687768   \n",
              "3            2  We have a competitive product, but we need to ...  0.506763   \n",
              "\n",
              "      tone_id   tone_name  \n",
              "0  analytical  Analytical  \n",
              "1     sadness     Sadness  \n",
              "2  analytical  Analytical  \n",
              "3  analytical  Analytical  "
            ],
            "text/html": [
              "\n",
              "  <div id=\"df-cae7e5d7-76be-4f5f-a9f5-5a157cfbe474\">\n",
              "    <div class=\"colab-df-container\">\n",
              "      <div>\n",
              "<style scoped>\n",
              "    .dataframe tbody tr th:only-of-type {\n",
              "        vertical-align: middle;\n",
              "    }\n",
              "\n",
              "    .dataframe tbody tr th {\n",
              "        vertical-align: top;\n",
              "    }\n",
              "\n",
              "    .dataframe thead th {\n",
              "        text-align: right;\n",
              "    }\n",
              "</style>\n",
              "<table border=\"1\" class=\"dataframe\">\n",
              "  <thead>\n",
              "    <tr style=\"text-align: right;\">\n",
              "      <th></th>\n",
              "      <th>sentence_id</th>\n",
              "      <th>text</th>\n",
              "      <th>score</th>\n",
              "      <th>tone_id</th>\n",
              "      <th>tone_name</th>\n",
              "    </tr>\n",
              "  </thead>\n",
              "  <tbody>\n",
              "    <tr>\n",
              "      <th>0</th>\n",
              "      <td>0</td>\n",
              "      <td>Team, I know that times are tough!</td>\n",
              "      <td>0.801827</td>\n",
              "      <td>analytical</td>\n",
              "      <td>Analytical</td>\n",
              "    </tr>\n",
              "    <tr>\n",
              "      <th>1</th>\n",
              "      <td>1</td>\n",
              "      <td>Product sales have been disappointing for the ...</td>\n",
              "      <td>0.817406</td>\n",
              "      <td>sadness</td>\n",
              "      <td>Sadness</td>\n",
              "    </tr>\n",
              "    <tr>\n",
              "      <th>2</th>\n",
              "      <td>1</td>\n",
              "      <td>Product sales have been disappointing for the ...</td>\n",
              "      <td>0.687768</td>\n",
              "      <td>analytical</td>\n",
              "      <td>Analytical</td>\n",
              "    </tr>\n",
              "    <tr>\n",
              "      <th>3</th>\n",
              "      <td>2</td>\n",
              "      <td>We have a competitive product, but we need to ...</td>\n",
              "      <td>0.506763</td>\n",
              "      <td>analytical</td>\n",
              "      <td>Analytical</td>\n",
              "    </tr>\n",
              "  </tbody>\n",
              "</table>\n",
              "</div>\n",
              "      <button class=\"colab-df-convert\" onclick=\"convertToInteractive('df-cae7e5d7-76be-4f5f-a9f5-5a157cfbe474')\"\n",
              "              title=\"Convert this dataframe to an interactive table.\"\n",
              "              style=\"display:none;\">\n",
              "        \n",
              "  <svg xmlns=\"http://www.w3.org/2000/svg\" height=\"24px\"viewBox=\"0 0 24 24\"\n",
              "       width=\"24px\">\n",
              "    <path d=\"M0 0h24v24H0V0z\" fill=\"none\"/>\n",
              "    <path d=\"M18.56 5.44l.94 2.06.94-2.06 2.06-.94-2.06-.94-.94-2.06-.94 2.06-2.06.94zm-11 1L8.5 8.5l.94-2.06 2.06-.94-2.06-.94L8.5 2.5l-.94 2.06-2.06.94zm10 10l.94 2.06.94-2.06 2.06-.94-2.06-.94-.94-2.06-.94 2.06-2.06.94z\"/><path d=\"M17.41 7.96l-1.37-1.37c-.4-.4-.92-.59-1.43-.59-.52 0-1.04.2-1.43.59L10.3 9.45l-7.72 7.72c-.78.78-.78 2.05 0 2.83L4 21.41c.39.39.9.59 1.41.59.51 0 1.02-.2 1.41-.59l7.78-7.78 2.81-2.81c.8-.78.8-2.07 0-2.86zM5.41 20L4 18.59l7.72-7.72 1.47 1.35L5.41 20z\"/>\n",
              "  </svg>\n",
              "      </button>\n",
              "      \n",
              "  <style>\n",
              "    .colab-df-container {\n",
              "      display:flex;\n",
              "      flex-wrap:wrap;\n",
              "      gap: 12px;\n",
              "    }\n",
              "\n",
              "    .colab-df-convert {\n",
              "      background-color: #E8F0FE;\n",
              "      border: none;\n",
              "      border-radius: 50%;\n",
              "      cursor: pointer;\n",
              "      display: none;\n",
              "      fill: #1967D2;\n",
              "      height: 32px;\n",
              "      padding: 0 0 0 0;\n",
              "      width: 32px;\n",
              "    }\n",
              "\n",
              "    .colab-df-convert:hover {\n",
              "      background-color: #E2EBFA;\n",
              "      box-shadow: 0px 1px 2px rgba(60, 64, 67, 0.3), 0px 1px 3px 1px rgba(60, 64, 67, 0.15);\n",
              "      fill: #174EA6;\n",
              "    }\n",
              "\n",
              "    [theme=dark] .colab-df-convert {\n",
              "      background-color: #3B4455;\n",
              "      fill: #D2E3FC;\n",
              "    }\n",
              "\n",
              "    [theme=dark] .colab-df-convert:hover {\n",
              "      background-color: #434B5C;\n",
              "      box-shadow: 0px 1px 3px 1px rgba(0, 0, 0, 0.15);\n",
              "      filter: drop-shadow(0px 1px 2px rgba(0, 0, 0, 0.3));\n",
              "      fill: #FFFFFF;\n",
              "    }\n",
              "  </style>\n",
              "\n",
              "      <script>\n",
              "        const buttonEl =\n",
              "          document.querySelector('#df-cae7e5d7-76be-4f5f-a9f5-5a157cfbe474 button.colab-df-convert');\n",
              "        buttonEl.style.display =\n",
              "          google.colab.kernel.accessAllowed ? 'block' : 'none';\n",
              "\n",
              "        async function convertToInteractive(key) {\n",
              "          const element = document.querySelector('#df-cae7e5d7-76be-4f5f-a9f5-5a157cfbe474');\n",
              "          const dataTable =\n",
              "            await google.colab.kernel.invokeFunction('convertToInteractive',\n",
              "                                                     [key], {});\n",
              "          if (!dataTable) return;\n",
              "\n",
              "          const docLinkHtml = 'Like what you see? Visit the ' +\n",
              "            '<a target=\"_blank\" href=https://colab.research.google.com/notebooks/data_table.ipynb>data table notebook</a>'\n",
              "            + ' to learn more about interactive tables.';\n",
              "          element.innerHTML = '';\n",
              "          dataTable['output_type'] = 'display_data';\n",
              "          await google.colab.output.renderOutput(dataTable, element);\n",
              "          const docLink = document.createElement('div');\n",
              "          docLink.innerHTML = docLinkHtml;\n",
              "          element.appendChild(docLink);\n",
              "        }\n",
              "      </script>\n",
              "    </div>\n",
              "  </div>\n",
              "  "
            ]
          },
          "metadata": {}
        }
      ]
    },
    {
      "cell_type": "markdown",
      "source": [
        "### Karen's version is more effeicient but I am proud that I managed a work around by myself."
      ],
      "metadata": {
        "id": "yOq3XfVxSTzs"
      }
    },
    {
      "cell_type": "markdown",
      "metadata": {
        "id": "k5QvI5ilTftf"
      },
      "source": [
        "### Challenging:  Report the tone data for the whole document\n",
        "---\n",
        "\n",
        "Play with the data, create a dataframe for the document_tone, tones data\n",
        "\n",
        " ```pd.json_normalize(document_tone)```  \n",
        "\n",
        "Display the document score for each of the tones in the analysis"
      ]
    },
    {
      "cell_type": "markdown",
      "metadata": {
        "id": "L0KZ9z-QTfth"
      },
      "source": [
        "### Change the text in the text file and analyse the new text.\n",
        "---\n",
        "\n",
        "Here is some alternative, happier text.  Replace the text in the text-for-analysis.txt file with the text below.  Then run the notebook cells again to see the results.\n",
        "\n",
        "But I feel peaceful. Your success in the ring this morning was, to a small degree, my success. Your future is assured. You will live, secure and safe, Wilbur. Nothing can harm you now. These autumn days will shorten and grow cold. The leaves will shake loose from the trees and fall. Christmas will come, and the snows of winter. You will live to enjoy the beauty of the frozen world, for you mean a great deal to Zuckerman and he will not harm you, ever. Winter will pass, the days will lengthen, the ice will melt in the pasture pond. The song sparrow will return and sing, the frogs will awake, the warm wind will blow again. All these sights and sounds and smells will be yours to enjoy, Wilbur-this lovely world, these precious days.\n",
        "\n",
        "### The result of this analysis is below:\n",
        "\n",
        "```\n",
        "{'document_tone': {'tones': [{'score': 0.525587, 'tone_id': 'sadness', 'tone_name': 'Sadness'}, {'score': 0.670614, 'tone_id': 'joy', 'tone_name': 'Joy'}, {'score': 0.802229, 'tone_id': 'confident', 'tone_name': 'Confident'}]}, 'sentences_tone': [{'sentence_id': 0, 'text': 'But I feel peaceful.', 'tones': [{'score': 0.511185, 'tone_id': 'joy', 'tone_name': 'Joy'}, {'score': 0.88939, 'tone_id': 'tentative', 'tone_name': 'Tentative'}]}, {'sentence_id': 1, 'text': 'Your success in the ring this morning was, to a small degree, my success.', 'tones': [{'score': 0.919911, 'tone_id': 'joy', 'tone_name': 'Joy'}]}, {'sentence_id': 2, 'text': 'Your future is assured.', 'tones': [{'score': 0.97759, 'tone_id': 'confident', 'tone_name': 'Confident'}]}, {'sentence_id': 3, 'text': 'You will live, secure and safe, Wilbur.', 'tones': [{'score': 0.801827, 'tone_id': 'analytical', 'tone_name': 'Analytical'}, {'score': 0.92125, 'tone_id': 'confident', 'tone_name': 'Confident'}]}, {'sentence_id': 4, 'text': 'Nothing can harm you now.', 'tones': []}, {'sentence_id': 5, 'text': 'These autumn days will shorten and grow cold.', 'tones': []}, {'sentence_id': 6, 'text': 'The leaves will shake loose from the trees and fall.', 'tones': [{'score': 0.621679, 'tone_id': 'fear', 'tone_name': 'Fear'}]}, {'sentence_id': 7, 'text': 'Christmas will come, and the snows of winter.', 'tones': [{'score': 0.614764, 'tone_id': 'joy', 'tone_name': 'Joy'}]}, {'sentence_id': 8, 'text': 'You will live to enjoy the beauty of the frozen world, for you mean a great deal to Zuckerman and he will not harm you, ever.', 'tones': [{'score': 0.930779, 'tone_id': 'joy', 'tone_name': 'Joy'}]}, {'sentence_id': 9, 'text': 'Winter will pass, the days will lengthen, the ice will melt in the pasture pond.', 'tones': [{'score': 0.654012, 'tone_id': 'sadness', 'tone_name': 'Sadness'}]}, {'sentence_id': 10, 'text': 'The song sparrow will return and sing, the frogs will awake, the warm wind will blow again.', 'tones': [{'score': 0.600542, 'tone_id': 'joy', 'tone_name': 'Joy'}]}, {'sentence_id': 11, 'text': 'All these sights and sounds and smells will be yours to enjoy, Wilbur-this lovely world, these precious days.', 'tones': [{'score': 0.939404, 'tone_id': 'joy', 'tone_name': 'Joy'}, {'score': 0.660207, 'tone_id': 'confident', 'tone_name': 'Confident'}]}]}\n",
        "```"
      ]
    },
    {
      "cell_type": "code",
      "execution_count": null,
      "metadata": {
        "scrolled": true,
        "id": "ZY8_msgUTftg",
        "outputId": "21f880e4-7abb-476f-c5ce-2380c56a08af",
        "colab": {
          "base_uri": "https://localhost:8080/",
          "height": 457
        }
      },
      "outputs": [
        {
          "output_type": "display_data",
          "data": {
            "text/plain": [
              "    sentence_id                                               text     score  \\\n",
              "0             0                               But I feel peaceful.  0.511185   \n",
              "1             0                               But I feel peaceful.  0.889390   \n",
              "2             1  Your success in the ring this morning was, to ...  0.919911   \n",
              "3             2                            Your future is assured.  0.977590   \n",
              "4             3            You will live, secure and safe, Wilbur.  0.801827   \n",
              "5             3            You will live, secure and safe, Wilbur.  0.921250   \n",
              "8             6  The leaves will shake loose from the trees and...  0.621679   \n",
              "9             7      Christmas will come, and the snows of winter.  0.614764   \n",
              "10            8  You will live to enjoy the beauty of the froze...  0.930779   \n",
              "11            9  Winter will pass, the days will lengthen, the ...  0.654012   \n",
              "12           10  The song sparrow will return and sing, the fro...  0.600542   \n",
              "13           11  All these sights and sounds and smells will be...  0.939404   \n",
              "14           11  All these sights and sounds and smells will be...  0.660207   \n",
              "\n",
              "       tone_id   tone_name  \n",
              "0          joy         Joy  \n",
              "1    tentative   Tentative  \n",
              "2          joy         Joy  \n",
              "3    confident   Confident  \n",
              "4   analytical  Analytical  \n",
              "5    confident   Confident  \n",
              "8         fear        Fear  \n",
              "9          joy         Joy  \n",
              "10         joy         Joy  \n",
              "11     sadness     Sadness  \n",
              "12         joy         Joy  \n",
              "13         joy         Joy  \n",
              "14   confident   Confident  "
            ],
            "text/html": [
              "\n",
              "  <div id=\"df-c6502fb9-21b3-4956-9d4f-03712699783a\">\n",
              "    <div class=\"colab-df-container\">\n",
              "      <div>\n",
              "<style scoped>\n",
              "    .dataframe tbody tr th:only-of-type {\n",
              "        vertical-align: middle;\n",
              "    }\n",
              "\n",
              "    .dataframe tbody tr th {\n",
              "        vertical-align: top;\n",
              "    }\n",
              "\n",
              "    .dataframe thead th {\n",
              "        text-align: right;\n",
              "    }\n",
              "</style>\n",
              "<table border=\"1\" class=\"dataframe\">\n",
              "  <thead>\n",
              "    <tr style=\"text-align: right;\">\n",
              "      <th></th>\n",
              "      <th>sentence_id</th>\n",
              "      <th>text</th>\n",
              "      <th>score</th>\n",
              "      <th>tone_id</th>\n",
              "      <th>tone_name</th>\n",
              "    </tr>\n",
              "  </thead>\n",
              "  <tbody>\n",
              "    <tr>\n",
              "      <th>0</th>\n",
              "      <td>0</td>\n",
              "      <td>But I feel peaceful.</td>\n",
              "      <td>0.511185</td>\n",
              "      <td>joy</td>\n",
              "      <td>Joy</td>\n",
              "    </tr>\n",
              "    <tr>\n",
              "      <th>1</th>\n",
              "      <td>0</td>\n",
              "      <td>But I feel peaceful.</td>\n",
              "      <td>0.889390</td>\n",
              "      <td>tentative</td>\n",
              "      <td>Tentative</td>\n",
              "    </tr>\n",
              "    <tr>\n",
              "      <th>2</th>\n",
              "      <td>1</td>\n",
              "      <td>Your success in the ring this morning was, to ...</td>\n",
              "      <td>0.919911</td>\n",
              "      <td>joy</td>\n",
              "      <td>Joy</td>\n",
              "    </tr>\n",
              "    <tr>\n",
              "      <th>3</th>\n",
              "      <td>2</td>\n",
              "      <td>Your future is assured.</td>\n",
              "      <td>0.977590</td>\n",
              "      <td>confident</td>\n",
              "      <td>Confident</td>\n",
              "    </tr>\n",
              "    <tr>\n",
              "      <th>4</th>\n",
              "      <td>3</td>\n",
              "      <td>You will live, secure and safe, Wilbur.</td>\n",
              "      <td>0.801827</td>\n",
              "      <td>analytical</td>\n",
              "      <td>Analytical</td>\n",
              "    </tr>\n",
              "    <tr>\n",
              "      <th>5</th>\n",
              "      <td>3</td>\n",
              "      <td>You will live, secure and safe, Wilbur.</td>\n",
              "      <td>0.921250</td>\n",
              "      <td>confident</td>\n",
              "      <td>Confident</td>\n",
              "    </tr>\n",
              "    <tr>\n",
              "      <th>8</th>\n",
              "      <td>6</td>\n",
              "      <td>The leaves will shake loose from the trees and...</td>\n",
              "      <td>0.621679</td>\n",
              "      <td>fear</td>\n",
              "      <td>Fear</td>\n",
              "    </tr>\n",
              "    <tr>\n",
              "      <th>9</th>\n",
              "      <td>7</td>\n",
              "      <td>Christmas will come, and the snows of winter.</td>\n",
              "      <td>0.614764</td>\n",
              "      <td>joy</td>\n",
              "      <td>Joy</td>\n",
              "    </tr>\n",
              "    <tr>\n",
              "      <th>10</th>\n",
              "      <td>8</td>\n",
              "      <td>You will live to enjoy the beauty of the froze...</td>\n",
              "      <td>0.930779</td>\n",
              "      <td>joy</td>\n",
              "      <td>Joy</td>\n",
              "    </tr>\n",
              "    <tr>\n",
              "      <th>11</th>\n",
              "      <td>9</td>\n",
              "      <td>Winter will pass, the days will lengthen, the ...</td>\n",
              "      <td>0.654012</td>\n",
              "      <td>sadness</td>\n",
              "      <td>Sadness</td>\n",
              "    </tr>\n",
              "    <tr>\n",
              "      <th>12</th>\n",
              "      <td>10</td>\n",
              "      <td>The song sparrow will return and sing, the fro...</td>\n",
              "      <td>0.600542</td>\n",
              "      <td>joy</td>\n",
              "      <td>Joy</td>\n",
              "    </tr>\n",
              "    <tr>\n",
              "      <th>13</th>\n",
              "      <td>11</td>\n",
              "      <td>All these sights and sounds and smells will be...</td>\n",
              "      <td>0.939404</td>\n",
              "      <td>joy</td>\n",
              "      <td>Joy</td>\n",
              "    </tr>\n",
              "    <tr>\n",
              "      <th>14</th>\n",
              "      <td>11</td>\n",
              "      <td>All these sights and sounds and smells will be...</td>\n",
              "      <td>0.660207</td>\n",
              "      <td>confident</td>\n",
              "      <td>Confident</td>\n",
              "    </tr>\n",
              "  </tbody>\n",
              "</table>\n",
              "</div>\n",
              "      <button class=\"colab-df-convert\" onclick=\"convertToInteractive('df-c6502fb9-21b3-4956-9d4f-03712699783a')\"\n",
              "              title=\"Convert this dataframe to an interactive table.\"\n",
              "              style=\"display:none;\">\n",
              "        \n",
              "  <svg xmlns=\"http://www.w3.org/2000/svg\" height=\"24px\"viewBox=\"0 0 24 24\"\n",
              "       width=\"24px\">\n",
              "    <path d=\"M0 0h24v24H0V0z\" fill=\"none\"/>\n",
              "    <path d=\"M18.56 5.44l.94 2.06.94-2.06 2.06-.94-2.06-.94-.94-2.06-.94 2.06-2.06.94zm-11 1L8.5 8.5l.94-2.06 2.06-.94-2.06-.94L8.5 2.5l-.94 2.06-2.06.94zm10 10l.94 2.06.94-2.06 2.06-.94-2.06-.94-.94-2.06-.94 2.06-2.06.94z\"/><path d=\"M17.41 7.96l-1.37-1.37c-.4-.4-.92-.59-1.43-.59-.52 0-1.04.2-1.43.59L10.3 9.45l-7.72 7.72c-.78.78-.78 2.05 0 2.83L4 21.41c.39.39.9.59 1.41.59.51 0 1.02-.2 1.41-.59l7.78-7.78 2.81-2.81c.8-.78.8-2.07 0-2.86zM5.41 20L4 18.59l7.72-7.72 1.47 1.35L5.41 20z\"/>\n",
              "  </svg>\n",
              "      </button>\n",
              "      \n",
              "  <style>\n",
              "    .colab-df-container {\n",
              "      display:flex;\n",
              "      flex-wrap:wrap;\n",
              "      gap: 12px;\n",
              "    }\n",
              "\n",
              "    .colab-df-convert {\n",
              "      background-color: #E8F0FE;\n",
              "      border: none;\n",
              "      border-radius: 50%;\n",
              "      cursor: pointer;\n",
              "      display: none;\n",
              "      fill: #1967D2;\n",
              "      height: 32px;\n",
              "      padding: 0 0 0 0;\n",
              "      width: 32px;\n",
              "    }\n",
              "\n",
              "    .colab-df-convert:hover {\n",
              "      background-color: #E2EBFA;\n",
              "      box-shadow: 0px 1px 2px rgba(60, 64, 67, 0.3), 0px 1px 3px 1px rgba(60, 64, 67, 0.15);\n",
              "      fill: #174EA6;\n",
              "    }\n",
              "\n",
              "    [theme=dark] .colab-df-convert {\n",
              "      background-color: #3B4455;\n",
              "      fill: #D2E3FC;\n",
              "    }\n",
              "\n",
              "    [theme=dark] .colab-df-convert:hover {\n",
              "      background-color: #434B5C;\n",
              "      box-shadow: 0px 1px 3px 1px rgba(0, 0, 0, 0.15);\n",
              "      filter: drop-shadow(0px 1px 2px rgba(0, 0, 0, 0.3));\n",
              "      fill: #FFFFFF;\n",
              "    }\n",
              "  </style>\n",
              "\n",
              "      <script>\n",
              "        const buttonEl =\n",
              "          document.querySelector('#df-c6502fb9-21b3-4956-9d4f-03712699783a button.colab-df-convert');\n",
              "        buttonEl.style.display =\n",
              "          google.colab.kernel.accessAllowed ? 'block' : 'none';\n",
              "\n",
              "        async function convertToInteractive(key) {\n",
              "          const element = document.querySelector('#df-c6502fb9-21b3-4956-9d4f-03712699783a');\n",
              "          const dataTable =\n",
              "            await google.colab.kernel.invokeFunction('convertToInteractive',\n",
              "                                                     [key], {});\n",
              "          if (!dataTable) return;\n",
              "\n",
              "          const docLinkHtml = 'Like what you see? Visit the ' +\n",
              "            '<a target=\"_blank\" href=https://colab.research.google.com/notebooks/data_table.ipynb>data table notebook</a>'\n",
              "            + ' to learn more about interactive tables.';\n",
              "          element.innerHTML = '';\n",
              "          dataTable['output_type'] = 'display_data';\n",
              "          await google.colab.output.renderOutput(dataTable, element);\n",
              "          const docLink = document.createElement('div');\n",
              "          docLink.innerHTML = docLinkHtml;\n",
              "          element.appendChild(docLink);\n",
              "        }\n",
              "      </script>\n",
              "    </div>\n",
              "  </div>\n",
              "  "
            ]
          },
          "metadata": {}
        }
      ],
      "source": [
        "import pandas as pd\n",
        "import numpy as np\n",
        "\n",
        "# convert json data to a dataframe with one row for each tone for each sentence - utilising Karen's method.\n",
        "def convert_to_sentence_tones(data):\n",
        "    df = pd.json_normalize(data)\n",
        "    df = df.explode('tones', ignore_index=True)\n",
        "    df = df.dropna() #drop Nan rows so that next lines will work\n",
        "    df['score'] = df['tones'].apply(lambda x: x['score'])\n",
        "    df['tone_id'] = df['tones'].apply(lambda x: x['tone_id'])\n",
        "    df['tone_name'] = df['tones'].apply(lambda x: x['tone_name'])\n",
        "    df = df.drop(['tones'], axis=1)\n",
        "    #display(df)\n",
        "    return df\n",
        "\n",
        "#convert the new_text string to a table on the document_tone item\n",
        "new_text = {'document_tone': {'tones': [{'score': 0.525587, 'tone_id': 'sadness', 'tone_name': 'Sadness'}, {'score': 0.670614, 'tone_id': 'joy', 'tone_name': 'Joy'}, {'score': 0.802229, 'tone_id': 'confident', 'tone_name': 'Confident'}]}, 'sentences_tone': [{'sentence_id': 0, 'text': 'But I feel peaceful.', 'tones': [{'score': 0.511185, 'tone_id': 'joy', 'tone_name': 'Joy'}, {'score': 0.88939, 'tone_id': 'tentative', 'tone_name': 'Tentative'}]}, {'sentence_id': 1, 'text': 'Your success in the ring this morning was, to a small degree, my success.', 'tones': [{'score': 0.919911, 'tone_id': 'joy', 'tone_name': 'Joy'}]}, {'sentence_id': 2, 'text': 'Your future is assured.', 'tones': [{'score': 0.97759, 'tone_id': 'confident', 'tone_name': 'Confident'}]}, {'sentence_id': 3, 'text': 'You will live, secure and safe, Wilbur.', 'tones': [{'score': 0.801827, 'tone_id': 'analytical', 'tone_name': 'Analytical'}, {'score': 0.92125, 'tone_id': 'confident', 'tone_name': 'Confident'}]}, {'sentence_id': 4, 'text': 'Nothing can harm you now.', 'tones': []}, {'sentence_id': 5, 'text': 'These autumn days will shorten and grow cold.', 'tones': []}, {'sentence_id': 6, 'text': 'The leaves will shake loose from the trees and fall.', 'tones': [{'score': 0.621679, 'tone_id': 'fear', 'tone_name': 'Fear'}]}, {'sentence_id': 7, 'text': 'Christmas will come, and the snows of winter.', 'tones': [{'score': 0.614764, 'tone_id': 'joy', 'tone_name': 'Joy'}]}, {'sentence_id': 8, 'text': 'You will live to enjoy the beauty of the frozen world, for you mean a great deal to Zuckerman and he will not harm you, ever.', 'tones': [{'score': 0.930779, 'tone_id': 'joy', 'tone_name': 'Joy'}]}, {'sentence_id': 9, 'text': 'Winter will pass, the days will lengthen, the ice will melt in the pasture pond.', 'tones': [{'score': 0.654012, 'tone_id': 'sadness', 'tone_name': 'Sadness'}]}, {'sentence_id': 10, 'text': 'The song sparrow will return and sing, the frogs will awake, the warm wind will blow again.', 'tones': [{'score': 0.600542, 'tone_id': 'joy', 'tone_name': 'Joy'}]}, {'sentence_id': 11, 'text': 'All these sights and sounds and smells will be yours to enjoy, Wilbur-this lovely world, these precious days.', 'tones': [{'score': 0.939404, 'tone_id': 'joy', 'tone_name': 'Joy'}, {'score': 0.660207, 'tone_id': 'confident', 'tone_name': 'Confident'}]}]}\n",
        "#new_table = convert_to_sentence_tones(new_text['document_tone'])\n",
        "#display(new_table)\n",
        "\n",
        "#straingforward conversion of the sentence_tone \n",
        "sentence_table = convert_to_sentence_tones(new_text['sentences_tone'])\n",
        "display(sentence_table)\n",
        "\n"
      ]
    },
    {
      "cell_type": "code",
      "source": [
        "#Calculate the average of Joy scores and plot a bar chart.\n",
        "analytical_scores = plot_scores(sentence_table, \"joy\")\n"
      ],
      "metadata": {
        "id": "p7_dpFziGyMB",
        "outputId": "9f9f0cdf-fc02-467b-c5a4-fd4d10dcbb9c",
        "colab": {
          "base_uri": "https://localhost:8080/",
          "height": 429
        }
      },
      "execution_count": null,
      "outputs": [
        {
          "output_type": "stream",
          "name": "stdout",
          "text": [
            "            sentence_id     score\n",
            "tone_id                          \n",
            "analytical     3.000000  0.801827\n",
            "confident      5.333333  0.853016\n",
            "fear           6.000000  0.621679\n",
            "joy            6.166667  0.752764\n",
            "sadness        9.000000  0.654012\n",
            "tentative      0.000000  0.889390\n"
          ]
        },
        {
          "output_type": "display_data",
          "data": {
            "text/plain": [
              "<Figure size 432x288 with 1 Axes>"
            ],
            "image/png": "[encoded data removed]"
          },
          "metadata": {
            "needs_background": "light"
          }
        }
      ]
    },
    {
      "cell_type": "markdown",
      "source": [
        "# Reflections\n",
        "---\n",
        "### What did you learn?\n",
        "\n",
        "In this project we tackled the use of API cloud services to collect and analyse qualitative data such as text with sentiments. Despite the issues accessing the IBM Watson Tone analysers I was able to complete the work set out to convert the output from the Watson Tone analyser into a pandas dataframe to be further analysed.\n",
        "\n",
        "We were introduced to SSH security keys and how to save them as an environmental variable in the Colabs worksheet safely.\n",
        "\n",
        "As an extra attempt at retrieving data from and API we gained access to Twitter's API and used the Tweepy library to extract some tweets from a public account. I chose BBC News for this. The next step would have been to pass the tweets through the IBM Watson Tone Analyser.\n",
        "\n",
        "Hopefully, I will be able to attempt this in the future for my own development.\n"
      ],
      "metadata": {
        "id": "ahDA_pZgqkn8"
      }
    }
  ],
  "metadata": {
    "kernelspec": {
      "display_name": "Python 3",
      "language": "python",
      "name": "python3"
    },
    "language_info": {
      "codemirror_mode": {
        "name": "ipython",
        "version": 3
      },
      "file_extension": ".py",
      "mimetype": "text/x-python",
      "name": "python",
      "nbconvert_exporter": "python",
      "pygments_lexer": "ipython3",
      "version": "3.8.8"
    },
    "colab": {
      "name": "12. WatsonToneAnalyser.ipynb",
      "provenance": [],
      "collapsed_sections": [],
      "include_colab_link": true
    }
  },
  "nbformat": 4,
  "nbformat_minor": 0
}