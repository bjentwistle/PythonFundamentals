{
  "nbformat": 4,
  "nbformat_minor": 0,
  "metadata": {
    "colab": {
      "name": "Air quality mini-project.ipynb",
      "provenance": [],
      "collapsed_sections": [],
      "include_colab_link": true
    },
    "kernelspec": {
      "name": "python3",
      "display_name": "Python 3"
    },
    "language_info": {
      "name": "python"
    }
  },
  "cells": [
    {
      "cell_type": "markdown",
      "metadata": {
        "id": "view-in-github",
        "colab_type": "text"
      },
      "source": [
        "<a href=\"https://colab.research.google.com/github/bjentwistle/PythonFundamentals/blob/main/Projects/Air_quality_mini_project.ipynb\" target=\"_parent\"><img src=\"https://colab.research.google.com/assets/colab-badge.svg\" alt=\"Open In Colab\"/></a>"
      ]
    },
    {
      "cell_type": "markdown",
      "source": [
        "# Clean and wrangle air quality data\n",
        "\n",
        "The following data file contains data collected at a roadside monitoring station.  You can see the data in a spreadsheet here: https://docs.google.com/spreadsheets/d/1XpAvrpuyMsKDO76EZ3kxuddBOu7cZX1Od4uEts14zco/edit?usp=sharing\n",
        "\n",
        "The data contains:\n",
        "* a heading line (Chatham Roadside) which needs to be skipped\n",
        "* dates which are sometimes left- and sometimes right-justified indicating that they are not formatted as dates, rather they are text (so need to be converted to dates)\n",
        "* times which are not all in the same format\n",
        "* Nitrogen Dioxide levels which are, again, text and sometimes contain nodata\n",
        "* Status which is always the same\n",
        "\n",
        "\n",
        "\n"
      ],
      "metadata": {
        "id": "8qnlsapq24Df"
      }
    },
    {
      "cell_type": "markdown",
      "source": [
        "### Project - clean, sort and wrangle the data\n",
        "\n",
        "Read the dataset into a dataframe, skipping the first row   \n",
        "Convert dates to date format  \n",
        "Remove rows with nodata in the Nitrogen dioxide column  \n",
        "Convert the Nitrogen dioxide levels values to float type  \n",
        "Sort by Nitrogen dioxide level  \n",
        "Create a new column for 'Weekdays' (use df['Date'].dt.weekday)  \n",
        "Rename the column Nitrogen dioxide level to NO2 Level (V ug/m2)  \n",
        "Remove the Status column  \n",
        "\n",
        "The dataset can be viewed here:  https://drive.google.com/file/d/1aYmBf9il2dWA-EROvbYRCZ1rU2t7JwvJ/view?usp=sharing  and the data accessed here: https://drive.google.com/uc?id=1QSNJ3B1ku8kjXsA_tCBh4fbpDK7wVLAA This is a .csv file  \n",
        "\n",
        "**NOTE:** Some useful references are included at the bottom of this spreadsheet.\n",
        "\n",
        "Use the code cell below to work your code."
      ],
      "metadata": {
        "id": "SSvLiFnp4LjG"
      }
    },
    {
      "cell_type": "markdown",
      "source": [
        "### Expand the dataset and show summary statistics for larger dataset\n",
        "---\n",
        "\n",
        "There is a second data set here covering the year 2021:  https://drive.google.com/uc?id=1aYmBf9il2dWA-EROvbYRCZ1rU2t7JwvJ  \n",
        "\n",
        "Concatenate the two datasets to expand it to 2020 and 2021.  \n",
        "\n",
        "Before you can concatenate the datasets you will need to clean and wrangle the second dataset in the same way as the first.  Use the code cell below.  Give the second dataset a different name. \n",
        "\n",
        "After the datasets have been concatenated, group the data by Weekdays and show summary statistics by day of the week."
      ],
      "metadata": {
        "id": "jnzAnbsmHk4B"
      }
    },
    {
      "cell_type": "code",
      "source": [
        "import pandas as pd\n",
        "\n",
        "#read in data for 2021 air quality of Chatham Roadside\n",
        "url = \"https://drive.google.com/uc?id=1QSNJ3B1ku8kjXsA_tCBh4fbpDK7wVLAA\"\n",
        "air_quality_2020 = pd.read_csv(url,skiprows=[0])\n",
        "\n",
        "#remove 'nodata' rows from Nitrogen Dioxide column\n",
        "for i in air_quality_2020.index:\n",
        "  if air_quality_2020.loc[i, \"Nitrogen dioxide\"] == \"nodata\":\n",
        "    air_quality_2020.drop(i, inplace = True) \n",
        "\n",
        "air_quality_2020.dtypes"
      ],
      "metadata": {
        "id": "2KPQVVtonW5R",
        "outputId": "75062c85-3c2d-405b-bc6a-9a218ea9e8ff",
        "colab": {
          "base_uri": "https://localhost:8080/"
        }
      },
      "execution_count": 171,
      "outputs": [
        {
          "output_type": "execute_result",
          "data": {
            "text/plain": [
              "Date                object\n",
              "Time                object\n",
              "Nitrogen dioxide    object\n",
              "Status              object\n",
              "dtype: object"
            ]
          },
          "metadata": {},
          "execution_count": 171
        }
      ]
    },
    {
      "cell_type": "code",
      "source": [
        "#convert all dates to Datetime format\n",
        "air_quality_2020['Date'] = pd.to_datetime(air_quality_2020['Date'])\n",
        "\n",
        "#convert Nitrogen dioxide column to float type\n",
        "air_quality_2020['Nitrogen dioxide'] = pd.Float64Index(air_quality_2020['Nitrogen dioxide'])\n",
        "\n",
        "#sort by Nitrogen dioxide\n",
        "air_quality_2020 = air_quality_2020.sort_values(\"Nitrogen dioxide\")\n",
        "\n",
        "#add new column called 'weekdays'\n",
        "air_quality_2020[\"Weekdays\"] = air_quality_2020['Date'].dt.strftime(\"%a\")\n",
        "\n",
        "#rename Nitrogen dioxide column to \"NO2 Level (V ug/m2)\"\n",
        "air_quality_2020.rename(columns = {\"Nitrogen dioxide\":\"NO2 Level (V ug/m2)\"}, inplace =True)\n",
        "\n",
        "#drop the Status column\n",
        "air_quality_2020_v2 = air_quality_2020.drop([\"Status\"],axis=1)\n",
        "\n",
        "\n",
        "#read in data for 2021 air quality of Chatham Roadside\n",
        "url =  \"https://drive.google.com/uc?id=1aYmBf9il2dWA-EROvbYRCZ1rU2t7JwvJ\"\n",
        "air_quality_2021 = pd.read_csv(url, skiprows=[0])\n",
        "\n",
        "print(air_quality_2021)\n",
        "#remove 'nodata' rows from Nitrogen Dioxide column\n",
        "for x in air_quality_2021.index:\n",
        "  if air_quality_2021.loc[x, \"Nitrogen dioxide\"] == \"nodata\":\n",
        "    air_quality_2021.drop(x, inplace = True) \n",
        "\n",
        "#convert all dates to Datetime format\n",
        "air_quality_2021['Date'] = pd.to_datetime(air_quality_2021['Date'])\n",
        "\n",
        "#convert Nitrogen dioxide column to float type\n",
        "air_quality_2021['Nitrogen dioxide'] = pd.Float64Index(air_quality_2021['Nitrogen dioxide'])\n",
        "\n",
        "#sort by Nitrogen dioxide\n",
        "air_quality_2021 = air_quality_2021.sort_values(\"Nitrogen dioxide\")\n",
        "\n",
        "#add new column called 'weekdays'\n",
        "air_quality_2021[\"Weekdays\"] = air_quality_2021['Date'].dt.strftime(\"%a\")\n",
        "\n",
        "#rename Nitrogen dioxide column to \"NO2 Level (V ug/m2)\"\n",
        "air_quality_2021.rename(columns = {\"Nitrogen dioxide\":\"NO2 Level (V ug/m2)\"}, inplace =True)\n",
        "\n",
        "#drop the Status column\n",
        "air_quality_2021_v2 = air_quality_2021.drop([\"Status\"],axis=1)\n",
        "\n",
        "print(air_quality_2020_v2)\n",
        "print(air_quality_2021_v2)\n"
      ],
      "metadata": {
        "id": "txM4TIRUHhsJ",
        "colab": {
          "base_uri": "https://localhost:8080/"
        },
        "outputId": "b311ee51-6659-412b-a2b8-f9d19343aa09"
      },
      "execution_count": 172,
      "outputs": [
        {
          "output_type": "stream",
          "name": "stdout",
          "text": [
            "            Date   Time Nitrogen dioxide   Status\n",
            "0     01/01/2021  01:00         16.58269  V µg/m³\n",
            "1     01/01/2021  02:00         14.00478  V µg/m³\n",
            "2     01/01/2021  03:00         15.35208  V µg/m³\n",
            "3     01/01/2021  04:00         13.49688  V µg/m³\n",
            "4     01/01/2021  05:00         12.47511  V µg/m³\n",
            "...          ...    ...              ...      ...\n",
            "8755  31/12/2021  20:00         12.51492  P µg/m³\n",
            "8756  31/12/2021  21:00         14.00046  P µg/m³\n",
            "8757  31/12/2021  22:00         10.04780  P µg/m³\n",
            "8758  31/12/2021  23:00          3.49557  P µg/m³\n",
            "8759  31/12/2021  24:00          4.15682  P µg/m³\n",
            "\n",
            "[8760 rows x 4 columns]\n",
            "           Date      Time  NO2 Level (V ug/m2) Weekdays\n",
            "3442 2020-05-23     11:00              0.31041      Sat\n",
            "5844 2020-08-31     13:00              0.38390      Mon\n",
            "7684 2020-11-16      5:00              0.40116      Mon\n",
            "7756 2020-11-19      5:00              0.40229      Thu\n",
            "3440 2020-05-23      9:00              0.41544      Sat\n",
            "...         ...       ...                  ...      ...\n",
            "501  2020-01-21     22:00             66.59166      Tue\n",
            "504  2020-01-22      1:00             67.62859      Wed\n",
            "503  2020-01-21  24:00:00             69.17734      Tue\n",
            "2347 2020-07-04     20:00             69.88823      Sat\n",
            "502  2020-01-21     23:00             70.41527      Tue\n",
            "\n",
            "[8672 rows x 4 columns]\n",
            "           Date   Time  NO2 Level (V ug/m2) Weekdays\n",
            "7177 2021-10-27  02:00             -0.77743      Wed\n",
            "7009 2021-10-20  02:00             -0.54076      Wed\n",
            "7107 2021-10-24  04:00             -0.41740      Sun\n",
            "6674 2021-06-10  03:00             -0.31174      Thu\n",
            "7178 2021-10-27  03:00             -0.28544      Wed\n",
            "...         ...    ...                  ...      ...\n",
            "8395 2021-12-16  20:00             72.00084      Thu\n",
            "2117 2021-03-30  06:00             72.66929      Tue\n",
            "7695 2021-11-17  16:00             73.40940      Wed\n",
            "1784 2021-03-16  09:00             80.27844      Tue\n",
            "7983 2021-11-29  16:00             82.59609      Mon\n",
            "\n",
            "[8680 rows x 4 columns]\n"
          ]
        }
      ]
    },
    {
      "cell_type": "code",
      "source": [
        "import numpy as np\n",
        "\n",
        "#concatenate the two years of data and sort by date then print as a test\n",
        "combined_df = pd.concat([air_quality_2020_v2, air_quality_2021_v2], join='inner', ignore_index=True)\n",
        "combined_df = combined_df.sort_values(\"Date\")\n",
        "\n",
        "#Calcuate the averages NO2 levels by weekdays (same as pivot below)\n",
        "# average_NO2 = combined_df.groupby([\"Weekdays\"])[\"NO2 Level (V ug/m2)\"].mean()\n",
        "# print(type(average_NO2))\n",
        "\n",
        "#Group by Weekdays and show smmary stats by day of the week\n",
        "air_quality_pivot = pd.pivot_table(combined_df, values = \"NO2 Level (V ug/m2)\", index = [\"Weekdays\"], aggfunc = np.mean)\n",
        "#print(air_quality_pivot)\n",
        "\n",
        "print(air_quality_pivot[\"NO2 Level (V ug/m2)\"].index)"
      ],
      "metadata": {
        "id": "Gz4u6trsIQJ6",
        "colab": {
          "base_uri": "https://localhost:8080/"
        },
        "outputId": "4bad5f6f-9bfd-4af9-f4e5-aed8f0c8a1e4"
      },
      "execution_count": 194,
      "outputs": [
        {
          "output_type": "stream",
          "name": "stdout",
          "text": [
            "Index(['Fri', 'Mon', 'Sat', 'Sun', 'Thu', 'Tue', 'Wed'], dtype='object', name='Weekdays')\n"
          ]
        }
      ]
    },
    {
      "cell_type": "markdown",
      "source": [
        "## 10/3/2022 - Update \n",
        "Returning to this project after several week on the Data Accelerator course, I wanted to add some visualisations and possible predictions to this project."
      ],
      "metadata": {
        "id": "E1eUM-LuYij2"
      }
    },
    {
      "cell_type": "code",
      "source": [
        "import matplotlib.pyplot as plt\n",
        "import seaborn as sns\n",
        "\n",
        "# weekday_categories = [\"Sunday\", \"Monday\", \"Tuesday\", \"Wednesday\", \"Thursday\", \"Friday\", \"Saturday\"]\n",
        "# air_quality_pivot[\"Weekdays2\"] = pd.Categorical(air_quality_pivot[\"NO2 Level (V ug/m2)\"].index, categories = weekday_categories, ordered= True)\n",
        "# air_quality_pivot.sort_values(\"Weekdays2\")\n",
        "print(air_quality_pivot)\n",
        "\n",
        "air_quality_pivot.plot(kind='bar').legend(bbox_to_anchor=(1.2, 1))\n",
        "plt.xticks(rotation=0)\n",
        "plt.show()"
      ],
      "metadata": {
        "colab": {
          "base_uri": "https://localhost:8080/",
          "height": 443
        },
        "id": "Qt2ER64oY4Gu",
        "outputId": "471f0cac-729b-4de5-a778-c40fb5ea85e1"
      },
      "execution_count": 195,
      "outputs": [
        {
          "output_type": "stream",
          "name": "stdout",
          "text": [
            "          NO2 Level (V ug/m2)\n",
            "Weekdays                     \n",
            "Fri                 14.893637\n",
            "Mon                 14.303682\n",
            "Sat                 13.851765\n",
            "Sun                 11.661928\n",
            "Thu                 14.871229\n",
            "Tue                 15.297219\n",
            "Wed                 16.355849\n"
          ]
        },
        {
          "output_type": "display_data",
          "data": {
            "image/png": "[encoded data removed]",
            "text/plain": [
              "<Figure size 432x288 with 1 Axes>"
            ]
          },
          "metadata": {
            "needs_background": "light"
          }
        }
      ]
    },
    {
      "cell_type": "markdown",
      "source": [
        "### Helpful references\n",
        "---\n",
        "Skipping rows when reading datasets:  \n",
        "https://www.geeksforgeeks.org/how-to-skip-rows-while-reading-csv-file-using-pandas/  \n",
        "\n",
        "Converting strings to dates:  \n",
        "https://www.geeksforgeeks.org/convert-the-column-type-from-string-to-datetime-format-in-pandas-dataframe/\n",
        "\n",
        "Dropping rows where data has a given value:  \n",
        "https://www.datasciencemadesimple.com/drop-delete-rows-conditions-python-pandas/  \n",
        "(see section Drop a row or observation by condition) \n",
        "\n",
        "Convert a column of strings to a column of floats:\n",
        "https://datatofish.com/convert-string-to-float-dataframe/  \n",
        "\n",
        "Create a new column from data converted in an existing column:  \n",
        "https://www.geeksforgeeks.org/create-a-new-column-in-pandas-dataframe-based-on-the-existing-columns/  \n",
        "\n",
        "Rename a column:  \n",
        "https://pandas.pydata.org/docs/reference/api/pandas.DataFrame.rename.html  \n",
        "\n",
        "Remove a column by name:  \n",
        "https://www.kite.com/python/answers/how-to-delete-columns-from-a-pandas-%60dataframe%60-by-column-name-in-python#:~:text=Use%20the%20del%20keyword%20to,the%20name%20column_name%20from%20DataFrame%20.\n"
      ],
      "metadata": {
        "id": "hkj-Ofus_D6_"
      }
    }
  ]
}