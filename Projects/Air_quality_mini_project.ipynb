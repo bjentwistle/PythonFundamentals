{
  "nbformat": 4,
  "nbformat_minor": 0,
  "metadata": {
    "colab": {
      "name": "Air quality mini-project.ipynb",
      "provenance": [],
      "collapsed_sections": [],
      "include_colab_link": true
    },
    "kernelspec": {
      "name": "python3",
      "display_name": "Python 3"
    },
    "language_info": {
      "name": "python"
    }
  },
  "cells": [
    {
      "cell_type": "markdown",
      "metadata": {
        "id": "view-in-github",
        "colab_type": "text"
      },
      "source": [
        "<a href=\"https://colab.research.google.com/github/bjentwistle/PythonFundamentals/blob/main/Projects/Air_quality_mini_project.ipynb\" target=\"_parent\"><img src=\"https://colab.research.google.com/assets/colab-badge.svg\" alt=\"Open In Colab\"/></a>"
      ]
    },
    {
      "cell_type": "markdown",
      "source": [
        "# Clean and wrangle air quality data\n",
        "\n",
        "The following data file contains data collected at a roadside monitoring station.  You can see the data in a spreadsheet here: https://docs.google.com/spreadsheets/d/1XpAvrpuyMsKDO76EZ3kxuddBOu7cZX1Od4uEts14zco/edit?usp=sharing\n",
        "\n",
        "The data contains:\n",
        "* a heading line (Chatham Roadside) which needs to be skipped\n",
        "* dates which are sometimes left- and sometimes right-justified indicating that they are not formatted as dates, rather they are text (so need to be converted to dates)\n",
        "* times which are not all in the same format\n",
        "* Nitrogen Dioxide levels which are, again, text and sometimes contain nodata\n",
        "* Status which is always the same\n",
        "\n",
        "\n",
        "\n"
      ],
      "metadata": {
        "id": "8qnlsapq24Df"
      }
    },
    {
      "cell_type": "markdown",
      "source": [
        "### Project - clean, sort and wrangle the data\n",
        "\n",
        "Read the dataset into a dataframe, skipping the first row   \n",
        "Convert dates to date format  \n",
        "Remove rows with nodata in the Nitrogen dioxide column  \n",
        "Convert the Nitrogen dioxide levels values to float type  \n",
        "Sort by Nitrogen dioxide level  \n",
        "Create a new column for 'Weekdays' (use df['Date'].dt.weekday)  \n",
        "Rename the column Nitrogen dioxide level to NO2 Level (V ug/m2)  \n",
        "Remove the Status column  \n",
        "\n",
        "The dataset can be viewed here:  https://drive.google.com/file/d/1aYmBf9il2dWA-EROvbYRCZ1rU2t7JwvJ/view?usp=sharing  and the data accessed here: https://drive.google.com/uc?id=1QSNJ3B1ku8kjXsA_tCBh4fbpDK7wVLAA This is a .csv file  \n",
        "\n",
        "**NOTE:** Some useful references are included at the bottom of this spreadsheet.\n",
        "\n",
        "Use the code cell below to work your code."
      ],
      "metadata": {
        "id": "SSvLiFnp4LjG"
      }
    },
    {
      "cell_type": "markdown",
      "source": [
        "### Expand the dataset and show summary statistics for larger dataset\n",
        "---\n",
        "\n",
        "There is a second data set here covering the year 2021:  https://drive.google.com/uc?id=1aYmBf9il2dWA-EROvbYRCZ1rU2t7JwvJ  \n",
        "\n",
        "Concatenate the two datasets to expand it to 2020 and 2021.  \n",
        "\n",
        "Before you can concatenate the datasets you will need to clean and wrangle the second dataset in the same way as the first.  Use the code cell below.  Give the second dataset a different name. \n",
        "\n",
        "After the datasets have been concatenated, group the data by Weekdays and show summary statistics by day of the week."
      ],
      "metadata": {
        "id": "jnzAnbsmHk4B"
      }
    },
    {
      "cell_type": "code",
      "source": [
        "import pandas as pd\n",
        "\n",
        "#read in data for 2021 air quality of Chatham Roadside\n",
        "url = \"https://raw.githubusercontent.com/bjentwistle/PythonFundamentals/main/Datasets/NO2-measured-data-2020-2021-Chatham-Roadside%20-%20NO2-measurement-data-2020-2021.csv\"\n",
        "air_quality_2020 = pd.read_csv(url,skiprows=[0])\n",
        "\n",
        "#remove 'nodata' rows from Nitrogen Dioxide column\n",
        "for i in air_quality_2020.index:\n",
        "  if air_quality_2020.loc[i, \"Nitrogen dioxide\"] == \"nodata\":\n",
        "    air_quality_2020.drop(i, inplace = True) \n",
        "\n",
        "air_quality_2020.dtypes"
      ],
      "metadata": {
        "id": "2KPQVVtonW5R",
        "outputId": "9e7473c3-dcb8-4eb1-e8fc-c6e40ebc3202",
        "colab": {
          "base_uri": "https://localhost:8080/"
        }
      },
      "execution_count": 9,
      "outputs": [
        {
          "output_type": "execute_result",
          "data": {
            "text/plain": [
              "Date                object\n",
              "Time                object\n",
              "Nitrogen dioxide    object\n",
              "Status              object\n",
              "dtype: object"
            ]
          },
          "metadata": {},
          "execution_count": 9
        }
      ]
    },
    {
      "cell_type": "code",
      "source": [
        "air_quality_2020\n",
        "#air_quality_2020['Time'] = pd.to_datetime(air_quality_2020['Time'])"
      ],
      "metadata": {
        "id": "Q6FR9E6Mqa_q"
      },
      "execution_count": 10,
      "outputs": []
    },
    {
      "cell_type": "code",
      "source": [
        "#convert all dates to Datetime format\n",
        "air_quality_2020['Date'] = pd.to_datetime(air_quality_2020['Date'])\n",
        "air_quality_2020['Time'] = pd.to_datetime(air_quality_2020['Time'])\n",
        "\n",
        "#convert Nitrogen dioxide column to float type\n",
        "air_quality_2020['Nitrogen dioxide'] = pd.Float64Index(air_quality_2020['Nitrogen dioxide'])\n",
        "\n",
        "#sort by Nitrogen dioxide\n",
        "air_quality_2020 = air_quality_2020.sort_values(\"Nitrogen dioxide\")\n",
        "\n",
        "#add new column called 'weekdays'\n",
        "air_quality_2020[\"Weekdays\"] = air_quality_2020['Date'].dt.strftime(\"%a\")\n",
        "\n",
        "#rename Nitrogen dioxide column to \"NO2 Level (V ug/m2)\"\n",
        "air_quality_2020.rename(columns = {\"Nitrogen dioxide\":\"NO2 Level (V ug/m2)\"}, inplace =True)\n",
        "\n",
        "#drop the Status column\n",
        "air_quality_2020_v2 = air_quality_2020.drop([\"Status\"],axis=1)\n",
        "\n",
        "\n",
        "#read in data for 2021 air quality of Chatham Roadside\n",
        "url =  \"https://drive.google.com/uc?id=1aYmBf9il2dWA-EROvbYRCZ1rU2t7JwvJ\"\n",
        "air_quality_2021 = pd.read_csv(url, skiprows=[0])\n",
        "\n",
        "#remove 'nodata' rows from Nitrogen Dioxide column\n",
        "for x in air_quality_2021.index:\n",
        "  if air_quality_2021.loc[x, \"Nitrogen dioxide\"] == \"nodata\":\n",
        "    air_quality_2021.drop(x, inplace = True) \n",
        "#~~~~~~~~~~~~~~~~~~~~~~~~~~~~~~~~~~~~~~~~~~~~~~~~~~~~~~~~~~~~~\n",
        "\n",
        "#Do the same with 2021 dataset - convert all dates to Datetime format\n",
        "air_quality_2021['Date'] = pd.to_datetime(air_quality_2021['Date'])\n",
        "#air_quality_2021['Time'] = pd.to_datetime(air_quality_2021['Time'])\n",
        "\n",
        "#convert Nitrogen dioxide column to float type\n",
        "air_quality_2021['Nitrogen dioxide'] = pd.Float64Index(air_quality_2021['Nitrogen dioxide'])\n",
        "\n",
        "#sort by Nitrogen dioxide\n",
        "air_quality_2021 = air_quality_2021.sort_values(\"Nitrogen dioxide\")\n",
        "\n",
        "#add new column called 'weekdays'\n",
        "air_quality_2021[\"Weekdays\"] = air_quality_2021['Date'].dt.strftime(\"%a\")\n",
        "\n",
        "#rename Nitrogen dioxide column to \"NO2 Level (V ug/m2)\"\n",
        "air_quality_2021.rename(columns = {\"Nitrogen dioxide\":\"NO2 Level (V ug/m2)\"}, inplace =True)\n",
        "\n",
        "#drop the Status column\n",
        "air_quality_2021_v2 = air_quality_2021.drop([\"Status\"],axis=1)\n",
        "\n",
        "print(air_quality_2020_v2)\n",
        "print(air_quality_2021_v2)\n"
      ],
      "metadata": {
        "id": "txM4TIRUHhsJ",
        "colab": {
          "base_uri": "https://localhost:8080/"
        },
        "outputId": "5c3aafb5-683b-403d-cea7-15bc5d529a93"
      },
      "execution_count": 11,
      "outputs": [
        {
          "output_type": "stream",
          "name": "stdout",
          "text": [
            "           Date                Time  NO2 Level (V ug/m2) Weekdays\n",
            "8668 2020-12-27 2022-03-10 05:00:00              0.42410      Sun\n",
            "5712 2020-08-26 2022-03-10 01:00:00              0.58689      Wed\n",
            "4489 2020-06-07 2022-03-10 02:00:00              0.58930      Sun\n",
            "5714 2020-08-26 2022-03-10 03:00:00              0.59123      Wed\n",
            "8669 2020-12-27 2022-03-10 06:00:00              0.65300      Sun\n",
            "...         ...                 ...                  ...      ...\n",
            "471  2020-01-20 2022-03-10 16:00:00             84.86896      Mon\n",
            "808  2020-03-02 2022-03-10 17:00:00             87.10202      Mon\n",
            "6206 2020-09-15 2022-03-10 15:00:00             87.96723      Tue\n",
            "6209 2020-09-15 2022-03-10 18:00:00             92.13063      Tue\n",
            "470  2020-01-20 2022-03-10 15:00:00            113.06189      Mon\n",
            "\n",
            "[8632 rows x 4 columns]\n",
            "           Date   Time  NO2 Level (V ug/m2) Weekdays\n",
            "7177 2021-10-27  02:00             -0.77743      Wed\n",
            "7009 2021-10-20  02:00             -0.54076      Wed\n",
            "7107 2021-10-24  04:00             -0.41740      Sun\n",
            "6674 2021-06-10  03:00             -0.31174      Thu\n",
            "7178 2021-10-27  03:00             -0.28544      Wed\n",
            "...         ...    ...                  ...      ...\n",
            "8395 2021-12-16  20:00             72.00084      Thu\n",
            "2117 2021-03-30  06:00             72.66929      Tue\n",
            "7695 2021-11-17  16:00             73.40940      Wed\n",
            "1784 2021-03-16  09:00             80.27844      Tue\n",
            "7983 2021-11-29  16:00             82.59609      Mon\n",
            "\n",
            "[8680 rows x 4 columns]\n"
          ]
        }
      ]
    },
    {
      "cell_type": "code",
      "source": [
        "import numpy as np\n",
        "\n",
        "#concatenate the two years of data and sort by date then print as a test\n",
        "combined_df = pd.concat([air_quality_2020_v2, air_quality_2021_v2], join='inner', ignore_index=True)\n",
        "combined_df = combined_df.sort_values(\"Date\")\n",
        "\n",
        "#Calcuate the averages NO2 levels by weekdays (same as pivot below)\n",
        "# average_NO2 = combined_df.groupby([\"Weekdays\"])[\"NO2 Level (V ug/m2)\"].mean()\n",
        "# print(type(average_NO2))\n",
        "\n",
        "#Group by Weekdays and show smmary stats by day of the week\n",
        "air_quality_pivot = pd.pivot_table(combined_df, values = \"NO2 Level (V ug/m2)\", index = [\"Weekdays\"], aggfunc = np.mean)\n",
        "print(air_quality_pivot)\n",
        "\n"
      ],
      "metadata": {
        "id": "Gz4u6trsIQJ6",
        "colab": {
          "base_uri": "https://localhost:8080/"
        },
        "outputId": "0574a36e-dd2b-49a2-93e9-a50459135ef8"
      },
      "execution_count": 6,
      "outputs": [
        {
          "output_type": "stream",
          "name": "stdout",
          "text": [
            "          NO2 Level (V ug/m2)\n",
            "Weekdays                     \n",
            "Fri                 14.893637\n",
            "Mon                 14.303682\n",
            "Sat                 13.851765\n",
            "Sun                 11.661928\n",
            "Thu                 14.871229\n",
            "Tue                 15.297219\n",
            "Wed                 16.355849\n"
          ]
        }
      ]
    },
    {
      "cell_type": "markdown",
      "source": [
        "## 10/3/2022 - Update \n",
        "Returning to this project after several week on the Data Accelerator course, I wanted to add some visualisations and possible predictions to this project."
      ],
      "metadata": {
        "id": "E1eUM-LuYij2"
      }
    },
    {
      "cell_type": "code",
      "source": [
        "import matplotlib.pyplot as plt\n",
        "import seaborn as sns\n",
        "\n",
        "# weekday_categories = [\"Sunday\", \"Monday\", \"Tuesday\", \"Wednesday\", \"Thursday\", \"Friday\", \"Saturday\"]\n",
        "# air_quality_pivot[\"Weekdays\"] = pd.Categorical(air_quality_pivot[\"Weekdays\"], categories = weekday_categories, ordered= True)\n",
        "# #air_quality_pivot.sort_values(\"Weekdays\")\n",
        "# print(air_quality_pivot)\n",
        "#THIS CODE ABOVE DOES NOT WORK DUE TO WEEKDAYS BECOMING THE INDEX AND HENCE CAN\"T BE SORTED CATEGORICALLY\n",
        "sns.set(rc = {'figure.figsize':(10,5)})\n",
        "air_quality_pivot.plot(kind='bar', color = \"green\").legend(bbox_to_anchor=(1.2, 1))\n",
        "plt.xticks(rotation=0)\n",
        "plt.show()"
      ],
      "metadata": {
        "colab": {
          "base_uri": "https://localhost:8080/",
          "height": 339
        },
        "id": "Qt2ER64oY4Gu",
        "outputId": "d2e21c2b-c1e3-400a-8fec-0c4fb14366a1"
      },
      "execution_count": 7,
      "outputs": [
        {
          "output_type": "display_data",
          "data": {
            "image/png": "[encoded data removed]",
            "text/plain": [
              "<Figure size 720x360 with 1 Axes>"
            ]
          },
          "metadata": {}
        }
      ]
    },
    {
      "cell_type": "markdown",
      "source": [
        "This plot of NO2 levels plotted by the day they were recorded shows very clearly that Sunday is when there are the least number of cars on the road. Conversely, the busiest days of the week have the highest levels of NO2.\n",
        "\n",
        "It would be interesting to see what the levels are like at different times of the day too.\n"
      ],
      "metadata": {
        "id": "ek0BQ6AxmCXg"
      }
    },
    {
      "cell_type": "code",
      "source": [
        "#Group by time and show summary stats by day of the week\n",
        "air_quality__time_pivot = pd.pivot_table(combined_df, values = \"NO2 Level (V ug/m2)\", index = [\"Time\"], aggfunc = np.mean)\n",
        "#print(air_quality__time_pivot)\n",
        "sns.set(rc = {'figure.figsize':(20,8)})\n",
        "air_quality__time_pivot.plot(kind='bar', color = \"lightblue\").legend(bbox_to_anchor=(1, 1))\n",
        "plt.xticks(rotation=0)\n",
        "plt.show()"
      ],
      "metadata": {
        "id": "8tyfolrrmdQN",
        "outputId": "a7943349-5487-40fd-c6dd-39834d6218a8",
        "colab": {
          "base_uri": "https://localhost:8080/",
          "height": 502
        }
      },
      "execution_count": 8,
      "outputs": [
        {
          "output_type": "display_data",
          "data": {
            "image/png": "[encoded data removed]",
            "text/plain": [
              "<Figure size 1440x576 with 1 Axes>"
            ]
          },
          "metadata": {}
        }
      ]
    },
    {
      "cell_type": "markdown",
      "source": [
        "This plot shows the peak times during the day when the highest levels coincide with 'rush hour' times. "
      ],
      "metadata": {
        "id": "3fM8Eq8woiw3"
      }
    },
    {
      "cell_type": "markdown",
      "source": [
        "### Helpful references\n",
        "---\n",
        "Skipping rows when reading datasets:  \n",
        "https://www.geeksforgeeks.org/how-to-skip-rows-while-reading-csv-file-using-pandas/  \n",
        "\n",
        "Converting strings to dates:  \n",
        "https://www.geeksforgeeks.org/convert-the-column-type-from-string-to-datetime-format-in-pandas-dataframe/\n",
        "\n",
        "Dropping rows where data has a given value:  \n",
        "https://www.datasciencemadesimple.com/drop-delete-rows-conditions-python-pandas/  \n",
        "(see section Drop a row or observation by condition) \n",
        "\n",
        "Convert a column of strings to a column of floats:\n",
        "https://datatofish.com/convert-string-to-float-dataframe/  \n",
        "\n",
        "Create a new column from data converted in an existing column:  \n",
        "https://www.geeksforgeeks.org/create-a-new-column-in-pandas-dataframe-based-on-the-existing-columns/  \n",
        "\n",
        "Rename a column:  \n",
        "https://pandas.pydata.org/docs/reference/api/pandas.DataFrame.rename.html  \n",
        "\n",
        "Remove a column by name:  \n",
        "https://www.kite.com/python/answers/how-to-delete-columns-from-a-pandas-%60dataframe%60-by-column-name-in-python#:~:text=Use%20the%20del%20keyword%20to,the%20name%20column_name%20from%20DataFrame%20.\n"
      ],
      "metadata": {
        "id": "hkj-Ofus_D6_"
      }
    }
  ]
}