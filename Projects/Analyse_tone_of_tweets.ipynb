{
  "nbformat": 4,
  "nbformat_minor": 0,
  "metadata": {
    "colab": {
      "name": "Analyse tone of tweets.ipynb",
      "provenance": [],
      "collapsed_sections": [],
      "include_colab_link": true
    },
    "kernelspec": {
      "name": "python3",
      "display_name": "Python 3"
    },
    "language_info": {
      "name": "python"
    }
  },
  "cells": [
    {
      "cell_type": "markdown",
      "metadata": {
        "id": "view-in-github",
        "colab_type": "text"
      },
      "source": [
        "<a href=\"https://colab.research.google.com/github/bjentwistle/PythonFundamentals/blob/main/Projects/Analyse_tone_of_tweets.ipynb\" target=\"_parent\"><img src=\"https://colab.research.google.com/assets/colab-badge.svg\" alt=\"Open In Colab\"/></a>"
      ]
    },
    {
      "cell_type": "markdown",
      "source": [
        "# Project - analyse a set of tweets for tone\n",
        "---\n",
        "\n",
        "Search for some tweets (maybe with a particular tag, maybe from a particular user) and analyse the text for its tone, using the IBM Tone Analyser, or another IBM service\n",
        "\n",
        "1.  Sign up for a developer account on Twitter (https://developer.twitter.com/) and copy your bearer token to a document on your own device (e.g. notepad)\n",
        "\n",
        "2.  Install the tweepy library (for Twitter) into this notebook"
      ],
      "metadata": {
        "id": "wvfWi5l5zLmL"
      }
    },
    {
      "cell_type": "code",
      "source": [
        "!pip install tweepy --upgrade"
      ],
      "metadata": {
        "id": "wEjMmg7A2-km",
        "outputId": "0d2b5af4-c018-4ae2-ab6a-f9cb8b832364",
        "colab": {
          "base_uri": "https://localhost:8080/"
        }
      },
      "execution_count": 1,
      "outputs": [
        {
          "output_type": "stream",
          "name": "stdout",
          "text": [
            "Requirement already satisfied: tweepy in /usr/local/lib/python3.7/dist-packages (4.6.0)\n",
            "Requirement already satisfied: oauthlib<4,>=3.2.0 in /usr/local/lib/python3.7/dist-packages (from tweepy) (3.2.0)\n",
            "Requirement already satisfied: requests<3,>=2.27.0 in /usr/local/lib/python3.7/dist-packages (from tweepy) (2.27.1)\n",
            "Requirement already satisfied: requests-oauthlib<2,>=1.2.0 in /usr/local/lib/python3.7/dist-packages (from tweepy) (1.3.1)\n",
            "Requirement already satisfied: charset-normalizer~=2.0.0 in /usr/local/lib/python3.7/dist-packages (from requests<3,>=2.27.0->tweepy) (2.0.12)\n",
            "Requirement already satisfied: idna<4,>=2.5 in /usr/local/lib/python3.7/dist-packages (from requests<3,>=2.27.0->tweepy) (2.10)\n",
            "Requirement already satisfied: urllib3<1.27,>=1.21.1 in /usr/local/lib/python3.7/dist-packages (from requests<3,>=2.27.0->tweepy) (1.24.3)\n",
            "Requirement already satisfied: certifi>=2017.4.17 in /usr/local/lib/python3.7/dist-packages (from requests<3,>=2.27.0->tweepy) (2021.10.8)\n"
          ]
        }
      ]
    },
    {
      "cell_type": "markdown",
      "source": [
        "3. store your bearer token in an environment variable (a variable within the OS) so that it can be hidden from notebook viewers (never upload a visible security code (key or token) to Github.   ONCE you have run the code cell below, remove the output cell that shows the bearer token you have copied in"
      ],
      "metadata": {
        "id": "_4eqWM-N3HgE"
      }
    },
    {
      "cell_type": "code",
      "source": [
        "import os\n",
        "os.environ['BEARER_TOKEN'] = input(\"Bearer token: \")"
      ],
      "metadata": {
        "id": "x7vLXt2VwY_Y"
      },
      "execution_count": null,
      "outputs": []
    },
    {
      "cell_type": "code",
      "execution_count": 4,
      "metadata": {
        "id": "3lNU8LnVadOE",
        "outputId": "64809386-27c6-45ea-fcb6-2578464e7885",
        "colab": {
          "base_uri": "https://localhost:8080/"
        }
      },
      "outputs": [
        {
          "output_type": "stream",
          "name": "stdout",
          "text": [
            "Response(data=[<Tweet id=1497966416473071623 text='Send your questions about the Russian invasion of Ukraine to Your Questions Answered 🗣https://t.co/eNzLs47Hss'>, <Tweet id=1497959466930774021 text=\"Ukraine: What questions do you have about Russia's invasion? https://t.co/KHTq957gNU\">, <Tweet id=1497959384512614410 text='Russia central bank urges calm amid cash run fears https://t.co/adgetBfIRa'>, <Tweet id=1497957877650186243 text='Nato chief Jens Stoltenberg says Vladimir Putin\\'s order to the Russian military to put its nuclear forces on a higher level of alert is \"dangerous\" and \"irresponsible\"\\n\\nLive updates here: https://t.co/w6TgPkzuPV'>, <Tweet id=1497953875776745478 text='Last week, President Putin warned that \"whoever tries to hinder\" Russia would see consequences \"you have never seen in your history\"\\n\\nLive updates here: https://t.co/wxYTJYLUlt'>, <Tweet id=1497953626106564614 text='Ukrainian foreign minister Dmytro Kuleba says if Russia uses nuclear weapons against Ukraine it will be a \"catastrophe for the world\"\\n\\nLive updates here: https://t.co/wxYTJYLUlt'>, <Tweet id=1497950896155725834 text='\"At no point has Russia been under threat from Nato\" says White House Press Secretary Jen Psaki, in response to President Putin putting Russia\\'s nuclear forces on \"special alert\"\\n\\nLive updates here: https://t.co/xRWBYCzJDt'>, <Tweet id=1497922525136920576 text='Citizen volunteers in Ukraine take up arms to fight Russian invasion https://t.co/A54rNxYuuT'>, <Tweet id=1497916010367758342 text='Should the West arm a Ukrainian resistance? https://t.co/srcwwwstN5'>, <Tweet id=1497902865536491526 text='Protests held across the world over Ukraine conflict\\n\\nhttps://t.co/ihAxLZeXcA https://t.co/2zDOFRPpK8'>], includes={}, errors=[], meta={'newest_id': '1497966416473071623', 'oldest_id': '1497902865536491526', 'result_count': 10, 'next_token': 'b26v89c19zqg8o3fpe77ugh9plvl8pdfmno4q5a3lmrnh'})\n",
            "//t.co/eNzLs47Hss\n",
            " What questions do you have about Russia's invasion? https\n",
            "//t.co/adgetBfIRa\n",
            " https\n",
            " https\n",
            " https\n",
            " https\n",
            "//t.co/A54rNxYuuT\n",
            "//t.co/srcwwwstN5\n",
            "//t.co/ihAxLZeXcA https\n"
          ]
        }
      ],
      "source": [
        "import tweepy as tw\n",
        "\n",
        "# get a Twitter client that will run a search for recent tweets (see https://docs.tweepy.org/en/stable/client.html#tweepy.Client.unhide_reply for other functions available in the client)\n",
        "def get_tweets():\n",
        "    client = tw.Client(bearer_token=os.environ.get('BEARER_TOKEN'))\n",
        "    query = 'from:BBCWorld'\n",
        "    tweets = client.search_recent_tweets(query=query, tweet_fields=['context_annotations', 'created_at'], max_results=10)\n",
        "    return tweets\n",
        "\n",
        "# use the get_tweets() function to get a list of tweets\n",
        "tweet_list = get_tweets()\n",
        "print(tweet_list)\n",
        "for tweet in tweet_list[0]:\n",
        "    tweet = str(tweet)\n",
        "    tweetparts = tweet.split(':')\n",
        "    if len(tweetparts) > 1:\n",
        "      tweet = tweetparts[1]\n",
        "    twt = \" \".join(tweet.splitlines())\n",
        "    print(twt)"
      ]
    },
    {
      "cell_type": "markdown",
      "source": [
        "# Suggestions\n",
        "---\n",
        "\n",
        "Collect a set of tweets with a common thread (same user, same topic, mentions the same account).   \n",
        "\n",
        "If you have an IBM Cloud (Lite) account and can access the Tone Analyser, analyse the tweets in relation to tone/sentiment."
      ],
      "metadata": {
        "id": "c8OLpaIi4G7y"
      }
    },
    {
      "cell_type": "code",
      "source": [
        ""
      ],
      "metadata": {
        "id": "9H6D7m-m4pV9"
      },
      "execution_count": null,
      "outputs": []
    }
  ]
}