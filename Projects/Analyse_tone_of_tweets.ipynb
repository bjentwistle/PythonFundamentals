{
  "nbformat": 4,
  "nbformat_minor": 0,
  "metadata": {
    "colab": {
      "name": "Analyse tone of tweets.ipynb",
      "provenance": [],
      "collapsed_sections": [],
      "include_colab_link": true
    },
    "kernelspec": {
      "name": "python3",
      "display_name": "Python 3"
    },
    "language_info": {
      "name": "python"
    }
  },
  "cells": [
    {
      "cell_type": "markdown",
      "metadata": {
        "id": "view-in-github",
        "colab_type": "text"
      },
      "source": [
        "<a href=\"https://colab.research.google.com/github/bjentwistle/PythonFundamentals/blob/main/Projects/Analyse_tone_of_tweets.ipynb\" target=\"_parent\"><img src=\"https://colab.research.google.com/assets/colab-badge.svg\" alt=\"Open In Colab\"/></a>"
      ]
    },
    {
      "cell_type": "markdown",
      "source": [
        "# Project - analyse a set of tweets for tone\n",
        "---\n",
        "\n",
        "Search for some tweets (maybe with a particular tag, maybe from a particular user) and analyse the text for its tone, using the IBM Tone Analyser, or another IBM service\n",
        "\n",
        "1.  Sign up for a developer account on Twitter (https://developer.twitter.com/) and copy your bearer token to a document on your own device (e.g. notepad)\n",
        "\n",
        "2.  Install the tweepy library (for Twitter) into this notebook"
      ],
      "metadata": {
        "id": "wvfWi5l5zLmL"
      }
    },
    {
      "cell_type": "code",
      "source": [
        "!pip install tweepy --upgrade"
      ],
      "metadata": {
        "id": "wEjMmg7A2-km",
        "outputId": "a066e228-9c6e-496a-9bf4-72102de9d0fd",
        "colab": {
          "base_uri": "https://localhost:8080/"
        }
      },
      "execution_count": 1,
      "outputs": [
        {
          "output_type": "stream",
          "name": "stdout",
          "text": [
            "Requirement already satisfied: tweepy in /usr/local/lib/python3.7/dist-packages (4.6.0)\n",
            "Requirement already satisfied: oauthlib<4,>=3.2.0 in /usr/local/lib/python3.7/dist-packages (from tweepy) (3.2.0)\n",
            "Requirement already satisfied: requests-oauthlib<2,>=1.2.0 in /usr/local/lib/python3.7/dist-packages (from tweepy) (1.3.1)\n",
            "Requirement already satisfied: requests<3,>=2.27.0 in /usr/local/lib/python3.7/dist-packages (from tweepy) (2.27.1)\n",
            "Requirement already satisfied: certifi>=2017.4.17 in /usr/local/lib/python3.7/dist-packages (from requests<3,>=2.27.0->tweepy) (2021.10.8)\n",
            "Requirement already satisfied: urllib3<1.27,>=1.21.1 in /usr/local/lib/python3.7/dist-packages (from requests<3,>=2.27.0->tweepy) (1.24.3)\n",
            "Requirement already satisfied: charset-normalizer~=2.0.0 in /usr/local/lib/python3.7/dist-packages (from requests<3,>=2.27.0->tweepy) (2.0.12)\n",
            "Requirement already satisfied: idna<4,>=2.5 in /usr/local/lib/python3.7/dist-packages (from requests<3,>=2.27.0->tweepy) (2.10)\n"
          ]
        }
      ]
    },
    {
      "cell_type": "markdown",
      "source": [
        "3. store your bearer token in an environment variable (a variable within the OS) so that it can be hidden from notebook viewers (never upload a visible security code (key or token) to Github.   ONCE you have run the code cell below, remove the output cell that shows the bearer token you have copied in"
      ],
      "metadata": {
        "id": "_4eqWM-N3HgE"
      }
    },
    {
      "cell_type": "code",
      "source": [
        "\n",
        "import os\n",
        "os.environ['BEARER_TOKEN'] = input(\"Bearer token: \")"
      ],
      "metadata": {
        "id": "x7vLXt2VwY_Y"
      },
      "execution_count": null,
      "outputs": []
    },
    {
      "cell_type": "code",
      "execution_count": 3,
      "metadata": {
        "id": "3lNU8LnVadOE",
        "outputId": "f6267c4c-b56d-4cfc-848f-5270b483fea6",
        "colab": {
          "base_uri": "https://localhost:8080/"
        }
      },
      "outputs": [
        {
          "output_type": "stream",
          "name": "stdout",
          "text": [
            "Response(data=[<Tweet id=1498661164238217216 text='Smoke from Australian wildfires may slow recovery of ozone layer, new study says https://t.co/IUt66eMcq4'>, <Tweet id=1498655778168840199 text=\"Disbelief morphs into defiance and dread in Ukrainian capital, Kyiv, as sixth day of Russia's invasion unfolds https://t.co/SzlgTslUr4\">, <Tweet id=1498650276642836480 text='Newly elected Honduras government to ban open-pit mining https://t.co/tVZUZQVQDH'>, <Tweet id=1498648263662133250 text='How many people are trying to escape the war in Ukraine and where might they go?\\n\\nhttps://t.co/ghNuJyRhvC'>, <Tweet id=1498643994380800002 text='Could the conflict in Ukraine spread across Europe? #YourQuestionsAnswered\\n\\nhttps://t.co/HGDU5EHQQC'>, <Tweet id=1498642340298297351 text='“I am not actually safe… but I will share information with you”\\n\\nJournalist Maxim Sidorenko in Cherkasy says it was just announced for “all civilians to go to shelters and basements as there is a chance of an air attack”\\n\\nhttps://t.co/3W2pDwAFzi https://t.co/CH00CF1uHE'>, <Tweet id=1498641733688696834 text='How many nuclear weapons does Russia have? https://t.co/xR2QIF6HLA'>, <Tweet id=1498639990670204928 text='\"If Putin was seeking to divide the European Union, to weaken Nato and to break the national community, he has achieved exactly the opposite\"\\n\\nPresident of the European Commission Ursula von der Leyen says \"we will overcome and we will prevail\" \\nhttps://t.co/q6G21sVhhQ https://t.co/BYWm7lAJrD'>, <Tweet id=1498637449827921921 text='Attack on Ukraine\\'s second largest city, Kharkiv, a \"war crime\", says President Zelensky https://t.co/n5iK9z4Kuk'>, <Tweet id=1498634924563349505 text=\"Five things we've learned from the UN's Intergovernmental Panel on Climate Change report https://t.co/Fqlo0RoEx4\">], includes={}, errors=[], meta={'newest_id': '1498661164238217216', 'oldest_id': '1498634924563349505', 'result_count': 10, 'next_token': 'b26v89c19zqg8o3fpe789fpxmzknkb3wddkjktyiz37ul'})\n",
            "//t.co/IUt66eMcq4\n",
            "//t.co/SzlgTslUr4\n",
            "//t.co/tVZUZQVQDH\n",
            "//t.co/ghNuJyRhvC\n",
            "//t.co/HGDU5EHQQC\n",
            "//t.co/3W2pDwAFzi https\n",
            "//t.co/xR2QIF6HLA\n",
            "//t.co/q6G21sVhhQ https\n",
            "//t.co/n5iK9z4Kuk\n",
            "//t.co/Fqlo0RoEx4\n"
          ]
        }
      ],
      "source": [
        "import tweepy as tw\n",
        "\n",
        "# get a Twitter client that will run a search for recent tweets (see https://docs.tweepy.org/en/stable/client.html#tweepy.Client.unhide_reply for other functions available in the client)\n",
        "def get_tweets():\n",
        "    client = tw.Client(bearer_token=os.environ.get('BEARER_TOKEN'))\n",
        "    query = 'from:BBCWorld'\n",
        "    tweets = client.search_recent_tweets(query=query, tweet_fields=['context_annotations', 'created_at'], max_results=10)\n",
        "    return tweets\n",
        "\n",
        "# use the get_tweets() function to get a list of tweets\n",
        "tweet_list = get_tweets()\n",
        "print(tweet_list)\n",
        "for tweet in tweet_list[0]:\n",
        "    tweet = str(tweet)\n",
        "    tweetparts = tweet.split(':')\n",
        "    if len(tweetparts) > 1:\n",
        "      tweet = tweetparts[1]\n",
        "    twt = \" \".join(tweet.splitlines())\n",
        "    print(twt)"
      ]
    },
    {
      "cell_type": "markdown",
      "source": [
        "# Suggestions\n",
        "---\n",
        "\n",
        "Collect a set of tweets with a common thread (same user, same topic, mentions the same account).   \n",
        "\n",
        "If you have an IBM Cloud (Lite) account and can access the Tone Analyser, analyse the tweets in relation to tone/sentiment."
      ],
      "metadata": {
        "id": "c8OLpaIi4G7y"
      }
    },
    {
      "cell_type": "code",
      "source": [
        ""
      ],
      "metadata": {
        "id": "9H6D7m-m4pV9"
      },
      "execution_count": null,
      "outputs": []
    }
  ]
}