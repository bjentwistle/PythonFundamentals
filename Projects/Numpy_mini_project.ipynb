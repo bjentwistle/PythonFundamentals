{
  "nbformat": 4,
  "nbformat_minor": 0,
  "metadata": {
    "colab": {
      "name": "Numpy mini-project.ipynb",
      "provenance": [],
      "collapsed_sections": [],
      "include_colab_link": true
    },
    "kernelspec": {
      "name": "python3",
      "display_name": "Python 3"
    },
    "language_info": {
      "name": "python"
    }
  },
  "cells": [
    {
      "cell_type": "markdown",
      "metadata": {
        "id": "view-in-github",
        "colab_type": "text"
      },
      "source": [
        "<a href=\"https://colab.research.google.com/github/bjentwistle/PythonFundamentals/blob/main/Worksheets/Numpy_mini_project.ipynb\" target=\"_parent\"><img src=\"https://colab.research.google.com/assets/colab-badge.svg\" alt=\"Open In Colab\"/></a>"
      ]
    },
    {
      "cell_type": "markdown",
      "source": [
        "# Investigate, wrangle, add new data to the dataframe, filter and correlate\n",
        "\n",
        "The following data file contains data about student scores in math, reading and writing.  The exam scores are assumed to be percentages. It also contains data about gender, ethnicity, parental education, whether the student qualifies for free school food and whether or not the student has taken a preparation course for the exams.  The data set has already been cleaned. \n",
        "\n",
        "1.  Investigate the data set.\n",
        "\n",
        "2.  Create numpy arrays to hold each of the three sets of scores.  \n",
        "Create a new numpy array to hold the average exam score (of the three scores for each student)\n",
        "Add the new numpy array as a new column in the dataframe.\n",
        "\n",
        "3.  Filter the original dataset into a new dataframe containing just the females.  Calculate the average exam scores for all rows in this new dataframe and then find the mean of the average column.\n",
        "\n",
        "4.  Do the same for the males.\n",
        "\n",
        "5.  Use the original dataset to find the correlation coefficient for reading and maths.  How closely do they correlate?  Write what you find in a text box below the code.\n",
        "\n",
        "6.  Do the same for reading and writing. What do you find?\n",
        "\n",
        "7.  You might want to filter on different criteria and check correlation (e.g. those on free school meals, or those who had prepared, etc)\n",
        "\n",
        "\n",
        "\n",
        "\n",
        "\n"
      ],
      "metadata": {
        "id": "8qnlsapq24Df"
      }
    },
    {
      "cell_type": "markdown",
      "source": [
        "The dataset can be accessed here:  https://raw.githubusercontent.com/lilaceri/Working-with-data-/main/Data%20Sets%20for%20code%20divisio/exams.csv.  This is a .csv file.\n",
        "\n",
        "**NOTE:** Some useful references are included at the bottom of this spreadsheet.\n",
        "\n",
        "Use the code cell below to work your code."
      ],
      "metadata": {
        "id": "SSvLiFnp4LjG"
      }
    },
    {
      "cell_type": "code",
      "source": [
        "import pandas as pd\n",
        "import numpy as np\n",
        "\n",
        "url = \"https://raw.githubusercontent.com/lilaceri/Working-with-data-/main/Data%20Sets%20for%20code%20divisio/exams.csv\"\n",
        "df = pd.read_csv(url)\n",
        "\n",
        "\n",
        "def get_student():\n",
        "  math_score = df['math_score'].to_numpy(np.float16)\n",
        "  reading_score = df['reading_score'].to_numpy(np.float16)\n",
        "  writing_score = df['writing_score'].to_numpy(np.float16)\n",
        "\n",
        "  sum_of_scores = (math_score + reading_score + writing_score)\n",
        "  mean_of_scores = sum_of_scores/3\n",
        "  df['mean of scores'] = mean_of_scores.tolist()\n",
        "\n",
        "  return df\n",
        "\n",
        "df = get_student() #assigning the return value of the function \n",
        "\n",
        "#filter for female results\n",
        "def find_female_results():\n",
        "  female_filter = df[df['gender'] == \"female\"] #filtering on female only results\n",
        "  \n",
        "  #converting the results columns into numpy arrays to allow manipulation\n",
        "  math_score = female_filter['math_score'].to_numpy(np.float16) \n",
        "  reading_score = female_filter['reading_score'].to_numpy(np.float16)\n",
        "  writing_score = female_filter['writing_score'].to_numpy(np.float16)\n",
        "\n",
        "  sum_of_scores = (math_score + reading_score + writing_score) #using numpy powers to add values in the 3 arrays\n",
        "  mean_of_scores = sum_of_scores/3 #creating another array as the mean of the scores in each row.\n",
        "  mean_of_faverages = mean_of_scores.mean() #working out the overall average for the female scores\n",
        "\n",
        "  female_filter['mean of scores'] = mean_of_scores.tolist() #putting the column 'mean_of_scores' back on the panda df\n",
        "\n",
        "  return mean_of_faverages #returning the female overall average score\n",
        "\n",
        "mean_of_faverages = find_female_results() #assigning the return value of the function \n",
        "\n",
        "print(\"Mean of female scores = \", mean_of_faverages)\n",
        "\n",
        "#filter for male results\n",
        "def find_male_results():\n",
        "  male_filter = df[df['gender']== \"male\"] #filtering on male only results\n",
        "\n",
        "  math_score = male_filter['math_score'].to_numpy(np.float16)\n",
        "  reading_score = male_filter['reading_score'].to_numpy(np.float16)\n",
        "  writing_score = male_filter['writing_score'].to_numpy(np.float16)\n",
        "\n",
        "  sum_of_scores = (math_score + reading_score + writing_score)\n",
        "  mean_of_scores = sum_of_scores/3\n",
        "  mean_of_maverages = mean_of_scores.mean()\n",
        "\n",
        "  male_filter['mean of scores'] = mean_of_scores.tolist() #putting the column 'mean_of_scores' back on the panda df\n",
        "\n",
        "  return mean_of_maverages #returning the male overall average score\n",
        "\n",
        "mean_of_maverages = find_male_results() #assigning the return value of the function \n",
        "print(\"Mean of male scores = \", mean_of_maverages)"
      ],
      "metadata": {
        "id": "txM4TIRUHhsJ",
        "colab": {
          "base_uri": "https://localhost:8080/"
        },
        "outputId": "c530d71b-9862-4e4c-f7e7-433a8ee379c5"
      },
      "execution_count": 13,
      "outputs": [
        {
          "output_type": "stream",
          "name": "stdout",
          "text": [
            "Mean of female scores =  70.8\n",
            "Mean of male scores =  66.0\n"
          ]
        },
        {
          "output_type": "stream",
          "name": "stderr",
          "text": [
            "/usr/local/lib/python3.7/dist-packages/ipykernel_launcher.py:34: SettingWithCopyWarning: \n",
            "A value is trying to be set on a copy of a slice from a DataFrame.\n",
            "Try using .loc[row_indexer,col_indexer] = value instead\n",
            "\n",
            "See the caveats in the documentation: https://pandas.pydata.org/pandas-docs/stable/user_guide/indexing.html#returning-a-view-versus-a-copy\n",
            "/usr/local/lib/python3.7/dist-packages/ipykernel_launcher.py:54: SettingWithCopyWarning: \n",
            "A value is trying to be set on a copy of a slice from a DataFrame.\n",
            "Try using .loc[row_indexer,col_indexer] = value instead\n",
            "\n",
            "See the caveats in the documentation: https://pandas.pydata.org/pandas-docs/stable/user_guide/indexing.html#returning-a-view-versus-a-copy\n"
          ]
        }
      ]
    },
    {
      "cell_type": "code",
      "source": [
        "def get_correlation():\n",
        "  # add your code below to get the correlation figure for maths and reading results\n",
        "  #creating numpy lists from df columns reading_score and math_score\n",
        "  reading = df[\"reading_score\"].to_numpy(np.float16)\n",
        "  maths = df['math_score'].to_numpy(np.int8)\n",
        "\n",
        "  corr_coeff = np.corrcoef(reading, maths)\n",
        "  return corr_coeff\n",
        "\n",
        "corr_coeff = get_correlation()\n",
        "print(corr_coeff[0][1])"
      ],
      "metadata": {
        "colab": {
          "base_uri": "https://localhost:8080/"
        },
        "id": "dQymMesIBSWB",
        "outputId": "be0f5fe4-7eb2-47a8-8c91-7a26e4c1df35"
      },
      "execution_count": 10,
      "outputs": [
        {
          "output_type": "stream",
          "name": "stdout",
          "text": [
            "0.8145975152425367\n"
          ]
        }
      ]
    },
    {
      "cell_type": "markdown",
      "source": [
        "**My Findings**\n",
        "The Maths and Reading scores do correlate a lot, 0.815 is a close correlation coefficient.\n",
        "\n",
        "This suggests that maths and reading scores increase together (the correlation is postive so as one increases the other also increases) and that the correlation is quite strong.\n",
        "\n"
      ],
      "metadata": {
        "id": "n5ZfzkBHCJfA"
      }
    },
    {
      "cell_type": "code",
      "source": [
        "def get_correlation_randw():\n",
        "  # add your code below to get the correlation figure for maths and reading results\n",
        "  #creating numpy lists from df columns reading_score and math_score\n",
        "  reading = df[\"reading_score\"].to_numpy(np.float16)\n",
        "  writing = df['writing_score'].to_numpy(np.int8)\n",
        "\n",
        "  corr_coeff_randw = np.corrcoef(reading, writing)\n",
        "  return corr_coeff_randw\n",
        "\n",
        "corr_coeff_randw = get_correlation_randw()\n",
        "print(corr_coeff_randw[0][1])"
      ],
      "metadata": {
        "id": "wENFLWE6DW-2",
        "outputId": "c4518d9d-b67c-4822-a711-4e179707cfa5",
        "colab": {
          "base_uri": "https://localhost:8080/"
        }
      },
      "execution_count": 11,
      "outputs": [
        {
          "output_type": "stream",
          "name": "stdout",
          "text": [
            "0.9567686336066267\n"
          ]
        }
      ]
    },
    {
      "cell_type": "markdown",
      "source": [
        "**My Findings**\n",
        "There is an even stronger correlation (0.957) between reading and writing scores than the maths and reading. I personally,as a dyslexic student, can understand that those good at maths might not be as good at reading. I also struggle with reading more than writing. "
      ],
      "metadata": {
        "id": "_zImXUXzFfYF"
      }
    },
    {
      "cell_type": "markdown",
      "source": [
        "### Helpful references\n",
        "---\n",
        "\n",
        "Filtering on criteria using df references:  \n",
        "`filtered_df = df[df['column name' == value]]`  \n",
        "\n",
        "Filtering on multiple criteria using df reference:  \n",
        "`filtered_df = df[df['first column name' == value] & df[second column name] >= value]`\n",
        "\n",
        "Numpy help sheet:  http://datacamp-community-prod.s3.amazonaws.com/da466534-51fe-4c6d-b0cb-154f4782eb54\n",
        "\n"
      ],
      "metadata": {
        "id": "hkj-Ofus_D6_"
      }
    }
  ]
}